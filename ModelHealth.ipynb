{
 "cells": [
  {
   "cell_type": "markdown",
   "metadata": {
    "papermill": {
     "duration": 0.032359,
     "end_time": "2020-04-17T10:20:41.781145",
     "exception": false,
     "start_time": "2020-04-17T10:20:41.748786",
     "status": "completed"
    },
    "tags": []
   },
   "source": [
    "**Model Health Dashboard**\n",
    "\n",
    "\n",
    "This dashboard reports statistics about the health of the collection of Drawdown solution models."
   ]
  },
  {
   "cell_type": "code",
   "execution_count": 1,
   "metadata": {
    "execution": {
     "iopub.execute_input": "2020-04-17T10:20:41.873394Z",
     "iopub.status.busy": "2020-04-17T10:20:41.870447Z",
     "iopub.status.idle": "2020-04-17T10:21:07.100535Z",
     "shell.execute_reply": "2020-04-17T10:21:07.088443Z"
    },
    "papermill": {
     "duration": 25.285785,
     "end_time": "2020-04-17T10:21:07.100631",
     "exception": false,
     "start_time": "2020-04-17T10:20:41.814846",
     "status": "completed"
    },
    "tags": []
   },
   "outputs": [
    {
     "name": "stdout",
     "output_type": "stream",
     "text": [
      "{'Current Adoption': <model.vma.VMA object at 0x119fd1a60>, 'CONVENTIONAL First Cost per Implementation Unit': <model.vma.VMA object at 0x119fe7220>, 'SOLUTION First Cost per Implementation Unit': <model.vma.VMA object at 0x119fe7310>, 'CONVENTIONAL Operating Cost per Functional Unit per Annum': <model.vma.VMA object at 0x119fe7e20>, 'SOLUTION Operating Cost per Functional Unit per Annum': <model.vma.VMA object at 0x119fe7f40>, 'CONVENTIONAL Net Profit Margin per Functional Unit per Annum': <model.vma.VMA object at 0x119ff5430>, 'SOLUTION Net Profit Margin per Functional Unit per Annum': <model.vma.VMA object at 0x119ff5d90>, 'Yield from CONVENTIONAL Practice': <model.vma.VMA object at 0x119ff5e50>, 'Yield Gain (% Increase from CONVENTIONAL to SOLUTION)': <model.vma.VMA object at 0x119ff5f40>, 'Electricty Consumed per CONVENTIONAL Functional Unit': <model.vma.VMA object at 0x11a003310>, 'SOLUTION Energy Efficiency Factor': <model.vma.VMA object at 0x11a003760>, 'Total Energy Used per SOLUTION functional unit': <model.vma.VMA object at 0x11a003880>, 'Fuel Consumed per CONVENTIONAL Functional Unit': <model.vma.VMA object at 0x11a003b20>, 'Fuel Reduction Factor SOLUTION': <model.vma.VMA object at 0x11a003d90>, 't CO2-eq (Aggregate emissions) Reduced per Land Unit': <model.vma.VMA object at 0x11a220070>, 't CO2 Reduced per Land Unit': <model.vma.VMA object at 0x11a220310>, 't N2O-CO2-eq Reduced per Land Unit': <model.vma.VMA object at 0x11a2205b0>, 't CH4-CO2-eq Reduced per Land Unit': <model.vma.VMA object at 0x11a220850>, 'Indirect CO2 Emissions per CONVENTIONAL Implementation OR functional Unit -- CHOOSE ONLY ONE': <model.vma.VMA object at 0x11a220af0>, 'Indirect CO2 Emissions per SOLUTION Implementation Unit': <model.vma.VMA object at 0x11a220d90>, 'Sequestration Rates': <model.vma.VMA object at 0x11a221070>, 'Sequestered Carbon NOT Emitted after Cyclical Harvesting/Clearing': <model.vma.VMA object at 0x11a2214f0>, 'Disturbance Rate': <model.vma.VMA object at 0x11a221850>, 'Yield of Annual Staple Crops': <model.vma.VMA object at 0x11a221970>, 'Yield of Perennial Staple Crops': <model.vma.VMA object at 0x11a229850>}\n"
     ]
    },
    {
     "data": {
      "application/vnd.jupyter.widget-view+json": {
       "model_id": "e400d9f0861f4c80bb1c96b27273dc87",
       "version_major": 2,
       "version_minor": 0
      },
      "text/plain": [
       "VBox(children=(HBox(children=(Figure(fig_margin={'left': 1, 'right': 1, 'top': 1, 'bottom': 1}, layout=Layout(…"
      ]
     },
     "metadata": {},
     "output_type": "display_data"
    }
   ],
   "source": [
    "import importlib\n",
    "import os.path\n",
    "\n",
    "import bqplot\n",
    "import IPython.display\n",
    "import ipywidgets\n",
    "import pandas as pd\n",
    "\n",
    "import solution.factory\n",
    "from tools.health import charts\n",
    "\n",
    "all_solutions = pd.read_csv(os.path.join('data', 'overview', 'solutions.csv'), index_col=False,\n",
    "                            skipinitialspace=True, header=0, skip_blank_lines=True, comment='#')\n",
    "total_solutions = len(all_solutions.index)\n",
    "py_solutions_scenarios = solution.factory.all_solutions_scenarios()\n",
    "\n",
    "num_py_solutions = len(list(py_solutions_scenarios.keys()))\n",
    "num_xl_solutions = total_solutions - num_py_solutions\n",
    "\n",
    "pds_adoption_basis_counts = {\n",
    "    'Linear': 0,\n",
    "    'Existing Adoption Prognostications': 0,\n",
    "    'Bass Diffusion S-Curve': 0,\n",
    "    'Logistic S-Curve': 0,\n",
    "    'Fully Customized PDS': 0,\n",
    "    'Customized S-Curve Adoption': 0,\n",
    "}\n",
    "ref_adoption_basis_counts = {\n",
    "    'Default': 0,\n",
    "    'Custom': 0,\n",
    "}\n",
    "scenarios_per_solution = []\n",
    "for name in py_solutions_scenarios.keys():\n",
    "    m = importlib.import_module('solution.'+name)\n",
    "    scenarios_per_solution.append(len(m.scenarios))\n",
    "    for scenario in m.scenarios.values():\n",
    "        pds_adoption_basis_counts[scenario.soln_pds_adoption_basis] += 1\n",
    "        ref_basis = scenario.soln_ref_adoption_basis\n",
    "        ref_basis = ref_basis if ref_basis is not None else 'Default'\n",
    "        ref_adoption_basis_counts[ref_basis] += 1\n",
    "\n",
    "soln_count_chart = bqplot.Pie(sizes=[num_xl_solutions, num_py_solutions], labels=['Excel only', 'Python & Excel'],\n",
    "                              display_values=True, values_format='d', display_labels='inside', radius=110,\n",
    "                              start_angle=60, end_angle=420, colors=['#6495ED', '#fcea3f'])\n",
    "soln_count_fig = bqplot.Figure(marks=[soln_count_chart], title='Solution implementation')\n",
    "soln_count_fig.layout.width = '300px'\n",
    "soln_count_fig.fig_margin = {'left':1, 'right':1, 'top':1, 'bottom':1}\n",
    "pds_adoption_chart = bqplot.Pie(sizes=list(pds_adoption_basis_counts.values()),\n",
    "                                labels=list(pds_adoption_basis_counts.keys()),\n",
    "                                display_labels='outside', radius=140,\n",
    "                                sort=False, display_values=True, values_format='d')\n",
    "pds_adoption_fig = bqplot.Figure(marks=[pds_adoption_chart], title='PDS Adoption Basis')\n",
    "pds_adoption_fig.layout.width = '800px'\n",
    "pds_adoption_fig.fig_margin = {'left':1, 'right':1, 'top':1, 'bottom':1}\n",
    "\n",
    "ref_adoption_chart = bqplot.Pie(sizes=list(ref_adoption_basis_counts.values()),\n",
    "                                labels=list(ref_adoption_basis_counts.keys()),\n",
    "                                display_labels='inside', radius=110,\n",
    "                                display_values=True, values_format='d')\n",
    "ref_adoption_fig = bqplot.Figure(marks=[ref_adoption_chart], title='REF Adoption Basis')\n",
    "ref_adoption_fig.layout.width = '300px'\n",
    "ref_adoption_fig.fig_margin = {'left':1, 'right':1, 'top':1, 'bottom':1}\n",
    "\n",
    "\n",
    "# ------------------- Scenarios per solution -------------------\n",
    "\n",
    "\n",
    "y_scale = bqplot.LinearScale()\n",
    "y_axis = bqplot.Axis(scale=y_scale, orientation='vertical', label='solutions')\n",
    "x_scale = bqplot.LinearScale()\n",
    "x_axis = bqplot.Axis(scale=x_scale, tick_format='d', label='num scenarios')\n",
    "hist = bqplot.Hist(sample=scenarios_per_solution, scales={'sample': x_scale, 'count': y_scale})\n",
    "scenarios_per_solution_chart = bqplot.Figure(marks=[hist], axes=[x_axis, y_axis], padding_y=0,\n",
    "                                             title=\"Num scenarios per solution\")\n",
    "scenarios_per_solution_chart.layout.width = '50%'\n",
    "scenarios_per_solution_chart.layout.height = '300px'\n",
    "\n",
    "\n",
    "# ------------------- Regional Data -------------------\n",
    "\n",
    "\n",
    "surveydata = pd.read_csv(os.path.join('data', 'health', 'survey.csv'), index_col=False,\n",
    "                            skipinitialspace=True, header=0, skip_blank_lines=True, comment='#')\n",
    "num_scenarios = len(surveydata.index)\n",
    "regional_nonzero_adoption = surveydata.loc[surveydata['RegionalFractionAdoption'] != 0.0]\n",
    "regional_nonzero_tam = surveydata.loc[surveydata['RegionalFractionTAM'] != 0.0]\n",
    "\n",
    "nonzero_count = regional_nonzero_tam.shape[0]\n",
    "zero_count = num_scenarios - nonzero_count\n",
    "nonzero_chart = bqplot.Pie(sizes=[nonzero_count, zero_count], labels=['YES', 'NO'], colors=['Green', 'Red'],\n",
    "                           display_values=True, values_format='d', display_labels='inside', radius=110)\n",
    "tam_regional_nonzero_fig = bqplot.Figure(marks=[nonzero_chart], title='Has Regional TAM Data?')\n",
    "tam_regional_nonzero_fig.layout.width = '320px'\n",
    "tam_regional_nonzero_fig.fig_margin = {'left':1, 'right':1, 'top':1, 'bottom':1}\n",
    "\n",
    "y_scale = bqplot.LinearScale()\n",
    "y_axis = bqplot.Axis(scale=y_scale, orientation='vertical', label='# scenarios')\n",
    "x_scale = bqplot.LinearScale()\n",
    "x_axis = bqplot.Axis(scale=x_scale, tick_format='.1f', label='percentage')\n",
    "hist_data = regional_nonzero_tam['RegionalFractionTAM'] * 100.0\n",
    "hist = bqplot.Hist(sample=hist_data, scales={'sample': x_scale, 'count': y_scale})\n",
    "hist.bins = 50\n",
    "tam_regional_chart = bqplot.Figure(marks=[hist], axes=[x_axis, y_axis], padding_y=0,\n",
    "                                  title=\"Regional TAM as a % of World\")\n",
    "tam_regional_chart.layout.width = '100%'\n",
    "\n",
    "nonzero_count = regional_nonzero_adoption.shape[0]\n",
    "zero_count = num_scenarios - nonzero_count\n",
    "nonzero_chart = bqplot.Pie(sizes=[nonzero_count, zero_count], labels=['YES', 'NO'], colors=['Green', 'Red'],\n",
    "                           display_values=True, values_format='d', display_labels='inside', radius=110)\n",
    "ad_regional_nonzero_fig = bqplot.Figure(marks=[nonzero_chart], title='Has Regional Adoption Data?')\n",
    "ad_regional_nonzero_fig.layout.width = '320px'\n",
    "ad_regional_nonzero_fig.fig_margin = {'left':1, 'right':1, 'top':1, 'bottom':1}\n",
    "\n",
    "y_scale = bqplot.LinearScale()\n",
    "y_axis = bqplot.Axis(scale=y_scale, orientation='vertical', label='# scenarios')\n",
    "x_scale = bqplot.LinearScale()\n",
    "x_axis = bqplot.Axis(scale=x_scale, tick_format='.1f', label='percentage')\n",
    "hist_data = regional_nonzero_adoption['RegionalFractionAdoption'] * 100.0\n",
    "hist = bqplot.Hist(sample=hist_data, scales={'sample': x_scale, 'count': y_scale})\n",
    "hist.bins = 100\n",
    "ad_regional_chart = bqplot.Figure(marks=[hist], axes=[x_axis, y_axis], padding_y=0,\n",
    "                                  title=\"Regional Adoption as a % of World\")\n",
    "ad_regional_chart.layout.width = '100%'\n",
    "\n",
    "\n",
    "y_scale = bqplot.LinearScale()\n",
    "y_axis = bqplot.Axis(scale=y_scale, orientation='vertical', label='# scenarios')\n",
    "x_scale = bqplot.LinearScale()\n",
    "x_axis = bqplot.Axis(scale=x_scale, tick_format='.1f', label=u'R\\u00B2 value')\n",
    "hist_data = surveydata['Rvalue'].dropna() ** 2\n",
    "hist = bqplot.Hist(sample=hist_data, scales={'sample': x_scale, 'count': y_scale})\n",
    "hist.bins = 200\n",
    "r2_value_chart = bqplot.Figure(marks=[hist], axes=[x_axis, y_axis], padding_y=0,\n",
    "                                  title=\"Linearity of PDS Adoption\")\n",
    "r2_value_chart.layout.width = '100%'\n",
    "\n",
    "ipywidgets.VBox([\n",
    "    ipywidgets.HBox([soln_count_fig, pds_adoption_fig, ref_adoption_fig]),\n",
    "    scenarios_per_solution_chart,\n",
    "    ipywidgets.HBox([tam_regional_nonzero_fig, tam_regional_chart]),\n",
    "    ipywidgets.HBox([ad_regional_nonzero_fig, ad_regional_chart]),\n",
    "    r2_value_chart,\n",
    "])\n",
    "\n"
   ]
  },
  {
   "cell_type": "code",
   "execution_count": 2,
   "metadata": {
    "execution": {
     "iopub.execute_input": "2020-04-17T10:21:07.168849Z",
     "iopub.status.busy": "2020-04-17T10:21:07.168158Z",
     "iopub.status.idle": "2020-04-17T10:21:07.289248Z",
     "shell.execute_reply": "2020-04-17T10:21:07.272509Z"
    },
    "papermill": {
     "duration": 0.161594,
     "end_time": "2020-04-17T10:21:07.289341",
     "exception": false,
     "start_time": "2020-04-17T10:21:07.127747",
     "status": "completed"
    },
    "tags": []
   },
   "outputs": [
    {
     "data": {
      "application/vnd.jupyter.widget-view+json": {
       "model_id": "eb1b52b87c774ed4ad792fd0e4281966",
       "version_major": 2,
       "version_minor": 0
      },
      "text/plain": [
       "VBox(children=(HBox(children=(Figure(axes=[Axis(grid_lines='none', orientation='vertical', scale=OrdinalScale(…"
      ]
     },
     "metadata": {},
     "output_type": "display_data"
    }
   ],
   "source": [
    "# ------------------- Land Solution Analytics -------------------\n",
    "\n",
    "ls_df = pd.read_csv(os.path.join('data', 'health', 'landsurvey.csv'), index_col=0)\n",
    "\n",
    "# Comparison charts ---------------------------------------------\n",
    "# Note: assuming most agressive scenario of each solution\n",
    "perc_tla_comp = charts.soln_comparison(ls_df['% tla'].to_frame(),\n",
    "                                       title='% of land allocation reached')\n",
    "perc_world_alloc_comp = charts.soln_comparison(ls_df['% world alloc'].to_frame(),\n",
    "                                       title='% of World land allocated to solution')\n",
    "abatement_cost_comp = charts.soln_comparison(ls_df['avg abatement cost'].to_frame(),\n",
    "                                             title='Average abatement cost ($/tCO2)')\n",
    "\n",
    "# Has regions ---------------------------------------------\n",
    "has_regions = ls_df['has regional data']\n",
    "has_reg_pie = bqplot.Pie(sizes=[len(has_regions[has_regions]), len(has_regions[has_regions == False])],\n",
    "                         labels=['YES', 'NO'], colors=['Green', 'Red'], display_values=True, values_format='d',\n",
    "                         display_labels='inside', radius=120)\n",
    "land_has_reg = bqplot.Figure(marks=[has_reg_pie], title='Has regional adoption data? (Land solutions)')\n",
    "land_has_reg.fig_margin = {'left':1, 'right':1, 'top':1, 'bottom':1}\n",
    "\n",
    "# Regional issues ---------------------------------------------\n",
    "no_issues = exceeds_limits = regions_mismatch = both_issues = 0\n",
    "for i, row in ls_df[has_regions].iterrows():\n",
    "    limits_flag = mismatch_flag = False\n",
    "    if row['ca scen regions exceed world count'] > 0 or row['ca scen world exceeds regions count'] > 0:\n",
    "        mismatch_flag = True\n",
    "    if row['ca scen exceeds alloc count'] > 0: limits_flag = True\n",
    "    if mismatch_flag and limits_flag: both_issues += 1\n",
    "    elif mismatch_flag: regions_mismatch += 1\n",
    "    elif limits_flag: exceeds_limits += 1\n",
    "    else: no_issues += 1\n",
    "        \n",
    "reg_issues_pie = bqplot.Pie(sizes=[no_issues, exceeds_limits, regions_mismatch, both_issues],\n",
    "                            labels=['No issues', 'Exceeds limits', 'Regions-world mismatch', 'Both issues'],\n",
    "                            display_values=True, values_format='d', display_labels='outside', radius=150)\n",
    "reg_issues = bqplot.Figure(marks=[reg_issues_pie], title='Issues with regional data in Custom Adoption scenarios')\n",
    "reg_issues.layout.width = '800px'\n",
    "reg_issues.fig_margin = {'left':1, 'right':1, 'top':1, 'bottom':1}\n",
    "\n",
    "ipywidgets.VBox([\n",
    "    ipywidgets.HBox([perc_tla_comp, perc_world_alloc_comp]),\n",
    "    ipywidgets.HBox([abatement_cost_comp]),\n",
    "    ipywidgets.HBox([land_has_reg, reg_issues])\n",
    "])"
   ]
  },
  {
   "cell_type": "code",
   "execution_count": 3,
   "metadata": {
    "execution": {
     "iopub.execute_input": "2020-04-17T10:21:07.353087Z",
     "iopub.status.busy": "2020-04-17T10:21:07.352603Z",
     "iopub.status.idle": "2020-04-17T10:21:07.491277Z",
     "shell.execute_reply": "2020-04-17T10:21:07.490645Z"
    },
    "papermill": {
     "duration": 0.171737,
     "end_time": "2020-04-17T10:21:07.491367",
     "exception": false,
     "start_time": "2020-04-17T10:21:07.319630",
     "status": "completed"
    },
    "tags": []
   },
   "outputs": [
    {
     "data": {
      "application/vnd.jupyter.widget-view+json": {
       "model_id": "263d3e5c732847928625e9e144831630",
       "version_major": 2,
       "version_minor": 0
      },
      "text/plain": [
       "Figure(axes=[Axis(grid_lines='none', orientation='vertical', scale=OrdinalScale()), Axis(label='solutions', sc…"
      ]
     },
     "metadata": {},
     "output_type": "display_data"
    }
   ],
   "source": [
    "# ------------------- Analysis of Scenarios -------------------\n",
    "\n",
    "scn_df = pd.read_csv(os.path.join('data', 'health', 'scenario_uniq_values.csv'), index_col=0)\n",
    "scn_cnt_df = scn_df.apply(pd.Series.value_counts).fillna(0.0).T\n",
    "scn_cnt_df['solutions'] = scn_cnt_df.sum(axis=1)  - scn_cnt_df[1.0]\n",
    "scn_cnt_df = scn_cnt_df.drop(scn_cnt_df[scn_cnt_df.solutions == 0.0].index)\n",
    "# delete some rows which are not interesting\n",
    "scn_cnt_df = scn_cnt_df.drop(axis=0, labels=['soln_ref_adoption_basis', 'soln_ref_adoption_custom_name',\n",
    "    'soln_pds_adoption_basis', 'soln_pds_adoption_custom_name', 'soln_pds_adoption_prognostication_source',\n",
    "    'soln_pds_adoption_prognostication_trend', 'soln_pds_adoption_prognostication_growth', 'pds_source_post_2014',\n",
    "    'pds_adoption_use_ref_years', 'pds_adoption_final_percentage', 'use_custom_tla'])\n",
    "\n",
    "charts.soln_comparison(scn_cnt_df[['solutions']], title='parameters which differ between scenarios within solution')"
   ]
  },
  {
   "cell_type": "code",
   "execution_count": 4,
   "metadata": {
    "execution": {
     "iopub.execute_input": "2020-04-17T10:21:07.579113Z",
     "iopub.status.busy": "2020-04-17T10:21:07.577928Z",
     "iopub.status.idle": "2020-04-17T10:21:10.036616Z",
     "shell.execute_reply": "2020-04-17T10:21:10.035742Z"
    },
    "papermill": {
     "duration": 2.516036,
     "end_time": "2020-04-17T10:21:10.036789",
     "exception": false,
     "start_time": "2020-04-17T10:21:07.520753",
     "status": "completed"
    },
    "tags": []
   },
   "outputs": [
    {
     "name": "stdout",
     "output_type": "stream",
     "text": [
      "Requirement already satisfied: bqplot in /Users/laurence/.local/share/virtualenvs/solutions-ZjTKN2L4/lib/python3.8/site-packages (0.12.6)\r\n",
      "Requirement already satisfied: pandas in /Users/laurence/.local/share/virtualenvs/solutions-ZjTKN2L4/lib/python3.8/site-packages (from bqplot) (1.0.3)\r\n",
      "Requirement already satisfied: numpy>=1.10.4 in /Users/laurence/.local/share/virtualenvs/solutions-ZjTKN2L4/lib/python3.8/site-packages (from bqplot) (1.18.2)\r\n",
      "Requirement already satisfied: traitlets>=4.3.0 in /Users/laurence/.local/share/virtualenvs/solutions-ZjTKN2L4/lib/python3.8/site-packages (from bqplot) (4.3.3)\r\n",
      "Requirement already satisfied: traittypes>=0.0.6 in /Users/laurence/.local/share/virtualenvs/solutions-ZjTKN2L4/lib/python3.8/site-packages (from bqplot) (0.2.1)\r\n"
     ]
    },
    {
     "name": "stdout",
     "output_type": "stream",
     "text": [
      "Requirement already satisfied: ipywidgets>=7.5.0 in /Users/laurence/.local/share/virtualenvs/solutions-ZjTKN2L4/lib/python3.8/site-packages (from bqplot) (7.5.1)\r\n",
      "Requirement already satisfied: pytz>=2017.2 in /Users/laurence/.local/share/virtualenvs/solutions-ZjTKN2L4/lib/python3.8/site-packages (from pandas->bqplot) (2019.3)\r\n",
      "Requirement already satisfied: python-dateutil>=2.6.1 in /Users/laurence/.local/share/virtualenvs/solutions-ZjTKN2L4/lib/python3.8/site-packages (from pandas->bqplot) (2.8.1)\r\n",
      "Requirement already satisfied: ipython-genutils in /Users/laurence/.local/share/virtualenvs/solutions-ZjTKN2L4/lib/python3.8/site-packages (from traitlets>=4.3.0->bqplot) (0.2.0)\r\n",
      "Requirement already satisfied: six in /Users/laurence/.local/share/virtualenvs/solutions-ZjTKN2L4/lib/python3.8/site-packages (from traitlets>=4.3.0->bqplot) (1.14.0)\r\n",
      "Requirement already satisfied: decorator in /Users/laurence/.local/share/virtualenvs/solutions-ZjTKN2L4/lib/python3.8/site-packages (from traitlets>=4.3.0->bqplot) (4.4.2)\r\n",
      "Requirement already satisfied: nbformat>=4.2.0 in /Users/laurence/.local/share/virtualenvs/solutions-ZjTKN2L4/lib/python3.8/site-packages (from ipywidgets>=7.5.0->bqplot) (5.0.5)\r\n",
      "Requirement already satisfied: ipykernel>=4.5.1 in /Users/laurence/.local/share/virtualenvs/solutions-ZjTKN2L4/lib/python3.8/site-packages (from ipywidgets>=7.5.0->bqplot) (5.2.1)\r\n",
      "Requirement already satisfied: ipython>=4.0.0; python_version >= \"3.3\" in /Users/laurence/.local/share/virtualenvs/solutions-ZjTKN2L4/lib/python3.8/site-packages (from ipywidgets>=7.5.0->bqplot) (7.13.0)\r\n"
     ]
    },
    {
     "name": "stdout",
     "output_type": "stream",
     "text": [
      "Requirement already satisfied: widgetsnbextension~=3.5.0 in /Users/laurence/.local/share/virtualenvs/solutions-ZjTKN2L4/lib/python3.8/site-packages (from ipywidgets>=7.5.0->bqplot) (3.5.1)\r\n",
      "Requirement already satisfied: jupyter-core in /Users/laurence/.local/share/virtualenvs/solutions-ZjTKN2L4/lib/python3.8/site-packages (from nbformat>=4.2.0->ipywidgets>=7.5.0->bqplot) (4.6.3)\r\n",
      "Requirement already satisfied: jsonschema!=2.5.0,>=2.4 in /Users/laurence/.local/share/virtualenvs/solutions-ZjTKN2L4/lib/python3.8/site-packages (from nbformat>=4.2.0->ipywidgets>=7.5.0->bqplot) (3.2.0)\r\n",
      "Requirement already satisfied: jupyter-client in /Users/laurence/.local/share/virtualenvs/solutions-ZjTKN2L4/lib/python3.8/site-packages (from ipykernel>=4.5.1->ipywidgets>=7.5.0->bqplot) (6.1.3)\r\n",
      "Requirement already satisfied: tornado>=4.2 in /Users/laurence/.local/share/virtualenvs/solutions-ZjTKN2L4/lib/python3.8/site-packages (from ipykernel>=4.5.1->ipywidgets>=7.5.0->bqplot) (6.0.4)\r\n",
      "Requirement already satisfied: appnope; platform_system == \"Darwin\" in /Users/laurence/.local/share/virtualenvs/solutions-ZjTKN2L4/lib/python3.8/site-packages (from ipykernel>=4.5.1->ipywidgets>=7.5.0->bqplot) (0.1.0)\r\n",
      "Requirement already satisfied: backcall in /Users/laurence/.local/share/virtualenvs/solutions-ZjTKN2L4/lib/python3.8/site-packages (from ipython>=4.0.0; python_version >= \"3.3\"->ipywidgets>=7.5.0->bqplot) (0.1.0)\r\n",
      "Requirement already satisfied: pickleshare in /Users/laurence/.local/share/virtualenvs/solutions-ZjTKN2L4/lib/python3.8/site-packages (from ipython>=4.0.0; python_version >= \"3.3\"->ipywidgets>=7.5.0->bqplot) (0.7.5)\r\n",
      "Requirement already satisfied: pygments in /Users/laurence/.local/share/virtualenvs/solutions-ZjTKN2L4/lib/python3.8/site-packages (from ipython>=4.0.0; python_version >= \"3.3\"->ipywidgets>=7.5.0->bqplot) (2.6.1)\r\n",
      "Requirement already satisfied: pexpect; sys_platform != \"win32\" in /Users/laurence/.local/share/virtualenvs/solutions-ZjTKN2L4/lib/python3.8/site-packages (from ipython>=4.0.0; python_version >= \"3.3\"->ipywidgets>=7.5.0->bqplot) (4.8.0)\r\n",
      "Requirement already satisfied: prompt-toolkit!=3.0.0,!=3.0.1,<3.1.0,>=2.0.0 in /Users/laurence/.local/share/virtualenvs/solutions-ZjTKN2L4/lib/python3.8/site-packages (from ipython>=4.0.0; python_version >= \"3.3\"->ipywidgets>=7.5.0->bqplot) (3.0.5)\r\n"
     ]
    },
    {
     "name": "stdout",
     "output_type": "stream",
     "text": [
      "Requirement already satisfied: setuptools>=18.5 in /Users/laurence/.local/share/virtualenvs/solutions-ZjTKN2L4/lib/python3.8/site-packages (from ipython>=4.0.0; python_version >= \"3.3\"->ipywidgets>=7.5.0->bqplot) (46.1.3)\r\n",
      "Requirement already satisfied: jedi>=0.10 in /Users/laurence/.local/share/virtualenvs/solutions-ZjTKN2L4/lib/python3.8/site-packages (from ipython>=4.0.0; python_version >= \"3.3\"->ipywidgets>=7.5.0->bqplot) (0.17.0)\r\n",
      "Requirement already satisfied: notebook>=4.4.1 in /Users/laurence/.local/share/virtualenvs/solutions-ZjTKN2L4/lib/python3.8/site-packages (from widgetsnbextension~=3.5.0->ipywidgets>=7.5.0->bqplot) (6.0.3)\r\n",
      "Requirement already satisfied: pyrsistent>=0.14.0 in /Users/laurence/.local/share/virtualenvs/solutions-ZjTKN2L4/lib/python3.8/site-packages (from jsonschema!=2.5.0,>=2.4->nbformat>=4.2.0->ipywidgets>=7.5.0->bqplot) (0.16.0)\r\n"
     ]
    },
    {
     "name": "stdout",
     "output_type": "stream",
     "text": [
      "Requirement already satisfied: attrs>=17.4.0 in /Users/laurence/.local/share/virtualenvs/solutions-ZjTKN2L4/lib/python3.8/site-packages (from jsonschema!=2.5.0,>=2.4->nbformat>=4.2.0->ipywidgets>=7.5.0->bqplot) (19.3.0)\r\n",
      "Requirement already satisfied: pyzmq>=13 in /Users/laurence/.local/share/virtualenvs/solutions-ZjTKN2L4/lib/python3.8/site-packages (from jupyter-client->ipykernel>=4.5.1->ipywidgets>=7.5.0->bqplot) (19.0.0)\r\n",
      "Requirement already satisfied: ptyprocess>=0.5 in /Users/laurence/.local/share/virtualenvs/solutions-ZjTKN2L4/lib/python3.8/site-packages (from pexpect; sys_platform != \"win32\"->ipython>=4.0.0; python_version >= \"3.3\"->ipywidgets>=7.5.0->bqplot) (0.6.0)\r\n",
      "Requirement already satisfied: wcwidth in /Users/laurence/.local/share/virtualenvs/solutions-ZjTKN2L4/lib/python3.8/site-packages (from prompt-toolkit!=3.0.0,!=3.0.1,<3.1.0,>=2.0.0->ipython>=4.0.0; python_version >= \"3.3\"->ipywidgets>=7.5.0->bqplot) (0.1.9)\r\n",
      "Requirement already satisfied: parso>=0.7.0 in /Users/laurence/.local/share/virtualenvs/solutions-ZjTKN2L4/lib/python3.8/site-packages (from jedi>=0.10->ipython>=4.0.0; python_version >= \"3.3\"->ipywidgets>=7.5.0->bqplot) (0.7.0)\r\n",
      "Requirement already satisfied: jinja2 in /Users/laurence/.local/share/virtualenvs/solutions-ZjTKN2L4/lib/python3.8/site-packages (from notebook>=4.4.1->widgetsnbextension~=3.5.0->ipywidgets>=7.5.0->bqplot) (2.11.2)\r\n",
      "Requirement already satisfied: terminado>=0.8.1 in /Users/laurence/.local/share/virtualenvs/solutions-ZjTKN2L4/lib/python3.8/site-packages (from notebook>=4.4.1->widgetsnbextension~=3.5.0->ipywidgets>=7.5.0->bqplot) (0.8.3)\r\n",
      "Requirement already satisfied: prometheus-client in /Users/laurence/.local/share/virtualenvs/solutions-ZjTKN2L4/lib/python3.8/site-packages (from notebook>=4.4.1->widgetsnbextension~=3.5.0->ipywidgets>=7.5.0->bqplot) (0.7.1)\r\n",
      "Requirement already satisfied: Send2Trash in /Users/laurence/.local/share/virtualenvs/solutions-ZjTKN2L4/lib/python3.8/site-packages (from notebook>=4.4.1->widgetsnbextension~=3.5.0->ipywidgets>=7.5.0->bqplot) (1.5.0)\r\n"
     ]
    },
    {
     "name": "stdout",
     "output_type": "stream",
     "text": [
      "Requirement already satisfied: nbconvert in /Users/laurence/.local/share/virtualenvs/solutions-ZjTKN2L4/lib/python3.8/site-packages (from notebook>=4.4.1->widgetsnbextension~=3.5.0->ipywidgets>=7.5.0->bqplot) (5.6.1)\r\n",
      "Requirement already satisfied: MarkupSafe>=0.23 in /Users/laurence/.local/share/virtualenvs/solutions-ZjTKN2L4/lib/python3.8/site-packages (from jinja2->notebook>=4.4.1->widgetsnbextension~=3.5.0->ipywidgets>=7.5.0->bqplot) (1.1.1)\r\n",
      "Requirement already satisfied: mistune<2,>=0.8.1 in /Users/laurence/.local/share/virtualenvs/solutions-ZjTKN2L4/lib/python3.8/site-packages (from nbconvert->notebook>=4.4.1->widgetsnbextension~=3.5.0->ipywidgets>=7.5.0->bqplot) (0.8.4)\r\n",
      "Requirement already satisfied: pandocfilters>=1.4.1 in /Users/laurence/.local/share/virtualenvs/solutions-ZjTKN2L4/lib/python3.8/site-packages (from nbconvert->notebook>=4.4.1->widgetsnbextension~=3.5.0->ipywidgets>=7.5.0->bqplot) (1.4.2)\r\n",
      "Requirement already satisfied: testpath in /Users/laurence/.local/share/virtualenvs/solutions-ZjTKN2L4/lib/python3.8/site-packages (from nbconvert->notebook>=4.4.1->widgetsnbextension~=3.5.0->ipywidgets>=7.5.0->bqplot) (0.4.4)\r\n",
      "Requirement already satisfied: entrypoints>=0.2.2 in /Users/laurence/.local/share/virtualenvs/solutions-ZjTKN2L4/lib/python3.8/site-packages (from nbconvert->notebook>=4.4.1->widgetsnbextension~=3.5.0->ipywidgets>=7.5.0->bqplot) (0.3)\r\n"
     ]
    },
    {
     "name": "stdout",
     "output_type": "stream",
     "text": [
      "Requirement already satisfied: bleach in /Users/laurence/.local/share/virtualenvs/solutions-ZjTKN2L4/lib/python3.8/site-packages (from nbconvert->notebook>=4.4.1->widgetsnbextension~=3.5.0->ipywidgets>=7.5.0->bqplot) (3.1.4)\r\n",
      "Requirement already satisfied: defusedxml in /Users/laurence/.local/share/virtualenvs/solutions-ZjTKN2L4/lib/python3.8/site-packages (from nbconvert->notebook>=4.4.1->widgetsnbextension~=3.5.0->ipywidgets>=7.5.0->bqplot) (0.6.0)\r\n",
      "Requirement already satisfied: webencodings in /Users/laurence/.local/share/virtualenvs/solutions-ZjTKN2L4/lib/python3.8/site-packages (from bleach->nbconvert->notebook>=4.4.1->widgetsnbextension~=3.5.0->ipywidgets>=7.5.0->bqplot) (0.5.1)\r\n"
     ]
    }
   ],
   "source": [
    "!pip install bqplot"
   ]
  },
  {
   "cell_type": "code",
   "execution_count": null,
   "metadata": {
    "papermill": {
     "duration": 0.053894,
     "end_time": "2020-04-17T10:21:10.134889",
     "exception": false,
     "start_time": "2020-04-17T10:21:10.080995",
     "status": "completed"
    },
    "tags": []
   },
   "outputs": [],
   "source": []
  }
 ],
 "metadata": {
  "kernelspec": {
   "display_name": "Python 3",
   "language": "python",
   "name": "python3"
  },
  "language_info": {
   "codemirror_mode": {
    "name": "ipython",
    "version": 3
   },
   "file_extension": ".py",
   "mimetype": "text/x-python",
   "name": "python",
   "nbconvert_exporter": "python",
   "pygments_lexer": "ipython3",
   "version": "3.8.2"
  },
  "papermill": {
   "duration": 29.444828,
   "end_time": "2020-04-17T10:21:10.303075",
   "environment_variables": {},
   "exception": null,
   "input_path": "ModelHealth.ipynb",
   "output_path": "ModelHealth.ipynb",
   "parameters": {},
   "start_time": "2020-04-17T10:20:40.858247",
   "version": "2.1.0"
  },
  "toc": {
   "base_numbering": 1,
   "nav_menu": {},
   "number_sections": true,
   "sideBar": true,
   "skip_h1_title": false,
   "title_cell": "Table of Contents",
   "title_sidebar": "Contents",
   "toc_cell": false,
   "toc_position": {},
   "toc_section_display": true,
   "toc_window_display": false
  },
  "widgets": {
   "application/vnd.jupyter.widget-state+json": {
    "state": {
     "03df5a2f962e405fb8b6edc8b3eda140": {
      "model_module": "bqplot",
      "model_module_version": "^0.5.6",
      "model_name": "FigureModel",
      "state": {
       "_dom_classes": [],
       "_model_module": "bqplot",
       "_model_module_version": "^0.5.6",
       "_model_name": "FigureModel",
       "_view_count": null,
       "_view_module": "bqplot",
       "_view_module_version": "^0.5.6",
       "_view_name": "Figure",
       "animation_duration": 0,
       "axes": [],
       "background_style": {},
       "fig_margin": {
        "bottom": 1,
        "left": 1,
        "right": 1,
        "top": 1
       },
       "interaction": null,
       "layout": "IPY_MODEL_d7834a9d082945d49db2761d3641d559",
       "legend_location": "top-right",
       "legend_style": {},
       "legend_text": {},
       "marks": [
        "IPY_MODEL_a88e70344d5e4be88c5bdde7ebbb7aa5"
       ],
       "max_aspect_ratio": 100.0,
       "min_aspect_ratio": 0.01,
       "padding_x": 0.0,
       "padding_y": 0.025,
       "pixel_ratio": null,
       "scale_x": "IPY_MODEL_1cf83395ee194abc98a3284f565c7557",
       "scale_y": "IPY_MODEL_f32275638cfc4f53b7257770aeadd95f",
       "theme": "classic",
       "title": "Has regional adoption data? (Land solutions)",
       "title_style": {}
      }
     },
     "05a9d1ebca0544e681525efea940e9c7": {
      "model_module": "bqplot",
      "model_module_version": "^0.5.6",
      "model_name": "LinearScaleModel",
      "state": {
       "_model_module": "bqplot",
       "_model_module_version": "^0.5.6",
       "_model_name": "LinearScaleModel",
       "_view_count": null,
       "_view_module": "bqplot",
       "_view_module_version": "^0.5.6",
       "_view_name": "LinearScale",
       "allow_padding": false,
       "max": 1.0,
       "mid_range": 0.8,
       "min": 0.0,
       "min_range": 0.6,
       "reverse": false,
       "stabilized": false
      }
     },
     "09cf6f58c8e74ad4bec5522ed1af1ee8": {
      "model_module": "bqplot",
      "model_module_version": "^0.5.6",
      "model_name": "LinearScaleModel",
      "state": {
       "_model_module": "bqplot",
       "_model_module_version": "^0.5.6",
       "_model_name": "LinearScaleModel",
       "_view_count": null,
       "_view_module": "bqplot",
       "_view_module_version": "^0.5.6",
       "_view_name": "LinearScale",
       "allow_padding": false,
       "max": 1.0,
       "mid_range": 0.8,
       "min": 0.0,
       "min_range": 0.6,
       "reverse": false,
       "stabilized": false
      }
     },
     "0a6f20089d854d3999c28554daf22dcd": {
      "model_module": "bqplot",
      "model_module_version": "^0.5.6",
      "model_name": "LinearScaleModel",
      "state": {
       "_model_module": "bqplot",
       "_model_module_version": "^0.5.6",
       "_model_name": "LinearScaleModel",
       "_view_count": null,
       "_view_module": "bqplot",
       "_view_module_version": "^0.5.6",
       "_view_name": "LinearScale",
       "allow_padding": true,
       "max": null,
       "mid_range": 0.8,
       "min": null,
       "min_range": 0.6,
       "reverse": false,
       "stabilized": false
      }
     },
     "0dbcbca3d60f4ff5b0b6cf35c41a56ca": {
      "model_module": "bqplot",
      "model_module_version": "^0.5.6",
      "model_name": "LinearScaleModel",
      "state": {
       "_model_module": "bqplot",
       "_model_module_version": "^0.5.6",
       "_model_name": "LinearScaleModel",
       "_view_count": null,
       "_view_module": "bqplot",
       "_view_module_version": "^0.5.6",
       "_view_name": "LinearScale",
       "allow_padding": false,
       "max": 1.0,
       "mid_range": 0.8,
       "min": 0.0,
       "min_range": 0.6,
       "reverse": false,
       "stabilized": false
      }
     },
     "1283cc5159664e63afd00d159f52d155": {
      "model_module": "bqplot",
      "model_module_version": "^0.5.6",
      "model_name": "FigureModel",
      "state": {
       "_dom_classes": [],
       "_model_module": "bqplot",
       "_model_module_version": "^0.5.6",
       "_model_name": "FigureModel",
       "_view_count": null,
       "_view_module": "bqplot",
       "_view_module_version": "^0.5.6",
       "_view_name": "Figure",
       "animation_duration": 0,
       "axes": [
        "IPY_MODEL_cfb9a8ab8e2a40d783acdc3ef3370c5f",
        "IPY_MODEL_dcf121055eb4494ea6e0dd793905b9e9"
       ],
       "background_style": {},
       "fig_margin": {
        "bottom": 60,
        "left": 200,
        "right": 60,
        "top": 60
       },
       "interaction": null,
       "layout": "IPY_MODEL_eb4d998c0c80479cb42a9806d7564fc9",
       "legend_location": "top-right",
       "legend_style": {},
       "legend_text": {},
       "marks": [
        "IPY_MODEL_5787cfb3ec6b42f48119c3d423c961bc"
       ],
       "max_aspect_ratio": 100.0,
       "min_aspect_ratio": 0.01,
       "padding_x": 0.0,
       "padding_y": 0.0,
       "pixel_ratio": null,
       "scale_x": "IPY_MODEL_8e4a25004bf844deb683adc740735eba",
       "scale_y": "IPY_MODEL_5b98bec3e4144411abdbe59d80963d32",
       "theme": "classic",
       "title": "% of land allocation reached",
       "title_style": {}
      }
     },
     "177818201c3747f58e3cfea504bd1f66": {
      "model_module": "bqplot",
      "model_module_version": "^0.5.6",
      "model_name": "LinearScaleModel",
      "state": {
       "_model_module": "bqplot",
       "_model_module_version": "^0.5.6",
       "_model_name": "LinearScaleModel",
       "_view_count": null,
       "_view_module": "bqplot",
       "_view_module_version": "^0.5.6",
       "_view_name": "LinearScale",
       "allow_padding": true,
       "max": null,
       "mid_range": 0.8,
       "min": null,
       "min_range": 0.6,
       "reverse": false,
       "stabilized": false
      }
     },
     "1790e11c1c0c4fc59ee357a48d98d71e": {
      "model_module": "bqplot",
      "model_module_version": "^0.5.6",
      "model_name": "LinearScaleModel",
      "state": {
       "_model_module": "bqplot",
       "_model_module_version": "^0.5.6",
       "_model_name": "LinearScaleModel",
       "_view_count": null,
       "_view_module": "bqplot",
       "_view_module_version": "^0.5.6",
       "_view_name": "LinearScale",
       "allow_padding": true,
       "max": null,
       "mid_range": 0.8,
       "min": null,
       "min_range": 0.6,
       "reverse": false,
       "stabilized": false
      }
     },
     "183bdd7ffb9e47858a926bfeedc4fc78": {
      "model_module": "@jupyter-widgets/base",
      "model_module_version": "1.2.0",
      "model_name": "LayoutModel",
      "state": {
       "_model_module": "@jupyter-widgets/base",
       "_model_module_version": "1.2.0",
       "_model_name": "LayoutModel",
       "_view_count": null,
       "_view_module": "@jupyter-widgets/base",
       "_view_module_version": "1.2.0",
       "_view_name": "LayoutView",
       "align_content": null,
       "align_items": null,
       "align_self": null,
       "border": null,
       "bottom": null,
       "display": null,
       "flex": null,
       "flex_flow": null,
       "grid_area": null,
       "grid_auto_columns": null,
       "grid_auto_flow": null,
       "grid_auto_rows": null,
       "grid_column": null,
       "grid_gap": null,
       "grid_row": null,
       "grid_template_areas": null,
       "grid_template_columns": null,
       "grid_template_rows": null,
       "height": null,
       "justify_content": null,
       "justify_items": null,
       "left": null,
       "margin": null,
       "max_height": null,
       "max_width": null,
       "min_height": null,
       "min_width": null,
       "object_fit": null,
       "object_position": null,
       "order": null,
       "overflow": null,
       "overflow_x": null,
       "overflow_y": null,
       "padding": null,
       "right": null,
       "top": null,
       "visibility": null,
       "width": "300px"
      }
     },
     "183cd53c4e434438993d27d3c05e89ec": {
      "model_module": "@jupyter-widgets/base",
      "model_module_version": "1.2.0",
      "model_name": "LayoutModel",
      "state": {
       "_model_module": "@jupyter-widgets/base",
       "_model_module_version": "1.2.0",
       "_model_name": "LayoutModel",
       "_view_count": null,
       "_view_module": "@jupyter-widgets/base",
       "_view_module_version": "1.2.0",
       "_view_name": "LayoutView",
       "align_content": null,
       "align_items": null,
       "align_self": null,
       "border": null,
       "bottom": null,
       "display": null,
       "flex": null,
       "flex_flow": null,
       "grid_area": null,
       "grid_auto_columns": null,
       "grid_auto_flow": null,
       "grid_auto_rows": null,
       "grid_column": null,
       "grid_gap": null,
       "grid_row": null,
       "grid_template_areas": null,
       "grid_template_columns": null,
       "grid_template_rows": null,
       "height": null,
       "justify_content": null,
       "justify_items": null,
       "left": null,
       "margin": null,
       "max_height": null,
       "max_width": null,
       "min_height": null,
       "min_width": null,
       "object_fit": null,
       "object_position": null,
       "order": null,
       "overflow": null,
       "overflow_x": null,
       "overflow_y": null,
       "padding": null,
       "right": null,
       "top": null,
       "visibility": null,
       "width": "320px"
      }
     },
     "18b3643df8944252ba7020b42ddd07ea": {
      "model_module": "bqplot",
      "model_module_version": "^0.5.6",
      "model_name": "LinearScaleModel",
      "state": {
       "_model_module": "bqplot",
       "_model_module_version": "^0.5.6",
       "_model_name": "LinearScaleModel",
       "_view_count": null,
       "_view_module": "bqplot",
       "_view_module_version": "^0.5.6",
       "_view_name": "LinearScale",
       "allow_padding": false,
       "max": 1.0,
       "mid_range": 0.8,
       "min": 0.0,
       "min_range": 0.6,
       "reverse": false,
       "stabilized": false
      }
     },
     "192c61d0bef64dce96a2f51d86cf1303": {
      "model_module": "bqplot",
      "model_module_version": "^0.5.6",
      "model_name": "OrdinalScaleModel",
      "state": {
       "_model_module": "bqplot",
       "_model_module_version": "^0.5.6",
       "_model_name": "OrdinalScaleModel",
       "_view_count": null,
       "_view_module": "bqplot",
       "_view_module_version": "^0.5.6",
       "_view_name": "OrdinalScale",
       "allow_padding": true,
       "domain": [],
       "reverse": false
      }
     },
     "1b1e2a114abf455aaede39f31d796e35": {
      "model_module": "bqplot",
      "model_module_version": "^0.5.6",
      "model_name": "OrdinalScaleModel",
      "state": {
       "_model_module": "bqplot",
       "_model_module_version": "^0.5.6",
       "_model_name": "OrdinalScaleModel",
       "_view_count": null,
       "_view_module": "bqplot",
       "_view_module_version": "^0.5.6",
       "_view_name": "OrdinalScale",
       "allow_padding": true,
       "domain": [],
       "reverse": false
      }
     },
     "1c039ac3046247218522ede4c213821b": {
      "model_module": "bqplot",
      "model_module_version": "^0.5.6",
      "model_name": "LinearScaleModel",
      "state": {
       "_model_module": "bqplot",
       "_model_module_version": "^0.5.6",
       "_model_name": "LinearScaleModel",
       "_view_count": null,
       "_view_module": "bqplot",
       "_view_module_version": "^0.5.6",
       "_view_name": "LinearScale",
       "allow_padding": false,
       "max": 1.0,
       "mid_range": 0.8,
       "min": 0.0,
       "min_range": 0.6,
       "reverse": false,
       "stabilized": false
      }
     },
     "1cf83395ee194abc98a3284f565c7557": {
      "model_module": "bqplot",
      "model_module_version": "^0.5.6",
      "model_name": "LinearScaleModel",
      "state": {
       "_model_module": "bqplot",
       "_model_module_version": "^0.5.6",
       "_model_name": "LinearScaleModel",
       "_view_count": null,
       "_view_module": "bqplot",
       "_view_module_version": "^0.5.6",
       "_view_name": "LinearScale",
       "allow_padding": false,
       "max": 1.0,
       "mid_range": 0.8,
       "min": 0.0,
       "min_range": 0.6,
       "reverse": false,
       "stabilized": false
      }
     },
     "1f5e33f421a049098ad8f2189faf8a4e": {
      "model_module": "bqplot",
      "model_module_version": "^0.5.6",
      "model_name": "FigureModel",
      "state": {
       "_dom_classes": [],
       "_model_module": "bqplot",
       "_model_module_version": "^0.5.6",
       "_model_name": "FigureModel",
       "_view_count": null,
       "_view_module": "bqplot",
       "_view_module_version": "^0.5.6",
       "_view_name": "Figure",
       "animation_duration": 0,
       "axes": [
        "IPY_MODEL_48fc7314641e45169a683af618b4ffae",
        "IPY_MODEL_5dcc8ab5bf0c40faaf3f96359cae6692"
       ],
       "background_style": {},
       "fig_margin": {
        "bottom": 60,
        "left": 60,
        "right": 60,
        "top": 60
       },
       "interaction": null,
       "layout": "IPY_MODEL_23f57feacf7a4e26a62a7ef18dba903b",
       "legend_location": "top-right",
       "legend_style": {},
       "legend_text": {},
       "marks": [
        "IPY_MODEL_6fd20275b7c94a61a0ca6470aca22329"
       ],
       "max_aspect_ratio": 100.0,
       "min_aspect_ratio": 0.01,
       "padding_x": 0.0,
       "padding_y": 0.0,
       "pixel_ratio": null,
       "scale_x": "IPY_MODEL_dc86efe2785146bc97b4348dc194eef6",
       "scale_y": "IPY_MODEL_1c039ac3046247218522ede4c213821b",
       "theme": "classic",
       "title": "Linearity of PDS Adoption",
       "title_style": {}
      }
     },
     "2011fd2cb1034cacaf665915d3bd6841": {
      "model_module": "bqplot",
      "model_module_version": "^0.5.6",
      "model_name": "AxisModel",
      "state": {
       "_model_module": "bqplot",
       "_model_module_version": "^0.5.6",
       "_model_name": "AxisModel",
       "_view_count": null,
       "_view_module": "bqplot",
       "_view_module_version": "^0.5.6",
       "_view_name": "Axis",
       "color": null,
       "grid_color": null,
       "grid_lines": "none",
       "label": "",
       "label_color": null,
       "label_location": "middle",
       "label_offset": null,
       "num_ticks": null,
       "offset": {},
       "orientation": "vertical",
       "scale": "IPY_MODEL_332669bad0644f9e86cd64fce12088b5",
       "side": null,
       "tick_format": null,
       "tick_rotate": 0,
       "tick_style": {},
       "tick_values": null,
       "visible": true
      }
     },
     "21ab299d900a4b488ba093b0401122b8": {
      "model_module": "bqplot",
      "model_module_version": "^0.5.6",
      "model_name": "AxisModel",
      "state": {
       "_model_module": "bqplot",
       "_model_module_version": "^0.5.6",
       "_model_name": "AxisModel",
       "_view_count": null,
       "_view_module": "bqplot",
       "_view_module_version": "^0.5.6",
       "_view_name": "Axis",
       "color": null,
       "grid_color": null,
       "grid_lines": "solid",
       "label": "percentage",
       "label_color": null,
       "label_location": "middle",
       "label_offset": null,
       "num_ticks": null,
       "offset": {},
       "orientation": "horizontal",
       "scale": "IPY_MODEL_b52791b427e84b5791ae1089476aec83",
       "side": null,
       "tick_format": ".1f",
       "tick_rotate": 0,
       "tick_style": {},
       "tick_values": null,
       "visible": true
      }
     },
     "21c3046f267040658dcf09f8e0f52c97": {
      "model_module": "bqplot",
      "model_module_version": "^0.5.6",
      "model_name": "AxisModel",
      "state": {
       "_model_module": "bqplot",
       "_model_module_version": "^0.5.6",
       "_model_name": "AxisModel",
       "_view_count": null,
       "_view_module": "bqplot",
       "_view_module_version": "^0.5.6",
       "_view_name": "Axis",
       "color": null,
       "grid_color": null,
       "grid_lines": "solid",
       "label": "percentage",
       "label_color": null,
       "label_location": "middle",
       "label_offset": null,
       "num_ticks": null,
       "offset": {},
       "orientation": "horizontal",
       "scale": "IPY_MODEL_22147f3d38904a5bbcb926496dc84ed3",
       "side": null,
       "tick_format": ".1f",
       "tick_rotate": 0,
       "tick_style": {},
       "tick_values": null,
       "visible": true
      }
     },
     "22147f3d38904a5bbcb926496dc84ed3": {
      "model_module": "bqplot",
      "model_module_version": "^0.5.6",
      "model_name": "LinearScaleModel",
      "state": {
       "_model_module": "bqplot",
       "_model_module_version": "^0.5.6",
       "_model_name": "LinearScaleModel",
       "_view_count": null,
       "_view_module": "bqplot",
       "_view_module_version": "^0.5.6",
       "_view_name": "LinearScale",
       "allow_padding": true,
       "max": null,
       "mid_range": 0.8,
       "min": null,
       "min_range": 0.6,
       "reverse": false,
       "stabilized": false
      }
     },
     "23f57feacf7a4e26a62a7ef18dba903b": {
      "model_module": "@jupyter-widgets/base",
      "model_module_version": "1.2.0",
      "model_name": "LayoutModel",
      "state": {
       "_model_module": "@jupyter-widgets/base",
       "_model_module_version": "1.2.0",
       "_model_name": "LayoutModel",
       "_view_count": null,
       "_view_module": "@jupyter-widgets/base",
       "_view_module_version": "1.2.0",
       "_view_name": "LayoutView",
       "align_content": null,
       "align_items": null,
       "align_self": null,
       "border": null,
       "bottom": null,
       "display": null,
       "flex": null,
       "flex_flow": null,
       "grid_area": null,
       "grid_auto_columns": null,
       "grid_auto_flow": null,
       "grid_auto_rows": null,
       "grid_column": null,
       "grid_gap": null,
       "grid_row": null,
       "grid_template_areas": null,
       "grid_template_columns": null,
       "grid_template_rows": null,
       "height": null,
       "justify_content": null,
       "justify_items": null,
       "left": null,
       "margin": null,
       "max_height": null,
       "max_width": null,
       "min_height": null,
       "min_width": null,
       "object_fit": null,
       "object_position": null,
       "order": null,
       "overflow": null,
       "overflow_x": null,
       "overflow_y": null,
       "padding": null,
       "right": null,
       "top": null,
       "visibility": null,
       "width": "100%"
      }
     },
     "263d3e5c732847928625e9e144831630": {
      "model_module": "bqplot",
      "model_module_version": "^0.5.6",
      "model_name": "FigureModel",
      "state": {
       "_dom_classes": [],
       "_model_module": "bqplot",
       "_model_module_version": "^0.5.6",
       "_model_name": "FigureModel",
       "_view_count": null,
       "_view_module": "bqplot",
       "_view_module_version": "^0.5.6",
       "_view_name": "Figure",
       "animation_duration": 0,
       "axes": [
        "IPY_MODEL_2011fd2cb1034cacaf665915d3bd6841",
        "IPY_MODEL_cc105c407ace476f81c8f218d8824309"
       ],
       "background_style": {},
       "fig_margin": {
        "bottom": 60,
        "left": 200,
        "right": 60,
        "top": 60
       },
       "interaction": null,
       "layout": "IPY_MODEL_fa28f0cc1d8f433a946af714c336b530",
       "legend_location": "top-right",
       "legend_style": {},
       "legend_text": {},
       "marks": [
        "IPY_MODEL_47a1a057b9fe4808902f8d9e2b6a8844"
       ],
       "max_aspect_ratio": 100.0,
       "min_aspect_ratio": 0.01,
       "padding_x": 0.0,
       "padding_y": 0.0,
       "pixel_ratio": null,
       "scale_x": "IPY_MODEL_7e0d8b5d93824f079cb22b479d197ce5",
       "scale_y": "IPY_MODEL_d3eb3c237c4d4bb08ba2fa3e9b5ca9b2",
       "theme": "classic",
       "title": "parameters which differ between scenarios within solution",
       "title_style": {}
      }
     },
     "2c5689618ad646898e7f2bad6b221534": {
      "buffers": [
       {
        "data": "AQAAAAIAAAABAAAABQAAAA==",
        "encoding": "base64",
        "path": [
         "sizes",
         "value"
        ]
       }
      ],
      "model_module": "bqplot",
      "model_module_version": "^0.5.6",
      "model_name": "PieModel",
      "state": {
       "_model_module": "bqplot",
       "_model_module_version": "^0.5.6",
       "_model_name": "PieModel",
       "_view_count": null,
       "_view_module": "bqplot",
       "_view_module_version": "^0.5.6",
       "_view_name": "Pie",
       "apply_clip": true,
       "color": null,
       "colors": [
        "#1f77b4",
        "#ff7f0e",
        "#2ca02c",
        "#d62728",
        "#9467bd",
        "#8c564b",
        "#e377c2",
        "#7f7f7f",
        "#bcbd22",
        "#17becf"
       ],
       "display_labels": "outside",
       "display_legend": false,
       "display_values": true,
       "enable_hover": true,
       "end_angle": 360.0,
       "font_size": "12px",
       "font_weight": "normal",
       "inner_radius": 0.1,
       "interactions": {
        "hover": "tooltip"
       },
       "label_color": null,
       "labels": [
        "No issues",
        "Exceeds limits",
        "Regions-world mismatch",
        "Both issues"
       ],
       "opacities": [],
       "preserve_domain": {},
       "radius": 150.0,
       "scales": {},
       "scales_metadata": {
        "color": {
         "dimension": "color"
        }
       },
       "selected": null,
       "selected_style": {},
       "sizes": {
        "dtype": "int32",
        "shape": [
         4
        ],
        "type": null
       },
       "sort": false,
       "start_angle": 0.0,
       "stroke": null,
       "tooltip": null,
       "tooltip_location": "mouse",
       "tooltip_style": {
        "opacity": 0.9
       },
       "unselected_style": {},
       "values_format": "d",
       "visible": true,
       "x": 0.5,
       "y": 0.5
      }
     },
     "312cd301dace476eae1e9a96794877b9": {
      "model_module": "bqplot",
      "model_module_version": "^0.5.6",
      "model_name": "AxisModel",
      "state": {
       "_model_module": "bqplot",
       "_model_module_version": "^0.5.6",
       "_model_name": "AxisModel",
       "_view_count": null,
       "_view_module": "bqplot",
       "_view_module_version": "^0.5.6",
       "_view_name": "Axis",
       "color": null,
       "grid_color": null,
       "grid_lines": "solid",
       "label": "solutions",
       "label_color": null,
       "label_location": "middle",
       "label_offset": null,
       "num_ticks": null,
       "offset": {},
       "orientation": "vertical",
       "scale": "IPY_MODEL_50de32cb03f745419f2fdfe8236611bf",
       "side": null,
       "tick_format": null,
       "tick_rotate": 0,
       "tick_style": {},
       "tick_values": null,
       "visible": true
      }
     },
     "332669bad0644f9e86cd64fce12088b5": {
      "model_module": "bqplot",
      "model_module_version": "^0.5.6",
      "model_name": "OrdinalScaleModel",
      "state": {
       "_model_module": "bqplot",
       "_model_module_version": "^0.5.6",
       "_model_name": "OrdinalScaleModel",
       "_view_count": null,
       "_view_module": "bqplot",
       "_view_module_version": "^0.5.6",
       "_view_name": "OrdinalScale",
       "allow_padding": true,
       "domain": [],
       "reverse": false
      }
     },
     "33f0e118153842b3877dccc2de331504": {
      "model_module": "bqplot",
      "model_module_version": "^0.5.6",
      "model_name": "AxisModel",
      "state": {
       "_model_module": "bqplot",
       "_model_module_version": "^0.5.6",
       "_model_name": "AxisModel",
       "_view_count": null,
       "_view_module": "bqplot",
       "_view_module_version": "^0.5.6",
       "_view_name": "Axis",
       "color": null,
       "grid_color": null,
       "grid_lines": "solid",
       "label": "# scenarios",
       "label_color": null,
       "label_location": "middle",
       "label_offset": null,
       "num_ticks": null,
       "offset": {},
       "orientation": "vertical",
       "scale": "IPY_MODEL_0a6f20089d854d3999c28554daf22dcd",
       "side": null,
       "tick_format": null,
       "tick_rotate": 0,
       "tick_style": {},
       "tick_values": null,
       "visible": true
      }
     },
     "36114a172ee342849e4b3b05031a73ee": {
      "model_module": "bqplot",
      "model_module_version": "^0.5.6",
      "model_name": "FigureModel",
      "state": {
       "_dom_classes": [],
       "_model_module": "bqplot",
       "_model_module_version": "^0.5.6",
       "_model_name": "FigureModel",
       "_view_count": null,
       "_view_module": "bqplot",
       "_view_module_version": "^0.5.6",
       "_view_name": "Figure",
       "animation_duration": 0,
       "axes": [
        "IPY_MODEL_21ab299d900a4b488ba093b0401122b8",
        "IPY_MODEL_33f0e118153842b3877dccc2de331504"
       ],
       "background_style": {},
       "fig_margin": {
        "bottom": 60,
        "left": 60,
        "right": 60,
        "top": 60
       },
       "interaction": null,
       "layout": "IPY_MODEL_baac92d94eec468886997716c01a09fd",
       "legend_location": "top-right",
       "legend_style": {},
       "legend_text": {},
       "marks": [
        "IPY_MODEL_7ecd341187e949c68985c25697abf53a"
       ],
       "max_aspect_ratio": 100.0,
       "min_aspect_ratio": 0.01,
       "padding_x": 0.0,
       "padding_y": 0.0,
       "pixel_ratio": null,
       "scale_x": "IPY_MODEL_18b3643df8944252ba7020b42ddd07ea",
       "scale_y": "IPY_MODEL_767764a5b79d4ac3bd41b68d46bb6722",
       "theme": "classic",
       "title": "Regional Adoption as a % of World",
       "title_style": {}
      }
     },
     "376a6c1c58f148a795e74768e99de444": {
      "model_module": "bqplot",
      "model_module_version": "^0.5.6",
      "model_name": "AxisModel",
      "state": {
       "_model_module": "bqplot",
       "_model_module_version": "^0.5.6",
       "_model_name": "AxisModel",
       "_view_count": null,
       "_view_module": "bqplot",
       "_view_module_version": "^0.5.6",
       "_view_name": "Axis",
       "color": null,
       "grid_color": null,
       "grid_lines": "none",
       "label": "",
       "label_color": null,
       "label_location": "middle",
       "label_offset": null,
       "num_ticks": null,
       "offset": {},
       "orientation": "vertical",
       "scale": "IPY_MODEL_660628887054415a8cb0e686dbb656cb",
       "side": null,
       "tick_format": null,
       "tick_rotate": 0,
       "tick_style": {},
       "tick_values": null,
       "visible": true
      }
     },
     "376e5e038edb4a40b709820df2c33feb": {
      "model_module": "bqplot",
      "model_module_version": "^0.5.6",
      "model_name": "FigureModel",
      "state": {
       "_dom_classes": [],
       "_model_module": "bqplot",
       "_model_module_version": "^0.5.6",
       "_model_name": "FigureModel",
       "_view_count": null,
       "_view_module": "bqplot",
       "_view_module_version": "^0.5.6",
       "_view_name": "Figure",
       "animation_duration": 0,
       "axes": [],
       "background_style": {},
       "fig_margin": {
        "bottom": 1,
        "left": 1,
        "right": 1,
        "top": 1
       },
       "interaction": null,
       "layout": "IPY_MODEL_b86bc3b287f6420ab28841e7c0fe307a",
       "legend_location": "top-right",
       "legend_style": {},
       "legend_text": {},
       "marks": [
        "IPY_MODEL_7011a01ccb234a33a8f020968fd87b97"
       ],
       "max_aspect_ratio": 100.0,
       "min_aspect_ratio": 0.01,
       "padding_x": 0.0,
       "padding_y": 0.025,
       "pixel_ratio": null,
       "scale_x": "IPY_MODEL_a99158d536114fe9b174a7a6aef713b4",
       "scale_y": "IPY_MODEL_0dbcbca3d60f4ff5b0b6cf35c41a56ca",
       "theme": "classic",
       "title": "Solution implementation",
       "title_style": {}
      }
     },
     "3ae51698191b40c38317f488ee4bf089": {
      "buffers": [
       {
        "data": "75EEcqzQaUC6AdjEKsk5QHE33eWwvTNATg3DzDDFJUAIWKiBv3gQQCWtAzqX4gtADvKo3T739j9ADfLfCW7uP111p7T7Leo/AAAAAAAAAIAAAAAAAAAAgAAAAAAAAACAAAAAAAAAAIAAAAAAAAAAgFS71kWDQcu/25ujwnNiBsByBmNEgocLwAGz5ln42SrA2fyvh+11M8CPipbcJxE8wA==",
        "encoding": "base64",
        "path": [
         "y",
         "value"
        ]
       }
      ],
      "model_module": "bqplot",
      "model_module_version": "^0.5.6",
      "model_name": "BarsModel",
      "state": {
       "_model_module": "bqplot",
       "_model_module_version": "^0.5.6",
       "_model_name": "BarsModel",
       "_view_count": null,
       "_view_module": "bqplot",
       "_view_module_version": "^0.5.6",
       "_view_name": "Bars",
       "align": "center",
       "apply_clip": true,
       "base": 0.0,
       "color": null,
       "color_mode": "auto",
       "colors": [
        "steelblue"
       ],
       "display_legend": false,
       "enable_hover": true,
       "fill": true,
       "interactions": {
        "hover": "tooltip"
       },
       "label_display": false,
       "label_display_format": ".2f",
       "label_display_horizontal_offset": 0.0,
       "label_display_vertical_offset": 0.0,
       "label_font_style": {},
       "labels": [],
       "opacities": [],
       "orientation": "horizontal",
       "padding": 0.05,
       "preserve_domain": {},
       "scales": {
        "x": "IPY_MODEL_192c61d0bef64dce96a2f51d86cf1303",
        "y": "IPY_MODEL_ea279c1fbbfa4fe1bc64b205d395c0e9"
       },
       "scales_metadata": {
        "x": {
         "dimension": "x",
         "orientation": "vertical"
        },
        "y": {
         "dimension": "y",
         "orientation": "horizontal"
        }
       },
       "selected": null,
       "selected_style": {},
       "stroke": null,
       "stroke_width": 1.0,
       "tooltip": null,
       "tooltip_location": "mouse",
       "tooltip_style": {
        "opacity": 0.9
       },
       "type": "stacked",
       "unselected_style": {},
       "visible": true,
       "x": [
        "managedgrazing",
        "perennialbioenergy",
        "tropicaltreestaples",
        "farmlandrestoration",
        "silvopasture",
        "treeintercropping",
        "bamboo",
        "multistrataagroforestry",
        "afforestation",
        "indigenouspeoplesland",
        "peatlands",
        "forestprotection",
        "temperateforests",
        "tropicalforests",
        "riceintensification",
        "nutrientmanagement",
        "improvedrice",
        "regenerativeagriculture",
        "irrigationefficiency",
        "conservationagriculture"
       ],
       "y": {
        "dtype": "float64",
        "shape": [
         20
        ],
        "type": null
       }
      }
     },
     "3d8a8e6e7b1d4c4e9f7c943f0ba719d7": {
      "model_module": "bqplot",
      "model_module_version": "^0.5.6",
      "model_name": "LinearScaleModel",
      "state": {
       "_model_module": "bqplot",
       "_model_module_version": "^0.5.6",
       "_model_name": "LinearScaleModel",
       "_view_count": null,
       "_view_module": "bqplot",
       "_view_module_version": "^0.5.6",
       "_view_name": "LinearScale",
       "allow_padding": false,
       "max": 1.0,
       "mid_range": 0.8,
       "min": 0.0,
       "min_range": 0.6,
       "reverse": false,
       "stabilized": false
      }
     },
     "3ddd84ecfb6843fba5335906edafd06b": {
      "model_module": "bqplot",
      "model_module_version": "^0.5.6",
      "model_name": "AxisModel",
      "state": {
       "_model_module": "bqplot",
       "_model_module_version": "^0.5.6",
       "_model_name": "AxisModel",
       "_view_count": null,
       "_view_module": "bqplot",
       "_view_module_version": "^0.5.6",
       "_view_name": "Axis",
       "color": null,
       "grid_color": null,
       "grid_lines": "solid",
       "label": "# scenarios",
       "label_color": null,
       "label_location": "middle",
       "label_offset": null,
       "num_ticks": null,
       "offset": {},
       "orientation": "vertical",
       "scale": "IPY_MODEL_177818201c3747f58e3cfea504bd1f66",
       "side": null,
       "tick_format": null,
       "tick_rotate": 0,
       "tick_style": {},
       "tick_values": null,
       "visible": true
      }
     },
     "3ffffa5d3b0d4579b09689c3b97c8fe0": {
      "buffers": [
       {
        "data": "",
        "encoding": "base64",
        "path": [
         "count",
         "value"
        ]
       },
       {
        "data": "DgAAAAMAAAABAAAADgAAAAMAAAAGAAAACQAAAAMAAAAGAAAAAwAAAAEAAAADAAAAAwAAAAMAAAADAAAABgAAAAMAAAADAAAAAwAAAAMAAAADAAAACwAAAAMAAAADAAAAAwAAAAMAAAADAAAAAwAAAAMAAAADAAAAAwAAAAMAAAADAAAACAAAAAMAAAADAAAAAwAAAAMAAAAGAAAAAwAAAAUAAAANAAAABAAAAAQAAAADAAAACwAAAAMAAAACAAAAAwAAAAMAAAADAAAAAwAAAAMAAAADAAAAAwAAAAQAAAADAAAAAwAAAAYAAAADAAAAAwAAAAYAAAADAAAAAwAAAAMAAAADAAAAAwAAAAMAAAADAAAAAwAAAA==",
        "encoding": "base64",
        "path": [
         "sample",
         "value"
        ]
       }
      ],
      "model_module": "bqplot",
      "model_module_version": "^0.5.6",
      "model_name": "HistModel",
      "state": {
       "_model_module": "bqplot",
       "_model_module_version": "^0.5.6",
       "_model_name": "HistModel",
       "_view_count": null,
       "_view_module": "bqplot",
       "_view_module_version": "^0.5.6",
       "_view_name": "Hist",
       "apply_clip": true,
       "bins": 10,
       "colors": [
        "steelblue"
       ],
       "count": {
        "dtype": "float64",
        "shape": [
         0
        ],
        "type": null
       },
       "display_legend": false,
       "enable_hover": true,
       "interactions": {
        "hover": "tooltip"
       },
       "labels": [],
       "midpoints": [],
       "normalized": false,
       "opacities": [],
       "preserve_domain": {},
       "sample": {
        "dtype": "int32",
        "shape": [
         70
        ],
        "type": null
       },
       "scales": {
        "count": "IPY_MODEL_50de32cb03f745419f2fdfe8236611bf",
        "sample": "IPY_MODEL_a0922434b8814f099ad275490ab66b06"
       },
       "scales_metadata": {
        "count": {
         "dimension": "y",
         "orientation": "vertical"
        },
        "sample": {
         "dimension": "x",
         "orientation": "horizontal"
        }
       },
       "selected": null,
       "selected_style": {},
       "stroke": null,
       "tooltip": null,
       "tooltip_location": "mouse",
       "tooltip_style": {
        "opacity": 0.9
       },
       "unselected_style": {},
       "visible": true
      }
     },
     "409f8d112a7c4f449bf374c51960080f": {
      "model_module": "@jupyter-widgets/base",
      "model_module_version": "1.2.0",
      "model_name": "LayoutModel",
      "state": {
       "_model_module": "@jupyter-widgets/base",
       "_model_module_version": "1.2.0",
       "_model_name": "LayoutModel",
       "_view_count": null,
       "_view_module": "@jupyter-widgets/base",
       "_view_module_version": "1.2.0",
       "_view_name": "LayoutView",
       "align_content": null,
       "align_items": null,
       "align_self": null,
       "border": null,
       "bottom": null,
       "display": null,
       "flex": null,
       "flex_flow": null,
       "grid_area": null,
       "grid_auto_columns": null,
       "grid_auto_flow": null,
       "grid_auto_rows": null,
       "grid_column": null,
       "grid_gap": null,
       "grid_row": null,
       "grid_template_areas": null,
       "grid_template_columns": null,
       "grid_template_rows": null,
       "height": null,
       "justify_content": null,
       "justify_items": null,
       "left": null,
       "margin": null,
       "max_height": null,
       "max_width": null,
       "min_height": null,
       "min_width": null,
       "object_fit": null,
       "object_position": null,
       "order": null,
       "overflow": null,
       "overflow_x": null,
       "overflow_y": null,
       "padding": null,
       "right": null,
       "top": null,
       "visibility": null,
       "width": null
      }
     },
     "40f6f7f6b33b4429aeaca7098ae83016": {
      "model_module": "bqplot",
      "model_module_version": "^0.5.6",
      "model_name": "FigureModel",
      "state": {
       "_dom_classes": [],
       "_model_module": "bqplot",
       "_model_module_version": "^0.5.6",
       "_model_name": "FigureModel",
       "_view_count": null,
       "_view_module": "bqplot",
       "_view_module_version": "^0.5.6",
       "_view_name": "Figure",
       "animation_duration": 0,
       "axes": [],
       "background_style": {},
       "fig_margin": {
        "bottom": 1,
        "left": 1,
        "right": 1,
        "top": 1
       },
       "interaction": null,
       "layout": "IPY_MODEL_183cd53c4e434438993d27d3c05e89ec",
       "legend_location": "top-right",
       "legend_style": {},
       "legend_text": {},
       "marks": [
        "IPY_MODEL_870c5bbfa8c84098af1593dd9ed14df6"
       ],
       "max_aspect_ratio": 100.0,
       "min_aspect_ratio": 0.01,
       "padding_x": 0.0,
       "padding_y": 0.025,
       "pixel_ratio": null,
       "scale_x": "IPY_MODEL_6af9c47b5df44f209e786ca1ce01389d",
       "scale_y": "IPY_MODEL_09cf6f58c8e74ad4bec5522ed1af1ee8",
       "theme": "classic",
       "title": "Has Regional TAM Data?",
       "title_style": {}
      }
     },
     "47a1a057b9fe4808902f8d9e2b6a8844": {
      "buffers": [
       {
        "data": "AAAAAAAAIEAAAAAAAAAUQAAAAAAAABBAAAAAAAAAEEAAAAAAAAAQQAAAAAAAAAhAAAAAAAAACEAAAAAAAAAIQAAAAAAAAABAAAAAAAAA8D8AAAAAAADwPwAAAAAAAPA/AAAAAAAA8D8AAAAAAADwPwAAAAAAAPA/AAAAAAAA8D8AAAAAAADwPwAAAAAAAPA/AAAAAAAA8D8AAAAAAADwPwAAAAAAAPA/AAAAAAAA8D8AAAAAAADwPw==",
        "encoding": "base64",
        "path": [
         "y",
         "value"
        ]
       }
      ],
      "model_module": "bqplot",
      "model_module_version": "^0.5.6",
      "model_name": "BarsModel",
      "state": {
       "_model_module": "bqplot",
       "_model_module_version": "^0.5.6",
       "_model_name": "BarsModel",
       "_view_count": null,
       "_view_module": "bqplot",
       "_view_module_version": "^0.5.6",
       "_view_name": "Bars",
       "align": "center",
       "apply_clip": true,
       "base": 0.0,
       "color": null,
       "color_mode": "auto",
       "colors": [
        "steelblue"
       ],
       "display_legend": false,
       "enable_hover": true,
       "fill": true,
       "interactions": {
        "hover": "tooltip"
       },
       "label_display": false,
       "label_display_format": ".2f",
       "label_display_horizontal_offset": 0.0,
       "label_display_vertical_offset": 0.0,
       "label_font_style": {},
       "labels": [],
       "opacities": [],
       "orientation": "horizontal",
       "padding": 0.05,
       "preserve_domain": {},
       "scales": {
        "x": "IPY_MODEL_332669bad0644f9e86cd64fce12088b5",
        "y": "IPY_MODEL_d653faa4e12144bb8514bc1389fa25f3"
       },
       "scales_metadata": {
        "x": {
         "dimension": "x",
         "orientation": "vertical"
        },
        "y": {
         "dimension": "y",
         "orientation": "horizontal"
        }
       },
       "selected": null,
       "selected_style": {},
       "stroke": null,
       "stroke_width": 1.0,
       "tooltip": null,
       "tooltip_location": "mouse",
       "tooltip_style": {
        "opacity": 0.9
       },
       "type": "stacked",
       "unselected_style": {},
       "visible": true,
       "x": [
        "soln_fuel_efficiency_factor",
        "soln_energy_efficiency_factor",
        "soln_avg_annual_use",
        "soln_fuel_cost_per_funit",
        "soln_fixed_oper_cost_per_iunit",
        "conv_fixed_oper_cost_per_iunit",
        "conv_fuel_consumed_per_funit",
        "soln_var_oper_cost_per_funit",
        "soln_first_cost_efficiency_rate",
        "pds_2014_cost",
        "pds_adoption_s_curve_imitation",
        "conv_fuel_cost_per_funit",
        "conv_var_oper_cost_per_funit",
        "soln_indirect_co2_per_iunit",
        "soln_lifetime_capacity",
        "conv_indirect_co2_per_unit",
        "ref_2014_cost",
        "ch4_co2_per_twh",
        "soln_emissions_per_funit",
        "soln_annual_energy_used",
        "conv_annual_energy_used",
        "conv_2014_cost",
        "seq_rate_global"
       ],
       "y": {
        "dtype": "float64",
        "shape": [
         23
        ],
        "type": null
       }
      }
     },
     "48fc7314641e45169a683af618b4ffae": {
      "model_module": "bqplot",
      "model_module_version": "^0.5.6",
      "model_name": "AxisModel",
      "state": {
       "_model_module": "bqplot",
       "_model_module_version": "^0.5.6",
       "_model_name": "AxisModel",
       "_view_count": null,
       "_view_module": "bqplot",
       "_view_module_version": "^0.5.6",
       "_view_name": "Axis",
       "color": null,
       "grid_color": null,
       "grid_lines": "solid",
       "label": "R² value",
       "label_color": null,
       "label_location": "middle",
       "label_offset": null,
       "num_ticks": null,
       "offset": {},
       "orientation": "horizontal",
       "scale": "IPY_MODEL_52dc603d344d437e934897b3824b3aea",
       "side": null,
       "tick_format": ".1f",
       "tick_rotate": 0,
       "tick_style": {},
       "tick_values": null,
       "visible": true
      }
     },
     "495bf2eaff8744a989f2d763e22944b0": {
      "model_module": "@jupyter-widgets/controls",
      "model_module_version": "1.5.0",
      "model_name": "HBoxModel",
      "state": {
       "_dom_classes": [],
       "_model_module": "@jupyter-widgets/controls",
       "_model_module_version": "1.5.0",
       "_model_name": "HBoxModel",
       "_view_count": null,
       "_view_module": "@jupyter-widgets/controls",
       "_view_module_version": "1.5.0",
       "_view_name": "HBoxView",
       "box_style": "",
       "children": [
        "IPY_MODEL_4c539791b121406596b4342c4e1062cb",
        "IPY_MODEL_36114a172ee342849e4b3b05031a73ee"
       ],
       "layout": "IPY_MODEL_82f22be467e14eff93c55b8cf2fd3c04"
      }
     },
     "4c539791b121406596b4342c4e1062cb": {
      "model_module": "bqplot",
      "model_module_version": "^0.5.6",
      "model_name": "FigureModel",
      "state": {
       "_dom_classes": [],
       "_model_module": "bqplot",
       "_model_module_version": "^0.5.6",
       "_model_name": "FigureModel",
       "_view_count": null,
       "_view_module": "bqplot",
       "_view_module_version": "^0.5.6",
       "_view_name": "Figure",
       "animation_duration": 0,
       "axes": [],
       "background_style": {},
       "fig_margin": {
        "bottom": 1,
        "left": 1,
        "right": 1,
        "top": 1
       },
       "interaction": null,
       "layout": "IPY_MODEL_cab5ef98e05e4422ade2fd8d8e9b66a4",
       "legend_location": "top-right",
       "legend_style": {},
       "legend_text": {},
       "marks": [
        "IPY_MODEL_c7fec4294d6046d49c6da4045b735b9b"
       ],
       "max_aspect_ratio": 100.0,
       "min_aspect_ratio": 0.01,
       "padding_x": 0.0,
       "padding_y": 0.025,
       "pixel_ratio": null,
       "scale_x": "IPY_MODEL_ce0d5fe4f01e4121b9612f322bb4488f",
       "scale_y": "IPY_MODEL_a04a88ef7cd04aef9fa597bcada34ad3",
       "theme": "classic",
       "title": "Has Regional Adoption Data?",
       "title_style": {}
      }
     },
     "4cb1875dbec247369fa075c48cbb739f": {
      "model_module": "bqplot",
      "model_module_version": "^0.5.6",
      "model_name": "AxisModel",
      "state": {
       "_model_module": "bqplot",
       "_model_module_version": "^0.5.6",
       "_model_name": "AxisModel",
       "_view_count": null,
       "_view_module": "bqplot",
       "_view_module_version": "^0.5.6",
       "_view_name": "Axis",
       "color": null,
       "grid_color": null,
       "grid_lines": "solid",
       "label": "avg abatement cost",
       "label_color": null,
       "label_location": "middle",
       "label_offset": null,
       "num_ticks": null,
       "offset": {},
       "orientation": "horizontal",
       "scale": "IPY_MODEL_ea279c1fbbfa4fe1bc64b205d395c0e9",
       "side": null,
       "tick_format": null,
       "tick_rotate": 0,
       "tick_style": {},
       "tick_values": null,
       "visible": true
      }
     },
     "4e1397283d61469984c80936420a7785": {
      "model_module": "bqplot",
      "model_module_version": "^0.5.6",
      "model_name": "FigureModel",
      "state": {
       "_dom_classes": [],
       "_model_module": "bqplot",
       "_model_module_version": "^0.5.6",
       "_model_name": "FigureModel",
       "_view_count": null,
       "_view_module": "bqplot",
       "_view_module_version": "^0.5.6",
       "_view_name": "Figure",
       "animation_duration": 0,
       "axes": [
        "IPY_MODEL_21c3046f267040658dcf09f8e0f52c97",
        "IPY_MODEL_3ddd84ecfb6843fba5335906edafd06b"
       ],
       "background_style": {},
       "fig_margin": {
        "bottom": 60,
        "left": 60,
        "right": 60,
        "top": 60
       },
       "interaction": null,
       "layout": "IPY_MODEL_d7e24f3420694731b5796b7516c13dca",
       "legend_location": "top-right",
       "legend_style": {},
       "legend_text": {},
       "marks": [
        "IPY_MODEL_859fa2948da14cc2a14fcb965736e6bb"
       ],
       "max_aspect_ratio": 100.0,
       "min_aspect_ratio": 0.01,
       "padding_x": 0.0,
       "padding_y": 0.0,
       "pixel_ratio": null,
       "scale_x": "IPY_MODEL_b741cb8d13e94227848587a47b1adf72",
       "scale_y": "IPY_MODEL_8640514d38e947d499d7075ece29748e",
       "theme": "classic",
       "title": "Regional TAM as a % of World",
       "title_style": {}
      }
     },
     "50de32cb03f745419f2fdfe8236611bf": {
      "model_module": "bqplot",
      "model_module_version": "^0.5.6",
      "model_name": "LinearScaleModel",
      "state": {
       "_model_module": "bqplot",
       "_model_module_version": "^0.5.6",
       "_model_name": "LinearScaleModel",
       "_view_count": null,
       "_view_module": "bqplot",
       "_view_module_version": "^0.5.6",
       "_view_name": "LinearScale",
       "allow_padding": true,
       "max": null,
       "mid_range": 0.8,
       "min": null,
       "min_range": 0.6,
       "reverse": false,
       "stabilized": false
      }
     },
     "52dc603d344d437e934897b3824b3aea": {
      "model_module": "bqplot",
      "model_module_version": "^0.5.6",
      "model_name": "LinearScaleModel",
      "state": {
       "_model_module": "bqplot",
       "_model_module_version": "^0.5.6",
       "_model_name": "LinearScaleModel",
       "_view_count": null,
       "_view_module": "bqplot",
       "_view_module_version": "^0.5.6",
       "_view_name": "LinearScale",
       "allow_padding": true,
       "max": null,
       "mid_range": 0.8,
       "min": null,
       "min_range": 0.6,
       "reverse": false,
       "stabilized": false
      }
     },
     "5565710c2bbf49d3a2e0f4d75cb1ae5d": {
      "model_module": "@jupyter-widgets/base",
      "model_module_version": "1.2.0",
      "model_name": "LayoutModel",
      "state": {
       "_model_module": "@jupyter-widgets/base",
       "_model_module_version": "1.2.0",
       "_model_name": "LayoutModel",
       "_view_count": null,
       "_view_module": "@jupyter-widgets/base",
       "_view_module_version": "1.2.0",
       "_view_name": "LayoutView",
       "align_content": null,
       "align_items": null,
       "align_self": null,
       "border": null,
       "bottom": null,
       "display": null,
       "flex": null,
       "flex_flow": null,
       "grid_area": null,
       "grid_auto_columns": null,
       "grid_auto_flow": null,
       "grid_auto_rows": null,
       "grid_column": null,
       "grid_gap": null,
       "grid_row": null,
       "grid_template_areas": null,
       "grid_template_columns": null,
       "grid_template_rows": null,
       "height": null,
       "justify_content": null,
       "justify_items": null,
       "left": null,
       "margin": null,
       "max_height": null,
       "max_width": null,
       "min_height": null,
       "min_width": null,
       "object_fit": null,
       "object_position": null,
       "order": null,
       "overflow": null,
       "overflow_x": null,
       "overflow_y": null,
       "padding": null,
       "right": null,
       "top": null,
       "visibility": null,
       "width": null
      }
     },
     "5787cfb3ec6b42f48119c3d423c961bc": {
      "buffers": [
       {
        "data": "AAAAAAAAWUAAAAAAAABZQAAAAAAAAFlAAAAAAAAAWUAAAAAAAABZQGEGWip3wlhAwn5lE4z2V0AeOtsj4FBXQDa6Lq+lNFdAdAt9P/vMVkCHVd4rKmhWQMfprgA/x1VAZZT/eZZDVUAlYuG2APtTQPEiZoSajVJAa38Kh2XUUUCq/Kl0KG5OQGA38B8Bik1AY3bjRJSBSUC9EGPLETE+QA==",
        "encoding": "base64",
        "path": [
         "y",
         "value"
        ]
       }
      ],
      "model_module": "bqplot",
      "model_module_version": "^0.5.6",
      "model_name": "BarsModel",
      "state": {
       "_model_module": "bqplot",
       "_model_module_version": "^0.5.6",
       "_model_name": "BarsModel",
       "_view_count": null,
       "_view_module": "bqplot",
       "_view_module_version": "^0.5.6",
       "_view_name": "Bars",
       "align": "center",
       "apply_clip": true,
       "base": 0.0,
       "color": null,
       "color_mode": "auto",
       "colors": [
        "steelblue"
       ],
       "display_legend": false,
       "enable_hover": true,
       "fill": true,
       "interactions": {
        "hover": "tooltip"
       },
       "label_display": false,
       "label_display_format": ".2f",
       "label_display_horizontal_offset": 0.0,
       "label_display_vertical_offset": 0.0,
       "label_font_style": {},
       "labels": [],
       "opacities": [],
       "orientation": "horizontal",
       "padding": 0.05,
       "preserve_domain": {},
       "scales": {
        "x": "IPY_MODEL_1b1e2a114abf455aaede39f31d796e35",
        "y": "IPY_MODEL_d6da345c200c417b93f928aa7f3b8b5a"
       },
       "scales_metadata": {
        "x": {
         "dimension": "x",
         "orientation": "vertical"
        },
        "y": {
         "dimension": "y",
         "orientation": "horizontal"
        }
       },
       "selected": null,
       "selected_style": {},
       "stroke": null,
       "stroke_width": 1.0,
       "tooltip": null,
       "tooltip_location": "mouse",
       "tooltip_style": {
        "opacity": 0.9
       },
       "type": "stacked",
       "unselected_style": {},
       "visible": true,
       "x": [
        "afforestation",
        "treeintercropping",
        "riceintensification",
        "irrigationefficiency",
        "perennialbioenergy",
        "peatlands",
        "indigenouspeoplesland",
        "farmlandrestoration",
        "forestprotection",
        "nutrientmanagement",
        "tropicaltreestaples",
        "improvedrice",
        "tropicalforests",
        "bamboo",
        "temperateforests",
        "regenerativeagriculture",
        "managedgrazing",
        "silvopasture",
        "conservationagriculture",
        "multistrataagroforestry"
       ],
       "y": {
        "dtype": "float64",
        "shape": [
         20
        ],
        "type": null
       }
      }
     },
     "57d1275501d24798b80fbcaaecb0018e": {
      "model_module": "bqplot",
      "model_module_version": "^0.5.6",
      "model_name": "LinearScaleModel",
      "state": {
       "_model_module": "bqplot",
       "_model_module_version": "^0.5.6",
       "_model_name": "LinearScaleModel",
       "_view_count": null,
       "_view_module": "bqplot",
       "_view_module_version": "^0.5.6",
       "_view_name": "LinearScale",
       "allow_padding": false,
       "max": 1.0,
       "mid_range": 0.8,
       "min": 0.0,
       "min_range": 0.6,
       "reverse": false,
       "stabilized": false
      }
     },
     "5b98bec3e4144411abdbe59d80963d32": {
      "model_module": "bqplot",
      "model_module_version": "^0.5.6",
      "model_name": "LinearScaleModel",
      "state": {
       "_model_module": "bqplot",
       "_model_module_version": "^0.5.6",
       "_model_name": "LinearScaleModel",
       "_view_count": null,
       "_view_module": "bqplot",
       "_view_module_version": "^0.5.6",
       "_view_name": "LinearScale",
       "allow_padding": false,
       "max": 1.0,
       "mid_range": 0.8,
       "min": 0.0,
       "min_range": 0.6,
       "reverse": false,
       "stabilized": false
      }
     },
     "5dcc8ab5bf0c40faaf3f96359cae6692": {
      "model_module": "bqplot",
      "model_module_version": "^0.5.6",
      "model_name": "AxisModel",
      "state": {
       "_model_module": "bqplot",
       "_model_module_version": "^0.5.6",
       "_model_name": "AxisModel",
       "_view_count": null,
       "_view_module": "bqplot",
       "_view_module_version": "^0.5.6",
       "_view_name": "Axis",
       "color": null,
       "grid_color": null,
       "grid_lines": "solid",
       "label": "# scenarios",
       "label_color": null,
       "label_location": "middle",
       "label_offset": null,
       "num_ticks": null,
       "offset": {},
       "orientation": "vertical",
       "scale": "IPY_MODEL_981c14d1a17f48ea87fec08daf45fda2",
       "side": null,
       "tick_format": null,
       "tick_rotate": 0,
       "tick_style": {},
       "tick_values": null,
       "visible": true
      }
     },
     "6152ebeaec1d4e5f9ae47b4593486bdc": {
      "model_module": "@jupyter-widgets/base",
      "model_module_version": "1.2.0",
      "model_name": "LayoutModel",
      "state": {
       "_model_module": "@jupyter-widgets/base",
       "_model_module_version": "1.2.0",
       "_model_name": "LayoutModel",
       "_view_count": null,
       "_view_module": "@jupyter-widgets/base",
       "_view_module_version": "1.2.0",
       "_view_name": "LayoutView",
       "align_content": null,
       "align_items": null,
       "align_self": null,
       "border": null,
       "bottom": null,
       "display": null,
       "flex": null,
       "flex_flow": null,
       "grid_area": null,
       "grid_auto_columns": null,
       "grid_auto_flow": null,
       "grid_auto_rows": null,
       "grid_column": null,
       "grid_gap": null,
       "grid_row": null,
       "grid_template_areas": null,
       "grid_template_columns": null,
       "grid_template_rows": null,
       "height": null,
       "justify_content": null,
       "justify_items": null,
       "left": null,
       "margin": null,
       "max_height": null,
       "max_width": null,
       "min_height": null,
       "min_width": null,
       "object_fit": null,
       "object_position": null,
       "order": null,
       "overflow": null,
       "overflow_x": null,
       "overflow_y": null,
       "padding": null,
       "right": null,
       "top": null,
       "visibility": null,
       "width": "800px"
      }
     },
     "659658a220004e14bce0e1c56dadfda4": {
      "model_module": "bqplot",
      "model_module_version": "^0.5.6",
      "model_name": "LinearScaleModel",
      "state": {
       "_model_module": "bqplot",
       "_model_module_version": "^0.5.6",
       "_model_name": "LinearScaleModel",
       "_view_count": null,
       "_view_module": "bqplot",
       "_view_module_version": "^0.5.6",
       "_view_name": "LinearScale",
       "allow_padding": false,
       "max": 1.0,
       "mid_range": 0.8,
       "min": 0.0,
       "min_range": 0.6,
       "reverse": false,
       "stabilized": false
      }
     },
     "660628887054415a8cb0e686dbb656cb": {
      "model_module": "bqplot",
      "model_module_version": "^0.5.6",
      "model_name": "OrdinalScaleModel",
      "state": {
       "_model_module": "bqplot",
       "_model_module_version": "^0.5.6",
       "_model_name": "OrdinalScaleModel",
       "_view_count": null,
       "_view_module": "bqplot",
       "_view_module_version": "^0.5.6",
       "_view_name": "OrdinalScale",
       "allow_padding": true,
       "domain": [],
       "reverse": false
      }
     },
     "6af9c47b5df44f209e786ca1ce01389d": {
      "model_module": "bqplot",
      "model_module_version": "^0.5.6",
      "model_name": "LinearScaleModel",
      "state": {
       "_model_module": "bqplot",
       "_model_module_version": "^0.5.6",
       "_model_name": "LinearScaleModel",
       "_view_count": null,
       "_view_module": "bqplot",
       "_view_module_version": "^0.5.6",
       "_view_name": "LinearScale",
       "allow_padding": false,
       "max": 1.0,
       "mid_range": 0.8,
       "min": 0.0,
       "min_range": 0.6,
       "reverse": false,
       "stabilized": false
      }
     },
     "6ba8511f419445539fd73f898152d327": {
      "model_module": "@jupyter-widgets/base",
      "model_module_version": "1.2.0",
      "model_name": "LayoutModel",
      "state": {
       "_model_module": "@jupyter-widgets/base",
       "_model_module_version": "1.2.0",
       "_model_name": "LayoutModel",
       "_view_count": null,
       "_view_module": "@jupyter-widgets/base",
       "_view_module_version": "1.2.0",
       "_view_name": "LayoutView",
       "align_content": null,
       "align_items": null,
       "align_self": null,
       "border": null,
       "bottom": null,
       "display": null,
       "flex": null,
       "flex_flow": null,
       "grid_area": null,
       "grid_auto_columns": null,
       "grid_auto_flow": null,
       "grid_auto_rows": null,
       "grid_column": null,
       "grid_gap": null,
       "grid_row": null,
       "grid_template_areas": null,
       "grid_template_columns": null,
       "grid_template_rows": null,
       "height": "300px",
       "justify_content": null,
       "justify_items": null,
       "left": null,
       "margin": null,
       "max_height": null,
       "max_width": null,
       "min_height": null,
       "min_width": null,
       "object_fit": null,
       "object_position": null,
       "order": null,
       "overflow": null,
       "overflow_x": null,
       "overflow_y": null,
       "padding": null,
       "right": null,
       "top": null,
       "visibility": null,
       "width": "50%"
      }
     },
     "6bc9d16e9e0340fca15575f26d1d06be": {
      "model_module": "@jupyter-widgets/base",
      "model_module_version": "1.2.0",
      "model_name": "LayoutModel",
      "state": {
       "_model_module": "@jupyter-widgets/base",
       "_model_module_version": "1.2.0",
       "_model_name": "LayoutModel",
       "_view_count": null,
       "_view_module": "@jupyter-widgets/base",
       "_view_module_version": "1.2.0",
       "_view_name": "LayoutView",
       "align_content": null,
       "align_items": null,
       "align_self": null,
       "border": null,
       "bottom": null,
       "display": null,
       "flex": null,
       "flex_flow": null,
       "grid_area": null,
       "grid_auto_columns": null,
       "grid_auto_flow": null,
       "grid_auto_rows": null,
       "grid_column": null,
       "grid_gap": null,
       "grid_row": null,
       "grid_template_areas": null,
       "grid_template_columns": null,
       "grid_template_rows": null,
       "height": null,
       "justify_content": null,
       "justify_items": null,
       "left": null,
       "margin": null,
       "max_height": null,
       "max_width": null,
       "min_height": null,
       "min_width": null,
       "object_fit": null,
       "object_position": null,
       "order": null,
       "overflow": null,
       "overflow_x": null,
       "overflow_y": null,
       "padding": null,
       "right": null,
       "top": null,
       "visibility": null,
       "width": "800px"
      }
     },
     "6fd20275b7c94a61a0ca6470aca22329": {
      "buffers": [
       {
        "data": "",
        "encoding": "base64",
        "path": [
         "count",
         "value"
        ]
       },
       {
        "data": "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",
        "encoding": "base64",
        "path": [
         "sample",
         "value"
        ]
       }
      ],
      "model_module": "bqplot",
      "model_module_version": "^0.5.6",
      "model_name": "HistModel",
      "state": {
       "_model_module": "bqplot",
       "_model_module_version": "^0.5.6",
       "_model_name": "HistModel",
       "_view_count": null,
       "_view_module": "bqplot",
       "_view_module_version": "^0.5.6",
       "_view_name": "Hist",
       "apply_clip": true,
       "bins": 200,
       "colors": [
        "steelblue"
       ],
       "count": {
        "dtype": "float64",
        "shape": [
         0
        ],
        "type": null
       },
       "display_legend": false,
       "enable_hover": true,
       "interactions": {
        "hover": "tooltip"
       },
       "labels": [],
       "midpoints": [],
       "normalized": false,
       "opacities": [],
       "preserve_domain": {},
       "sample": {
        "dtype": "float64",
        "shape": [
         233
        ],
        "type": null
       },
       "scales": {
        "count": "IPY_MODEL_981c14d1a17f48ea87fec08daf45fda2",
        "sample": "IPY_MODEL_52dc603d344d437e934897b3824b3aea"
       },
       "scales_metadata": {
        "count": {
         "dimension": "y",
         "orientation": "vertical"
        },
        "sample": {
         "dimension": "x",
         "orientation": "horizontal"
        }
       },
       "selected": null,
       "selected_style": {},
       "stroke": null,
       "tooltip": null,
       "tooltip_location": "mouse",
       "tooltip_style": {
        "opacity": 0.9
       },
       "unselected_style": {},
       "visible": true
      }
     },
     "7011a01ccb234a33a8f020968fd87b97": {
      "buffers": [
       {
        "data": "CQAAAEYAAAA=",
        "encoding": "base64",
        "path": [
         "sizes",
         "value"
        ]
       }
      ],
      "model_module": "bqplot",
      "model_module_version": "^0.5.6",
      "model_name": "PieModel",
      "state": {
       "_model_module": "bqplot",
       "_model_module_version": "^0.5.6",
       "_model_name": "PieModel",
       "_view_count": null,
       "_view_module": "bqplot",
       "_view_module_version": "^0.5.6",
       "_view_name": "Pie",
       "apply_clip": true,
       "color": null,
       "colors": [
        "#6495ED",
        "#fcea3f"
       ],
       "display_labels": "inside",
       "display_legend": false,
       "display_values": true,
       "enable_hover": true,
       "end_angle": 420.0,
       "font_size": "12px",
       "font_weight": "normal",
       "inner_radius": 0.1,
       "interactions": {
        "hover": "tooltip"
       },
       "label_color": null,
       "labels": [
        "Excel only",
        "Python & Excel"
       ],
       "opacities": [],
       "preserve_domain": {},
       "radius": 110.0,
       "scales": {},
       "scales_metadata": {
        "color": {
         "dimension": "color"
        }
       },
       "selected": null,
       "selected_style": {},
       "sizes": {
        "dtype": "int32",
        "shape": [
         2
        ],
        "type": null
       },
       "sort": false,
       "start_angle": 60.0,
       "stroke": null,
       "tooltip": null,
       "tooltip_location": "mouse",
       "tooltip_style": {
        "opacity": 0.9
       },
       "unselected_style": {},
       "values_format": "d",
       "visible": true,
       "x": 0.5,
       "y": 0.5
      }
     },
     "71ae068fd8f3403986aa325f92f5e00b": {
      "buffers": [
       {
        "data": "8AAAAC8AAAA=",
        "encoding": "base64",
        "path": [
         "sizes",
         "value"
        ]
       }
      ],
      "model_module": "bqplot",
      "model_module_version": "^0.5.6",
      "model_name": "PieModel",
      "state": {
       "_model_module": "bqplot",
       "_model_module_version": "^0.5.6",
       "_model_name": "PieModel",
       "_view_count": null,
       "_view_module": "bqplot",
       "_view_module_version": "^0.5.6",
       "_view_name": "Pie",
       "apply_clip": true,
       "color": null,
       "colors": [
        "#1f77b4",
        "#ff7f0e",
        "#2ca02c",
        "#d62728",
        "#9467bd",
        "#8c564b",
        "#e377c2",
        "#7f7f7f",
        "#bcbd22",
        "#17becf"
       ],
       "display_labels": "inside",
       "display_legend": false,
       "display_values": true,
       "enable_hover": true,
       "end_angle": 360.0,
       "font_size": "12px",
       "font_weight": "normal",
       "inner_radius": 0.1,
       "interactions": {
        "hover": "tooltip"
       },
       "label_color": null,
       "labels": [
        "Default",
        "Custom"
       ],
       "opacities": [],
       "preserve_domain": {},
       "radius": 110.0,
       "scales": {},
       "scales_metadata": {
        "color": {
         "dimension": "color"
        }
       },
       "selected": null,
       "selected_style": {},
       "sizes": {
        "dtype": "int32",
        "shape": [
         2
        ],
        "type": null
       },
       "sort": false,
       "start_angle": 0.0,
       "stroke": null,
       "tooltip": null,
       "tooltip_location": "mouse",
       "tooltip_style": {
        "opacity": 0.9
       },
       "unselected_style": {},
       "values_format": "d",
       "visible": true,
       "x": 0.5,
       "y": 0.5
      }
     },
     "71b6b35e49b54f21861313c001174acd": {
      "buffers": [
       {
        "data": "DQAAAEcAAAADAAAABwAAAMEAAAAAAAAA",
        "encoding": "base64",
        "path": [
         "sizes",
         "value"
        ]
       }
      ],
      "model_module": "bqplot",
      "model_module_version": "^0.5.6",
      "model_name": "PieModel",
      "state": {
       "_model_module": "bqplot",
       "_model_module_version": "^0.5.6",
       "_model_name": "PieModel",
       "_view_count": null,
       "_view_module": "bqplot",
       "_view_module_version": "^0.5.6",
       "_view_name": "Pie",
       "apply_clip": true,
       "color": null,
       "colors": [
        "#1f77b4",
        "#ff7f0e",
        "#2ca02c",
        "#d62728",
        "#9467bd",
        "#8c564b",
        "#e377c2",
        "#7f7f7f",
        "#bcbd22",
        "#17becf"
       ],
       "display_labels": "outside",
       "display_legend": false,
       "display_values": true,
       "enable_hover": true,
       "end_angle": 360.0,
       "font_size": "12px",
       "font_weight": "normal",
       "inner_radius": 0.1,
       "interactions": {
        "hover": "tooltip"
       },
       "label_color": null,
       "labels": [
        "Linear",
        "Existing Adoption Prognostications",
        "Bass Diffusion S-Curve",
        "Logistic S-Curve",
        "Fully Customized PDS",
        "Customized S-Curve Adoption"
       ],
       "opacities": [],
       "preserve_domain": {},
       "radius": 140.0,
       "scales": {},
       "scales_metadata": {
        "color": {
         "dimension": "color"
        }
       },
       "selected": null,
       "selected_style": {},
       "sizes": {
        "dtype": "int32",
        "shape": [
         6
        ],
        "type": null
       },
       "sort": false,
       "start_angle": 0.0,
       "stroke": null,
       "tooltip": null,
       "tooltip_location": "mouse",
       "tooltip_style": {
        "opacity": 0.9
       },
       "unselected_style": {},
       "values_format": "d",
       "visible": true,
       "x": 0.5,
       "y": 0.5
      }
     },
     "767764a5b79d4ac3bd41b68d46bb6722": {
      "model_module": "bqplot",
      "model_module_version": "^0.5.6",
      "model_name": "LinearScaleModel",
      "state": {
       "_model_module": "bqplot",
       "_model_module_version": "^0.5.6",
       "_model_name": "LinearScaleModel",
       "_view_count": null,
       "_view_module": "bqplot",
       "_view_module_version": "^0.5.6",
       "_view_name": "LinearScale",
       "allow_padding": false,
       "max": 1.0,
       "mid_range": 0.8,
       "min": 0.0,
       "min_range": 0.6,
       "reverse": false,
       "stabilized": false
      }
     },
     "7b8a90cd864043a1a1d6f57ee68f430a": {
      "model_module": "bqplot",
      "model_module_version": "^0.5.6",
      "model_name": "LinearScaleModel",
      "state": {
       "_model_module": "bqplot",
       "_model_module_version": "^0.5.6",
       "_model_name": "LinearScaleModel",
       "_view_count": null,
       "_view_module": "bqplot",
       "_view_module_version": "^0.5.6",
       "_view_name": "LinearScale",
       "allow_padding": false,
       "max": 1.0,
       "mid_range": 0.8,
       "min": 0.0,
       "min_range": 0.6,
       "reverse": false,
       "stabilized": false
      }
     },
     "7e0d8b5d93824f079cb22b479d197ce5": {
      "model_module": "bqplot",
      "model_module_version": "^0.5.6",
      "model_name": "LinearScaleModel",
      "state": {
       "_model_module": "bqplot",
       "_model_module_version": "^0.5.6",
       "_model_name": "LinearScaleModel",
       "_view_count": null,
       "_view_module": "bqplot",
       "_view_module_version": "^0.5.6",
       "_view_name": "LinearScale",
       "allow_padding": false,
       "max": 1.0,
       "mid_range": 0.8,
       "min": 0.0,
       "min_range": 0.6,
       "reverse": false,
       "stabilized": false
      }
     },
     "7e1830b10a0142ee9d9328d848f062eb": {
      "model_module": "@jupyter-widgets/controls",
      "model_module_version": "1.5.0",
      "model_name": "HBoxModel",
      "state": {
       "_dom_classes": [],
       "_model_module": "@jupyter-widgets/controls",
       "_model_module_version": "1.5.0",
       "_model_name": "HBoxModel",
       "_view_count": null,
       "_view_module": "@jupyter-widgets/controls",
       "_view_module_version": "1.5.0",
       "_view_name": "HBoxView",
       "box_style": "",
       "children": [
        "IPY_MODEL_03df5a2f962e405fb8b6edc8b3eda140",
        "IPY_MODEL_af52b89639fe453ba0074c94f3aea057"
       ],
       "layout": "IPY_MODEL_c5d1ae337a20434eae0b44c7b416512d"
      }
     },
     "7ecd341187e949c68985c25697abf53a": {
      "buffers": [
       {
        "data": "",
        "encoding": "base64",
        "path": [
         "count",
         "value"
        ]
       },
       {
        "data": "et+ZCMy4UkDsqo8yHBpUQP7//////1hAtKyoMiBQV0A3IdJdwGhTQP+AKVnltE1AWbtpGxRQ2D9Zu2kbFFDYP1Z+Sa9F3OI/WbtpGxRQ2D9Zu2kbFFDYP1m7aRsUUNg/Vn5Jr0Xc4j9Zu2kbFFDYP1m7aRsUUNg/7Zh1fWIQeECPv2jWCENlQBu5iRTG5GlAG7mJFMbkaUBKO2TJqB+BQI+/aNYIQ2VAJLjfBagJUkAAAAAAAABZQAAAAAAAAFlAAAAAAAAAWUDVDiKmsBRWQFrOKqQp+2ZAAu3czKJ2YUAC7dzMonZhQALt3MyidmFAdte8XSQqXEB217xdJCpcQAAAAAAAAFlAAAAAAAAAWUBt/hUAAABZQAUQTiHOQFBAQRuGKr0rZUCcYLc7G+RgQB7bwyo4w2FA675Stni4W0Ar96n1hFZMQOFD6+w5C1FAKh4QbKZGQ0D9//////9YQNOH+u9TildA04f671OKV0DDeMuhlbwDQH8SWUNWOgdAAAAAAAAA+H9/EllDVjoHQMN4y6GVvANAAAAAAAAA+H/8e3iEnsoIQOcr4wD4bV5A5yvjAPhtXkCU1mdwDtlUQPq8kpE/i1tA+rySkT+LW0D6vJKRP4tbQEgD+50SFldASAP7nRIWV0Aar2D/CU5YQF2R7PCKAFBArU2SCkS5T0BKfqj4xFxLQISd/zdKkeJArU2SCkS5T0CtTZIKRLlPQAAAAAAAAFlAIgAAAAAAWUAAAAAAAABZQLuRK+o1GlpAiXXbBf6yXkC7kSvqNRpaQCLHQ7PRn0xA5NtdWKuOTkDk211Yq45OQCOgiNGkbTxAI6CI0aRtPEArjdBxfVdhQOLi+////1hA/v//////WEAAAAAAAABZQAAAAAAAAFlAgm4/7kx2WEAK03GvhbdXQCB+TpYmFVhAYPEKHWNsV0A=",
        "encoding": "base64",
        "path": [
         "sample",
         "value"
        ]
       }
      ],
      "model_module": "bqplot",
      "model_module_version": "^0.5.6",
      "model_name": "HistModel",
      "state": {
       "_model_module": "bqplot",
       "_model_module_version": "^0.5.6",
       "_model_name": "HistModel",
       "_view_count": null,
       "_view_module": "bqplot",
       "_view_module_version": "^0.5.6",
       "_view_name": "Hist",
       "apply_clip": true,
       "bins": 100,
       "colors": [
        "steelblue"
       ],
       "count": {
        "dtype": "float64",
        "shape": [
         0
        ],
        "type": null
       },
       "display_legend": false,
       "enable_hover": true,
       "interactions": {
        "hover": "tooltip"
       },
       "labels": [],
       "midpoints": [],
       "normalized": false,
       "opacities": [],
       "preserve_domain": {},
       "sample": {
        "dtype": "float64",
        "shape": [
         88
        ],
        "type": null
       },
       "scales": {
        "count": "IPY_MODEL_0a6f20089d854d3999c28554daf22dcd",
        "sample": "IPY_MODEL_b52791b427e84b5791ae1089476aec83"
       },
       "scales_metadata": {
        "count": {
         "dimension": "y",
         "orientation": "vertical"
        },
        "sample": {
         "dimension": "x",
         "orientation": "horizontal"
        }
       },
       "selected": null,
       "selected_style": {},
       "stroke": null,
       "tooltip": null,
       "tooltip_location": "mouse",
       "tooltip_style": {
        "opacity": 0.9
       },
       "unselected_style": {},
       "visible": true
      }
     },
     "82f22be467e14eff93c55b8cf2fd3c04": {
      "model_module": "@jupyter-widgets/base",
      "model_module_version": "1.2.0",
      "model_name": "LayoutModel",
      "state": {
       "_model_module": "@jupyter-widgets/base",
       "_model_module_version": "1.2.0",
       "_model_name": "LayoutModel",
       "_view_count": null,
       "_view_module": "@jupyter-widgets/base",
       "_view_module_version": "1.2.0",
       "_view_name": "LayoutView",
       "align_content": null,
       "align_items": null,
       "align_self": null,
       "border": null,
       "bottom": null,
       "display": null,
       "flex": null,
       "flex_flow": null,
       "grid_area": null,
       "grid_auto_columns": null,
       "grid_auto_flow": null,
       "grid_auto_rows": null,
       "grid_column": null,
       "grid_gap": null,
       "grid_row": null,
       "grid_template_areas": null,
       "grid_template_columns": null,
       "grid_template_rows": null,
       "height": null,
       "justify_content": null,
       "justify_items": null,
       "left": null,
       "margin": null,
       "max_height": null,
       "max_width": null,
       "min_height": null,
       "min_width": null,
       "object_fit": null,
       "object_position": null,
       "order": null,
       "overflow": null,
       "overflow_x": null,
       "overflow_y": null,
       "padding": null,
       "right": null,
       "top": null,
       "visibility": null,
       "width": null
      }
     },
     "859fa2948da14cc2a14fcb965736e6bb": {
      "buffers": [
       {
        "data": "",
        "encoding": "base64",
        "path": [
         "count",
         "value"
        ]
       },
       {
        "data": "AAAAAAAA+H8AAAAAAAD4f6rf4IkEulhAAAAAAAAA+H8AAAAAAAD4fwAAAAAAAPh/AiZ8kznhUUACJnyTOeFRQAImfJM54VFAAiZ8kznhUUAPKHz693lbQA8ofPr3eVtAAiZ8kznhUUAPKHz693lbQAImfJM54VFAWtW/5tsEWUBa1b/m2wRZQFrVv+bbBFlAAiZ8kznhUUACJnyTOeFRQA8ofPr3eVtADyh8+vd5W0ACJnyTOeFRQAImfJM54VFAAAAAAAAA+H85Gcq/DBVUQDkZyr8MFVRAORnKvwwVVEDwLc0N+KhdQPAtzQ34qF1A8C3NDfioXUAPKHz693lbQAImfJM54VFADyh8+vd5W0ACJnyTOeFRQAImfJM54VFAAiZ8kznhUUAAAAAAAAD4fwAAAAAAAPh/AAAAAAAA+H8QA6Jh0zRkQBADomHTNGRAEAOiYdM0ZEAFEE4hzkBQQAUQTiHOQFBABRBOIc5AUEAAAAAAAAD4fwAAAAAAAPh/AAAAAAAA+H8AAAAAAAD4fwAAAAAAAPh/AAAAAAAA+H8CJnyTOeFRQAImfJM54VFADyh8+vd5W0Aw8DXCK+RgQDDwNcIr5GBAMPA1wivkYEDrvlK2eLhbQOu+UrZ4uFtA675Stni4W0AAAAAAAAD4fwAAAAAAAPh/AAAAAAAA+H8AAAAAAAD4fwAAAAAAAPh/AAAAAAAA+H8CJnyTOeFRQA8ofPr3eVtAAiZ8kznhUUAAAAAAAAD4fwAAAAAAAPh/AAAAAAAA+H8CJnyTOeFRQAImfJM54VFADyh8+vd5W0ACJnyTOeFRQAImfJM54VFADyh8+vd5W0APKHz693lbQA8ofPr3eVtA5yvjAPhtXkDnK+MA+G1eQOcr4wD4bV5A+rySkT+LW0D6vJKRP4tbQPq8kpE/i1tAAAAAAAAA+H8AAAAAAAD4fwAAAAAAAPh/XZHs8IoAUEBdkezwigBQQF2R7PCKAFBAAiZ8kznhUUACJnyTOeFRQA8ofPr3eVtAAiZ8kznhUUACJnyTOeFRQA8ofPr3eVtAAAAAAAAA+H8AAAAAAAD4fwAAAAAAAPh/Dyh8+vd5W0APKHz693lbQAImfJM54VFAAiZ8kznhUUACJnyTOeFRQAAAAAAAAPh/AAAAAAAA+H8AAAAAAAD4fwImfJM54VFADyh8+vd5W0APKHz693lbQAImfJM54VFADyh8+vd5W0APKHz693lbQAImfJM54VFAAiZ8kznhUUAAAAAAAAD4fwAAAAAAAPh/AAAAAAAA+H8AAAAAAAD4fwAAAAAAAPh/AAAAAAAA+H9HTliay+ZeQEdOWJrL5l5AR05YmsvmXkAAAAAAAAD4fwAAAAAAAPh/AAAAAAAA+H8AAAAAAAD4fwAAAAAAAPh/AAAAAAAA+H8AAAAAAAD4fwAAAAAAAPh/AAAAAAAA+H/YMusQAp5WQEoGVoO8XFdAcR3gDuEyV0C1im58MV1XQAMBTWBBaFhARpUkI9RbWEAPKHz693lbQAImfJM54VFAAiZ8kznhUUAAAAAAAAD4fwAAAAAAAPh/AAAAAAAA+H8AAAAAAAD4fwAAAAAAAPh/AAAAAAAA+H8AAAAAAAD4fwAAAAAAAPh/AAAAAAAA+H8AAAAAAAD4fwAAAAAAAPh/AAAAAAAA+H8AAAAAAAD4fwAAAAAAAPh/AAAAAAAA+H8AAAAAAAD4fwAAAAAAAPh/AAAAAAAA+H+1im58MV1XQAMBTWBBaFhARpUkI9RbWECO/U4bt/JaQI79Thu38lpAjv1OG7fyWkCT1ujjRTBYQJPW6ONFMFhAk9bo40UwWEACJnyTOeFRQA8ofPr3eVtAAiZ8kznhUUAAAAAAAAD4fwAAAAAAAPh/AAAAAAAA+H8=",
        "encoding": "base64",
        "path": [
         "sample",
         "value"
        ]
       }
      ],
      "model_module": "bqplot",
      "model_module_version": "^0.5.6",
      "model_name": "HistModel",
      "state": {
       "_model_module": "bqplot",
       "_model_module_version": "^0.5.6",
       "_model_name": "HistModel",
       "_view_count": null,
       "_view_module": "bqplot",
       "_view_module_version": "^0.5.6",
       "_view_name": "Hist",
       "apply_clip": true,
       "bins": 50,
       "colors": [
        "steelblue"
       ],
       "count": {
        "dtype": "float64",
        "shape": [
         0
        ],
        "type": null
       },
       "display_legend": false,
       "enable_hover": true,
       "interactions": {
        "hover": "tooltip"
       },
       "labels": [],
       "midpoints": [],
       "normalized": false,
       "opacities": [],
       "preserve_domain": {},
       "sample": {
        "dtype": "float64",
        "shape": [
         178
        ],
        "type": null
       },
       "scales": {
        "count": "IPY_MODEL_177818201c3747f58e3cfea504bd1f66",
        "sample": "IPY_MODEL_22147f3d38904a5bbcb926496dc84ed3"
       },
       "scales_metadata": {
        "count": {
         "dimension": "y",
         "orientation": "vertical"
        },
        "sample": {
         "dimension": "x",
         "orientation": "horizontal"
        }
       },
       "selected": null,
       "selected_style": {},
       "stroke": null,
       "tooltip": null,
       "tooltip_location": "mouse",
       "tooltip_style": {
        "opacity": 0.9
       },
       "unselected_style": {},
       "visible": true
      }
     },
     "8640514d38e947d499d7075ece29748e": {
      "model_module": "bqplot",
      "model_module_version": "^0.5.6",
      "model_name": "LinearScaleModel",
      "state": {
       "_model_module": "bqplot",
       "_model_module_version": "^0.5.6",
       "_model_name": "LinearScaleModel",
       "_view_count": null,
       "_view_module": "bqplot",
       "_view_module_version": "^0.5.6",
       "_view_name": "LinearScale",
       "allow_padding": false,
       "max": 1.0,
       "mid_range": 0.8,
       "min": 0.0,
       "min_range": 0.6,
       "reverse": false,
       "stabilized": false
      }
     },
     "870c5bbfa8c84098af1593dd9ed14df6": {
      "buffers": [
       {
        "data": "sgAAADgAAAA=",
        "encoding": "base64",
        "path": [
         "sizes",
         "value"
        ]
       }
      ],
      "model_module": "bqplot",
      "model_module_version": "^0.5.6",
      "model_name": "PieModel",
      "state": {
       "_model_module": "bqplot",
       "_model_module_version": "^0.5.6",
       "_model_name": "PieModel",
       "_view_count": null,
       "_view_module": "bqplot",
       "_view_module_version": "^0.5.6",
       "_view_name": "Pie",
       "apply_clip": true,
       "color": null,
       "colors": [
        "Green",
        "Red"
       ],
       "display_labels": "inside",
       "display_legend": false,
       "display_values": true,
       "enable_hover": true,
       "end_angle": 360.0,
       "font_size": "12px",
       "font_weight": "normal",
       "inner_radius": 0.1,
       "interactions": {
        "hover": "tooltip"
       },
       "label_color": null,
       "labels": [
        "YES",
        "NO"
       ],
       "opacities": [],
       "preserve_domain": {},
       "radius": 110.0,
       "scales": {},
       "scales_metadata": {
        "color": {
         "dimension": "color"
        }
       },
       "selected": null,
       "selected_style": {},
       "sizes": {
        "dtype": "int32",
        "shape": [
         2
        ],
        "type": null
       },
       "sort": false,
       "start_angle": 0.0,
       "stroke": null,
       "tooltip": null,
       "tooltip_location": "mouse",
       "tooltip_style": {
        "opacity": 0.9
       },
       "unselected_style": {},
       "values_format": "d",
       "visible": true,
       "x": 0.5,
       "y": 0.5
      }
     },
     "886b3769d3c1496eaa25f7b78f663e9d": {
      "model_module": "bqplot",
      "model_module_version": "^0.5.6",
      "model_name": "FigureModel",
      "state": {
       "_dom_classes": [],
       "_model_module": "bqplot",
       "_model_module_version": "^0.5.6",
       "_model_name": "FigureModel",
       "_view_count": null,
       "_view_module": "bqplot",
       "_view_module_version": "^0.5.6",
       "_view_name": "Figure",
       "animation_duration": 0,
       "axes": [
        "IPY_MODEL_d4203fc07ef04698b97f78b90c94fcd1",
        "IPY_MODEL_4cb1875dbec247369fa075c48cbb739f"
       ],
       "background_style": {},
       "fig_margin": {
        "bottom": 60,
        "left": 200,
        "right": 60,
        "top": 60
       },
       "interaction": null,
       "layout": "IPY_MODEL_409f8d112a7c4f449bf374c51960080f",
       "legend_location": "top-right",
       "legend_style": {},
       "legend_text": {},
       "marks": [
        "IPY_MODEL_3ae51698191b40c38317f488ee4bf089"
       ],
       "max_aspect_ratio": 100.0,
       "min_aspect_ratio": 0.01,
       "padding_x": 0.0,
       "padding_y": 0.0,
       "pixel_ratio": null,
       "scale_x": "IPY_MODEL_f0d6f9e4b9634d5e80eda4e472c2f08c",
       "scale_y": "IPY_MODEL_aad29866391a461ab8fea21b8d207994",
       "theme": "classic",
       "title": "Average abatement cost ($/tCO2)",
       "title_style": {}
      }
     },
     "8db25f81e99f4e5aa88a8e062bb90ed0": {
      "model_module": "bqplot",
      "model_module_version": "^0.5.6",
      "model_name": "LinearScaleModel",
      "state": {
       "_model_module": "bqplot",
       "_model_module_version": "^0.5.6",
       "_model_name": "LinearScaleModel",
       "_view_count": null,
       "_view_module": "bqplot",
       "_view_module_version": "^0.5.6",
       "_view_name": "LinearScale",
       "allow_padding": false,
       "max": 1.0,
       "mid_range": 0.8,
       "min": 0.0,
       "min_range": 0.6,
       "reverse": false,
       "stabilized": false
      }
     },
     "8e4a25004bf844deb683adc740735eba": {
      "model_module": "bqplot",
      "model_module_version": "^0.5.6",
      "model_name": "LinearScaleModel",
      "state": {
       "_model_module": "bqplot",
       "_model_module_version": "^0.5.6",
       "_model_name": "LinearScaleModel",
       "_view_count": null,
       "_view_module": "bqplot",
       "_view_module_version": "^0.5.6",
       "_view_name": "LinearScale",
       "allow_padding": false,
       "max": 1.0,
       "mid_range": 0.8,
       "min": 0.0,
       "min_range": 0.6,
       "reverse": false,
       "stabilized": false
      }
     },
     "975330ae30844025830a6a40c54eba25": {
      "model_module": "@jupyter-widgets/base",
      "model_module_version": "1.2.0",
      "model_name": "LayoutModel",
      "state": {
       "_model_module": "@jupyter-widgets/base",
       "_model_module_version": "1.2.0",
       "_model_name": "LayoutModel",
       "_view_count": null,
       "_view_module": "@jupyter-widgets/base",
       "_view_module_version": "1.2.0",
       "_view_name": "LayoutView",
       "align_content": null,
       "align_items": null,
       "align_self": null,
       "border": null,
       "bottom": null,
       "display": null,
       "flex": null,
       "flex_flow": null,
       "grid_area": null,
       "grid_auto_columns": null,
       "grid_auto_flow": null,
       "grid_auto_rows": null,
       "grid_column": null,
       "grid_gap": null,
       "grid_row": null,
       "grid_template_areas": null,
       "grid_template_columns": null,
       "grid_template_rows": null,
       "height": null,
       "justify_content": null,
       "justify_items": null,
       "left": null,
       "margin": null,
       "max_height": null,
       "max_width": null,
       "min_height": null,
       "min_width": null,
       "object_fit": null,
       "object_position": null,
       "order": null,
       "overflow": null,
       "overflow_x": null,
       "overflow_y": null,
       "padding": null,
       "right": null,
       "top": null,
       "visibility": null,
       "width": null
      }
     },
     "981c14d1a17f48ea87fec08daf45fda2": {
      "model_module": "bqplot",
      "model_module_version": "^0.5.6",
      "model_name": "LinearScaleModel",
      "state": {
       "_model_module": "bqplot",
       "_model_module_version": "^0.5.6",
       "_model_name": "LinearScaleModel",
       "_view_count": null,
       "_view_module": "bqplot",
       "_view_module_version": "^0.5.6",
       "_view_name": "LinearScale",
       "allow_padding": true,
       "max": null,
       "mid_range": 0.8,
       "min": null,
       "min_range": 0.6,
       "reverse": false,
       "stabilized": false
      }
     },
     "99e616bfc2d94793b298790c4fa2f6fd": {
      "model_module": "@jupyter-widgets/base",
      "model_module_version": "1.2.0",
      "model_name": "LayoutModel",
      "state": {
       "_model_module": "@jupyter-widgets/base",
       "_model_module_version": "1.2.0",
       "_model_name": "LayoutModel",
       "_view_count": null,
       "_view_module": "@jupyter-widgets/base",
       "_view_module_version": "1.2.0",
       "_view_name": "LayoutView",
       "align_content": null,
       "align_items": null,
       "align_self": null,
       "border": null,
       "bottom": null,
       "display": null,
       "flex": null,
       "flex_flow": null,
       "grid_area": null,
       "grid_auto_columns": null,
       "grid_auto_flow": null,
       "grid_auto_rows": null,
       "grid_column": null,
       "grid_gap": null,
       "grid_row": null,
       "grid_template_areas": null,
       "grid_template_columns": null,
       "grid_template_rows": null,
       "height": null,
       "justify_content": null,
       "justify_items": null,
       "left": null,
       "margin": null,
       "max_height": null,
       "max_width": null,
       "min_height": null,
       "min_width": null,
       "object_fit": null,
       "object_position": null,
       "order": null,
       "overflow": null,
       "overflow_x": null,
       "overflow_y": null,
       "padding": null,
       "right": null,
       "top": null,
       "visibility": null,
       "width": null
      }
     },
     "a04a88ef7cd04aef9fa597bcada34ad3": {
      "model_module": "bqplot",
      "model_module_version": "^0.5.6",
      "model_name": "LinearScaleModel",
      "state": {
       "_model_module": "bqplot",
       "_model_module_version": "^0.5.6",
       "_model_name": "LinearScaleModel",
       "_view_count": null,
       "_view_module": "bqplot",
       "_view_module_version": "^0.5.6",
       "_view_name": "LinearScale",
       "allow_padding": false,
       "max": 1.0,
       "mid_range": 0.8,
       "min": 0.0,
       "min_range": 0.6,
       "reverse": false,
       "stabilized": false
      }
     },
     "a0922434b8814f099ad275490ab66b06": {
      "model_module": "bqplot",
      "model_module_version": "^0.5.6",
      "model_name": "LinearScaleModel",
      "state": {
       "_model_module": "bqplot",
       "_model_module_version": "^0.5.6",
       "_model_name": "LinearScaleModel",
       "_view_count": null,
       "_view_module": "bqplot",
       "_view_module_version": "^0.5.6",
       "_view_name": "LinearScale",
       "allow_padding": true,
       "max": null,
       "mid_range": 0.8,
       "min": null,
       "min_range": 0.6,
       "reverse": false,
       "stabilized": false
      }
     },
     "a20bc48f44ea4c679fed0c7385738cd9": {
      "model_module": "@jupyter-widgets/base",
      "model_module_version": "1.2.0",
      "model_name": "LayoutModel",
      "state": {
       "_model_module": "@jupyter-widgets/base",
       "_model_module_version": "1.2.0",
       "_model_name": "LayoutModel",
       "_view_count": null,
       "_view_module": "@jupyter-widgets/base",
       "_view_module_version": "1.2.0",
       "_view_name": "LayoutView",
       "align_content": null,
       "align_items": null,
       "align_self": null,
       "border": null,
       "bottom": null,
       "display": null,
       "flex": null,
       "flex_flow": null,
       "grid_area": null,
       "grid_auto_columns": null,
       "grid_auto_flow": null,
       "grid_auto_rows": null,
       "grid_column": null,
       "grid_gap": null,
       "grid_row": null,
       "grid_template_areas": null,
       "grid_template_columns": null,
       "grid_template_rows": null,
       "height": null,
       "justify_content": null,
       "justify_items": null,
       "left": null,
       "margin": null,
       "max_height": null,
       "max_width": null,
       "min_height": null,
       "min_width": null,
       "object_fit": null,
       "object_position": null,
       "order": null,
       "overflow": null,
       "overflow_x": null,
       "overflow_y": null,
       "padding": null,
       "right": null,
       "top": null,
       "visibility": null,
       "width": null
      }
     },
     "a8043605c6b64e5abfe8ae8817eb0e04": {
      "model_module": "bqplot",
      "model_module_version": "^0.5.6",
      "model_name": "LinearScaleModel",
      "state": {
       "_model_module": "bqplot",
       "_model_module_version": "^0.5.6",
       "_model_name": "LinearScaleModel",
       "_view_count": null,
       "_view_module": "bqplot",
       "_view_module_version": "^0.5.6",
       "_view_name": "LinearScale",
       "allow_padding": false,
       "max": 1.0,
       "mid_range": 0.8,
       "min": 0.0,
       "min_range": 0.6,
       "reverse": false,
       "stabilized": false
      }
     },
     "a88e70344d5e4be88c5bdde7ebbb7aa5": {
      "buffers": [
       {
        "data": "CQAAAAsAAAA=",
        "encoding": "base64",
        "path": [
         "sizes",
         "value"
        ]
       }
      ],
      "model_module": "bqplot",
      "model_module_version": "^0.5.6",
      "model_name": "PieModel",
      "state": {
       "_model_module": "bqplot",
       "_model_module_version": "^0.5.6",
       "_model_name": "PieModel",
       "_view_count": null,
       "_view_module": "bqplot",
       "_view_module_version": "^0.5.6",
       "_view_name": "Pie",
       "apply_clip": true,
       "color": null,
       "colors": [
        "Green",
        "Red"
       ],
       "display_labels": "inside",
       "display_legend": false,
       "display_values": true,
       "enable_hover": true,
       "end_angle": 360.0,
       "font_size": "12px",
       "font_weight": "normal",
       "inner_radius": 0.1,
       "interactions": {
        "hover": "tooltip"
       },
       "label_color": null,
       "labels": [
        "YES",
        "NO"
       ],
       "opacities": [],
       "preserve_domain": {},
       "radius": 120.0,
       "scales": {},
       "scales_metadata": {
        "color": {
         "dimension": "color"
        }
       },
       "selected": null,
       "selected_style": {},
       "sizes": {
        "dtype": "int32",
        "shape": [
         2
        ],
        "type": null
       },
       "sort": false,
       "start_angle": 0.0,
       "stroke": null,
       "tooltip": null,
       "tooltip_location": "mouse",
       "tooltip_style": {
        "opacity": 0.9
       },
       "unselected_style": {},
       "values_format": "d",
       "visible": true,
       "x": 0.5,
       "y": 0.5
      }
     },
     "a99158d536114fe9b174a7a6aef713b4": {
      "model_module": "bqplot",
      "model_module_version": "^0.5.6",
      "model_name": "LinearScaleModel",
      "state": {
       "_model_module": "bqplot",
       "_model_module_version": "^0.5.6",
       "_model_name": "LinearScaleModel",
       "_view_count": null,
       "_view_module": "bqplot",
       "_view_module_version": "^0.5.6",
       "_view_name": "LinearScale",
       "allow_padding": false,
       "max": 1.0,
       "mid_range": 0.8,
       "min": 0.0,
       "min_range": 0.6,
       "reverse": false,
       "stabilized": false
      }
     },
     "aad29866391a461ab8fea21b8d207994": {
      "model_module": "bqplot",
      "model_module_version": "^0.5.6",
      "model_name": "LinearScaleModel",
      "state": {
       "_model_module": "bqplot",
       "_model_module_version": "^0.5.6",
       "_model_name": "LinearScaleModel",
       "_view_count": null,
       "_view_module": "bqplot",
       "_view_module_version": "^0.5.6",
       "_view_name": "LinearScale",
       "allow_padding": false,
       "max": 1.0,
       "mid_range": 0.8,
       "min": 0.0,
       "min_range": 0.6,
       "reverse": false,
       "stabilized": false
      }
     },
     "af52b89639fe453ba0074c94f3aea057": {
      "model_module": "bqplot",
      "model_module_version": "^0.5.6",
      "model_name": "FigureModel",
      "state": {
       "_dom_classes": [],
       "_model_module": "bqplot",
       "_model_module_version": "^0.5.6",
       "_model_name": "FigureModel",
       "_view_count": null,
       "_view_module": "bqplot",
       "_view_module_version": "^0.5.6",
       "_view_name": "Figure",
       "animation_duration": 0,
       "axes": [],
       "background_style": {},
       "fig_margin": {
        "bottom": 1,
        "left": 1,
        "right": 1,
        "top": 1
       },
       "interaction": null,
       "layout": "IPY_MODEL_6152ebeaec1d4e5f9ae47b4593486bdc",
       "legend_location": "top-right",
       "legend_style": {},
       "legend_text": {},
       "marks": [
        "IPY_MODEL_2c5689618ad646898e7f2bad6b221534"
       ],
       "max_aspect_ratio": 100.0,
       "min_aspect_ratio": 0.01,
       "padding_x": 0.0,
       "padding_y": 0.025,
       "pixel_ratio": null,
       "scale_x": "IPY_MODEL_57d1275501d24798b80fbcaaecb0018e",
       "scale_y": "IPY_MODEL_8db25f81e99f4e5aa88a8e062bb90ed0",
       "theme": "classic",
       "title": "Issues with regional data in Custom Adoption scenarios",
       "title_style": {}
      }
     },
     "b1f12290f4ad4639905ae2f3b4e77627": {
      "model_module": "@jupyter-widgets/base",
      "model_module_version": "1.2.0",
      "model_name": "LayoutModel",
      "state": {
       "_model_module": "@jupyter-widgets/base",
       "_model_module_version": "1.2.0",
       "_model_name": "LayoutModel",
       "_view_count": null,
       "_view_module": "@jupyter-widgets/base",
       "_view_module_version": "1.2.0",
       "_view_name": "LayoutView",
       "align_content": null,
       "align_items": null,
       "align_self": null,
       "border": null,
       "bottom": null,
       "display": null,
       "flex": null,
       "flex_flow": null,
       "grid_area": null,
       "grid_auto_columns": null,
       "grid_auto_flow": null,
       "grid_auto_rows": null,
       "grid_column": null,
       "grid_gap": null,
       "grid_row": null,
       "grid_template_areas": null,
       "grid_template_columns": null,
       "grid_template_rows": null,
       "height": null,
       "justify_content": null,
       "justify_items": null,
       "left": null,
       "margin": null,
       "max_height": null,
       "max_width": null,
       "min_height": null,
       "min_width": null,
       "object_fit": null,
       "object_position": null,
       "order": null,
       "overflow": null,
       "overflow_x": null,
       "overflow_y": null,
       "padding": null,
       "right": null,
       "top": null,
       "visibility": null,
       "width": null
      }
     },
     "b32f81f88ef6420cbe778b02deb5af6c": {
      "model_module": "bqplot",
      "model_module_version": "^0.5.6",
      "model_name": "LinearScaleModel",
      "state": {
       "_model_module": "bqplot",
       "_model_module_version": "^0.5.6",
       "_model_name": "LinearScaleModel",
       "_view_count": null,
       "_view_module": "bqplot",
       "_view_module_version": "^0.5.6",
       "_view_name": "LinearScale",
       "allow_padding": false,
       "max": 1.0,
       "mid_range": 0.8,
       "min": 0.0,
       "min_range": 0.6,
       "reverse": false,
       "stabilized": false
      }
     },
     "b5270e3664994336b07e7a46bc8f5235": {
      "model_module": "@jupyter-widgets/controls",
      "model_module_version": "1.5.0",
      "model_name": "HBoxModel",
      "state": {
       "_dom_classes": [],
       "_model_module": "@jupyter-widgets/controls",
       "_model_module_version": "1.5.0",
       "_model_name": "HBoxModel",
       "_view_count": null,
       "_view_module": "@jupyter-widgets/controls",
       "_view_module_version": "1.5.0",
       "_view_name": "HBoxView",
       "box_style": "",
       "children": [
        "IPY_MODEL_1283cc5159664e63afd00d159f52d155",
        "IPY_MODEL_eb80465da78c462b838fe5d09cc14a60"
       ],
       "layout": "IPY_MODEL_dd45b75fe4874c22927717dacf686f3b"
      }
     },
     "b52791b427e84b5791ae1089476aec83": {
      "model_module": "bqplot",
      "model_module_version": "^0.5.6",
      "model_name": "LinearScaleModel",
      "state": {
       "_model_module": "bqplot",
       "_model_module_version": "^0.5.6",
       "_model_name": "LinearScaleModel",
       "_view_count": null,
       "_view_module": "bqplot",
       "_view_module_version": "^0.5.6",
       "_view_name": "LinearScale",
       "allow_padding": true,
       "max": null,
       "mid_range": 0.8,
       "min": null,
       "min_range": 0.6,
       "reverse": false,
       "stabilized": false
      }
     },
     "b741cb8d13e94227848587a47b1adf72": {
      "model_module": "bqplot",
      "model_module_version": "^0.5.6",
      "model_name": "LinearScaleModel",
      "state": {
       "_model_module": "bqplot",
       "_model_module_version": "^0.5.6",
       "_model_name": "LinearScaleModel",
       "_view_count": null,
       "_view_module": "bqplot",
       "_view_module_version": "^0.5.6",
       "_view_name": "LinearScale",
       "allow_padding": false,
       "max": 1.0,
       "mid_range": 0.8,
       "min": 0.0,
       "min_range": 0.6,
       "reverse": false,
       "stabilized": false
      }
     },
     "b86bc3b287f6420ab28841e7c0fe307a": {
      "model_module": "@jupyter-widgets/base",
      "model_module_version": "1.2.0",
      "model_name": "LayoutModel",
      "state": {
       "_model_module": "@jupyter-widgets/base",
       "_model_module_version": "1.2.0",
       "_model_name": "LayoutModel",
       "_view_count": null,
       "_view_module": "@jupyter-widgets/base",
       "_view_module_version": "1.2.0",
       "_view_name": "LayoutView",
       "align_content": null,
       "align_items": null,
       "align_self": null,
       "border": null,
       "bottom": null,
       "display": null,
       "flex": null,
       "flex_flow": null,
       "grid_area": null,
       "grid_auto_columns": null,
       "grid_auto_flow": null,
       "grid_auto_rows": null,
       "grid_column": null,
       "grid_gap": null,
       "grid_row": null,
       "grid_template_areas": null,
       "grid_template_columns": null,
       "grid_template_rows": null,
       "height": null,
       "justify_content": null,
       "justify_items": null,
       "left": null,
       "margin": null,
       "max_height": null,
       "max_width": null,
       "min_height": null,
       "min_width": null,
       "object_fit": null,
       "object_position": null,
       "order": null,
       "overflow": null,
       "overflow_x": null,
       "overflow_y": null,
       "padding": null,
       "right": null,
       "top": null,
       "visibility": null,
       "width": "300px"
      }
     },
     "baac92d94eec468886997716c01a09fd": {
      "model_module": "@jupyter-widgets/base",
      "model_module_version": "1.2.0",
      "model_name": "LayoutModel",
      "state": {
       "_model_module": "@jupyter-widgets/base",
       "_model_module_version": "1.2.0",
       "_model_name": "LayoutModel",
       "_view_count": null,
       "_view_module": "@jupyter-widgets/base",
       "_view_module_version": "1.2.0",
       "_view_name": "LayoutView",
       "align_content": null,
       "align_items": null,
       "align_self": null,
       "border": null,
       "bottom": null,
       "display": null,
       "flex": null,
       "flex_flow": null,
       "grid_area": null,
       "grid_auto_columns": null,
       "grid_auto_flow": null,
       "grid_auto_rows": null,
       "grid_column": null,
       "grid_gap": null,
       "grid_row": null,
       "grid_template_areas": null,
       "grid_template_columns": null,
       "grid_template_rows": null,
       "height": null,
       "justify_content": null,
       "justify_items": null,
       "left": null,
       "margin": null,
       "max_height": null,
       "max_width": null,
       "min_height": null,
       "min_width": null,
       "object_fit": null,
       "object_position": null,
       "order": null,
       "overflow": null,
       "overflow_x": null,
       "overflow_y": null,
       "padding": null,
       "right": null,
       "top": null,
       "visibility": null,
       "width": "100%"
      }
     },
     "c5d1ae337a20434eae0b44c7b416512d": {
      "model_module": "@jupyter-widgets/base",
      "model_module_version": "1.2.0",
      "model_name": "LayoutModel",
      "state": {
       "_model_module": "@jupyter-widgets/base",
       "_model_module_version": "1.2.0",
       "_model_name": "LayoutModel",
       "_view_count": null,
       "_view_module": "@jupyter-widgets/base",
       "_view_module_version": "1.2.0",
       "_view_name": "LayoutView",
       "align_content": null,
       "align_items": null,
       "align_self": null,
       "border": null,
       "bottom": null,
       "display": null,
       "flex": null,
       "flex_flow": null,
       "grid_area": null,
       "grid_auto_columns": null,
       "grid_auto_flow": null,
       "grid_auto_rows": null,
       "grid_column": null,
       "grid_gap": null,
       "grid_row": null,
       "grid_template_areas": null,
       "grid_template_columns": null,
       "grid_template_rows": null,
       "height": null,
       "justify_content": null,
       "justify_items": null,
       "left": null,
       "margin": null,
       "max_height": null,
       "max_width": null,
       "min_height": null,
       "min_width": null,
       "object_fit": null,
       "object_position": null,
       "order": null,
       "overflow": null,
       "overflow_x": null,
       "overflow_y": null,
       "padding": null,
       "right": null,
       "top": null,
       "visibility": null,
       "width": null
      }
     },
     "c7fec4294d6046d49c6da4045b735b9b": {
      "buffers": [
       {
        "data": "WAAAAJIAAAA=",
        "encoding": "base64",
        "path": [
         "sizes",
         "value"
        ]
       }
      ],
      "model_module": "bqplot",
      "model_module_version": "^0.5.6",
      "model_name": "PieModel",
      "state": {
       "_model_module": "bqplot",
       "_model_module_version": "^0.5.6",
       "_model_name": "PieModel",
       "_view_count": null,
       "_view_module": "bqplot",
       "_view_module_version": "^0.5.6",
       "_view_name": "Pie",
       "apply_clip": true,
       "color": null,
       "colors": [
        "Green",
        "Red"
       ],
       "display_labels": "inside",
       "display_legend": false,
       "display_values": true,
       "enable_hover": true,
       "end_angle": 360.0,
       "font_size": "12px",
       "font_weight": "normal",
       "inner_radius": 0.1,
       "interactions": {
        "hover": "tooltip"
       },
       "label_color": null,
       "labels": [
        "YES",
        "NO"
       ],
       "opacities": [],
       "preserve_domain": {},
       "radius": 110.0,
       "scales": {},
       "scales_metadata": {
        "color": {
         "dimension": "color"
        }
       },
       "selected": null,
       "selected_style": {},
       "sizes": {
        "dtype": "int32",
        "shape": [
         2
        ],
        "type": null
       },
       "sort": false,
       "start_angle": 0.0,
       "stroke": null,
       "tooltip": null,
       "tooltip_location": "mouse",
       "tooltip_style": {
        "opacity": 0.9
       },
       "unselected_style": {},
       "values_format": "d",
       "visible": true,
       "x": 0.5,
       "y": 0.5
      }
     },
     "ca4c03b72bb74807b361d8bdfde158e9": {
      "model_module": "@jupyter-widgets/controls",
      "model_module_version": "1.5.0",
      "model_name": "HBoxModel",
      "state": {
       "_dom_classes": [],
       "_model_module": "@jupyter-widgets/controls",
       "_model_module_version": "1.5.0",
       "_model_name": "HBoxModel",
       "_view_count": null,
       "_view_module": "@jupyter-widgets/controls",
       "_view_module_version": "1.5.0",
       "_view_name": "HBoxView",
       "box_style": "",
       "children": [
        "IPY_MODEL_40f6f7f6b33b4429aeaca7098ae83016",
        "IPY_MODEL_4e1397283d61469984c80936420a7785"
       ],
       "layout": "IPY_MODEL_99e616bfc2d94793b298790c4fa2f6fd"
      }
     },
     "cab5ef98e05e4422ade2fd8d8e9b66a4": {
      "model_module": "@jupyter-widgets/base",
      "model_module_version": "1.2.0",
      "model_name": "LayoutModel",
      "state": {
       "_model_module": "@jupyter-widgets/base",
       "_model_module_version": "1.2.0",
       "_model_name": "LayoutModel",
       "_view_count": null,
       "_view_module": "@jupyter-widgets/base",
       "_view_module_version": "1.2.0",
       "_view_name": "LayoutView",
       "align_content": null,
       "align_items": null,
       "align_self": null,
       "border": null,
       "bottom": null,
       "display": null,
       "flex": null,
       "flex_flow": null,
       "grid_area": null,
       "grid_auto_columns": null,
       "grid_auto_flow": null,
       "grid_auto_rows": null,
       "grid_column": null,
       "grid_gap": null,
       "grid_row": null,
       "grid_template_areas": null,
       "grid_template_columns": null,
       "grid_template_rows": null,
       "height": null,
       "justify_content": null,
       "justify_items": null,
       "left": null,
       "margin": null,
       "max_height": null,
       "max_width": null,
       "min_height": null,
       "min_width": null,
       "object_fit": null,
       "object_position": null,
       "order": null,
       "overflow": null,
       "overflow_x": null,
       "overflow_y": null,
       "padding": null,
       "right": null,
       "top": null,
       "visibility": null,
       "width": "320px"
      }
     },
     "cc105c407ace476f81c8f218d8824309": {
      "model_module": "bqplot",
      "model_module_version": "^0.5.6",
      "model_name": "AxisModel",
      "state": {
       "_model_module": "bqplot",
       "_model_module_version": "^0.5.6",
       "_model_name": "AxisModel",
       "_view_count": null,
       "_view_module": "bqplot",
       "_view_module_version": "^0.5.6",
       "_view_name": "Axis",
       "color": null,
       "grid_color": null,
       "grid_lines": "solid",
       "label": "solutions",
       "label_color": null,
       "label_location": "middle",
       "label_offset": null,
       "num_ticks": null,
       "offset": {},
       "orientation": "horizontal",
       "scale": "IPY_MODEL_d653faa4e12144bb8514bc1389fa25f3",
       "side": null,
       "tick_format": null,
       "tick_rotate": 0,
       "tick_style": {},
       "tick_values": null,
       "visible": true
      }
     },
     "ce0d5fe4f01e4121b9612f322bb4488f": {
      "model_module": "bqplot",
      "model_module_version": "^0.5.6",
      "model_name": "LinearScaleModel",
      "state": {
       "_model_module": "bqplot",
       "_model_module_version": "^0.5.6",
       "_model_name": "LinearScaleModel",
       "_view_count": null,
       "_view_module": "bqplot",
       "_view_module_version": "^0.5.6",
       "_view_name": "LinearScale",
       "allow_padding": false,
       "max": 1.0,
       "mid_range": 0.8,
       "min": 0.0,
       "min_range": 0.6,
       "reverse": false,
       "stabilized": false
      }
     },
     "cfb9a8ab8e2a40d783acdc3ef3370c5f": {
      "model_module": "bqplot",
      "model_module_version": "^0.5.6",
      "model_name": "AxisModel",
      "state": {
       "_model_module": "bqplot",
       "_model_module_version": "^0.5.6",
       "_model_name": "AxisModel",
       "_view_count": null,
       "_view_module": "bqplot",
       "_view_module_version": "^0.5.6",
       "_view_name": "Axis",
       "color": null,
       "grid_color": null,
       "grid_lines": "none",
       "label": "",
       "label_color": null,
       "label_location": "middle",
       "label_offset": null,
       "num_ticks": null,
       "offset": {},
       "orientation": "vertical",
       "scale": "IPY_MODEL_1b1e2a114abf455aaede39f31d796e35",
       "side": null,
       "tick_format": null,
       "tick_rotate": 0,
       "tick_style": {},
       "tick_values": null,
       "visible": true
      }
     },
     "d26aaff068f044e0a4bc63ae26235a25": {
      "model_module": "bqplot",
      "model_module_version": "^0.5.6",
      "model_name": "FigureModel",
      "state": {
       "_dom_classes": [],
       "_model_module": "bqplot",
       "_model_module_version": "^0.5.6",
       "_model_name": "FigureModel",
       "_view_count": null,
       "_view_module": "bqplot",
       "_view_module_version": "^0.5.6",
       "_view_name": "Figure",
       "animation_duration": 0,
       "axes": [
        "IPY_MODEL_f8747133097a40b7ac7f58d3bfff05af",
        "IPY_MODEL_312cd301dace476eae1e9a96794877b9"
       ],
       "background_style": {},
       "fig_margin": {
        "bottom": 60,
        "left": 60,
        "right": 60,
        "top": 60
       },
       "interaction": null,
       "layout": "IPY_MODEL_6ba8511f419445539fd73f898152d327",
       "legend_location": "top-right",
       "legend_style": {},
       "legend_text": {},
       "marks": [
        "IPY_MODEL_3ffffa5d3b0d4579b09689c3b97c8fe0"
       ],
       "max_aspect_ratio": 100.0,
       "min_aspect_ratio": 0.01,
       "padding_x": 0.0,
       "padding_y": 0.0,
       "pixel_ratio": null,
       "scale_x": "IPY_MODEL_659658a220004e14bce0e1c56dadfda4",
       "scale_y": "IPY_MODEL_05a9d1ebca0544e681525efea940e9c7",
       "theme": "classic",
       "title": "Num scenarios per solution",
       "title_style": {}
      }
     },
     "d3eb3c237c4d4bb08ba2fa3e9b5ca9b2": {
      "model_module": "bqplot",
      "model_module_version": "^0.5.6",
      "model_name": "LinearScaleModel",
      "state": {
       "_model_module": "bqplot",
       "_model_module_version": "^0.5.6",
       "_model_name": "LinearScaleModel",
       "_view_count": null,
       "_view_module": "bqplot",
       "_view_module_version": "^0.5.6",
       "_view_name": "LinearScale",
       "allow_padding": false,
       "max": 1.0,
       "mid_range": 0.8,
       "min": 0.0,
       "min_range": 0.6,
       "reverse": false,
       "stabilized": false
      }
     },
     "d4203fc07ef04698b97f78b90c94fcd1": {
      "model_module": "bqplot",
      "model_module_version": "^0.5.6",
      "model_name": "AxisModel",
      "state": {
       "_model_module": "bqplot",
       "_model_module_version": "^0.5.6",
       "_model_name": "AxisModel",
       "_view_count": null,
       "_view_module": "bqplot",
       "_view_module_version": "^0.5.6",
       "_view_name": "Axis",
       "color": null,
       "grid_color": null,
       "grid_lines": "none",
       "label": "",
       "label_color": null,
       "label_location": "middle",
       "label_offset": null,
       "num_ticks": null,
       "offset": {},
       "orientation": "vertical",
       "scale": "IPY_MODEL_192c61d0bef64dce96a2f51d86cf1303",
       "side": null,
       "tick_format": null,
       "tick_rotate": 0,
       "tick_style": {},
       "tick_values": null,
       "visible": true
      }
     },
     "d653faa4e12144bb8514bc1389fa25f3": {
      "model_module": "bqplot",
      "model_module_version": "^0.5.6",
      "model_name": "LinearScaleModel",
      "state": {
       "_model_module": "bqplot",
       "_model_module_version": "^0.5.6",
       "_model_name": "LinearScaleModel",
       "_view_count": null,
       "_view_module": "bqplot",
       "_view_module_version": "^0.5.6",
       "_view_name": "LinearScale",
       "allow_padding": true,
       "max": null,
       "mid_range": 0.8,
       "min": null,
       "min_range": 0.6,
       "reverse": false,
       "stabilized": false
      }
     },
     "d6da345c200c417b93f928aa7f3b8b5a": {
      "model_module": "bqplot",
      "model_module_version": "^0.5.6",
      "model_name": "LinearScaleModel",
      "state": {
       "_model_module": "bqplot",
       "_model_module_version": "^0.5.6",
       "_model_name": "LinearScaleModel",
       "_view_count": null,
       "_view_module": "bqplot",
       "_view_module_version": "^0.5.6",
       "_view_name": "LinearScale",
       "allow_padding": true,
       "max": null,
       "mid_range": 0.8,
       "min": null,
       "min_range": 0.6,
       "reverse": false,
       "stabilized": false
      }
     },
     "d7834a9d082945d49db2761d3641d559": {
      "model_module": "@jupyter-widgets/base",
      "model_module_version": "1.2.0",
      "model_name": "LayoutModel",
      "state": {
       "_model_module": "@jupyter-widgets/base",
       "_model_module_version": "1.2.0",
       "_model_name": "LayoutModel",
       "_view_count": null,
       "_view_module": "@jupyter-widgets/base",
       "_view_module_version": "1.2.0",
       "_view_name": "LayoutView",
       "align_content": null,
       "align_items": null,
       "align_self": null,
       "border": null,
       "bottom": null,
       "display": null,
       "flex": null,
       "flex_flow": null,
       "grid_area": null,
       "grid_auto_columns": null,
       "grid_auto_flow": null,
       "grid_auto_rows": null,
       "grid_column": null,
       "grid_gap": null,
       "grid_row": null,
       "grid_template_areas": null,
       "grid_template_columns": null,
       "grid_template_rows": null,
       "height": null,
       "justify_content": null,
       "justify_items": null,
       "left": null,
       "margin": null,
       "max_height": null,
       "max_width": null,
       "min_height": null,
       "min_width": null,
       "object_fit": null,
       "object_position": null,
       "order": null,
       "overflow": null,
       "overflow_x": null,
       "overflow_y": null,
       "padding": null,
       "right": null,
       "top": null,
       "visibility": null,
       "width": null
      }
     },
     "d7e24f3420694731b5796b7516c13dca": {
      "model_module": "@jupyter-widgets/base",
      "model_module_version": "1.2.0",
      "model_name": "LayoutModel",
      "state": {
       "_model_module": "@jupyter-widgets/base",
       "_model_module_version": "1.2.0",
       "_model_name": "LayoutModel",
       "_view_count": null,
       "_view_module": "@jupyter-widgets/base",
       "_view_module_version": "1.2.0",
       "_view_name": "LayoutView",
       "align_content": null,
       "align_items": null,
       "align_self": null,
       "border": null,
       "bottom": null,
       "display": null,
       "flex": null,
       "flex_flow": null,
       "grid_area": null,
       "grid_auto_columns": null,
       "grid_auto_flow": null,
       "grid_auto_rows": null,
       "grid_column": null,
       "grid_gap": null,
       "grid_row": null,
       "grid_template_areas": null,
       "grid_template_columns": null,
       "grid_template_rows": null,
       "height": null,
       "justify_content": null,
       "justify_items": null,
       "left": null,
       "margin": null,
       "max_height": null,
       "max_width": null,
       "min_height": null,
       "min_width": null,
       "object_fit": null,
       "object_position": null,
       "order": null,
       "overflow": null,
       "overflow_x": null,
       "overflow_y": null,
       "padding": null,
       "right": null,
       "top": null,
       "visibility": null,
       "width": "100%"
      }
     },
     "d94fd9784ae847409133d7bd06a59cb7": {
      "model_module": "bqplot",
      "model_module_version": "^0.5.6",
      "model_name": "AxisModel",
      "state": {
       "_model_module": "bqplot",
       "_model_module_version": "^0.5.6",
       "_model_name": "AxisModel",
       "_view_count": null,
       "_view_module": "bqplot",
       "_view_module_version": "^0.5.6",
       "_view_name": "Axis",
       "color": null,
       "grid_color": null,
       "grid_lines": "solid",
       "label": "% world alloc",
       "label_color": null,
       "label_location": "middle",
       "label_offset": null,
       "num_ticks": null,
       "offset": {},
       "orientation": "horizontal",
       "scale": "IPY_MODEL_1790e11c1c0c4fc59ee357a48d98d71e",
       "side": null,
       "tick_format": null,
       "tick_rotate": 0,
       "tick_style": {},
       "tick_values": null,
       "visible": true
      }
     },
     "da8cb88c57894d4aa9f0f034f80b96dc": {
      "model_module": "bqplot",
      "model_module_version": "^0.5.6",
      "model_name": "FigureModel",
      "state": {
       "_dom_classes": [],
       "_model_module": "bqplot",
       "_model_module_version": "^0.5.6",
       "_model_name": "FigureModel",
       "_view_count": null,
       "_view_module": "bqplot",
       "_view_module_version": "^0.5.6",
       "_view_name": "Figure",
       "animation_duration": 0,
       "axes": [],
       "background_style": {},
       "fig_margin": {
        "bottom": 1,
        "left": 1,
        "right": 1,
        "top": 1
       },
       "interaction": null,
       "layout": "IPY_MODEL_183bdd7ffb9e47858a926bfeedc4fc78",
       "legend_location": "top-right",
       "legend_style": {},
       "legend_text": {},
       "marks": [
        "IPY_MODEL_71ae068fd8f3403986aa325f92f5e00b"
       ],
       "max_aspect_ratio": 100.0,
       "min_aspect_ratio": 0.01,
       "padding_x": 0.0,
       "padding_y": 0.025,
       "pixel_ratio": null,
       "scale_x": "IPY_MODEL_a8043605c6b64e5abfe8ae8817eb0e04",
       "scale_y": "IPY_MODEL_7b8a90cd864043a1a1d6f57ee68f430a",
       "theme": "classic",
       "title": "REF Adoption Basis",
       "title_style": {}
      }
     },
     "dc6fd62c0c3743df9e65cab0b8133689": {
      "model_module": "@jupyter-widgets/controls",
      "model_module_version": "1.5.0",
      "model_name": "HBoxModel",
      "state": {
       "_dom_classes": [],
       "_model_module": "@jupyter-widgets/controls",
       "_model_module_version": "1.5.0",
       "_model_name": "HBoxModel",
       "_view_count": null,
       "_view_module": "@jupyter-widgets/controls",
       "_view_module_version": "1.5.0",
       "_view_name": "HBoxView",
       "box_style": "",
       "children": [
        "IPY_MODEL_376e5e038edb4a40b709820df2c33feb",
        "IPY_MODEL_e9f08db0f678436690487e18e4d5aa3c",
        "IPY_MODEL_da8cb88c57894d4aa9f0f034f80b96dc"
       ],
       "layout": "IPY_MODEL_a20bc48f44ea4c679fed0c7385738cd9"
      }
     },
     "dc86efe2785146bc97b4348dc194eef6": {
      "model_module": "bqplot",
      "model_module_version": "^0.5.6",
      "model_name": "LinearScaleModel",
      "state": {
       "_model_module": "bqplot",
       "_model_module_version": "^0.5.6",
       "_model_name": "LinearScaleModel",
       "_view_count": null,
       "_view_module": "bqplot",
       "_view_module_version": "^0.5.6",
       "_view_name": "LinearScale",
       "allow_padding": false,
       "max": 1.0,
       "mid_range": 0.8,
       "min": 0.0,
       "min_range": 0.6,
       "reverse": false,
       "stabilized": false
      }
     },
     "dc9cffbfc4164ef395e58db9535dfa60": {
      "model_module": "@jupyter-widgets/base",
      "model_module_version": "1.2.0",
      "model_name": "LayoutModel",
      "state": {
       "_model_module": "@jupyter-widgets/base",
       "_model_module_version": "1.2.0",
       "_model_name": "LayoutModel",
       "_view_count": null,
       "_view_module": "@jupyter-widgets/base",
       "_view_module_version": "1.2.0",
       "_view_name": "LayoutView",
       "align_content": null,
       "align_items": null,
       "align_self": null,
       "border": null,
       "bottom": null,
       "display": null,
       "flex": null,
       "flex_flow": null,
       "grid_area": null,
       "grid_auto_columns": null,
       "grid_auto_flow": null,
       "grid_auto_rows": null,
       "grid_column": null,
       "grid_gap": null,
       "grid_row": null,
       "grid_template_areas": null,
       "grid_template_columns": null,
       "grid_template_rows": null,
       "height": null,
       "justify_content": null,
       "justify_items": null,
       "left": null,
       "margin": null,
       "max_height": null,
       "max_width": null,
       "min_height": null,
       "min_width": null,
       "object_fit": null,
       "object_position": null,
       "order": null,
       "overflow": null,
       "overflow_x": null,
       "overflow_y": null,
       "padding": null,
       "right": null,
       "top": null,
       "visibility": null,
       "width": null
      }
     },
     "dcf121055eb4494ea6e0dd793905b9e9": {
      "model_module": "bqplot",
      "model_module_version": "^0.5.6",
      "model_name": "AxisModel",
      "state": {
       "_model_module": "bqplot",
       "_model_module_version": "^0.5.6",
       "_model_name": "AxisModel",
       "_view_count": null,
       "_view_module": "bqplot",
       "_view_module_version": "^0.5.6",
       "_view_name": "Axis",
       "color": null,
       "grid_color": null,
       "grid_lines": "solid",
       "label": "% tla",
       "label_color": null,
       "label_location": "middle",
       "label_offset": null,
       "num_ticks": null,
       "offset": {},
       "orientation": "horizontal",
       "scale": "IPY_MODEL_d6da345c200c417b93f928aa7f3b8b5a",
       "side": null,
       "tick_format": null,
       "tick_rotate": 0,
       "tick_style": {},
       "tick_values": null,
       "visible": true
      }
     },
     "dd45b75fe4874c22927717dacf686f3b": {
      "model_module": "@jupyter-widgets/base",
      "model_module_version": "1.2.0",
      "model_name": "LayoutModel",
      "state": {
       "_model_module": "@jupyter-widgets/base",
       "_model_module_version": "1.2.0",
       "_model_name": "LayoutModel",
       "_view_count": null,
       "_view_module": "@jupyter-widgets/base",
       "_view_module_version": "1.2.0",
       "_view_name": "LayoutView",
       "align_content": null,
       "align_items": null,
       "align_self": null,
       "border": null,
       "bottom": null,
       "display": null,
       "flex": null,
       "flex_flow": null,
       "grid_area": null,
       "grid_auto_columns": null,
       "grid_auto_flow": null,
       "grid_auto_rows": null,
       "grid_column": null,
       "grid_gap": null,
       "grid_row": null,
       "grid_template_areas": null,
       "grid_template_columns": null,
       "grid_template_rows": null,
       "height": null,
       "justify_content": null,
       "justify_items": null,
       "left": null,
       "margin": null,
       "max_height": null,
       "max_width": null,
       "min_height": null,
       "min_width": null,
       "object_fit": null,
       "object_position": null,
       "order": null,
       "overflow": null,
       "overflow_x": null,
       "overflow_y": null,
       "padding": null,
       "right": null,
       "top": null,
       "visibility": null,
       "width": null
      }
     },
     "e19bdc6121084fa0baaa96e7d7a972fb": {
      "buffers": [
       {
        "data": "V0whSsS5JkCAEsrIhMUkQHC0pEVM/iBAqOt0xSF1HkDvemksDvQdQJEhy2RYRRlAhus8qkhFGUB8YTONl8ANQHfMbaPkcgxAx0KHUrN+CUDZ/o1gi5MIQDDRvhMZqAdA7w4QDql/A0BVnWWK043/P6TM/s4cG/k/p0XKowa69T+h7IWEO8ftP6i7jXxUius/XQ12D5wW4z86WfZHgI7cPw==",
        "encoding": "base64",
        "path": [
         "y",
         "value"
        ]
       }
      ],
      "model_module": "bqplot",
      "model_module_version": "^0.5.6",
      "model_name": "BarsModel",
      "state": {
       "_model_module": "bqplot",
       "_model_module_version": "^0.5.6",
       "_model_name": "BarsModel",
       "_view_count": null,
       "_view_module": "bqplot",
       "_view_module_version": "^0.5.6",
       "_view_name": "Bars",
       "align": "center",
       "apply_clip": true,
       "base": 0.0,
       "color": null,
       "color_mode": "auto",
       "colors": [
        "steelblue"
       ],
       "display_legend": false,
       "enable_hover": true,
       "fill": true,
       "interactions": {
        "hover": "tooltip"
       },
       "label_display": false,
       "label_display_format": ".2f",
       "label_display_horizontal_offset": 0.0,
       "label_display_vertical_offset": 0.0,
       "label_font_style": {},
       "labels": [],
       "opacities": [],
       "orientation": "horizontal",
       "padding": 0.05,
       "preserve_domain": {},
       "scales": {
        "x": "IPY_MODEL_660628887054415a8cb0e686dbb656cb",
        "y": "IPY_MODEL_1790e11c1c0c4fc59ee357a48d98d71e"
       },
       "scales_metadata": {
        "x": {
         "dimension": "x",
         "orientation": "vertical"
        },
        "y": {
         "dimension": "y",
         "orientation": "horizontal"
        }
       },
       "selected": null,
       "selected_style": {},
       "stroke": null,
       "stroke_width": 1.0,
       "tooltip": null,
       "tooltip_location": "mouse",
       "tooltip_style": {
        "opacity": 0.9
       },
       "type": "stacked",
       "unselected_style": {},
       "visible": true,
       "x": [
        "nutrientmanagement",
        "indigenouspeoplesland",
        "forestprotection",
        "managedgrazing",
        "silvopasture",
        "conservationagriculture",
        "regenerativeagriculture",
        "treeintercropping",
        "afforestation",
        "farmlandrestoration",
        "multistrataagroforestry",
        "peatlands",
        "tropicalforests",
        "irrigationefficiency",
        "temperateforests",
        "tropicaltreestaples",
        "bamboo",
        "improvedrice",
        "perennialbioenergy",
        "riceintensification"
       ],
       "y": {
        "dtype": "float64",
        "shape": [
         20
        ],
        "type": null
       }
      }
     },
     "e400d9f0861f4c80bb1c96b27273dc87": {
      "model_module": "@jupyter-widgets/controls",
      "model_module_version": "1.5.0",
      "model_name": "VBoxModel",
      "state": {
       "_dom_classes": [],
       "_model_module": "@jupyter-widgets/controls",
       "_model_module_version": "1.5.0",
       "_model_name": "VBoxModel",
       "_view_count": null,
       "_view_module": "@jupyter-widgets/controls",
       "_view_module_version": "1.5.0",
       "_view_name": "VBoxView",
       "box_style": "",
       "children": [
        "IPY_MODEL_dc6fd62c0c3743df9e65cab0b8133689",
        "IPY_MODEL_d26aaff068f044e0a4bc63ae26235a25",
        "IPY_MODEL_ca4c03b72bb74807b361d8bdfde158e9",
        "IPY_MODEL_495bf2eaff8744a989f2d763e22944b0",
        "IPY_MODEL_1f5e33f421a049098ad8f2189faf8a4e"
       ],
       "layout": "IPY_MODEL_5565710c2bbf49d3a2e0f4d75cb1ae5d"
      }
     },
     "e9f08db0f678436690487e18e4d5aa3c": {
      "model_module": "bqplot",
      "model_module_version": "^0.5.6",
      "model_name": "FigureModel",
      "state": {
       "_dom_classes": [],
       "_model_module": "bqplot",
       "_model_module_version": "^0.5.6",
       "_model_name": "FigureModel",
       "_view_count": null,
       "_view_module": "bqplot",
       "_view_module_version": "^0.5.6",
       "_view_name": "Figure",
       "animation_duration": 0,
       "axes": [],
       "background_style": {},
       "fig_margin": {
        "bottom": 1,
        "left": 1,
        "right": 1,
        "top": 1
       },
       "interaction": null,
       "layout": "IPY_MODEL_6bc9d16e9e0340fca15575f26d1d06be",
       "legend_location": "top-right",
       "legend_style": {},
       "legend_text": {},
       "marks": [
        "IPY_MODEL_71b6b35e49b54f21861313c001174acd"
       ],
       "max_aspect_ratio": 100.0,
       "min_aspect_ratio": 0.01,
       "padding_x": 0.0,
       "padding_y": 0.025,
       "pixel_ratio": null,
       "scale_x": "IPY_MODEL_f2a127894baa4d32a1afaaf7170abcf6",
       "scale_y": "IPY_MODEL_f68d1ff621e24f30b1b30dd0c7e54558",
       "theme": "classic",
       "title": "PDS Adoption Basis",
       "title_style": {}
      }
     },
     "ea279c1fbbfa4fe1bc64b205d395c0e9": {
      "model_module": "bqplot",
      "model_module_version": "^0.5.6",
      "model_name": "LinearScaleModel",
      "state": {
       "_model_module": "bqplot",
       "_model_module_version": "^0.5.6",
       "_model_name": "LinearScaleModel",
       "_view_count": null,
       "_view_module": "bqplot",
       "_view_module_version": "^0.5.6",
       "_view_name": "LinearScale",
       "allow_padding": true,
       "max": null,
       "mid_range": 0.8,
       "min": null,
       "min_range": 0.6,
       "reverse": false,
       "stabilized": false
      }
     },
     "eb1b52b87c774ed4ad792fd0e4281966": {
      "model_module": "@jupyter-widgets/controls",
      "model_module_version": "1.5.0",
      "model_name": "VBoxModel",
      "state": {
       "_dom_classes": [],
       "_model_module": "@jupyter-widgets/controls",
       "_model_module_version": "1.5.0",
       "_model_name": "VBoxModel",
       "_view_count": null,
       "_view_module": "@jupyter-widgets/controls",
       "_view_module_version": "1.5.0",
       "_view_name": "VBoxView",
       "box_style": "",
       "children": [
        "IPY_MODEL_b5270e3664994336b07e7a46bc8f5235",
        "IPY_MODEL_fee28bafe61d49429ce7dd0ad720b9c8",
        "IPY_MODEL_7e1830b10a0142ee9d9328d848f062eb"
       ],
       "layout": "IPY_MODEL_975330ae30844025830a6a40c54eba25"
      }
     },
     "eb4d998c0c80479cb42a9806d7564fc9": {
      "model_module": "@jupyter-widgets/base",
      "model_module_version": "1.2.0",
      "model_name": "LayoutModel",
      "state": {
       "_model_module": "@jupyter-widgets/base",
       "_model_module_version": "1.2.0",
       "_model_name": "LayoutModel",
       "_view_count": null,
       "_view_module": "@jupyter-widgets/base",
       "_view_module_version": "1.2.0",
       "_view_name": "LayoutView",
       "align_content": null,
       "align_items": null,
       "align_self": null,
       "border": null,
       "bottom": null,
       "display": null,
       "flex": null,
       "flex_flow": null,
       "grid_area": null,
       "grid_auto_columns": null,
       "grid_auto_flow": null,
       "grid_auto_rows": null,
       "grid_column": null,
       "grid_gap": null,
       "grid_row": null,
       "grid_template_areas": null,
       "grid_template_columns": null,
       "grid_template_rows": null,
       "height": null,
       "justify_content": null,
       "justify_items": null,
       "left": null,
       "margin": null,
       "max_height": null,
       "max_width": null,
       "min_height": null,
       "min_width": null,
       "object_fit": null,
       "object_position": null,
       "order": null,
       "overflow": null,
       "overflow_x": null,
       "overflow_y": null,
       "padding": null,
       "right": null,
       "top": null,
       "visibility": null,
       "width": null
      }
     },
     "eb80465da78c462b838fe5d09cc14a60": {
      "model_module": "bqplot",
      "model_module_version": "^0.5.6",
      "model_name": "FigureModel",
      "state": {
       "_dom_classes": [],
       "_model_module": "bqplot",
       "_model_module_version": "^0.5.6",
       "_model_name": "FigureModel",
       "_view_count": null,
       "_view_module": "bqplot",
       "_view_module_version": "^0.5.6",
       "_view_name": "Figure",
       "animation_duration": 0,
       "axes": [
        "IPY_MODEL_376a6c1c58f148a795e74768e99de444",
        "IPY_MODEL_d94fd9784ae847409133d7bd06a59cb7"
       ],
       "background_style": {},
       "fig_margin": {
        "bottom": 60,
        "left": 200,
        "right": 60,
        "top": 60
       },
       "interaction": null,
       "layout": "IPY_MODEL_b1f12290f4ad4639905ae2f3b4e77627",
       "legend_location": "top-right",
       "legend_style": {},
       "legend_text": {},
       "marks": [
        "IPY_MODEL_e19bdc6121084fa0baaa96e7d7a972fb"
       ],
       "max_aspect_ratio": 100.0,
       "min_aspect_ratio": 0.01,
       "padding_x": 0.0,
       "padding_y": 0.0,
       "pixel_ratio": null,
       "scale_x": "IPY_MODEL_b32f81f88ef6420cbe778b02deb5af6c",
       "scale_y": "IPY_MODEL_3d8a8e6e7b1d4c4e9f7c943f0ba719d7",
       "theme": "classic",
       "title": "% of World land allocated to solution",
       "title_style": {}
      }
     },
     "f0d6f9e4b9634d5e80eda4e472c2f08c": {
      "model_module": "bqplot",
      "model_module_version": "^0.5.6",
      "model_name": "LinearScaleModel",
      "state": {
       "_model_module": "bqplot",
       "_model_module_version": "^0.5.6",
       "_model_name": "LinearScaleModel",
       "_view_count": null,
       "_view_module": "bqplot",
       "_view_module_version": "^0.5.6",
       "_view_name": "LinearScale",
       "allow_padding": false,
       "max": 1.0,
       "mid_range": 0.8,
       "min": 0.0,
       "min_range": 0.6,
       "reverse": false,
       "stabilized": false
      }
     },
     "f2a127894baa4d32a1afaaf7170abcf6": {
      "model_module": "bqplot",
      "model_module_version": "^0.5.6",
      "model_name": "LinearScaleModel",
      "state": {
       "_model_module": "bqplot",
       "_model_module_version": "^0.5.6",
       "_model_name": "LinearScaleModel",
       "_view_count": null,
       "_view_module": "bqplot",
       "_view_module_version": "^0.5.6",
       "_view_name": "LinearScale",
       "allow_padding": false,
       "max": 1.0,
       "mid_range": 0.8,
       "min": 0.0,
       "min_range": 0.6,
       "reverse": false,
       "stabilized": false
      }
     },
     "f32275638cfc4f53b7257770aeadd95f": {
      "model_module": "bqplot",
      "model_module_version": "^0.5.6",
      "model_name": "LinearScaleModel",
      "state": {
       "_model_module": "bqplot",
       "_model_module_version": "^0.5.6",
       "_model_name": "LinearScaleModel",
       "_view_count": null,
       "_view_module": "bqplot",
       "_view_module_version": "^0.5.6",
       "_view_name": "LinearScale",
       "allow_padding": false,
       "max": 1.0,
       "mid_range": 0.8,
       "min": 0.0,
       "min_range": 0.6,
       "reverse": false,
       "stabilized": false
      }
     },
     "f68d1ff621e24f30b1b30dd0c7e54558": {
      "model_module": "bqplot",
      "model_module_version": "^0.5.6",
      "model_name": "LinearScaleModel",
      "state": {
       "_model_module": "bqplot",
       "_model_module_version": "^0.5.6",
       "_model_name": "LinearScaleModel",
       "_view_count": null,
       "_view_module": "bqplot",
       "_view_module_version": "^0.5.6",
       "_view_name": "LinearScale",
       "allow_padding": false,
       "max": 1.0,
       "mid_range": 0.8,
       "min": 0.0,
       "min_range": 0.6,
       "reverse": false,
       "stabilized": false
      }
     },
     "f8747133097a40b7ac7f58d3bfff05af": {
      "model_module": "bqplot",
      "model_module_version": "^0.5.6",
      "model_name": "AxisModel",
      "state": {
       "_model_module": "bqplot",
       "_model_module_version": "^0.5.6",
       "_model_name": "AxisModel",
       "_view_count": null,
       "_view_module": "bqplot",
       "_view_module_version": "^0.5.6",
       "_view_name": "Axis",
       "color": null,
       "grid_color": null,
       "grid_lines": "solid",
       "label": "num scenarios",
       "label_color": null,
       "label_location": "middle",
       "label_offset": null,
       "num_ticks": null,
       "offset": {},
       "orientation": "horizontal",
       "scale": "IPY_MODEL_a0922434b8814f099ad275490ab66b06",
       "side": null,
       "tick_format": "d",
       "tick_rotate": 0,
       "tick_style": {},
       "tick_values": null,
       "visible": true
      }
     },
     "fa28f0cc1d8f433a946af714c336b530": {
      "model_module": "@jupyter-widgets/base",
      "model_module_version": "1.2.0",
      "model_name": "LayoutModel",
      "state": {
       "_model_module": "@jupyter-widgets/base",
       "_model_module_version": "1.2.0",
       "_model_name": "LayoutModel",
       "_view_count": null,
       "_view_module": "@jupyter-widgets/base",
       "_view_module_version": "1.2.0",
       "_view_name": "LayoutView",
       "align_content": null,
       "align_items": null,
       "align_self": null,
       "border": null,
       "bottom": null,
       "display": null,
       "flex": null,
       "flex_flow": null,
       "grid_area": null,
       "grid_auto_columns": null,
       "grid_auto_flow": null,
       "grid_auto_rows": null,
       "grid_column": null,
       "grid_gap": null,
       "grid_row": null,
       "grid_template_areas": null,
       "grid_template_columns": null,
       "grid_template_rows": null,
       "height": null,
       "justify_content": null,
       "justify_items": null,
       "left": null,
       "margin": null,
       "max_height": null,
       "max_width": null,
       "min_height": null,
       "min_width": null,
       "object_fit": null,
       "object_position": null,
       "order": null,
       "overflow": null,
       "overflow_x": null,
       "overflow_y": null,
       "padding": null,
       "right": null,
       "top": null,
       "visibility": null,
       "width": null
      }
     },
     "fee28bafe61d49429ce7dd0ad720b9c8": {
      "model_module": "@jupyter-widgets/controls",
      "model_module_version": "1.5.0",
      "model_name": "HBoxModel",
      "state": {
       "_dom_classes": [],
       "_model_module": "@jupyter-widgets/controls",
       "_model_module_version": "1.5.0",
       "_model_name": "HBoxModel",
       "_view_count": null,
       "_view_module": "@jupyter-widgets/controls",
       "_view_module_version": "1.5.0",
       "_view_name": "HBoxView",
       "box_style": "",
       "children": [
        "IPY_MODEL_886b3769d3c1496eaa25f7b78f663e9d"
       ],
       "layout": "IPY_MODEL_dc9cffbfc4164ef395e58db9535dfa60"
      }
     }
    },
    "version_major": 2,
    "version_minor": 0
   }
  }
 },
 "nbformat": 4,
 "nbformat_minor": 2
}