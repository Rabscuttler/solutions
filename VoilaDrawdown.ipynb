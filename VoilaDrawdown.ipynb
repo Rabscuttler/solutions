{
 "cells": [
  {
   "cell_type": "markdown",
   "metadata": {
    "papermill": {
     "duration": 0.088197,
     "end_time": "2020-04-17T10:21:16.110559",
     "exception": false,
     "start_time": "2020-04-17T10:21:16.022362",
     "status": "completed"
    },
    "tags": []
   },
   "source": [
    "[![Drawdown](data/images/ProjectDrawdown.png)](https://drawdown.org)\n",
    "\n",
    "**[Project Drawdown](https://drawdown.org)** is a living research and communications organization that assesses, maps, models, and describes the potential of the most substantive solutions to achieve drawdown by 2050. It is a collaborative effort of over 200 researchers, policymakers, businesses, thought leaders, and organizations developing a model to enable action and implementation throughout the world. Our common mission is to do our part in solving global warming, by enabling a new, regenerative ‘business-as-usual’ that has cascading benefits to human well-being in concert with nature, while training the next generation of global citizens and thought-leaders. \n",
    "\n",
    "Our aim is to democratize and extend this model and approach to collective impact far and wide. To achieve that, we have been working with partners across the world to help seed replications and the expansion of the model in-place, to nurture and support a thriving ecosystem based on self-organizing, networked sparks wherever Drawdown has taken root.\n",
    "+ There is a **<a href=\"https://youtu.be/RAQSnhm_tS4\" target=\"_blank\">video demonstrating</a>** how to use the system.  \n",
    "+ If you run into trouble or need assistance, the **<a href=\"https://solutions.geekhold.com/services/discourse/\" target=\"_blank\">Community Forum</a>** can help.  "
   ]
  },
  {
   "cell_type": "code",
   "execution_count": 1,
   "metadata": {
    "execution": {
     "iopub.execute_input": "2020-04-17T10:21:16.289822Z",
     "iopub.status.busy": "2020-04-17T10:21:16.288927Z",
     "iopub.status.idle": "2020-04-17T10:21:16.292539Z",
     "shell.execute_reply": "2020-04-17T10:21:16.292939Z"
    },
    "papermill": {
     "duration": 0.091496,
     "end_time": "2020-04-17T10:21:16.293065",
     "exception": false,
     "start_time": "2020-04-17T10:21:16.201569",
     "status": "completed"
    },
    "tags": []
   },
   "outputs": [
    {
     "data": {
      "application/javascript": [
       "IPython.OutputArea.prototype._should_scroll = function(lines) {\n",
       "    return false;\n",
       "}\n"
      ],
      "text/plain": [
       "<IPython.core.display.Javascript object>"
      ]
     },
     "metadata": {},
     "output_type": "display_data"
    }
   ],
   "source": [
    "%%javascript\n",
    "IPython.OutputArea.prototype._should_scroll = function(lines) {\n",
    "    return false;\n",
    "}"
   ]
  },
  {
   "cell_type": "code",
   "execution_count": 2,
   "metadata": {
    "execution": {
     "iopub.execute_input": "2020-04-17T10:21:16.453974Z",
     "iopub.status.busy": "2020-04-17T10:21:16.453138Z",
     "iopub.status.idle": "2020-04-17T10:21:16.456828Z",
     "shell.execute_reply": "2020-04-17T10:21:16.456363Z"
    },
    "papermill": {
     "duration": 0.087914,
     "end_time": "2020-04-17T10:21:16.456919",
     "exception": false,
     "start_time": "2020-04-17T10:21:16.369005",
     "status": "completed"
    },
    "tags": []
   },
   "outputs": [
    {
     "data": {
      "text/html": [
       "<style>#notebook-container.container { width:95% !important; }</style>"
      ],
      "text/plain": [
       "<IPython.core.display.HTML object>"
      ]
     },
     "metadata": {},
     "output_type": "display_data"
    }
   ],
   "source": [
    "import IPython.core.display\n",
    "IPython.core.display.display(IPython.core.display.HTML(\"<style>#notebook-container.container { width:95% !important; }</style>\"))"
   ]
  },
  {
   "cell_type": "code",
   "execution_count": 3,
   "metadata": {
    "execution": {
     "iopub.execute_input": "2020-04-17T10:21:16.668544Z",
     "iopub.status.busy": "2020-04-17T10:21:16.667938Z",
     "iopub.status.idle": "2020-04-17T10:21:18.021151Z",
     "shell.execute_reply": "2020-04-17T10:21:18.018084Z"
    },
    "papermill": {
     "duration": 1.453871,
     "end_time": "2020-04-17T10:21:18.021251",
     "exception": false,
     "start_time": "2020-04-17T10:21:16.567380",
     "status": "completed"
    },
    "tags": []
   },
   "outputs": [
    {
     "data": {
      "application/vnd.jupyter.widget-view+json": {
       "model_id": "4ea568bc706b4a6cb75a9aee350a7345",
       "version_major": 2,
       "version_minor": 0
      },
      "text/plain": [
       "VBox(children=(HBox(children=(FloatProgress(value=0.0, layout=Layout(width='99%'), max=1.0), Button(descriptio…"
      ]
     },
     "metadata": {},
     "output_type": "display_data"
    }
   ],
   "source": [
    "import ui.charts\n",
    "j = ui.charts.JupyterUI(is_jupyterlab=False)\n",
    "tabs = j.get_skeleton_ui()\n",
    "tabs"
   ]
  },
  {
   "cell_type": "code",
   "execution_count": 4,
   "metadata": {
    "execution": {
     "iopub.execute_input": "2020-04-17T10:21:18.224349Z",
     "iopub.status.busy": "2020-04-17T10:21:18.223835Z",
     "iopub.status.idle": "2020-04-17T10:21:19.479170Z",
     "shell.execute_reply": "2020-04-17T10:21:19.475885Z"
    },
    "papermill": {
     "duration": 1.361408,
     "end_time": "2020-04-17T10:21:19.479270",
     "exception": false,
     "start_time": "2020-04-17T10:21:18.117862",
     "status": "completed"
    },
    "tags": []
   },
   "outputs": [],
   "source": [
    "j.render_overview()"
   ]
  },
  {
   "cell_type": "code",
   "execution_count": null,
   "metadata": {
    "papermill": {
     "duration": 0.127368,
     "end_time": "2020-04-17T10:21:19.744590",
     "exception": false,
     "start_time": "2020-04-17T10:21:19.617222",
     "status": "completed"
    },
    "tags": []
   },
   "outputs": [],
   "source": []
  },
  {
   "cell_type": "code",
   "execution_count": null,
   "metadata": {
    "papermill": {
     "duration": 0.076375,
     "end_time": "2020-04-17T10:21:19.900568",
     "exception": false,
     "start_time": "2020-04-17T10:21:19.824193",
     "status": "completed"
    },
    "tags": []
   },
   "outputs": [],
   "source": []
  }
 ],
 "metadata": {
  "kernelspec": {
   "display_name": "Python 3",
   "language": "python",
   "name": "python3"
  },
  "language_info": {
   "codemirror_mode": {
    "name": "ipython",
    "version": 3
   },
   "file_extension": ".py",
   "mimetype": "text/x-python",
   "name": "python",
   "nbconvert_exporter": "python",
   "pygments_lexer": "ipython3",
   "version": "3.8.2"
  },
  "papermill": {
   "duration": 4.979553,
   "end_time": "2020-04-17T10:21:20.092331",
   "environment_variables": {},
   "exception": null,
   "input_path": "VoilaDrawdown.ipynb",
   "output_path": "VoilaDrawdown.ipynb",
   "parameters": {},
   "start_time": "2020-04-17T10:21:15.112778",
   "version": "2.1.0"
  },
  "widgets": {
   "application/vnd.jupyter.widget-state+json": {
    "state": {
     "00a29f65babc4f6397e4bc8aa322110a": {
      "model_module": "@jupyter-widgets/controls",
      "model_module_version": "1.5.0",
      "model_name": "DescriptionStyleModel",
      "state": {
       "_model_module": "@jupyter-widgets/controls",
       "_model_module_version": "1.5.0",
       "_model_name": "DescriptionStyleModel",
       "_view_count": null,
       "_view_module": "@jupyter-widgets/base",
       "_view_module_version": "1.2.0",
       "_view_name": "StyleView",
       "description_width": ""
      }
     },
     "00a2d1072f254a71aa8daebcb5dfe86b": {
      "model_module": "@jupyter-widgets/controls",
      "model_module_version": "1.5.0",
      "model_name": "HTMLModel",
      "state": {
       "_dom_classes": [],
       "_model_module": "@jupyter-widgets/controls",
       "_model_module_version": "1.5.0",
       "_model_name": "HTMLModel",
       "_view_count": null,
       "_view_module": "@jupyter-widgets/controls",
       "_view_module_version": "1.5.0",
       "_view_name": "HTMLView",
       "description": "",
       "description_tooltip": null,
       "layout": "IPY_MODEL_2adb518af7044a69aad2c2de3ca0c421",
       "placeholder": "​",
       "style": "IPY_MODEL_e584667635aa472d8cad265896d9a43f",
       "value": "<div style=\"font-size:medium; background-color:#ececec;padding-left:2px;\">Land Use</div>"
      }
     },
     "00c5cda254d347b880f9751b480c6ec4": {
      "model_module": "@jupyter-widgets/controls",
      "model_module_version": "1.5.0",
      "model_name": "HTMLModel",
      "state": {
       "_dom_classes": [],
       "_model_module": "@jupyter-widgets/controls",
       "_model_module_version": "1.5.0",
       "_model_name": "HTMLModel",
       "_view_count": null,
       "_view_module": "@jupyter-widgets/controls",
       "_view_module_version": "1.5.0",
       "_view_name": "HTMLView",
       "description": "",
       "description_tooltip": null,
       "layout": "IPY_MODEL_1a17608c7cf54c5293a88b93567107e5",
       "placeholder": "​",
       "style": "IPY_MODEL_87df822f761a46fcad81c9ee686f1df4",
       "value": "<div style=\"font-size:medium; background-color:#ececec;padding-left:2px;\">8.40</div>"
      }
     },
     "00d64714fe98493c85fd96dda37fcbc4": {
      "model_module": "@jupyter-widgets/controls",
      "model_module_version": "1.5.0",
      "model_name": "DescriptionStyleModel",
      "state": {
       "_model_module": "@jupyter-widgets/controls",
       "_model_module_version": "1.5.0",
       "_model_name": "DescriptionStyleModel",
       "_view_count": null,
       "_view_module": "@jupyter-widgets/base",
       "_view_module_version": "1.2.0",
       "_view_name": "StyleView",
       "description_width": "0px"
      }
     },
     "0189a7b21ab74131b80cbbae1c18b5f6": {
      "model_module": "@jupyter-widgets/controls",
      "model_module_version": "1.5.0",
      "model_name": "HTMLModel",
      "state": {
       "_dom_classes": [],
       "_model_module": "@jupyter-widgets/controls",
       "_model_module_version": "1.5.0",
       "_model_name": "HTMLModel",
       "_view_count": null,
       "_view_module": "@jupyter-widgets/controls",
       "_view_module_version": "1.5.0",
       "_view_name": "HTMLView",
       "description": "",
       "description_tooltip": null,
       "layout": "IPY_MODEL_1a17608c7cf54c5293a88b93567107e5",
       "placeholder": "​",
       "style": "IPY_MODEL_db6c55ca1799401682de86681db2861a",
       "value": "<div style=\"font-size:medium; background-color:#ececec;padding-left:2px;\">5.20</div>"
      }
     },
     "01e059b9cb67410ebda406ab8c4e2a64": {
      "model_module": "@jupyter-widgets/controls",
      "model_module_version": "1.5.0",
      "model_name": "HTMLModel",
      "state": {
       "_dom_classes": [],
       "_model_module": "@jupyter-widgets/controls",
       "_model_module_version": "1.5.0",
       "_model_name": "HTMLModel",
       "_view_count": null,
       "_view_module": "@jupyter-widgets/controls",
       "_view_module_version": "1.5.0",
       "_view_name": "HTMLView",
       "description": "",
       "description_tooltip": null,
       "layout": "IPY_MODEL_1a17608c7cf54c5293a88b93567107e5",
       "placeholder": "​",
       "style": "IPY_MODEL_beef7651e7854a18b5a1778398a40abc",
       "value": "<div style=\"font-size:medium; background-color:#ececec;padding-left:2px;\">0.16</div>"
      }
     },
     "01e7297d19d6428f82a05ee1bc817d35": {
      "model_module": "@jupyter-widgets/controls",
      "model_module_version": "1.5.0",
      "model_name": "HTMLModel",
      "state": {
       "_dom_classes": [],
       "_model_module": "@jupyter-widgets/controls",
       "_model_module_version": "1.5.0",
       "_model_name": "HTMLModel",
       "_view_count": null,
       "_view_module": "@jupyter-widgets/controls",
       "_view_module_version": "1.5.0",
       "_view_name": "HTMLView",
       "description": "",
       "description_tooltip": null,
       "layout": "IPY_MODEL_1a17608c7cf54c5293a88b93567107e5",
       "placeholder": "​",
       "style": "IPY_MODEL_0c5ba8a31ccf4b548593f048d8e55886",
       "value": "<div style=\"font-size:medium; background-color:#ececec;padding-left:2px;\">1.33</div>"
      }
     },
     "03b346d2bbf449e68be0130295da658d": {
      "model_module": "@jupyter-widgets/controls",
      "model_module_version": "1.5.0",
      "model_name": "VBoxModel",
      "state": {
       "_dom_classes": [],
       "_model_module": "@jupyter-widgets/controls",
       "_model_module_version": "1.5.0",
       "_model_name": "VBoxModel",
       "_view_count": null,
       "_view_module": "@jupyter-widgets/controls",
       "_view_module_version": "1.5.0",
       "_view_name": "VBoxView",
       "box_style": "",
       "children": [
        "IPY_MODEL_0a2832886ae842eca8a0971b56beffb1",
        "IPY_MODEL_3f68ed0e7e81439da604bee99487df26",
        "IPY_MODEL_526b7e617585421fb4928c20d8a4dfea",
        "IPY_MODEL_3d3a328f5e254945b1488fad2a49dc2e",
        "IPY_MODEL_4506af126ba04af59fc07b7883fd04ab",
        "IPY_MODEL_a45f27f7eb8746e682476f86d36c073d",
        "IPY_MODEL_8e75ae7c26ba4a11800170e0e0ade059",
        "IPY_MODEL_a6d1bea640b9405bba531a88489eaf25",
        "IPY_MODEL_cdc032e3842944a4928167eecd5c6fab",
        "IPY_MODEL_f85959a3623b4283a4ec154b58001a99",
        "IPY_MODEL_8fef7bc6803440b39256665c80045999",
        "IPY_MODEL_5e765f03df224889814785e6d42244ea",
        "IPY_MODEL_3b731e9b76e7482eaa313a368b6013d7",
        "IPY_MODEL_06c328fff48a424c92bea69a636a65b0",
        "IPY_MODEL_13a0fd2b94f140f790583daba1a2198a",
        "IPY_MODEL_76f237d8ecae4843b175dcc0b1922dd0",
        "IPY_MODEL_15e656b1454948abaf4faad4070939fc",
        "IPY_MODEL_56511cfbcfb64b7cb3fc854bc07cf660",
        "IPY_MODEL_305f665cd25641b79986e74c7c7a95e0",
        "IPY_MODEL_19bd19b65df141e89b089f7651e68655",
        "IPY_MODEL_75d6f2654d724999bb69487c54941b90",
        "IPY_MODEL_feda5e2316c048c9ab246605dd8a5bcd",
        "IPY_MODEL_396231ae1a764389bf80309febcd03ae",
        "IPY_MODEL_092c6f6d3eaa4664a83912fc4341f4e7",
        "IPY_MODEL_d0568e5e02604a6c80c21b2e4fb0ce5a",
        "IPY_MODEL_93032dd9446b49c8af2ecbe1cf35c810",
        "IPY_MODEL_d4d14409c3a44033a5177cf9f0806adb",
        "IPY_MODEL_926274cdf9f748019c8340230c68649a",
        "IPY_MODEL_e163947207234a9a8f3e32b6460f8609",
        "IPY_MODEL_7b461b9e9ded46238cf8c31bc2bb47cb",
        "IPY_MODEL_90726fd662d64c5a81ee05098b872e13",
        "IPY_MODEL_760512db6aca4b7ca9061ba0523e7b72",
        "IPY_MODEL_462462ef79fa4213aa89509714d0de66",
        "IPY_MODEL_d2a15dd579754bf39735ca4b9a3cd0f8",
        "IPY_MODEL_489f6bbe6b034b5b8ae28f8059ac55e5",
        "IPY_MODEL_54024c94667c44468aabe039a7583d06",
        "IPY_MODEL_7e840af4d0aa4b66a3925b41937688e5",
        "IPY_MODEL_926d7cc235b84dd49bf9f211aa2590c0",
        "IPY_MODEL_488858b20fff474995d0bac46cbd71f1",
        "IPY_MODEL_7dcfb088e96b45d18ffff38e9ae00faa",
        "IPY_MODEL_50b26ec338154fc6a17931dd356f389a",
        "IPY_MODEL_094dcaff72654b75ad6b736b45516d08",
        "IPY_MODEL_ea7fe400c1b54ea895d4ed0a74a54ea6",
        "IPY_MODEL_13edc45138054ceaa2399af12a45a160",
        "IPY_MODEL_fcb4c965d63949be819e709c7782b932",
        "IPY_MODEL_f07cb19ea4e74a559ab01602e4ad72b6",
        "IPY_MODEL_ba04c81ce4514df8bae019c9d5bbdc53",
        "IPY_MODEL_a802f9ad0b094e92a0a0a077ebb4f128",
        "IPY_MODEL_7fe9103993af4cda9fcecf1d5aa94575",
        "IPY_MODEL_94ebc96650a343b9ac5e399634280f2f",
        "IPY_MODEL_a3f0503406774ccc9fd5580793edd581",
        "IPY_MODEL_06753858ac5e463e8c49eff06449b794",
        "IPY_MODEL_e5576ffd6ba14633bfe5b91fa07b8bb1",
        "IPY_MODEL_bf382b2547a54f72ac23a67c064ab70c",
        "IPY_MODEL_fad74eee578740f9acd5d34e5bf691d9",
        "IPY_MODEL_3fb6a17c1576416d85f4a41d8c980a8c",
        "IPY_MODEL_c2efb61f3fbc45ef93700204153ccef3",
        "IPY_MODEL_59a5b0858b64459a998f07260048a575",
        "IPY_MODEL_5e39fd4547f34785a5a342c1eaa47edc",
        "IPY_MODEL_1c6071ed76944109ab72ef1901427cbc",
        "IPY_MODEL_f7aca649a29f4f77b8ba3de7ae6187b4",
        "IPY_MODEL_3d2d9e546e9b4054bffd7a615d0d9819",
        "IPY_MODEL_8fa8ff3a73424a518f500a817e7ab70e",
        "IPY_MODEL_ac68a5d2577e43b4960e4f88dd4dc512",
        "IPY_MODEL_d7ca9e3319e444199e0ef26ba51bfc66",
        "IPY_MODEL_1a2d69a307244cd8ade783e312504418",
        "IPY_MODEL_55367f3f69724373bc324f6281ebc5f1",
        "IPY_MODEL_594c096f81034cc2b7f292226ca821bd",
        "IPY_MODEL_5c14bfa4f02f4a528288f3a8924f565f",
        "IPY_MODEL_bdf18163424c4db1a3bfd2fe15caf603",
        "IPY_MODEL_50bc313d21a141a9aacff2ac6c4cc8b8",
        "IPY_MODEL_4a1f3f70e7b84853bf20ab332739ba89",
        "IPY_MODEL_a43dc03eb5f54292bb34b0f8e997b7b3",
        "IPY_MODEL_65825cc33a534472b219ed07c5d9c0cf",
        "IPY_MODEL_4d228640bf114050bb5e3c4c052823d2",
        "IPY_MODEL_8755f7bc05cf45089d7e2da3664bbcb4",
        "IPY_MODEL_3c355cb13a434b61a098e6e39a773841",
        "IPY_MODEL_cb4d417a02f0438db92382d14dd2f1e0",
        "IPY_MODEL_bb14cbed38bc47d383c6d6016c4af156",
        "IPY_MODEL_fb7ac0dcec054e089dbc8befdd2d44bf"
       ],
       "layout": "IPY_MODEL_da693f26e7f941039be116cae20a6f93"
      }
     },
     "0459466656404f0ea7e34f7fd8561bf8": {
      "model_module": "@jupyter-widgets/controls",
      "model_module_version": "1.5.0",
      "model_name": "HTMLModel",
      "state": {
       "_dom_classes": [],
       "_model_module": "@jupyter-widgets/controls",
       "_model_module_version": "1.5.0",
       "_model_name": "HTMLModel",
       "_view_count": null,
       "_view_module": "@jupyter-widgets/controls",
       "_view_module_version": "1.5.0",
       "_view_name": "HTMLView",
       "description": "",
       "description_tooltip": null,
       "layout": "IPY_MODEL_0fc6d0e36882466aaf8b89d9494bcb4b",
       "placeholder": "​",
       "style": "IPY_MODEL_27c3b700074d40d9866264749f111142",
       "value": "<div style=\"font-size:medium; background-color:#ececec;padding-left:2px;\">Educating Girls</div>"
      }
     },
     "04d6942f1f784bebad476eab288bd42c": {
      "model_module": "@jupyter-widgets/controls",
      "model_module_version": "1.5.0",
      "model_name": "HTMLModel",
      "state": {
       "_dom_classes": [],
       "_model_module": "@jupyter-widgets/controls",
       "_model_module_version": "1.5.0",
       "_model_name": "HTMLModel",
       "_view_count": null,
       "_view_module": "@jupyter-widgets/controls",
       "_view_module_version": "1.5.0",
       "_view_name": "HTMLView",
       "description": "",
       "description_tooltip": null,
       "layout": "IPY_MODEL_1a17608c7cf54c5293a88b93567107e5",
       "placeholder": "​",
       "style": "IPY_MODEL_a2478675e0c64ceea62250a7c0563f80",
       "value": "<div style=\"font-size:medium; background-color:white;padding-left:2px;\">89.74</div>"
      }
     },
     "051db32b2d2b42d4988c24d9248b4802": {
      "model_module": "@jupyter-widgets/controls",
      "model_module_version": "1.5.0",
      "model_name": "DescriptionStyleModel",
      "state": {
       "_model_module": "@jupyter-widgets/controls",
       "_model_module_version": "1.5.0",
       "_model_name": "DescriptionStyleModel",
       "_view_count": null,
       "_view_module": "@jupyter-widgets/base",
       "_view_module_version": "1.2.0",
       "_view_name": "StyleView",
       "description_width": ""
      }
     },
     "0546d937ad3d4d87b6a3bf5576effce2": {
      "model_module": "@jupyter-widgets/controls",
      "model_module_version": "1.5.0",
      "model_name": "HTMLModel",
      "state": {
       "_dom_classes": [],
       "_model_module": "@jupyter-widgets/controls",
       "_model_module_version": "1.5.0",
       "_model_name": "HTMLModel",
       "_view_count": null,
       "_view_module": "@jupyter-widgets/controls",
       "_view_module_version": "1.5.0",
       "_view_name": "HTMLView",
       "description": "",
       "description_tooltip": null,
       "layout": "IPY_MODEL_bdef4bf3c7424855b736b0fa72c837ed",
       "placeholder": "​",
       "style": "IPY_MODEL_8bb6d1211008465bba481efdd48cbe10",
       "value": "<div></div>"
      }
     },
     "065189192dd6459b9a156a0c7e1b4fc3": {
      "model_module": "@jupyter-widgets/controls",
      "model_module_version": "1.5.0",
      "model_name": "DescriptionStyleModel",
      "state": {
       "_model_module": "@jupyter-widgets/controls",
       "_model_module_version": "1.5.0",
       "_model_name": "DescriptionStyleModel",
       "_view_count": null,
       "_view_module": "@jupyter-widgets/base",
       "_view_module_version": "1.2.0",
       "_view_name": "StyleView",
       "description_width": ""
      }
     },
     "06753858ac5e463e8c49eff06449b794": {
      "model_module": "@jupyter-widgets/controls",
      "model_module_version": "1.5.0",
      "model_name": "HBoxModel",
      "state": {
       "_dom_classes": [],
       "_model_module": "@jupyter-widgets/controls",
       "_model_module_version": "1.5.0",
       "_model_name": "HBoxModel",
       "_view_count": null,
       "_view_module": "@jupyter-widgets/controls",
       "_view_module_version": "1.5.0",
       "_view_name": "HBoxView",
       "box_style": "",
       "children": [
        "IPY_MODEL_786eead875fd48b58c5b36fc38cb8326",
        "IPY_MODEL_0cdb7edd095447718cf884c03e3a13ea",
        "IPY_MODEL_faa8e496794f4672b83c5af515ebdc98",
        "IPY_MODEL_2beb9c3bc3a64892a46bc9b63d762132"
       ],
       "layout": "IPY_MODEL_804c51697f2b4229a0f02be6b85b1659"
      }
     },
     "069cacd4ce1c4db5bd72701ee685a3e8": {
      "model_module": "@jupyter-widgets/controls",
      "model_module_version": "1.5.0",
      "model_name": "DescriptionStyleModel",
      "state": {
       "_model_module": "@jupyter-widgets/controls",
       "_model_module_version": "1.5.0",
       "_model_name": "DescriptionStyleModel",
       "_view_count": null,
       "_view_module": "@jupyter-widgets/base",
       "_view_module_version": "1.2.0",
       "_view_name": "StyleView",
       "description_width": ""
      }
     },
     "06c328fff48a424c92bea69a636a65b0": {
      "model_module": "@jupyter-widgets/controls",
      "model_module_version": "1.5.0",
      "model_name": "HBoxModel",
      "state": {
       "_dom_classes": [],
       "_model_module": "@jupyter-widgets/controls",
       "_model_module_version": "1.5.0",
       "_model_name": "HBoxModel",
       "_view_count": null,
       "_view_module": "@jupyter-widgets/controls",
       "_view_module_version": "1.5.0",
       "_view_name": "HBoxView",
       "box_style": "",
       "children": [
        "IPY_MODEL_de50cae58c9e431090889c36869c1d82",
        "IPY_MODEL_9eb5898e73f24ce89477ec1be4794b42",
        "IPY_MODEL_9ab9b74b7224413b9e450f0f0e0c08c1",
        "IPY_MODEL_5ab2c1d8d41241f09e3374c576159b93"
       ],
       "layout": "IPY_MODEL_804c51697f2b4229a0f02be6b85b1659"
      }
     },
     "070df4d398e0488bbdc9ea533537f684": {
      "model_module": "@jupyter-widgets/controls",
      "model_module_version": "1.5.0",
      "model_name": "CheckboxModel",
      "state": {
       "_dom_classes": [
        "checkbox_womensmallholders"
       ],
       "_model_module": "@jupyter-widgets/controls",
       "_model_module_version": "1.5.0",
       "_model_name": "CheckboxModel",
       "_view_count": null,
       "_view_module": "@jupyter-widgets/controls",
       "_view_module_version": "1.5.0",
       "_view_name": "CheckboxView",
       "description": "",
       "description_tooltip": null,
       "disabled": false,
       "indent": true,
       "layout": "IPY_MODEL_bdef4bf3c7424855b736b0fa72c837ed",
       "style": "IPY_MODEL_cb339d8f19274ecf8d344d93a594de0f",
       "value": false
      }
     },
     "07d83b3362644f7bbe58845962710923": {
      "model_module": "@jupyter-widgets/controls",
      "model_module_version": "1.5.0",
      "model_name": "HTMLModel",
      "state": {
       "_dom_classes": [],
       "_model_module": "@jupyter-widgets/controls",
       "_model_module_version": "1.5.0",
       "_model_name": "HTMLModel",
       "_view_count": null,
       "_view_module": "@jupyter-widgets/controls",
       "_view_module_version": "1.5.0",
       "_view_name": "HTMLView",
       "description": "",
       "description_tooltip": null,
       "layout": "IPY_MODEL_2adb518af7044a69aad2c2de3ca0c421",
       "placeholder": "​",
       "style": "IPY_MODEL_af9e244f60364dfaaec6c71e28647c51",
       "value": "<div style=\"font-size:medium; background-color:#ececec;padding-left:2px;\">Buildings and Cities</div>"
      }
     },
     "0812d7f219074c93a34634d9d200e37c": {
      "model_module": "@jupyter-widgets/controls",
      "model_module_version": "1.5.0",
      "model_name": "HTMLModel",
      "state": {
       "_dom_classes": [],
       "_model_module": "@jupyter-widgets/controls",
       "_model_module_version": "1.5.0",
       "_model_name": "HTMLModel",
       "_view_count": null,
       "_view_module": "@jupyter-widgets/controls",
       "_view_module_version": "1.5.0",
       "_view_name": "HTMLView",
       "description": "",
       "description_tooltip": null,
       "layout": "IPY_MODEL_1a17608c7cf54c5293a88b93567107e5",
       "placeholder": "​",
       "style": "IPY_MODEL_1e1deab268014ba3999b4a25dc4749e8",
       "value": "<div style=\"font-size:medium; background-color:#ececec;padding-left:2px;\">0.52</div>"
      }
     },
     "0864ec68aaf546fea1f989b0399bdec7": {
      "model_module": "@jupyter-widgets/controls",
      "model_module_version": "1.5.0",
      "model_name": "CheckboxModel",
      "state": {
       "_dom_classes": [
        "checkbox_"
       ],
       "_model_module": "@jupyter-widgets/controls",
       "_model_module_version": "1.5.0",
       "_model_name": "CheckboxModel",
       "_view_count": null,
       "_view_module": "@jupyter-widgets/controls",
       "_view_module_version": "1.5.0",
       "_view_name": "CheckboxView",
       "description": "",
       "description_tooltip": null,
       "disabled": true,
       "indent": true,
       "layout": "IPY_MODEL_bdef4bf3c7424855b736b0fa72c837ed",
       "style": "IPY_MODEL_620f72acae8e41699c981c82e4c17040",
       "value": false
      }
     },
     "088831fb30724ce1b085b70076589c4a": {
      "model_module": "@jupyter-widgets/controls",
      "model_module_version": "1.5.0",
      "model_name": "DescriptionStyleModel",
      "state": {
       "_model_module": "@jupyter-widgets/controls",
       "_model_module_version": "1.5.0",
       "_model_name": "DescriptionStyleModel",
       "_view_count": null,
       "_view_module": "@jupyter-widgets/base",
       "_view_module_version": "1.2.0",
       "_view_name": "StyleView",
       "description_width": ""
      }
     },
     "09119821aad44ace8c5a550ab30605dc": {
      "model_module": "@jupyter-widgets/controls",
      "model_module_version": "1.5.0",
      "model_name": "DescriptionStyleModel",
      "state": {
       "_model_module": "@jupyter-widgets/controls",
       "_model_module_version": "1.5.0",
       "_model_name": "DescriptionStyleModel",
       "_view_count": null,
       "_view_module": "@jupyter-widgets/base",
       "_view_module_version": "1.2.0",
       "_view_name": "StyleView",
       "description_width": ""
      }
     },
     "092c6f6d3eaa4664a83912fc4341f4e7": {
      "model_module": "@jupyter-widgets/controls",
      "model_module_version": "1.5.0",
      "model_name": "HBoxModel",
      "state": {
       "_dom_classes": [],
       "_model_module": "@jupyter-widgets/controls",
       "_model_module_version": "1.5.0",
       "_model_name": "HBoxModel",
       "_view_count": null,
       "_view_module": "@jupyter-widgets/controls",
       "_view_module_version": "1.5.0",
       "_view_name": "HBoxView",
       "box_style": "",
       "children": [
        "IPY_MODEL_5d68c55825194b2b9ff947671c389eec",
        "IPY_MODEL_3efb7e177f704cc9b6211e728f6dcbf3",
        "IPY_MODEL_1d5a440c89bd4d55aa199afdb4e267da",
        "IPY_MODEL_b783bdf06d3f40efbdf6e7574978c46f"
       ],
       "layout": "IPY_MODEL_804c51697f2b4229a0f02be6b85b1659"
      }
     },
     "094dcaff72654b75ad6b736b45516d08": {
      "model_module": "@jupyter-widgets/controls",
      "model_module_version": "1.5.0",
      "model_name": "HBoxModel",
      "state": {
       "_dom_classes": [],
       "_model_module": "@jupyter-widgets/controls",
       "_model_module_version": "1.5.0",
       "_model_name": "HBoxModel",
       "_view_count": null,
       "_view_module": "@jupyter-widgets/controls",
       "_view_module_version": "1.5.0",
       "_view_name": "HBoxView",
       "box_style": "",
       "children": [
        "IPY_MODEL_744a7b83e58648a885db22a89c959d56",
        "IPY_MODEL_fb91a19b4e3f4a09b629ebb7da4512f3",
        "IPY_MODEL_d8d308a8869e43cb88bd6d90df1feaed",
        "IPY_MODEL_42b4ae6c959a452b90a23bc96d14ae79"
       ],
       "layout": "IPY_MODEL_804c51697f2b4229a0f02be6b85b1659"
      }
     },
     "09df5522d8414bc69a4c6754b78afd52": {
      "model_module": "@jupyter-widgets/controls",
      "model_module_version": "1.5.0",
      "model_name": "CheckboxModel",
      "state": {
       "_dom_classes": [
        "checkbox_smartglass"
       ],
       "_model_module": "@jupyter-widgets/controls",
       "_model_module_version": "1.5.0",
       "_model_name": "CheckboxModel",
       "_view_count": null,
       "_view_module": "@jupyter-widgets/controls",
       "_view_module_version": "1.5.0",
       "_view_name": "CheckboxView",
       "description": "",
       "description_tooltip": null,
       "disabled": false,
       "indent": true,
       "layout": "IPY_MODEL_bdef4bf3c7424855b736b0fa72c837ed",
       "style": "IPY_MODEL_7e2836a6a763423ab2cf737c6650a597",
       "value": false
      }
     },
     "0a1b0f6d2a364119856df947c4718839": {
      "model_module": "@jupyter-widgets/controls",
      "model_module_version": "1.5.0",
      "model_name": "DescriptionStyleModel",
      "state": {
       "_model_module": "@jupyter-widgets/controls",
       "_model_module_version": "1.5.0",
       "_model_name": "DescriptionStyleModel",
       "_view_count": null,
       "_view_module": "@jupyter-widgets/base",
       "_view_module_version": "1.2.0",
       "_view_name": "StyleView",
       "description_width": ""
      }
     },
     "0a2832886ae842eca8a0971b56beffb1": {
      "model_module": "@jupyter-widgets/controls",
      "model_module_version": "1.5.0",
      "model_name": "HBoxModel",
      "state": {
       "_dom_classes": [],
       "_model_module": "@jupyter-widgets/controls",
       "_model_module_version": "1.5.0",
       "_model_name": "HBoxModel",
       "_view_count": null,
       "_view_module": "@jupyter-widgets/controls",
       "_view_module_version": "1.5.0",
       "_view_name": "HBoxView",
       "box_style": "",
       "children": [
        "IPY_MODEL_32a6311f91454ffea1e4c005253848c9",
        "IPY_MODEL_7d61d2a8314140ffb401e6f76694eb45",
        "IPY_MODEL_cfc7b06c1c354d218e4c1148537c91e4",
        "IPY_MODEL_0546d937ad3d4d87b6a3bf5576effce2"
       ],
       "layout": "IPY_MODEL_804c51697f2b4229a0f02be6b85b1659"
      }
     },
     "0b036fcf2dc941e58f70f5f56c058eb9": {
      "model_module": "@jupyter-widgets/controls",
      "model_module_version": "1.5.0",
      "model_name": "DescriptionStyleModel",
      "state": {
       "_model_module": "@jupyter-widgets/controls",
       "_model_module_version": "1.5.0",
       "_model_name": "DescriptionStyleModel",
       "_view_count": null,
       "_view_module": "@jupyter-widgets/base",
       "_view_module_version": "1.2.0",
       "_view_name": "StyleView",
       "description_width": ""
      }
     },
     "0b0a30e7628a42d8ac7b1d00943cfeff": {
      "model_module": "@jupyter-widgets/controls",
      "model_module_version": "1.5.0",
      "model_name": "DescriptionStyleModel",
      "state": {
       "_model_module": "@jupyter-widgets/controls",
       "_model_module_version": "1.5.0",
       "_model_name": "DescriptionStyleModel",
       "_view_count": null,
       "_view_module": "@jupyter-widgets/base",
       "_view_module_version": "1.2.0",
       "_view_name": "StyleView",
       "description_width": "0px"
      }
     },
     "0bd49321da7a44258163862fcc039a06": {
      "model_module": "@jupyter-widgets/controls",
      "model_module_version": "1.5.0",
      "model_name": "DescriptionStyleModel",
      "state": {
       "_model_module": "@jupyter-widgets/controls",
       "_model_module_version": "1.5.0",
       "_model_name": "DescriptionStyleModel",
       "_view_count": null,
       "_view_module": "@jupyter-widgets/base",
       "_view_module_version": "1.2.0",
       "_view_name": "StyleView",
       "description_width": ""
      }
     },
     "0c0ef0b7af3a40279fe6795c5afa339b": {
      "model_module": "@jupyter-widgets/controls",
      "model_module_version": "1.5.0",
      "model_name": "DescriptionStyleModel",
      "state": {
       "_model_module": "@jupyter-widgets/controls",
       "_model_module_version": "1.5.0",
       "_model_name": "DescriptionStyleModel",
       "_view_count": null,
       "_view_module": "@jupyter-widgets/base",
       "_view_module_version": "1.2.0",
       "_view_name": "StyleView",
       "description_width": "0px"
      }
     },
     "0c3867173a394495906ff6610d2257e6": {
      "model_module": "@jupyter-widgets/controls",
      "model_module_version": "1.5.0",
      "model_name": "HTMLModel",
      "state": {
       "_dom_classes": [],
       "_model_module": "@jupyter-widgets/controls",
       "_model_module_version": "1.5.0",
       "_model_name": "HTMLModel",
       "_view_count": null,
       "_view_module": "@jupyter-widgets/controls",
       "_view_module_version": "1.5.0",
       "_view_name": "HTMLView",
       "description": "",
       "description_tooltip": null,
       "layout": "IPY_MODEL_0fc6d0e36882466aaf8b89d9494bcb4b",
       "placeholder": "​",
       "style": "IPY_MODEL_34ca9a3bc67f4787915d89420d6749b6",
       "value": "<div style=\"font-size:medium; background-color:white;padding-left:2px;\">LED Lighting (Household)</div>"
      }
     },
     "0c3bbaca713e43608290536908357339": {
      "model_module": "@jupyter-widgets/controls",
      "model_module_version": "1.5.0",
      "model_name": "VBoxModel",
      "state": {
       "_dom_classes": [],
       "_model_module": "@jupyter-widgets/controls",
       "_model_module_version": "1.5.0",
       "_model_name": "VBoxModel",
       "_view_count": null,
       "_view_module": "@jupyter-widgets/controls",
       "_view_module_version": "1.5.0",
       "_view_name": "VBoxView",
       "box_style": "",
       "children": [
        "IPY_MODEL_62389dbad4184cf895f1a6bf3b602d9f",
        "IPY_MODEL_126a8291923344aca73177d865656418"
       ],
       "layout": "IPY_MODEL_64dac6265a074cbeb29727013924c56b"
      }
     },
     "0c5ba8a31ccf4b548593f048d8e55886": {
      "model_module": "@jupyter-widgets/controls",
      "model_module_version": "1.5.0",
      "model_name": "DescriptionStyleModel",
      "state": {
       "_model_module": "@jupyter-widgets/controls",
       "_model_module_version": "1.5.0",
       "_model_name": "DescriptionStyleModel",
       "_view_count": null,
       "_view_module": "@jupyter-widgets/base",
       "_view_module_version": "1.2.0",
       "_view_name": "StyleView",
       "description_width": ""
      }
     },
     "0cdb7edd095447718cf884c03e3a13ea": {
      "model_module": "@jupyter-widgets/controls",
      "model_module_version": "1.5.0",
      "model_name": "HTMLModel",
      "state": {
       "_dom_classes": [],
       "_model_module": "@jupyter-widgets/controls",
       "_model_module_version": "1.5.0",
       "_model_name": "HTMLModel",
       "_view_count": null,
       "_view_module": "@jupyter-widgets/controls",
       "_view_module_version": "1.5.0",
       "_view_name": "HTMLView",
       "description": "",
       "description_tooltip": null,
       "layout": "IPY_MODEL_2adb518af7044a69aad2c2de3ca0c421",
       "placeholder": "​",
       "style": "IPY_MODEL_5a14f9abe76f493ea3b1cadab18cb7b3",
       "value": "<div style=\"font-size:medium; background-color:white;padding-left:2px;\">Women and Girls</div>"
      }
     },
     "0cf2742419e74c8eaafa8c4ec89205a8": {
      "model_module": "@jupyter-widgets/controls",
      "model_module_version": "1.5.0",
      "model_name": "DescriptionStyleModel",
      "state": {
       "_model_module": "@jupyter-widgets/controls",
       "_model_module_version": "1.5.0",
       "_model_name": "DescriptionStyleModel",
       "_view_count": null,
       "_view_module": "@jupyter-widgets/base",
       "_view_module_version": "1.2.0",
       "_view_name": "StyleView",
       "description_width": ""
      }
     },
     "0d2cff223b5d439fb1258e27fd0eb9bd": {
      "model_module": "@jupyter-widgets/controls",
      "model_module_version": "1.5.0",
      "model_name": "HTMLModel",
      "state": {
       "_dom_classes": [],
       "_model_module": "@jupyter-widgets/controls",
       "_model_module_version": "1.5.0",
       "_model_name": "HTMLModel",
       "_view_count": null,
       "_view_module": "@jupyter-widgets/controls",
       "_view_module_version": "1.5.0",
       "_view_name": "HTMLView",
       "description": "",
       "description_tooltip": null,
       "layout": "IPY_MODEL_2adb518af7044a69aad2c2de3ca0c421",
       "placeholder": "​",
       "style": "IPY_MODEL_ab9cac7dcf6a48a7be62b989028262a8",
       "value": "<div style=\"font-size:medium; background-color:#ececec;padding-left:2px;\">Materials</div>"
      }
     },
     "0d63e7c518f340a5aa9fc998b42eecd0": {
      "model_module": "@jupyter-widgets/controls",
      "model_module_version": "1.5.0",
      "model_name": "HTMLModel",
      "state": {
       "_dom_classes": [],
       "_model_module": "@jupyter-widgets/controls",
       "_model_module_version": "1.5.0",
       "_model_name": "HTMLModel",
       "_view_count": null,
       "_view_module": "@jupyter-widgets/controls",
       "_view_module_version": "1.5.0",
       "_view_name": "HTMLView",
       "description": "",
       "description_tooltip": null,
       "layout": "IPY_MODEL_0fc6d0e36882466aaf8b89d9494bcb4b",
       "placeholder": "​",
       "style": "IPY_MODEL_4c993a627c9545febe942fe6a0a54256",
       "value": "<div style=\"font-size:medium; background-color:white;padding-left:2px;\">Smart Glass</div>"
      }
     },
     "0da99a78eb5142dc9d2600cfdaef9dbe": {
      "model_module": "@jupyter-widgets/controls",
      "model_module_version": "1.5.0",
      "model_name": "DescriptionStyleModel",
      "state": {
       "_model_module": "@jupyter-widgets/controls",
       "_model_module_version": "1.5.0",
       "_model_name": "DescriptionStyleModel",
       "_view_count": null,
       "_view_module": "@jupyter-widgets/base",
       "_view_module_version": "1.2.0",
       "_view_name": "StyleView",
       "description_width": ""
      }
     },
     "0e6c52745c7a42868161721d8fa6afc0": {
      "model_module": "@jupyter-widgets/controls",
      "model_module_version": "1.5.0",
      "model_name": "HTMLModel",
      "state": {
       "_dom_classes": [],
       "_model_module": "@jupyter-widgets/controls",
       "_model_module_version": "1.5.0",
       "_model_name": "HTMLModel",
       "_view_count": null,
       "_view_module": "@jupyter-widgets/controls",
       "_view_module_version": "1.5.0",
       "_view_name": "HTMLView",
       "description": "",
       "description_tooltip": null,
       "layout": "IPY_MODEL_2adb518af7044a69aad2c2de3ca0c421",
       "placeholder": "​",
       "style": "IPY_MODEL_2e3252d2152e46e98a6e96dd94bf9f95",
       "value": "<div style=\"font-size:medium; background-color:white;padding-left:2px;\">Materials</div>"
      }
     },
     "0e73c4b3f9ae4519aa167183e1b036aa": {
      "model_module": "@jupyter-widgets/controls",
      "model_module_version": "1.5.0",
      "model_name": "DescriptionStyleModel",
      "state": {
       "_model_module": "@jupyter-widgets/controls",
       "_model_module_version": "1.5.0",
       "_model_name": "DescriptionStyleModel",
       "_view_count": null,
       "_view_module": "@jupyter-widgets/base",
       "_view_module_version": "1.2.0",
       "_view_name": "StyleView",
       "description_width": ""
      }
     },
     "0ee16d14ef2a46708ec3644f5a02da8f": {
      "model_module": "@jupyter-widgets/controls",
      "model_module_version": "1.5.0",
      "model_name": "DescriptionStyleModel",
      "state": {
       "_model_module": "@jupyter-widgets/controls",
       "_model_module_version": "1.5.0",
       "_model_name": "DescriptionStyleModel",
       "_view_count": null,
       "_view_module": "@jupyter-widgets/base",
       "_view_module_version": "1.2.0",
       "_view_name": "StyleView",
       "description_width": ""
      }
     },
     "0f5640b6ab48471685beced0870c959f": {
      "model_module": "@jupyter-widgets/controls",
      "model_module_version": "1.5.0",
      "model_name": "HTMLModel",
      "state": {
       "_dom_classes": [],
       "_model_module": "@jupyter-widgets/controls",
       "_model_module_version": "1.5.0",
       "_model_name": "HTMLModel",
       "_view_count": null,
       "_view_module": "@jupyter-widgets/controls",
       "_view_module_version": "1.5.0",
       "_view_name": "HTMLView",
       "description": "",
       "description_tooltip": null,
       "layout": "IPY_MODEL_0fc6d0e36882466aaf8b89d9494bcb4b",
       "placeholder": "​",
       "style": "IPY_MODEL_a8bc7539e08748659a4e9168141b854c",
       "value": "<div style=\"font-size:medium; background-color:#ececec;padding-left:2px;\">Heat Pumps</div>"
      }
     },
     "0f9d25476a124f2f8a550a3a7fef792c": {
      "model_module": "@jupyter-widgets/controls",
      "model_module_version": "1.5.0",
      "model_name": "HTMLModel",
      "state": {
       "_dom_classes": [],
       "_model_module": "@jupyter-widgets/controls",
       "_model_module_version": "1.5.0",
       "_model_name": "HTMLModel",
       "_view_count": null,
       "_view_module": "@jupyter-widgets/controls",
       "_view_module_version": "1.5.0",
       "_view_name": "HTMLView",
       "description": "",
       "description_tooltip": null,
       "layout": "IPY_MODEL_1a17608c7cf54c5293a88b93567107e5",
       "placeholder": "​",
       "style": "IPY_MODEL_3068774eb0ee4ddcacc372f588151413",
       "value": "<div style=\"font-size:medium; background-color:white;padding-left:2px;\">1.90</div>"
      }
     },
     "0fc6d0e36882466aaf8b89d9494bcb4b": {
      "model_module": "@jupyter-widgets/base",
      "model_module_version": "1.2.0",
      "model_name": "LayoutModel",
      "state": {
       "_model_module": "@jupyter-widgets/base",
       "_model_module_version": "1.2.0",
       "_model_name": "LayoutModel",
       "_view_count": null,
       "_view_module": "@jupyter-widgets/base",
       "_view_module_version": "1.2.0",
       "_view_name": "LayoutView",
       "align_content": null,
       "align_items": null,
       "align_self": null,
       "border": null,
       "bottom": null,
       "display": null,
       "flex": "12 1 0%",
       "flex_flow": null,
       "grid_area": null,
       "grid_auto_columns": null,
       "grid_auto_flow": null,
       "grid_auto_rows": null,
       "grid_column": null,
       "grid_gap": null,
       "grid_row": null,
       "grid_template_areas": null,
       "grid_template_columns": null,
       "grid_template_rows": null,
       "height": null,
       "justify_content": null,
       "justify_items": null,
       "left": null,
       "margin": null,
       "max_height": null,
       "max_width": null,
       "min_height": null,
       "min_width": null,
       "object_fit": null,
       "object_position": null,
       "order": null,
       "overflow": null,
       "overflow_x": null,
       "overflow_y": null,
       "padding": null,
       "right": null,
       "top": null,
       "visibility": null,
       "width": "auto"
      }
     },
     "1058a8633cdf47c8a5452f1599ef8a7d": {
      "model_module": "@jupyter-widgets/controls",
      "model_module_version": "1.5.0",
      "model_name": "DescriptionStyleModel",
      "state": {
       "_model_module": "@jupyter-widgets/controls",
       "_model_module_version": "1.5.0",
       "_model_name": "DescriptionStyleModel",
       "_view_count": null,
       "_view_module": "@jupyter-widgets/base",
       "_view_module_version": "1.2.0",
       "_view_name": "StyleView",
       "description_width": ""
      }
     },
     "105c1203ebdc48c588fe367806ce6742": {
      "model_module": "@jupyter-widgets/controls",
      "model_module_version": "1.5.0",
      "model_name": "HTMLModel",
      "state": {
       "_dom_classes": [],
       "_model_module": "@jupyter-widgets/controls",
       "_model_module_version": "1.5.0",
       "_model_name": "HTMLModel",
       "_view_count": null,
       "_view_module": "@jupyter-widgets/controls",
       "_view_module_version": "1.5.0",
       "_view_name": "HTMLView",
       "description": "",
       "description_tooltip": null,
       "layout": "IPY_MODEL_2adb518af7044a69aad2c2de3ca0c421",
       "placeholder": "​",
       "style": "IPY_MODEL_b7efaeb9958c435585409955ad3d9b77",
       "value": "<div style=\"font-size:medium; background-color:white;padding-left:2px;\">Food</div>"
      }
     },
     "1160e4939cbc4f2494fe2da9b8885444": {
      "model_module": "@jupyter-widgets/controls",
      "model_module_version": "1.5.0",
      "model_name": "HTMLModel",
      "state": {
       "_dom_classes": [],
       "_model_module": "@jupyter-widgets/controls",
       "_model_module_version": "1.5.0",
       "_model_name": "HTMLModel",
       "_view_count": null,
       "_view_module": "@jupyter-widgets/controls",
       "_view_module_version": "1.5.0",
       "_view_name": "HTMLView",
       "description": "",
       "description_tooltip": null,
       "layout": "IPY_MODEL_1a17608c7cf54c5293a88b93567107e5",
       "placeholder": "​",
       "style": "IPY_MODEL_4c5fb10b95634059853ee4a8d7540d30",
       "value": "<div style=\"font-size:medium; background-color:white;padding-left:2px;\">9.20</div>"
      }
     },
     "11652388f23e444387c79e5c4bb71e6b": {
      "model_module": "@jupyter-widgets/controls",
      "model_module_version": "1.5.0",
      "model_name": "DescriptionStyleModel",
      "state": {
       "_model_module": "@jupyter-widgets/controls",
       "_model_module_version": "1.5.0",
       "_model_name": "DescriptionStyleModel",
       "_view_count": null,
       "_view_module": "@jupyter-widgets/base",
       "_view_module_version": "1.2.0",
       "_view_name": "StyleView",
       "description_width": ""
      }
     },
     "11f7112dea634b94861dcc6105030b17": {
      "model_module": "@jupyter-widgets/controls",
      "model_module_version": "1.5.0",
      "model_name": "DescriptionStyleModel",
      "state": {
       "_model_module": "@jupyter-widgets/controls",
       "_model_module_version": "1.5.0",
       "_model_name": "DescriptionStyleModel",
       "_view_count": null,
       "_view_module": "@jupyter-widgets/base",
       "_view_module_version": "1.2.0",
       "_view_name": "StyleView",
       "description_width": ""
      }
     },
     "126a8291923344aca73177d865656418": {
      "model_module": "@jupyter-widgets/base",
      "model_module_version": "1.2.0",
      "model_name": "DOMWidgetModel",
      "state": {
       "_dom_classes": [],
       "_model_module": "@jupyter-widgets/base",
       "_model_module_version": "1.2.0",
       "_model_name": "DOMWidgetModel",
       "_opt_source": "null",
       "_spec_source": "{\"$schema\": \"https://vega.github.io/schema/vega/v4.json\", \"width\": 400, \"height\": 800, \"padding\": 2.5, \"autosize\": \"none\", \"signals\": [{\"name\": \"layout\", \"value\": \"squarify\"}, {\"name\": \"aspectRatio\", \"value\": 1.4}], \"data\": [{\"name\": \"drawdown\", \"values\": [{\"id\": 1}, {\"id\": 2, \"parent\": 1}, {\"id\": 3, \"parent\": 1}, {\"id\": 4, \"parent\": 1}, {\"id\": 5, \"name\": \"Transport\", \"parent\": 2, \"color\": \"Teal\"}, {\"id\": 6, \"name\": \"Oceans\", \"parent\": 2, \"color\": \"Aquamarine\"}, {\"id\": 7, \"name\": \"Materials\", \"parent\": 2, \"color\": \"RebeccaPurple\"}, {\"id\": 8, \"name\": \"Electricity Generation\", \"parent\": 3, \"color\": \"Peru\"}, {\"id\": 9, \"name\": \"Food\", \"parent\": 3, \"color\": \"PeachPuff\"}, {\"id\": 10, \"name\": \"Land Use\", \"parent\": 4, \"color\": \"Green\"}, {\"id\": 11, \"name\": \"Buildings and Cities\", \"parent\": 4, \"color\": \"SteelBlue\"}, {\"id\": 12, \"name\": \"Women and Girls\", \"parent\": 4, \"color\": \"DarkGoldenRod\"}, {\"id\": 13, \"name\": \"Refrigerant Management\", \"parent\": 7, \"size\": 89.74}, {\"id\": 14, \"name\": \"Wind Turbines (Onshore)\", \"parent\": 8, \"size\": 84.6}, {\"id\": 15, \"name\": \"Reduced Food Waste\", \"parent\": 9, \"size\": 70.53}, {\"id\": 16, \"name\": \"Plant-Rich Diet\", \"parent\": 9, \"size\": 66.11}, {\"id\": 17, \"name\": \"Tropical Forests\", \"parent\": 10, \"size\": 61.23}, {\"id\": 18, \"name\": \"Educating Girls\", \"parent\": 12, \"size\": 51.48}, {\"id\": 19, \"name\": \"Family Planning\", \"parent\": 12, \"size\": 51.48}, {\"id\": 20, \"name\": \"Solar Farms\", \"parent\": 8, \"size\": 36.9}, {\"id\": 21, \"name\": \"Silvopasture\", \"parent\": 9, \"size\": 31.19}, {\"id\": 22, \"name\": \"Rooftop Solar\", \"parent\": 8, \"size\": 24.6}, {\"id\": 23, \"name\": \"Regenerative Agriculture\", \"parent\": 9, \"size\": 23.15}, {\"id\": 24, \"name\": \"Temperate Forests\", \"parent\": 10, \"size\": 22.61}, {\"id\": 25, \"name\": \"Peatlands\", \"parent\": 10, \"size\": 21.57}, {\"id\": 26, \"name\": \"Tropical Staple Trees\", \"parent\": 9, \"size\": 20.19}, {\"id\": 27, \"name\": \"Afforestation\", \"parent\": 10, \"size\": 18.06}, {\"id\": 28, \"name\": \"Conservation Agriculture\", \"parent\": 9, \"size\": 17.35}, {\"id\": 29, \"name\": \"Tree Intercropping\", \"parent\": 9, \"size\": 17.2}, {\"id\": 30, \"name\": \"Geothermal\", \"parent\": 8, \"size\": 16.6}, {\"id\": 31, \"name\": \"Managed Grazing\", \"parent\": 9, \"size\": 16.34}, {\"id\": 32, \"name\": \"Nuclear\", \"parent\": 8, \"size\": 16.09}, {\"id\": 33, \"name\": \"Clean Cookstoves\", \"parent\": 9, \"size\": 15.81}, {\"id\": 34, \"name\": \"Wind Turbines (Offshore)\", \"parent\": 8, \"size\": 14.1}, {\"id\": 35, \"name\": \"Farmland Restoration\", \"parent\": 9, \"size\": 14.08}, {\"id\": 36, \"name\": \"Improved Rice Cultivation\", \"parent\": 9, \"size\": 11.34}, {\"id\": 37, \"name\": \"Concentrated Solar\", \"parent\": 8, \"size\": 10.9}, {\"id\": 38, \"name\": \"Electric Vehicles\", \"parent\": 5, \"size\": 10.8}, {\"id\": 39, \"name\": \"District Heating\", \"parent\": 11, \"size\": 9.38}, {\"id\": 40, \"name\": \"Multistrata Agroforestry\", \"parent\": 9, \"size\": 9.28}, {\"id\": 41, \"name\": \"Wave and Tidal\", \"parent\": 8, \"size\": 9.2}, {\"id\": 42, \"name\": \"Methane Digesters (Large)\", \"parent\": 8, \"size\": 8.4}, {\"id\": 43, \"name\": \"Insulation\", \"parent\": 11, \"size\": 8.27}, {\"id\": 44, \"name\": \"Ships\", \"parent\": 5, \"size\": 7.87}, {\"id\": 45, \"name\": \"LED Lighting (Household)\", \"parent\": 11, \"size\": 7.81}, {\"id\": 46, \"name\": \"Biomass\", \"parent\": 8, \"size\": 7.5}, {\"id\": 47, \"name\": \"Bamboo\", \"parent\": 10, \"size\": 7.22}, {\"id\": 48, \"name\": \"Alternative Cement\", \"parent\": 7, \"size\": 6.69}, {\"id\": 49, \"name\": \"Mass Transit\", \"parent\": 5, \"size\": 6.57}, {\"id\": 50, \"name\": \"Forest Protection\", \"parent\": 10, \"size\": 6.2}, {\"id\": 51, \"name\": \"Indigenous Peoples\\u2019 Land Management\", \"parent\": 10, \"size\": 6.19}, {\"id\": 52, \"name\": \"Trucks\", \"parent\": 5, \"size\": 6.18}, {\"id\": 53, \"name\": \"Solar Water\", \"parent\": 8, \"size\": 6.08}, {\"id\": 54, \"name\": \"Heat Pumps\", \"parent\": 11, \"size\": 5.2}, {\"id\": 55, \"name\": \"Airplanes\", \"parent\": 5, \"size\": 5.05}, {\"id\": 56, \"name\": \"LED Lighting (Commercial)\", \"parent\": 11, \"size\": 5.04}, {\"id\": 57, \"name\": \"Building Automation\", \"parent\": 11, \"size\": 4.62}, {\"id\": 58, \"name\": \"Water Saving - Home\", \"parent\": 7, \"size\": 4.61}, {\"id\": 59, \"name\": \"Bioplastic\", \"parent\": 7, \"size\": 4.3}, {\"id\": 60, \"name\": \"In-Stream Hydro\", \"parent\": 8, \"size\": 4.0}, {\"id\": 61, \"name\": \"Cars\", \"parent\": 5, \"size\": 4.0}, {\"id\": 62, \"name\": \"Cogeneration\", \"parent\": 8, \"size\": 3.97}, {\"id\": 63, \"name\": \"Perennial Biomass\", \"parent\": 10, \"size\": 3.33}, {\"id\": 64, \"name\": \"Coastal Wetlands\", \"parent\": 10, \"size\": 3.19}, {\"id\": 65, \"name\": \"System of Rice Intensification\", \"parent\": 9, \"size\": 3.13}, {\"id\": 66, \"name\": \"Walkable Cities\", \"parent\": 11, \"size\": 2.92}, {\"id\": 67, \"name\": \"Household Recycling\", \"parent\": 7, \"size\": 2.77}, {\"id\": 68, \"name\": \"Industrial Recycling\", \"parent\": 7, \"size\": 2.77}, {\"id\": 69, \"name\": \"Smart Thermostats\", \"parent\": 11, \"size\": 2.62}, {\"id\": 70, \"name\": \"Landfill Methane\", \"parent\": 11, \"size\": 2.5}, {\"id\": 71, \"name\": \"Bike Infrastructure\", \"parent\": 11, \"size\": 2.31}, {\"id\": 72, \"name\": \"Composting\", \"parent\": 9, \"size\": 2.28}, {\"id\": 73, \"name\": \"Smart Glass\", \"parent\": 11, \"size\": 2.19}, {\"id\": 74, \"name\": \"Women Smallholders\", \"parent\": 12, \"size\": 2.06}, {\"id\": 75, \"name\": \"Telepresence\", \"parent\": 5, \"size\": 1.99}, {\"id\": 76, \"name\": \"Methane Digesters (Small)\", \"parent\": 8, \"size\": 1.9}, {\"id\": 77, \"name\": \"Nutrient Management\", \"parent\": 9, \"size\": 1.81}, {\"id\": 78, \"name\": \"High-speed Rail\", \"parent\": 5, \"size\": 1.52}, {\"id\": 79, \"name\": \"Farmland Irrigation\", \"parent\": 9, \"size\": 1.33}, {\"id\": 80, \"name\": \"Waste-to-Energy\", \"parent\": 8, \"size\": 1.1}, {\"id\": 81, \"name\": \"Electric Bikes\", \"parent\": 5, \"size\": 0.96}, {\"id\": 82, \"name\": \"Recycled Paper\", \"parent\": 7, \"size\": 0.9}, {\"id\": 83, \"name\": \"Water Distribution\", \"parent\": 11, \"size\": 0.87}, {\"id\": 84, \"name\": \"Biochar\", \"parent\": 9, \"size\": 0.81}, {\"id\": 85, \"name\": \"Green Roofs\", \"parent\": 11, \"size\": 0.77}, {\"id\": 86, \"name\": \"Trains\", \"parent\": 5, \"size\": 0.52}, {\"id\": 87, \"name\": \"Ridesharing\", \"parent\": 5, \"size\": 0.32}, {\"id\": 88, \"name\": \"Micro Wind\", \"parent\": 8, \"size\": 0.2}, {\"id\": 89, \"name\": \"Carpooling\", \"parent\": 5, \"size\": 0.16}, {\"id\": 90, \"name\": \"Cool Roofs\", \"parent\": 11, \"size\": 0.52}, {\"id\": 91, \"name\": \"Limiting Bottom Trawling\", \"parent\": 6, \"size\": 1.5}], \"transform\": [{\"type\": \"stratify\", \"key\": \"id\", \"parentKey\": \"parent\"}, {\"type\": \"treemap\", \"field\": \"size\", \"round\": true, \"method\": {\"signal\": \"layout\"}, \"ratio\": {\"signal\": \"aspectRatio\"}, \"size\": [{\"signal\": \"width\"}, {\"signal\": \"height\"}]}]}, {\"name\": \"nodes\", \"source\": \"drawdown\", \"transform\": [{\"type\": \"filter\", \"expr\": \"datum.children\"}]}, {\"name\": \"leaves\", \"source\": \"drawdown\", \"transform\": [{\"type\": \"filter\", \"expr\": \"!datum.children\"}]}], \"scales\": [{\"name\": \"color\", \"type\": \"ordinal\", \"domain\": [\"Materials\", \"Electricity Generation\", \"Electricity\", \"Food\", \"Agriculture\", \"Land Use\", \"Land\", \"Women and Girls\", \"Population\", \"Transport\", \"Transportation\", \"Buildings and Cities\", \"Buildings\", \"Oceans\", \"Waste\"], \"range\": [\"RebeccaPurple\", \"Peru\", \"Peru\", \"PeachPuff\", \"FireBrick\", \"Green\", \"Green\", \"DarkGoldenRod\", \"DarkGoldenRod\", \"Teal\", \"Teal\", \"SteelBlue\", \"SteelBlue\", \"Aquamarine\", \"Sienna\"]}], \"marks\": [{\"type\": \"rect\", \"from\": {\"data\": \"nodes\"}, \"interactive\": false, \"encode\": {\"enter\": {\"fill\": {\"scale\": \"color\", \"field\": \"name\"}}, \"update\": {\"x\": {\"field\": \"x0\"}, \"y\": {\"field\": \"y0\"}, \"x2\": {\"field\": \"x1\"}, \"y2\": {\"field\": \"y1\"}}}}, {\"type\": \"rect\", \"from\": {\"data\": \"leaves\"}, \"encode\": {\"enter\": {\"stroke\": {\"value\": \"#fff\"}, \"tooltip\": {\"signal\": \"{title: datum.name, 'CO2eq': format(datum['size'], '.2f') + ' Gigatons'}\"}}, \"update\": {\"x\": {\"field\": \"x0\"}, \"y\": {\"field\": \"y0\"}, \"x2\": {\"field\": \"x1\"}, \"y2\": {\"field\": \"y1\"}, \"fill\": {\"value\": \"transparent\"}}, \"hover\": {\"fill\": {\"value\": \"gray\"}}}}, {\"type\": \"text\", \"from\": {\"data\": \"nodes\"}, \"interactive\": false, \"encode\": {\"enter\": {\"font\": {\"value\": \"Helvetica Neue, Arial\"}, \"align\": {\"value\": \"center\"}, \"baseline\": {\"value\": \"middle\"}, \"fill\": {\"value\": \"#fff\"}, \"text\": {\"field\": \"name\"}, \"fontSize\": {\"value\": 18}, \"fillOpacity\": {\"value\": 1.0}, \"angle\": {\"value\": -62.0}}, \"update\": {\"x\": {\"signal\": \"0.5 * (datum.x0 + datum.x1)\"}, \"y\": {\"signal\": \"0.5 * (datum.y0 + datum.y1)\"}}}}]}",
       "_view_count": null,
       "_view_module": "nbextensions/jupyter-vega/widget",
       "_view_module_version": "0.1.0",
       "_view_name": "VegaWidget",
       "layout": "IPY_MODEL_cc0fd41b35524bdfa0398bbe03475131"
      }
     },
     "1287dde2195240af926e6c422a107b04": {
      "model_module": "@jupyter-widgets/controls",
      "model_module_version": "1.5.0",
      "model_name": "DescriptionStyleModel",
      "state": {
       "_model_module": "@jupyter-widgets/controls",
       "_model_module_version": "1.5.0",
       "_model_name": "DescriptionStyleModel",
       "_view_count": null,
       "_view_module": "@jupyter-widgets/base",
       "_view_module_version": "1.2.0",
       "_view_name": "StyleView",
       "description_width": ""
      }
     },
     "12aa41f51216479ba57efbe4a370d318": {
      "model_module": "@jupyter-widgets/controls",
      "model_module_version": "1.5.0",
      "model_name": "CheckboxModel",
      "state": {
       "_dom_classes": [
        "checkbox_treeintercropping"
       ],
       "_model_module": "@jupyter-widgets/controls",
       "_model_module_version": "1.5.0",
       "_model_name": "CheckboxModel",
       "_view_count": null,
       "_view_module": "@jupyter-widgets/controls",
       "_view_module_version": "1.5.0",
       "_view_name": "CheckboxView",
       "description": "",
       "description_tooltip": null,
       "disabled": false,
       "indent": true,
       "layout": "IPY_MODEL_bdef4bf3c7424855b736b0fa72c837ed",
       "style": "IPY_MODEL_43f26ea7cf6140529e05ed2819a4fb2c",
       "value": false
      }
     },
     "136d3c2720934a71a626f1fe9226e776": {
      "model_module": "@jupyter-widgets/controls",
      "model_module_version": "1.5.0",
      "model_name": "DescriptionStyleModel",
      "state": {
       "_model_module": "@jupyter-widgets/controls",
       "_model_module_version": "1.5.0",
       "_model_name": "DescriptionStyleModel",
       "_view_count": null,
       "_view_module": "@jupyter-widgets/base",
       "_view_module_version": "1.2.0",
       "_view_name": "StyleView",
       "description_width": ""
      }
     },
     "139a1cd8ee2f4940aecb36c474a6b31b": {
      "model_module": "@jupyter-widgets/controls",
      "model_module_version": "1.5.0",
      "model_name": "HTMLModel",
      "state": {
       "_dom_classes": [],
       "_model_module": "@jupyter-widgets/controls",
       "_model_module_version": "1.5.0",
       "_model_name": "HTMLModel",
       "_view_count": null,
       "_view_module": "@jupyter-widgets/controls",
       "_view_module_version": "1.5.0",
       "_view_name": "HTMLView",
       "description": "",
       "description_tooltip": null,
       "layout": "IPY_MODEL_0fc6d0e36882466aaf8b89d9494bcb4b",
       "placeholder": "​",
       "style": "IPY_MODEL_b8bb4468d3a743d69de918905d038676",
       "value": "<div style=\"font-size:medium; background-color:#ececec;padding-left:2px;\">Industrial Recycling</div>"
      }
     },
     "13a0fd2b94f140f790583daba1a2198a": {
      "model_module": "@jupyter-widgets/controls",
      "model_module_version": "1.5.0",
      "model_name": "HBoxModel",
      "state": {
       "_dom_classes": [],
       "_model_module": "@jupyter-widgets/controls",
       "_model_module_version": "1.5.0",
       "_model_name": "HBoxModel",
       "_view_count": null,
       "_view_module": "@jupyter-widgets/controls",
       "_view_module_version": "1.5.0",
       "_view_name": "HBoxView",
       "box_style": "",
       "children": [
        "IPY_MODEL_55b4db314a744a719311d0ec30ce9511",
        "IPY_MODEL_8df988dd0bee4a27bd459a5962408ca3",
        "IPY_MODEL_896c4b910b2e4679b458af7ab02210ae",
        "IPY_MODEL_57e8bc80373148c284ba414e7d132978"
       ],
       "layout": "IPY_MODEL_804c51697f2b4229a0f02be6b85b1659"
      }
     },
     "13edc45138054ceaa2399af12a45a160": {
      "model_module": "@jupyter-widgets/controls",
      "model_module_version": "1.5.0",
      "model_name": "HBoxModel",
      "state": {
       "_dom_classes": [],
       "_model_module": "@jupyter-widgets/controls",
       "_model_module_version": "1.5.0",
       "_model_name": "HBoxModel",
       "_view_count": null,
       "_view_module": "@jupyter-widgets/controls",
       "_view_module_version": "1.5.0",
       "_view_name": "HBoxView",
       "box_style": "",
       "children": [
        "IPY_MODEL_8f60431b06054d5bb943c2bc3ebc4c29",
        "IPY_MODEL_b89ab2b1fab04899b999ff31ab0bd274",
        "IPY_MODEL_04d6942f1f784bebad476eab288bd42c",
        "IPY_MODEL_7d552dc98e2f4cf2ab600e77661d716a"
       ],
       "layout": "IPY_MODEL_804c51697f2b4229a0f02be6b85b1659"
      }
     },
     "1435af8f98f94f299d161ec5324cd4d4": {
      "model_module": "@jupyter-widgets/controls",
      "model_module_version": "1.5.0",
      "model_name": "DescriptionStyleModel",
      "state": {
       "_model_module": "@jupyter-widgets/controls",
       "_model_module_version": "1.5.0",
       "_model_name": "DescriptionStyleModel",
       "_view_count": null,
       "_view_module": "@jupyter-widgets/base",
       "_view_module_version": "1.2.0",
       "_view_name": "StyleView",
       "description_width": ""
      }
     },
     "14690240299740c8b6a9ad2c53fdf8e1": {
      "model_module": "@jupyter-widgets/controls",
      "model_module_version": "1.5.0",
      "model_name": "DescriptionStyleModel",
      "state": {
       "_model_module": "@jupyter-widgets/controls",
       "_model_module_version": "1.5.0",
       "_model_name": "DescriptionStyleModel",
       "_view_count": null,
       "_view_module": "@jupyter-widgets/base",
       "_view_module_version": "1.2.0",
       "_view_name": "StyleView",
       "description_width": ""
      }
     },
     "1558236f969b4ee580feeb0c4de55ddb": {
      "model_module": "@jupyter-widgets/controls",
      "model_module_version": "1.5.0",
      "model_name": "CheckboxModel",
      "state": {
       "_dom_classes": [
        "checkbox_telepresence"
       ],
       "_model_module": "@jupyter-widgets/controls",
       "_model_module_version": "1.5.0",
       "_model_name": "CheckboxModel",
       "_view_count": null,
       "_view_module": "@jupyter-widgets/controls",
       "_view_module_version": "1.5.0",
       "_view_name": "CheckboxView",
       "description": "",
       "description_tooltip": null,
       "disabled": false,
       "indent": true,
       "layout": "IPY_MODEL_bdef4bf3c7424855b736b0fa72c837ed",
       "style": "IPY_MODEL_330ea36982be4adf9005edbd03893bcc",
       "value": false
      }
     },
     "15bb86328470490ca2aa4b69a1df6bc6": {
      "model_module": "@jupyter-widgets/controls",
      "model_module_version": "1.5.0",
      "model_name": "HTMLModel",
      "state": {
       "_dom_classes": [],
       "_model_module": "@jupyter-widgets/controls",
       "_model_module_version": "1.5.0",
       "_model_name": "HTMLModel",
       "_view_count": null,
       "_view_module": "@jupyter-widgets/controls",
       "_view_module_version": "1.5.0",
       "_view_name": "HTMLView",
       "description": "",
       "description_tooltip": null,
       "layout": "IPY_MODEL_2adb518af7044a69aad2c2de3ca0c421",
       "placeholder": "​",
       "style": "IPY_MODEL_f0ba629ea6c54e21804275f812bf7c8d",
       "value": "<div style=\"font-size:medium; background-color:white;padding-left:2px;\">Buildings and Cities</div>"
      }
     },
     "15d5de6bd9004dd2b3a3f57c4d20e404": {
      "model_module": "@jupyter-widgets/controls",
      "model_module_version": "1.5.0",
      "model_name": "HTMLModel",
      "state": {
       "_dom_classes": [],
       "_model_module": "@jupyter-widgets/controls",
       "_model_module_version": "1.5.0",
       "_model_name": "HTMLModel",
       "_view_count": null,
       "_view_module": "@jupyter-widgets/controls",
       "_view_module_version": "1.5.0",
       "_view_name": "HTMLView",
       "description": "",
       "description_tooltip": null,
       "layout": "IPY_MODEL_0fc6d0e36882466aaf8b89d9494bcb4b",
       "placeholder": "​",
       "style": "IPY_MODEL_323dd6aa1bc741279242c1abb6f55052",
       "value": "<div style=\"font-size:medium; background-color:white;padding-left:2px;\">District Heating</div>"
      }
     },
     "15e656b1454948abaf4faad4070939fc": {
      "model_module": "@jupyter-widgets/controls",
      "model_module_version": "1.5.0",
      "model_name": "HBoxModel",
      "state": {
       "_dom_classes": [],
       "_model_module": "@jupyter-widgets/controls",
       "_model_module_version": "1.5.0",
       "_model_name": "HBoxModel",
       "_view_count": null,
       "_view_module": "@jupyter-widgets/controls",
       "_view_module_version": "1.5.0",
       "_view_name": "HBoxView",
       "box_style": "",
       "children": [
        "IPY_MODEL_e300c069594e417d9916a67e9b827d9e",
        "IPY_MODEL_734a0fc5612343729fe2fe5413755336",
        "IPY_MODEL_01e7297d19d6428f82a05ee1bc817d35",
        "IPY_MODEL_d48fbcb00d554fc69fbc103ee9f9d748"
       ],
       "layout": "IPY_MODEL_804c51697f2b4229a0f02be6b85b1659"
      }
     },
     "161172513cfe46ae8be3b4c5aeee7f64": {
      "model_module": "@jupyter-widgets/controls",
      "model_module_version": "1.5.0",
      "model_name": "HTMLModel",
      "state": {
       "_dom_classes": [],
       "_model_module": "@jupyter-widgets/controls",
       "_model_module_version": "1.5.0",
       "_model_name": "HTMLModel",
       "_view_count": null,
       "_view_module": "@jupyter-widgets/controls",
       "_view_module_version": "1.5.0",
       "_view_name": "HTMLView",
       "description": "",
       "description_tooltip": null,
       "layout": "IPY_MODEL_0fc6d0e36882466aaf8b89d9494bcb4b",
       "placeholder": "​",
       "style": "IPY_MODEL_47b4d4f1d74544c6abd8df118d8a6144",
       "value": "<div style=\"font-size:medium; background-color:#ececec;padding-left:2px;\">Carpooling</div>"
      }
     },
     "163efae914714c9c84f37ca2d5e10486": {
      "model_module": "@jupyter-widgets/controls",
      "model_module_version": "1.5.0",
      "model_name": "HTMLModel",
      "state": {
       "_dom_classes": [],
       "_model_module": "@jupyter-widgets/controls",
       "_model_module_version": "1.5.0",
       "_model_name": "HTMLModel",
       "_view_count": null,
       "_view_module": "@jupyter-widgets/controls",
       "_view_module_version": "1.5.0",
       "_view_name": "HTMLView",
       "description": "",
       "description_tooltip": null,
       "layout": "IPY_MODEL_2adb518af7044a69aad2c2de3ca0c421",
       "placeholder": "​",
       "style": "IPY_MODEL_49eb1835ce51470594610353e0128865",
       "value": "<div style=\"font-size:medium; background-color:#ececec;padding-left:2px;\">Buildings and Cities</div>"
      }
     },
     "16befa7b610f4f05894c65f6b6788dba": {
      "model_module": "@jupyter-widgets/controls",
      "model_module_version": "1.5.0",
      "model_name": "DescriptionStyleModel",
      "state": {
       "_model_module": "@jupyter-widgets/controls",
       "_model_module_version": "1.5.0",
       "_model_name": "DescriptionStyleModel",
       "_view_count": null,
       "_view_module": "@jupyter-widgets/base",
       "_view_module_version": "1.2.0",
       "_view_name": "StyleView",
       "description_width": ""
      }
     },
     "17fbd02047fe4092a22f6258f1ef4b7a": {
      "model_module": "@jupyter-widgets/controls",
      "model_module_version": "1.5.0",
      "model_name": "DescriptionStyleModel",
      "state": {
       "_model_module": "@jupyter-widgets/controls",
       "_model_module_version": "1.5.0",
       "_model_name": "DescriptionStyleModel",
       "_view_count": null,
       "_view_module": "@jupyter-widgets/base",
       "_view_module_version": "1.2.0",
       "_view_name": "StyleView",
       "description_width": "0px"
      }
     },
     "1851da1989fc41fa9e157d41d655e13c": {
      "model_module": "@jupyter-widgets/controls",
      "model_module_version": "1.5.0",
      "model_name": "DescriptionStyleModel",
      "state": {
       "_model_module": "@jupyter-widgets/controls",
       "_model_module_version": "1.5.0",
       "_model_name": "DescriptionStyleModel",
       "_view_count": null,
       "_view_module": "@jupyter-widgets/base",
       "_view_module_version": "1.2.0",
       "_view_name": "StyleView",
       "description_width": ""
      }
     },
     "188917d1c34c4e10a2ffcebd072032be": {
      "model_module": "@jupyter-widgets/controls",
      "model_module_version": "1.5.0",
      "model_name": "DescriptionStyleModel",
      "state": {
       "_model_module": "@jupyter-widgets/controls",
       "_model_module_version": "1.5.0",
       "_model_name": "DescriptionStyleModel",
       "_view_count": null,
       "_view_module": "@jupyter-widgets/base",
       "_view_module_version": "1.2.0",
       "_view_name": "StyleView",
       "description_width": "0px"
      }
     },
     "18bceac767d7486c8fb1777085241704": {
      "model_module": "@jupyter-widgets/controls",
      "model_module_version": "1.5.0",
      "model_name": "DescriptionStyleModel",
      "state": {
       "_model_module": "@jupyter-widgets/controls",
       "_model_module_version": "1.5.0",
       "_model_name": "DescriptionStyleModel",
       "_view_count": null,
       "_view_module": "@jupyter-widgets/base",
       "_view_module_version": "1.2.0",
       "_view_name": "StyleView",
       "description_width": ""
      }
     },
     "19badc0e61dd4f5a920b813fd7405327": {
      "model_module": "@jupyter-widgets/controls",
      "model_module_version": "1.5.0",
      "model_name": "DescriptionStyleModel",
      "state": {
       "_model_module": "@jupyter-widgets/controls",
       "_model_module_version": "1.5.0",
       "_model_name": "DescriptionStyleModel",
       "_view_count": null,
       "_view_module": "@jupyter-widgets/base",
       "_view_module_version": "1.2.0",
       "_view_name": "StyleView",
       "description_width": ""
      }
     },
     "19bd19b65df141e89b089f7651e68655": {
      "model_module": "@jupyter-widgets/controls",
      "model_module_version": "1.5.0",
      "model_name": "HBoxModel",
      "state": {
       "_dom_classes": [],
       "_model_module": "@jupyter-widgets/controls",
       "_model_module_version": "1.5.0",
       "_model_name": "HBoxModel",
       "_view_count": null,
       "_view_module": "@jupyter-widgets/controls",
       "_view_module_version": "1.5.0",
       "_view_name": "HBoxView",
       "box_style": "",
       "children": [
        "IPY_MODEL_eecfd25205734f28807f5adbe33d7c90",
        "IPY_MODEL_687216a751644a90882d523a83626685",
        "IPY_MODEL_7cee799b52374ac4a60047a1ed8ae1ba",
        "IPY_MODEL_4253a436155049d3b6fb15a33c8423df"
       ],
       "layout": "IPY_MODEL_804c51697f2b4229a0f02be6b85b1659"
      }
     },
     "19bda179482e453aa598749e61d14ee7": {
      "model_module": "@jupyter-widgets/controls",
      "model_module_version": "1.5.0",
      "model_name": "HTMLModel",
      "state": {
       "_dom_classes": [],
       "_model_module": "@jupyter-widgets/controls",
       "_model_module_version": "1.5.0",
       "_model_name": "HTMLModel",
       "_view_count": null,
       "_view_module": "@jupyter-widgets/controls",
       "_view_module_version": "1.5.0",
       "_view_name": "HTMLView",
       "description": "",
       "description_tooltip": null,
       "layout": "IPY_MODEL_1a17608c7cf54c5293a88b93567107e5",
       "placeholder": "​",
       "style": "IPY_MODEL_470a68d96dbe4c80975975005872b4e6",
       "value": "<div style=\"font-size:medium; background-color:#ececec;padding-left:2px;\">4.30</div>"
      }
     },
     "19e0af2362674317b0b4cd59135bad67": {
      "model_module": "@jupyter-widgets/controls",
      "model_module_version": "1.5.0",
      "model_name": "DescriptionStyleModel",
      "state": {
       "_model_module": "@jupyter-widgets/controls",
       "_model_module_version": "1.5.0",
       "_model_name": "DescriptionStyleModel",
       "_view_count": null,
       "_view_module": "@jupyter-widgets/base",
       "_view_module_version": "1.2.0",
       "_view_name": "StyleView",
       "description_width": ""
      }
     },
     "1a17608c7cf54c5293a88b93567107e5": {
      "model_module": "@jupyter-widgets/base",
      "model_module_version": "1.2.0",
      "model_name": "LayoutModel",
      "state": {
       "_model_module": "@jupyter-widgets/base",
       "_model_module_version": "1.2.0",
       "_model_name": "LayoutModel",
       "_view_count": null,
       "_view_module": "@jupyter-widgets/base",
       "_view_module_version": "1.2.0",
       "_view_name": "LayoutView",
       "align_content": null,
       "align_items": null,
       "align_self": null,
       "border": null,
       "bottom": null,
       "display": null,
       "flex": "2 1 0%",
       "flex_flow": null,
       "grid_area": null,
       "grid_auto_columns": null,
       "grid_auto_flow": null,
       "grid_auto_rows": null,
       "grid_column": null,
       "grid_gap": null,
       "grid_row": null,
       "grid_template_areas": null,
       "grid_template_columns": null,
       "grid_template_rows": null,
       "height": null,
       "justify_content": null,
       "justify_items": null,
       "left": null,
       "margin": null,
       "max_height": null,
       "max_width": null,
       "min_height": null,
       "min_width": null,
       "object_fit": null,
       "object_position": null,
       "order": null,
       "overflow": null,
       "overflow_x": null,
       "overflow_y": null,
       "padding": null,
       "right": null,
       "top": null,
       "visibility": null,
       "width": "auto"
      }
     },
     "1a2d69a307244cd8ade783e312504418": {
      "model_module": "@jupyter-widgets/controls",
      "model_module_version": "1.5.0",
      "model_name": "HBoxModel",
      "state": {
       "_dom_classes": [],
       "_model_module": "@jupyter-widgets/controls",
       "_model_module_version": "1.5.0",
       "_model_name": "HBoxModel",
       "_view_count": null,
       "_view_module": "@jupyter-widgets/controls",
       "_view_module_version": "1.5.0",
       "_view_name": "HBoxView",
       "box_style": "",
       "children": [
        "IPY_MODEL_b31ac15ba5154cb0803530fabc876a75",
        "IPY_MODEL_15bb86328470490ca2aa4b69a1df6bc6",
        "IPY_MODEL_fc93ac3c35174cfe9ebc78bcda285d49",
        "IPY_MODEL_2a9617d24348432baf48218b694b90a7"
       ],
       "layout": "IPY_MODEL_804c51697f2b4229a0f02be6b85b1659"
      }
     },
     "1a62a30516ab42d0a02b47078f66aeac": {
      "model_module": "@jupyter-widgets/controls",
      "model_module_version": "1.5.0",
      "model_name": "CheckboxModel",
      "state": {
       "_dom_classes": [
        "checkbox_indigenouspeoplesland"
       ],
       "_model_module": "@jupyter-widgets/controls",
       "_model_module_version": "1.5.0",
       "_model_name": "CheckboxModel",
       "_view_count": null,
       "_view_module": "@jupyter-widgets/controls",
       "_view_module_version": "1.5.0",
       "_view_name": "CheckboxView",
       "description": "",
       "description_tooltip": null,
       "disabled": false,
       "indent": true,
       "layout": "IPY_MODEL_bdef4bf3c7424855b736b0fa72c837ed",
       "style": "IPY_MODEL_9d128c872c5e4fd1ab5d23193579c0fe",
       "value": false
      }
     },
     "1b29585c3f174efbbed0d6114422b7e5": {
      "model_module": "@jupyter-widgets/controls",
      "model_module_version": "1.5.0",
      "model_name": "CheckboxModel",
      "state": {
       "_dom_classes": [
        "checkbox_wastetoenergy"
       ],
       "_model_module": "@jupyter-widgets/controls",
       "_model_module_version": "1.5.0",
       "_model_name": "CheckboxModel",
       "_view_count": null,
       "_view_module": "@jupyter-widgets/controls",
       "_view_module_version": "1.5.0",
       "_view_name": "CheckboxView",
       "description": "",
       "description_tooltip": null,
       "disabled": false,
       "indent": true,
       "layout": "IPY_MODEL_bdef4bf3c7424855b736b0fa72c837ed",
       "style": "IPY_MODEL_a39a852f058346ca82ba0a37ab1680b0",
       "value": false
      }
     },
     "1b3d0d02307d43889ffe76bbab27847b": {
      "model_module": "@jupyter-widgets/controls",
      "model_module_version": "1.5.0",
      "model_name": "DescriptionStyleModel",
      "state": {
       "_model_module": "@jupyter-widgets/controls",
       "_model_module_version": "1.5.0",
       "_model_name": "DescriptionStyleModel",
       "_view_count": null,
       "_view_module": "@jupyter-widgets/base",
       "_view_module_version": "1.2.0",
       "_view_name": "StyleView",
       "description_width": ""
      }
     },
     "1c3d3e385aed434a84fd162c7482b68a": {
      "model_module": "@jupyter-widgets/controls",
      "model_module_version": "1.5.0",
      "model_name": "CheckboxModel",
      "state": {
       "_dom_classes": [
        "checkbox_biogas"
       ],
       "_model_module": "@jupyter-widgets/controls",
       "_model_module_version": "1.5.0",
       "_model_name": "CheckboxModel",
       "_view_count": null,
       "_view_module": "@jupyter-widgets/controls",
       "_view_module_version": "1.5.0",
       "_view_name": "CheckboxView",
       "description": "",
       "description_tooltip": null,
       "disabled": false,
       "indent": true,
       "layout": "IPY_MODEL_bdef4bf3c7424855b736b0fa72c837ed",
       "style": "IPY_MODEL_00d64714fe98493c85fd96dda37fcbc4",
       "value": false
      }
     },
     "1c6071ed76944109ab72ef1901427cbc": {
      "model_module": "@jupyter-widgets/controls",
      "model_module_version": "1.5.0",
      "model_name": "HBoxModel",
      "state": {
       "_dom_classes": [],
       "_model_module": "@jupyter-widgets/controls",
       "_model_module_version": "1.5.0",
       "_model_name": "HBoxModel",
       "_view_count": null,
       "_view_module": "@jupyter-widgets/controls",
       "_view_module_version": "1.5.0",
       "_view_name": "HBoxView",
       "box_style": "",
       "children": [
        "IPY_MODEL_3607fe130eb24fe89d8ceeb92df424a7",
        "IPY_MODEL_6de0faa5883c463fb4c6025deea40b0b",
        "IPY_MODEL_960a0651dd4348f597ae46a526d2b3e0",
        "IPY_MODEL_3696194da5954aa39c1c70654b45e288"
       ],
       "layout": "IPY_MODEL_804c51697f2b4229a0f02be6b85b1659"
      }
     },
     "1ccacf34a6e046aa8e43d3ba2e765fe8": {
      "model_module": "@jupyter-widgets/controls",
      "model_module_version": "1.5.0",
      "model_name": "HTMLModel",
      "state": {
       "_dom_classes": [],
       "_model_module": "@jupyter-widgets/controls",
       "_model_module_version": "1.5.0",
       "_model_name": "HTMLModel",
       "_view_count": null,
       "_view_module": "@jupyter-widgets/controls",
       "_view_module_version": "1.5.0",
       "_view_name": "HTMLView",
       "description": "",
       "description_tooltip": null,
       "layout": "IPY_MODEL_0fc6d0e36882466aaf8b89d9494bcb4b",
       "placeholder": "​",
       "style": "IPY_MODEL_7d124a55d4024ce089612c1e59839c4e",
       "value": "<div style=\"font-size:medium; background-color:white;padding-left:2px;\">Household Recycling</div>"
      }
     },
     "1d5a440c89bd4d55aa199afdb4e267da": {
      "model_module": "@jupyter-widgets/controls",
      "model_module_version": "1.5.0",
      "model_name": "HTMLModel",
      "state": {
       "_dom_classes": [],
       "_model_module": "@jupyter-widgets/controls",
       "_model_module_version": "1.5.0",
       "_model_name": "HTMLModel",
       "_view_count": null,
       "_view_module": "@jupyter-widgets/controls",
       "_view_module_version": "1.5.0",
       "_view_name": "HTMLView",
       "description": "",
       "description_tooltip": null,
       "layout": "IPY_MODEL_1a17608c7cf54c5293a88b93567107e5",
       "placeholder": "​",
       "style": "IPY_MODEL_bd66cdff0d224aab8e51b7366414e720",
       "value": "<div style=\"font-size:medium; background-color:white;padding-left:2px;\">14.10</div>"
      }
     },
     "1d83c3a37aa840569984636b9530086f": {
      "model_module": "@jupyter-widgets/controls",
      "model_module_version": "1.5.0",
      "model_name": "HTMLModel",
      "state": {
       "_dom_classes": [],
       "_model_module": "@jupyter-widgets/controls",
       "_model_module_version": "1.5.0",
       "_model_name": "HTMLModel",
       "_view_count": null,
       "_view_module": "@jupyter-widgets/controls",
       "_view_module_version": "1.5.0",
       "_view_name": "HTMLView",
       "description": "",
       "description_tooltip": null,
       "layout": "IPY_MODEL_2adb518af7044a69aad2c2de3ca0c421",
       "placeholder": "​",
       "style": "IPY_MODEL_3b87edcfb7e841f2bbc563f232a1833b",
       "value": "<div style=\"font-size:medium; background-color:white;padding-left:2px;\">Materials</div>"
      }
     },
     "1e15077345f5435eb1969ca6cde67cba": {
      "model_module": "@jupyter-widgets/controls",
      "model_module_version": "1.5.0",
      "model_name": "HTMLModel",
      "state": {
       "_dom_classes": [],
       "_model_module": "@jupyter-widgets/controls",
       "_model_module_version": "1.5.0",
       "_model_name": "HTMLModel",
       "_view_count": null,
       "_view_module": "@jupyter-widgets/controls",
       "_view_module_version": "1.5.0",
       "_view_name": "HTMLView",
       "description": "",
       "description_tooltip": null,
       "layout": "IPY_MODEL_0fc6d0e36882466aaf8b89d9494bcb4b",
       "placeholder": "​",
       "style": "IPY_MODEL_31d60942ae9a46e7bee57b7aa52512ad",
       "value": "<div style=\"font-size:medium; background-color:#ececec;padding-left:2px;\">Managed Grazing</div>"
      }
     },
     "1e1deab268014ba3999b4a25dc4749e8": {
      "model_module": "@jupyter-widgets/controls",
      "model_module_version": "1.5.0",
      "model_name": "DescriptionStyleModel",
      "state": {
       "_model_module": "@jupyter-widgets/controls",
       "_model_module_version": "1.5.0",
       "_model_name": "DescriptionStyleModel",
       "_view_count": null,
       "_view_module": "@jupyter-widgets/base",
       "_view_module_version": "1.2.0",
       "_view_name": "StyleView",
       "description_width": ""
      }
     },
     "1e26ff7bf57a49d6943894d1414ffcae": {
      "model_module": "@jupyter-widgets/controls",
      "model_module_version": "1.5.0",
      "model_name": "HTMLModel",
      "state": {
       "_dom_classes": [],
       "_model_module": "@jupyter-widgets/controls",
       "_model_module_version": "1.5.0",
       "_model_name": "HTMLModel",
       "_view_count": null,
       "_view_module": "@jupyter-widgets/controls",
       "_view_module_version": "1.5.0",
       "_view_name": "HTMLView",
       "description": "",
       "description_tooltip": null,
       "layout": "IPY_MODEL_1a17608c7cf54c5293a88b93567107e5",
       "placeholder": "​",
       "style": "IPY_MODEL_efdea52f317f42b4aaa8d60fdb2bd8c5",
       "value": "<div style=\"font-size:medium; background-color:white;padding-left:2px;\">0.20</div>"
      }
     },
     "1e940d2d2f3f441796329e892cf46161": {
      "model_module": "@jupyter-widgets/controls",
      "model_module_version": "1.5.0",
      "model_name": "DescriptionStyleModel",
      "state": {
       "_model_module": "@jupyter-widgets/controls",
       "_model_module_version": "1.5.0",
       "_model_name": "DescriptionStyleModel",
       "_view_count": null,
       "_view_module": "@jupyter-widgets/base",
       "_view_module_version": "1.2.0",
       "_view_name": "StyleView",
       "description_width": ""
      }
     },
     "1f3475eb37fe47ccb404119a278b1eec": {
      "model_module": "@jupyter-widgets/controls",
      "model_module_version": "1.5.0",
      "model_name": "HTMLModel",
      "state": {
       "_dom_classes": [],
       "_model_module": "@jupyter-widgets/controls",
       "_model_module_version": "1.5.0",
       "_model_name": "HTMLModel",
       "_view_count": null,
       "_view_module": "@jupyter-widgets/controls",
       "_view_module_version": "1.5.0",
       "_view_name": "HTMLView",
       "description": "",
       "description_tooltip": null,
       "layout": "IPY_MODEL_2adb518af7044a69aad2c2de3ca0c421",
       "placeholder": "​",
       "style": "IPY_MODEL_d6eb2cabca9a486cbd38439c55febae4",
       "value": "<div style=\"font-size:medium; background-color:#ececec;padding-left:2px;\">Materials</div>"
      }
     },
     "1fa1f27c297c42fda137c5d8c4175741": {
      "model_module": "@jupyter-widgets/controls",
      "model_module_version": "1.5.0",
      "model_name": "HTMLModel",
      "state": {
       "_dom_classes": [],
       "_model_module": "@jupyter-widgets/controls",
       "_model_module_version": "1.5.0",
       "_model_name": "HTMLModel",
       "_view_count": null,
       "_view_module": "@jupyter-widgets/controls",
       "_view_module_version": "1.5.0",
       "_view_name": "HTMLView",
       "description": "",
       "description_tooltip": null,
       "layout": "IPY_MODEL_0fc6d0e36882466aaf8b89d9494bcb4b",
       "placeholder": "​",
       "style": "IPY_MODEL_00a29f65babc4f6397e4bc8aa322110a",
       "value": "<div style=\"font-size:medium; background-color:#ececec;padding-left:2px;\">Farmland Restoration</div>"
      }
     },
     "1fcd01baebd8462286628cc6a91e59a2": {
      "model_module": "@jupyter-widgets/controls",
      "model_module_version": "1.5.0",
      "model_name": "DescriptionStyleModel",
      "state": {
       "_model_module": "@jupyter-widgets/controls",
       "_model_module_version": "1.5.0",
       "_model_name": "DescriptionStyleModel",
       "_view_count": null,
       "_view_module": "@jupyter-widgets/base",
       "_view_module_version": "1.2.0",
       "_view_name": "StyleView",
       "description_width": "0px"
      }
     },
     "1ff591515d9246f38cab16005003e4c5": {
      "model_module": "@jupyter-widgets/controls",
      "model_module_version": "1.5.0",
      "model_name": "DescriptionStyleModel",
      "state": {
       "_model_module": "@jupyter-widgets/controls",
       "_model_module_version": "1.5.0",
       "_model_name": "DescriptionStyleModel",
       "_view_count": null,
       "_view_module": "@jupyter-widgets/base",
       "_view_module_version": "1.2.0",
       "_view_name": "StyleView",
       "description_width": ""
      }
     },
     "2030139aea204e7d9b41cd5eb4746f3c": {
      "model_module": "@jupyter-widgets/controls",
      "model_module_version": "1.5.0",
      "model_name": "HTMLModel",
      "state": {
       "_dom_classes": [],
       "_model_module": "@jupyter-widgets/controls",
       "_model_module_version": "1.5.0",
       "_model_name": "HTMLModel",
       "_view_count": null,
       "_view_module": "@jupyter-widgets/controls",
       "_view_module_version": "1.5.0",
       "_view_name": "HTMLView",
       "description": "",
       "description_tooltip": null,
       "layout": "IPY_MODEL_2adb518af7044a69aad2c2de3ca0c421",
       "placeholder": "​",
       "style": "IPY_MODEL_b894eba1b391419b92e7296e6d695b0a",
       "value": "<div style=\"font-size:medium; background-color:white;padding-left:2px;\">Food</div>"
      }
     },
     "2081061a697846fe832e865a0aaec5a1": {
      "model_module": "@jupyter-widgets/controls",
      "model_module_version": "1.5.0",
      "model_name": "HTMLModel",
      "state": {
       "_dom_classes": [],
       "_model_module": "@jupyter-widgets/controls",
       "_model_module_version": "1.5.0",
       "_model_name": "HTMLModel",
       "_view_count": null,
       "_view_module": "@jupyter-widgets/controls",
       "_view_module_version": "1.5.0",
       "_view_name": "HTMLView",
       "description": "",
       "description_tooltip": null,
       "layout": "IPY_MODEL_0fc6d0e36882466aaf8b89d9494bcb4b",
       "placeholder": "​",
       "style": "IPY_MODEL_46c8a2aadae74cfba4af471491ca10a2",
       "value": "<div style=\"font-size:medium; background-color:white;padding-left:2px;\">Tree Intercropping</div>"
      }
     },
     "2133fd12cfe84dc59cc3ab13c5b1bc44": {
      "model_module": "@jupyter-widgets/controls",
      "model_module_version": "1.5.0",
      "model_name": "DescriptionStyleModel",
      "state": {
       "_model_module": "@jupyter-widgets/controls",
       "_model_module_version": "1.5.0",
       "_model_name": "DescriptionStyleModel",
       "_view_count": null,
       "_view_module": "@jupyter-widgets/base",
       "_view_module_version": "1.2.0",
       "_view_name": "StyleView",
       "description_width": ""
      }
     },
     "219319ef90914e7ca62acc1043059eea": {
      "model_module": "@jupyter-widgets/controls",
      "model_module_version": "1.5.0",
      "model_name": "DescriptionStyleModel",
      "state": {
       "_model_module": "@jupyter-widgets/controls",
       "_model_module_version": "1.5.0",
       "_model_name": "DescriptionStyleModel",
       "_view_count": null,
       "_view_module": "@jupyter-widgets/base",
       "_view_module_version": "1.2.0",
       "_view_name": "StyleView",
       "description_width": "0px"
      }
     },
     "21ef53635017471bb5599d7c191cec34": {
      "model_module": "@jupyter-widgets/controls",
      "model_module_version": "1.5.0",
      "model_name": "DescriptionStyleModel",
      "state": {
       "_model_module": "@jupyter-widgets/controls",
       "_model_module_version": "1.5.0",
       "_model_name": "DescriptionStyleModel",
       "_view_count": null,
       "_view_module": "@jupyter-widgets/base",
       "_view_module_version": "1.2.0",
       "_view_name": "StyleView",
       "description_width": ""
      }
     },
     "2329b5d0e0394e0896f1d688f2b6f258": {
      "model_module": "@jupyter-widgets/controls",
      "model_module_version": "1.5.0",
      "model_name": "HTMLModel",
      "state": {
       "_dom_classes": [],
       "_model_module": "@jupyter-widgets/controls",
       "_model_module_version": "1.5.0",
       "_model_name": "HTMLModel",
       "_view_count": null,
       "_view_module": "@jupyter-widgets/controls",
       "_view_module_version": "1.5.0",
       "_view_name": "HTMLView",
       "description": "",
       "description_tooltip": null,
       "layout": "IPY_MODEL_1a17608c7cf54c5293a88b93567107e5",
       "placeholder": "​",
       "style": "IPY_MODEL_e39bfb557a684478a149cf37370d8096",
       "value": "<div style=\"font-size:medium; background-color:white;padding-left:2px;\">15.81</div>"
      }
     },
     "23c5cf1bde644ecbbcf06c5352af6710": {
      "model_module": "@jupyter-widgets/controls",
      "model_module_version": "1.5.0",
      "model_name": "HTMLModel",
      "state": {
       "_dom_classes": [],
       "_model_module": "@jupyter-widgets/controls",
       "_model_module_version": "1.5.0",
       "_model_name": "HTMLModel",
       "_view_count": null,
       "_view_module": "@jupyter-widgets/controls",
       "_view_module_version": "1.5.0",
       "_view_name": "HTMLView",
       "description": "",
       "description_tooltip": null,
       "layout": "IPY_MODEL_0fc6d0e36882466aaf8b89d9494bcb4b",
       "placeholder": "​",
       "style": "IPY_MODEL_1ff591515d9246f38cab16005003e4c5",
       "value": "<div style=\"font-size:medium; background-color:white;padding-left:2px;\">Tropical Staple Trees</div>"
      }
     },
     "243249f8ac164d05ba5cd07259e8aacb": {
      "model_module": "@jupyter-widgets/controls",
      "model_module_version": "1.5.0",
      "model_name": "DescriptionStyleModel",
      "state": {
       "_model_module": "@jupyter-widgets/controls",
       "_model_module_version": "1.5.0",
       "_model_name": "DescriptionStyleModel",
       "_view_count": null,
       "_view_module": "@jupyter-widgets/base",
       "_view_module_version": "1.2.0",
       "_view_name": "StyleView",
       "description_width": ""
      }
     },
     "24484f0debc846fc9c6ba2ab8cc4f85b": {
      "model_module": "@jupyter-widgets/controls",
      "model_module_version": "1.5.0",
      "model_name": "HTMLModel",
      "state": {
       "_dom_classes": [],
       "_model_module": "@jupyter-widgets/controls",
       "_model_module_version": "1.5.0",
       "_model_name": "HTMLModel",
       "_view_count": null,
       "_view_module": "@jupyter-widgets/controls",
       "_view_module_version": "1.5.0",
       "_view_name": "HTMLView",
       "description": "",
       "description_tooltip": null,
       "layout": "IPY_MODEL_0fc6d0e36882466aaf8b89d9494bcb4b",
       "placeholder": "​",
       "style": "IPY_MODEL_74acd58820b44da28279d4e48f7f28b5",
       "value": "<div style=\"font-size:medium; background-color:white;padding-left:2px;\">Electric Vehicles</div>"
      }
     },
     "247239b8ef0744f28f948c10089d2548": {
      "model_module": "@jupyter-widgets/controls",
      "model_module_version": "1.5.0",
      "model_name": "HTMLModel",
      "state": {
       "_dom_classes": [],
       "_model_module": "@jupyter-widgets/controls",
       "_model_module_version": "1.5.0",
       "_model_name": "HTMLModel",
       "_view_count": null,
       "_view_module": "@jupyter-widgets/controls",
       "_view_module_version": "1.5.0",
       "_view_name": "HTMLView",
       "description": "",
       "description_tooltip": null,
       "layout": "IPY_MODEL_2adb518af7044a69aad2c2de3ca0c421",
       "placeholder": "​",
       "style": "IPY_MODEL_09119821aad44ace8c5a550ab30605dc",
       "value": "<div style=\"font-size:medium; background-color:white;padding-left:2px;\">Transport</div>"
      }
     },
     "25638be4a4524eecaa6acf7b81816ec7": {
      "model_module": "@jupyter-widgets/controls",
      "model_module_version": "1.5.0",
      "model_name": "DescriptionStyleModel",
      "state": {
       "_model_module": "@jupyter-widgets/controls",
       "_model_module_version": "1.5.0",
       "_model_name": "DescriptionStyleModel",
       "_view_count": null,
       "_view_module": "@jupyter-widgets/base",
       "_view_module_version": "1.2.0",
       "_view_name": "StyleView",
       "description_width": "0px"
      }
     },
     "2594e263ea484878a51edb4bd766c9c4": {
      "model_module": "@jupyter-widgets/controls",
      "model_module_version": "1.5.0",
      "model_name": "CheckboxModel",
      "state": {
       "_dom_classes": [
        "checkbox_carpooling"
       ],
       "_model_module": "@jupyter-widgets/controls",
       "_model_module_version": "1.5.0",
       "_model_name": "CheckboxModel",
       "_view_count": null,
       "_view_module": "@jupyter-widgets/controls",
       "_view_module_version": "1.5.0",
       "_view_name": "CheckboxView",
       "description": "",
       "description_tooltip": null,
       "disabled": false,
       "indent": true,
       "layout": "IPY_MODEL_bdef4bf3c7424855b736b0fa72c837ed",
       "style": "IPY_MODEL_56498678542c4196ad48c0a23be66f6f",
       "value": false
      }
     },
     "260a9c6a7258454c969cf3ae5b1e246b": {
      "model_module": "@jupyter-widgets/controls",
      "model_module_version": "1.5.0",
      "model_name": "HTMLModel",
      "state": {
       "_dom_classes": [],
       "_model_module": "@jupyter-widgets/controls",
       "_model_module_version": "1.5.0",
       "_model_name": "HTMLModel",
       "_view_count": null,
       "_view_module": "@jupyter-widgets/controls",
       "_view_module_version": "1.5.0",
       "_view_name": "HTMLView",
       "description": "",
       "description_tooltip": null,
       "layout": "IPY_MODEL_0fc6d0e36882466aaf8b89d9494bcb4b",
       "placeholder": "​",
       "style": "IPY_MODEL_9862e0e8ba4e46c8926c6129be79e414",
       "value": "<div style=\"font-size:medium; background-color:#ececec;padding-left:2px;\">Cars</div>"
      }
     },
     "2621e5a5db854b39bf7a7d938a5e2c95": {
      "model_module": "@jupyter-widgets/controls",
      "model_module_version": "1.5.0",
      "model_name": "HTMLModel",
      "state": {
       "_dom_classes": [],
       "_model_module": "@jupyter-widgets/controls",
       "_model_module_version": "1.5.0",
       "_model_name": "HTMLModel",
       "_view_count": null,
       "_view_module": "@jupyter-widgets/controls",
       "_view_module_version": "1.5.0",
       "_view_name": "HTMLView",
       "description": "",
       "description_tooltip": null,
       "layout": "IPY_MODEL_1a17608c7cf54c5293a88b93567107e5",
       "placeholder": "​",
       "style": "IPY_MODEL_64ff6cf67b534fe481397f255d6c5edb",
       "value": "<div style=\"font-size:medium; background-color:white;padding-left:2px;\">1.50</div>"
      }
     },
     "264e07edd4bd4d62920ddff69397689b": {
      "model_module": "@jupyter-widgets/controls",
      "model_module_version": "1.5.0",
      "model_name": "HTMLModel",
      "state": {
       "_dom_classes": [],
       "_model_module": "@jupyter-widgets/controls",
       "_model_module_version": "1.5.0",
       "_model_name": "HTMLModel",
       "_view_count": null,
       "_view_module": "@jupyter-widgets/controls",
       "_view_module_version": "1.5.0",
       "_view_name": "HTMLView",
       "description": "",
       "description_tooltip": null,
       "layout": "IPY_MODEL_0fc6d0e36882466aaf8b89d9494bcb4b",
       "placeholder": "​",
       "style": "IPY_MODEL_7b780150de494ec99c6df7f8659c3781",
       "value": "<div style=\"font-size:medium; background-color:white;padding-left:2px;\">Geothermal</div>"
      }
     },
     "267e19eb991842828613394889dedf30": {
      "model_module": "@jupyter-widgets/controls",
      "model_module_version": "1.5.0",
      "model_name": "DescriptionStyleModel",
      "state": {
       "_model_module": "@jupyter-widgets/controls",
       "_model_module_version": "1.5.0",
       "_model_name": "DescriptionStyleModel",
       "_view_count": null,
       "_view_module": "@jupyter-widgets/base",
       "_view_module_version": "1.2.0",
       "_view_name": "StyleView",
       "description_width": "0px"
      }
     },
     "276c7be562034d29b0ba4c5b6cc638e9": {
      "model_module": "@jupyter-widgets/controls",
      "model_module_version": "1.5.0",
      "model_name": "DescriptionStyleModel",
      "state": {
       "_model_module": "@jupyter-widgets/controls",
       "_model_module_version": "1.5.0",
       "_model_name": "DescriptionStyleModel",
       "_view_count": null,
       "_view_module": "@jupyter-widgets/base",
       "_view_module_version": "1.2.0",
       "_view_name": "StyleView",
       "description_width": ""
      }
     },
     "27c3b700074d40d9866264749f111142": {
      "model_module": "@jupyter-widgets/controls",
      "model_module_version": "1.5.0",
      "model_name": "DescriptionStyleModel",
      "state": {
       "_model_module": "@jupyter-widgets/controls",
       "_model_module_version": "1.5.0",
       "_model_name": "DescriptionStyleModel",
       "_view_count": null,
       "_view_module": "@jupyter-widgets/base",
       "_view_module_version": "1.2.0",
       "_view_name": "StyleView",
       "description_width": ""
      }
     },
     "286b144706304588a977960372521015": {
      "model_module": "@jupyter-widgets/controls",
      "model_module_version": "1.5.0",
      "model_name": "HTMLModel",
      "state": {
       "_dom_classes": [],
       "_model_module": "@jupyter-widgets/controls",
       "_model_module_version": "1.5.0",
       "_model_name": "HTMLModel",
       "_view_count": null,
       "_view_module": "@jupyter-widgets/controls",
       "_view_module_version": "1.5.0",
       "_view_name": "HTMLView",
       "description": "",
       "description_tooltip": null,
       "layout": "IPY_MODEL_2adb518af7044a69aad2c2de3ca0c421",
       "placeholder": "​",
       "style": "IPY_MODEL_dccff1c272304df19835ce22eb4dbc79",
       "value": "<div style=\"font-size:medium; background-color:white;padding-left:2px;\">Food</div>"
      }
     },
     "2895e585e2fc419fa8b1efdd1b48d523": {
      "model_module": "@jupyter-widgets/controls",
      "model_module_version": "1.5.0",
      "model_name": "HTMLModel",
      "state": {
       "_dom_classes": [],
       "_model_module": "@jupyter-widgets/controls",
       "_model_module_version": "1.5.0",
       "_model_name": "HTMLModel",
       "_view_count": null,
       "_view_module": "@jupyter-widgets/controls",
       "_view_module_version": "1.5.0",
       "_view_name": "HTMLView",
       "description": "",
       "description_tooltip": null,
       "layout": "IPY_MODEL_1a17608c7cf54c5293a88b93567107e5",
       "placeholder": "​",
       "style": "IPY_MODEL_fd38cb47692e460d9eae4f5caff652a0",
       "value": "<div style=\"font-size:medium; background-color:#ececec;padding-left:2px;\">7.22</div>"
      }
     },
     "29d939e619fa437aa367d151f276c140": {
      "model_module": "@jupyter-widgets/controls",
      "model_module_version": "1.5.0",
      "model_name": "DescriptionStyleModel",
      "state": {
       "_model_module": "@jupyter-widgets/controls",
       "_model_module_version": "1.5.0",
       "_model_name": "DescriptionStyleModel",
       "_view_count": null,
       "_view_module": "@jupyter-widgets/base",
       "_view_module_version": "1.2.0",
       "_view_name": "StyleView",
       "description_width": "0px"
      }
     },
     "2a4bbcc6967245c9b47979f791bb64f2": {
      "model_module": "@jupyter-widgets/controls",
      "model_module_version": "1.5.0",
      "model_name": "DescriptionStyleModel",
      "state": {
       "_model_module": "@jupyter-widgets/controls",
       "_model_module_version": "1.5.0",
       "_model_name": "DescriptionStyleModel",
       "_view_count": null,
       "_view_module": "@jupyter-widgets/base",
       "_view_module_version": "1.2.0",
       "_view_name": "StyleView",
       "description_width": "0px"
      }
     },
     "2a8c8c6d8a6f446fb864eba5ef6a87b1": {
      "model_module": "@jupyter-widgets/controls",
      "model_module_version": "1.5.0",
      "model_name": "CheckboxModel",
      "state": {
       "_dom_classes": [
        "checkbox_silvopasture"
       ],
       "_model_module": "@jupyter-widgets/controls",
       "_model_module_version": "1.5.0",
       "_model_name": "CheckboxModel",
       "_view_count": null,
       "_view_module": "@jupyter-widgets/controls",
       "_view_module_version": "1.5.0",
       "_view_name": "CheckboxView",
       "description": "",
       "description_tooltip": null,
       "disabled": false,
       "indent": true,
       "layout": "IPY_MODEL_bdef4bf3c7424855b736b0fa72c837ed",
       "style": "IPY_MODEL_c67fc0b9c9da452398c17a4f63136a78",
       "value": false
      }
     },
     "2a9617d24348432baf48218b694b90a7": {
      "model_module": "@jupyter-widgets/controls",
      "model_module_version": "1.5.0",
      "model_name": "CheckboxModel",
      "state": {
       "_dom_classes": [
        "checkbox_greenroofs"
       ],
       "_model_module": "@jupyter-widgets/controls",
       "_model_module_version": "1.5.0",
       "_model_name": "CheckboxModel",
       "_view_count": null,
       "_view_module": "@jupyter-widgets/controls",
       "_view_module_version": "1.5.0",
       "_view_name": "CheckboxView",
       "description": "",
       "description_tooltip": null,
       "disabled": false,
       "indent": true,
       "layout": "IPY_MODEL_bdef4bf3c7424855b736b0fa72c837ed",
       "style": "IPY_MODEL_9f77a8cfee37459eab9140f6bb10df38",
       "value": false
      }
     },
     "2ad0f51b7c1e4316a84c63405e572b3a": {
      "model_module": "@jupyter-widgets/controls",
      "model_module_version": "1.5.0",
      "model_name": "DescriptionStyleModel",
      "state": {
       "_model_module": "@jupyter-widgets/controls",
       "_model_module_version": "1.5.0",
       "_model_name": "DescriptionStyleModel",
       "_view_count": null,
       "_view_module": "@jupyter-widgets/base",
       "_view_module_version": "1.2.0",
       "_view_name": "StyleView",
       "description_width": ""
      }
     },
     "2adb518af7044a69aad2c2de3ca0c421": {
      "model_module": "@jupyter-widgets/base",
      "model_module_version": "1.2.0",
      "model_name": "LayoutModel",
      "state": {
       "_model_module": "@jupyter-widgets/base",
       "_model_module_version": "1.2.0",
       "_model_name": "LayoutModel",
       "_view_count": null,
       "_view_module": "@jupyter-widgets/base",
       "_view_module_version": "1.2.0",
       "_view_name": "LayoutView",
       "align_content": null,
       "align_items": null,
       "align_self": null,
       "border": null,
       "bottom": null,
       "display": null,
       "flex": "8 1 0%",
       "flex_flow": null,
       "grid_area": null,
       "grid_auto_columns": null,
       "grid_auto_flow": null,
       "grid_auto_rows": null,
       "grid_column": null,
       "grid_gap": null,
       "grid_row": null,
       "grid_template_areas": null,
       "grid_template_columns": null,
       "grid_template_rows": null,
       "height": null,
       "justify_content": null,
       "justify_items": null,
       "left": null,
       "margin": null,
       "max_height": null,
       "max_width": null,
       "min_height": null,
       "min_width": null,
       "object_fit": null,
       "object_position": null,
       "order": null,
       "overflow": null,
       "overflow_x": null,
       "overflow_y": null,
       "padding": null,
       "right": null,
       "top": null,
       "visibility": null,
       "width": "auto"
      }
     },
     "2bb332d0d19b4d2fa99700345d2d401f": {
      "model_module": "@jupyter-widgets/controls",
      "model_module_version": "1.5.0",
      "model_name": "HTMLModel",
      "state": {
       "_dom_classes": [],
       "_model_module": "@jupyter-widgets/controls",
       "_model_module_version": "1.5.0",
       "_model_name": "HTMLModel",
       "_view_count": null,
       "_view_module": "@jupyter-widgets/controls",
       "_view_module_version": "1.5.0",
       "_view_name": "HTMLView",
       "description": "",
       "description_tooltip": null,
       "layout": "IPY_MODEL_1a17608c7cf54c5293a88b93567107e5",
       "placeholder": "​",
       "style": "IPY_MODEL_e67f1256fda04f54a8ec7e33c5486210",
       "value": "<div style=\"font-size:medium; background-color:#ececec;padding-left:2px;\">6.19</div>"
      }
     },
     "2beb9c3bc3a64892a46bc9b63d762132": {
      "model_module": "@jupyter-widgets/controls",
      "model_module_version": "1.5.0",
      "model_name": "CheckboxModel",
      "state": {
       "_dom_classes": [
        "checkbox_"
       ],
       "_model_module": "@jupyter-widgets/controls",
       "_model_module_version": "1.5.0",
       "_model_name": "CheckboxModel",
       "_view_count": null,
       "_view_module": "@jupyter-widgets/controls",
       "_view_module_version": "1.5.0",
       "_view_name": "CheckboxView",
       "description": "",
       "description_tooltip": null,
       "disabled": true,
       "indent": true,
       "layout": "IPY_MODEL_bdef4bf3c7424855b736b0fa72c837ed",
       "style": "IPY_MODEL_a6e722e2e3524d72bb077035580e148d",
       "value": false
      }
     },
     "2c494daeee1d4226923a66ce3e0fa9bd": {
      "model_module": "@jupyter-widgets/controls",
      "model_module_version": "1.5.0",
      "model_name": "DescriptionStyleModel",
      "state": {
       "_model_module": "@jupyter-widgets/controls",
       "_model_module_version": "1.5.0",
       "_model_name": "DescriptionStyleModel",
       "_view_count": null,
       "_view_module": "@jupyter-widgets/base",
       "_view_module_version": "1.2.0",
       "_view_name": "StyleView",
       "description_width": ""
      }
     },
     "2caacc665ae64c5089e5d4b38c58d875": {
      "model_module": "@jupyter-widgets/controls",
      "model_module_version": "1.5.0",
      "model_name": "HTMLModel",
      "state": {
       "_dom_classes": [],
       "_model_module": "@jupyter-widgets/controls",
       "_model_module_version": "1.5.0",
       "_model_name": "HTMLModel",
       "_view_count": null,
       "_view_module": "@jupyter-widgets/controls",
       "_view_module_version": "1.5.0",
       "_view_name": "HTMLView",
       "description": "",
       "description_tooltip": null,
       "layout": "IPY_MODEL_0fc6d0e36882466aaf8b89d9494bcb4b",
       "placeholder": "​",
       "style": "IPY_MODEL_051db32b2d2b42d4988c24d9248b4802",
       "value": "<div style=\"font-size:medium; background-color:white;padding-left:2px;\">Improved Rice Cultivation</div>"
      }
     },
     "2d1a95fce95b418393bc4faca8b6fc62": {
      "model_module": "@jupyter-widgets/controls",
      "model_module_version": "1.5.0",
      "model_name": "HTMLModel",
      "state": {
       "_dom_classes": [],
       "_model_module": "@jupyter-widgets/controls",
       "_model_module_version": "1.5.0",
       "_model_name": "HTMLModel",
       "_view_count": null,
       "_view_module": "@jupyter-widgets/controls",
       "_view_module_version": "1.5.0",
       "_view_name": "HTMLView",
       "description": "",
       "description_tooltip": null,
       "layout": "IPY_MODEL_2adb518af7044a69aad2c2de3ca0c421",
       "placeholder": "​",
       "style": "IPY_MODEL_91f4ba717a434a1a93452e2c72985587",
       "value": "<div style=\"font-size:medium; background-color:#ececec;padding-left:2px;\">Food</div>"
      }
     },
     "2e3252d2152e46e98a6e96dd94bf9f95": {
      "model_module": "@jupyter-widgets/controls",
      "model_module_version": "1.5.0",
      "model_name": "DescriptionStyleModel",
      "state": {
       "_model_module": "@jupyter-widgets/controls",
       "_model_module_version": "1.5.0",
       "_model_name": "DescriptionStyleModel",
       "_view_count": null,
       "_view_module": "@jupyter-widgets/base",
       "_view_module_version": "1.2.0",
       "_view_name": "StyleView",
       "description_width": ""
      }
     },
     "2ef7de7a12314fe69af831eec1a1a491": {
      "model_module": "@jupyter-widgets/controls",
      "model_module_version": "1.5.0",
      "model_name": "DescriptionStyleModel",
      "state": {
       "_model_module": "@jupyter-widgets/controls",
       "_model_module_version": "1.5.0",
       "_model_name": "DescriptionStyleModel",
       "_view_count": null,
       "_view_module": "@jupyter-widgets/base",
       "_view_module_version": "1.2.0",
       "_view_name": "StyleView",
       "description_width": "0px"
      }
     },
     "2f0b7cdfffd24c5b9afb1adeb1213de1": {
      "model_module": "@jupyter-widgets/controls",
      "model_module_version": "1.5.0",
      "model_name": "HTMLModel",
      "state": {
       "_dom_classes": [],
       "_model_module": "@jupyter-widgets/controls",
       "_model_module_version": "1.5.0",
       "_model_name": "HTMLModel",
       "_view_count": null,
       "_view_module": "@jupyter-widgets/controls",
       "_view_module_version": "1.5.0",
       "_view_name": "HTMLView",
       "description": "",
       "description_tooltip": null,
       "layout": "IPY_MODEL_1a17608c7cf54c5293a88b93567107e5",
       "placeholder": "​",
       "style": "IPY_MODEL_45d2ac871ae349d98202e65ca262a977",
       "value": "<div style=\"font-size:medium; background-color:white;padding-left:2px;\">0.90</div>"
      }
     },
     "2f20200065404df5bccffdbcf4abe5f8": {
      "model_module": "@jupyter-widgets/controls",
      "model_module_version": "1.5.0",
      "model_name": "HTMLModel",
      "state": {
       "_dom_classes": [],
       "_model_module": "@jupyter-widgets/controls",
       "_model_module_version": "1.5.0",
       "_model_name": "HTMLModel",
       "_view_count": null,
       "_view_module": "@jupyter-widgets/controls",
       "_view_module_version": "1.5.0",
       "_view_name": "HTMLView",
       "description": "",
       "description_tooltip": null,
       "layout": "IPY_MODEL_1a17608c7cf54c5293a88b93567107e5",
       "placeholder": "​",
       "style": "IPY_MODEL_8c241ccac934437b8989457b44c87dc5",
       "value": "<div style=\"font-size:medium; background-color:#ececec;padding-left:2px;\">0.52</div>"
      }
     },
     "2f6bc8a62d364bee88c244a86a33d5c6": {
      "model_module": "@jupyter-widgets/controls",
      "model_module_version": "1.5.0",
      "model_name": "HTMLModel",
      "state": {
       "_dom_classes": [],
       "_model_module": "@jupyter-widgets/controls",
       "_model_module_version": "1.5.0",
       "_model_name": "HTMLModel",
       "_view_count": null,
       "_view_module": "@jupyter-widgets/controls",
       "_view_module_version": "1.5.0",
       "_view_name": "HTMLView",
       "description": "",
       "description_tooltip": null,
       "layout": "IPY_MODEL_0fc6d0e36882466aaf8b89d9494bcb4b",
       "placeholder": "​",
       "style": "IPY_MODEL_af4a5f60625d437ca541b9cb88024c17",
       "value": "<div style=\"font-size:medium; background-color:white;padding-left:2px;\">Afforestation</div>"
      }
     },
     "2f6d733a414f48ea87ad8d2d1ccfe4c0": {
      "model_module": "@jupyter-widgets/controls",
      "model_module_version": "1.5.0",
      "model_name": "DescriptionStyleModel",
      "state": {
       "_model_module": "@jupyter-widgets/controls",
       "_model_module_version": "1.5.0",
       "_model_name": "DescriptionStyleModel",
       "_view_count": null,
       "_view_module": "@jupyter-widgets/base",
       "_view_module_version": "1.2.0",
       "_view_name": "StyleView",
       "description_width": ""
      }
     },
     "305f665cd25641b79986e74c7c7a95e0": {
      "model_module": "@jupyter-widgets/controls",
      "model_module_version": "1.5.0",
      "model_name": "HBoxModel",
      "state": {
       "_dom_classes": [],
       "_model_module": "@jupyter-widgets/controls",
       "_model_module_version": "1.5.0",
       "_model_name": "HBoxModel",
       "_view_count": null,
       "_view_module": "@jupyter-widgets/controls",
       "_view_module_version": "1.5.0",
       "_view_name": "HBoxView",
       "box_style": "",
       "children": [
        "IPY_MODEL_6573834e52464326b5ab98e5a61d77d0",
        "IPY_MODEL_a9a115719ade47e280b62fe60a2063ff",
        "IPY_MODEL_b0da96dc1c16424184e397251d06d61b",
        "IPY_MODEL_8c7c29cf5e1b459cbf2430a43de18f33"
       ],
       "layout": "IPY_MODEL_804c51697f2b4229a0f02be6b85b1659"
      }
     },
     "3068774eb0ee4ddcacc372f588151413": {
      "model_module": "@jupyter-widgets/controls",
      "model_module_version": "1.5.0",
      "model_name": "DescriptionStyleModel",
      "state": {
       "_model_module": "@jupyter-widgets/controls",
       "_model_module_version": "1.5.0",
       "_model_name": "DescriptionStyleModel",
       "_view_count": null,
       "_view_module": "@jupyter-widgets/base",
       "_view_module_version": "1.2.0",
       "_view_name": "StyleView",
       "description_width": ""
      }
     },
     "315445507f534e8481eb985570969fb5": {
      "model_module": "@jupyter-widgets/controls",
      "model_module_version": "1.5.0",
      "model_name": "DescriptionStyleModel",
      "state": {
       "_model_module": "@jupyter-widgets/controls",
       "_model_module_version": "1.5.0",
       "_model_name": "DescriptionStyleModel",
       "_view_count": null,
       "_view_module": "@jupyter-widgets/base",
       "_view_module_version": "1.2.0",
       "_view_name": "StyleView",
       "description_width": ""
      }
     },
     "316b88647e0b4b95830217dd1b3b6403": {
      "model_module": "@jupyter-widgets/controls",
      "model_module_version": "1.5.0",
      "model_name": "DescriptionStyleModel",
      "state": {
       "_model_module": "@jupyter-widgets/controls",
       "_model_module_version": "1.5.0",
       "_model_name": "DescriptionStyleModel",
       "_view_count": null,
       "_view_module": "@jupyter-widgets/base",
       "_view_module_version": "1.2.0",
       "_view_name": "StyleView",
       "description_width": ""
      }
     },
     "3193b24165f14608a0d3dbf1c7c6c881": {
      "model_module": "@jupyter-widgets/controls",
      "model_module_version": "1.5.0",
      "model_name": "DescriptionStyleModel",
      "state": {
       "_model_module": "@jupyter-widgets/controls",
       "_model_module_version": "1.5.0",
       "_model_name": "DescriptionStyleModel",
       "_view_count": null,
       "_view_module": "@jupyter-widgets/base",
       "_view_module_version": "1.2.0",
       "_view_name": "StyleView",
       "description_width": "0px"
      }
     },
     "31d60942ae9a46e7bee57b7aa52512ad": {
      "model_module": "@jupyter-widgets/controls",
      "model_module_version": "1.5.0",
      "model_name": "DescriptionStyleModel",
      "state": {
       "_model_module": "@jupyter-widgets/controls",
       "_model_module_version": "1.5.0",
       "_model_name": "DescriptionStyleModel",
       "_view_count": null,
       "_view_module": "@jupyter-widgets/base",
       "_view_module_version": "1.2.0",
       "_view_name": "StyleView",
       "description_width": ""
      }
     },
     "31e213c1a351456eac304840d4149445": {
      "model_module": "@jupyter-widgets/controls",
      "model_module_version": "1.5.0",
      "model_name": "DescriptionStyleModel",
      "state": {
       "_model_module": "@jupyter-widgets/controls",
       "_model_module_version": "1.5.0",
       "_model_name": "DescriptionStyleModel",
       "_view_count": null,
       "_view_module": "@jupyter-widgets/base",
       "_view_module_version": "1.2.0",
       "_view_name": "StyleView",
       "description_width": ""
      }
     },
     "3235620c9b8c4e4f8a37b418120304ca": {
      "model_module": "@jupyter-widgets/controls",
      "model_module_version": "1.5.0",
      "model_name": "HTMLModel",
      "state": {
       "_dom_classes": [],
       "_model_module": "@jupyter-widgets/controls",
       "_model_module_version": "1.5.0",
       "_model_name": "HTMLModel",
       "_view_count": null,
       "_view_module": "@jupyter-widgets/controls",
       "_view_module_version": "1.5.0",
       "_view_name": "HTMLView",
       "description": "",
       "description_tooltip": null,
       "layout": "IPY_MODEL_0fc6d0e36882466aaf8b89d9494bcb4b",
       "placeholder": "​",
       "style": "IPY_MODEL_a6e3f0858ac342e6965e4961ce08c7e5",
       "value": "<div style=\"font-size:medium; background-color:#ececec;padding-left:2px;\">Methane Digesters (Large)</div>"
      }
     },
     "323dd6aa1bc741279242c1abb6f55052": {
      "model_module": "@jupyter-widgets/controls",
      "model_module_version": "1.5.0",
      "model_name": "DescriptionStyleModel",
      "state": {
       "_model_module": "@jupyter-widgets/controls",
       "_model_module_version": "1.5.0",
       "_model_name": "DescriptionStyleModel",
       "_view_count": null,
       "_view_module": "@jupyter-widgets/base",
       "_view_module_version": "1.2.0",
       "_view_name": "StyleView",
       "description_width": ""
      }
     },
     "3249f864fb2140748c994e4f62e0c58e": {
      "model_module": "@jupyter-widgets/controls",
      "model_module_version": "1.5.0",
      "model_name": "DescriptionStyleModel",
      "state": {
       "_model_module": "@jupyter-widgets/controls",
       "_model_module_version": "1.5.0",
       "_model_name": "DescriptionStyleModel",
       "_view_count": null,
       "_view_module": "@jupyter-widgets/base",
       "_view_module_version": "1.2.0",
       "_view_name": "StyleView",
       "description_width": "0px"
      }
     },
     "32a6311f91454ffea1e4c005253848c9": {
      "model_module": "@jupyter-widgets/controls",
      "model_module_version": "1.5.0",
      "model_name": "HTMLModel",
      "state": {
       "_dom_classes": [],
       "_model_module": "@jupyter-widgets/controls",
       "_model_module_version": "1.5.0",
       "_model_name": "HTMLModel",
       "_view_count": null,
       "_view_module": "@jupyter-widgets/controls",
       "_view_module_version": "1.5.0",
       "_view_name": "HTMLView",
       "description": "",
       "description_tooltip": null,
       "layout": "IPY_MODEL_0fc6d0e36882466aaf8b89d9494bcb4b",
       "placeholder": "​",
       "style": "IPY_MODEL_fd185ae541a049e9b6686232a4bd63c5",
       "value": "<div style=\"font-size:large;background-color:white;padding-left:2px;font-weight:bold;\">Solution</div>"
      }
     },
     "32f45d39bd694aca800859857a469552": {
      "model_module": "@jupyter-widgets/controls",
      "model_module_version": "1.5.0",
      "model_name": "CheckboxModel",
      "state": {
       "_dom_classes": [
        "checkbox_tropicaltreestaples"
       ],
       "_model_module": "@jupyter-widgets/controls",
       "_model_module_version": "1.5.0",
       "_model_name": "CheckboxModel",
       "_view_count": null,
       "_view_module": "@jupyter-widgets/controls",
       "_view_module_version": "1.5.0",
       "_view_name": "CheckboxView",
       "description": "",
       "description_tooltip": null,
       "disabled": false,
       "indent": true,
       "layout": "IPY_MODEL_bdef4bf3c7424855b736b0fa72c837ed",
       "style": "IPY_MODEL_5ebd10bcdf034932825b899b139616fc",
       "value": false
      }
     },
     "330ea36982be4adf9005edbd03893bcc": {
      "model_module": "@jupyter-widgets/controls",
      "model_module_version": "1.5.0",
      "model_name": "DescriptionStyleModel",
      "state": {
       "_model_module": "@jupyter-widgets/controls",
       "_model_module_version": "1.5.0",
       "_model_name": "DescriptionStyleModel",
       "_view_count": null,
       "_view_module": "@jupyter-widgets/base",
       "_view_module_version": "1.2.0",
       "_view_name": "StyleView",
       "description_width": "0px"
      }
     },
     "33f80ec46431410a8502948aff82c8bf": {
      "model_module": "@jupyter-widgets/controls",
      "model_module_version": "1.5.0",
      "model_name": "HTMLModel",
      "state": {
       "_dom_classes": [],
       "_model_module": "@jupyter-widgets/controls",
       "_model_module_version": "1.5.0",
       "_model_name": "HTMLModel",
       "_view_count": null,
       "_view_module": "@jupyter-widgets/controls",
       "_view_module_version": "1.5.0",
       "_view_name": "HTMLView",
       "description": "",
       "description_tooltip": null,
       "layout": "IPY_MODEL_2adb518af7044a69aad2c2de3ca0c421",
       "placeholder": "​",
       "style": "IPY_MODEL_448dff603d354684a9c983a0805afe11",
       "value": "<div style=\"font-size:medium; background-color:white;padding-left:2px;\">Transport</div>"
      }
     },
     "341dac05159f4665941875c97cfecd9f": {
      "model_module": "@jupyter-widgets/controls",
      "model_module_version": "1.5.0",
      "model_name": "HTMLModel",
      "state": {
       "_dom_classes": [],
       "_model_module": "@jupyter-widgets/controls",
       "_model_module_version": "1.5.0",
       "_model_name": "HTMLModel",
       "_view_count": null,
       "_view_module": "@jupyter-widgets/controls",
       "_view_module_version": "1.5.0",
       "_view_name": "HTMLView",
       "description": "",
       "description_tooltip": null,
       "layout": "IPY_MODEL_1a17608c7cf54c5293a88b93567107e5",
       "placeholder": "​",
       "style": "IPY_MODEL_0da99a78eb5142dc9d2600cfdaef9dbe",
       "value": "<div style=\"font-size:medium; background-color:white;padding-left:2px;\">0.96</div>"
      }
     },
     "3442b70d3bd44249a0505e0ba495637e": {
      "model_module": "@jupyter-widgets/controls",
      "model_module_version": "1.5.0",
      "model_name": "HTMLModel",
      "state": {
       "_dom_classes": [],
       "_model_module": "@jupyter-widgets/controls",
       "_model_module_version": "1.5.0",
       "_model_name": "HTMLModel",
       "_view_count": null,
       "_view_module": "@jupyter-widgets/controls",
       "_view_module_version": "1.5.0",
       "_view_name": "HTMLView",
       "description": "",
       "description_tooltip": null,
       "layout": "IPY_MODEL_2adb518af7044a69aad2c2de3ca0c421",
       "placeholder": "​",
       "style": "IPY_MODEL_136d3c2720934a71a626f1fe9226e776",
       "value": "<div style=\"font-size:medium; background-color:#ececec;padding-left:2px;\">Transport</div>"
      }
     },
     "344c85cac51a46728259e03faf9ab1b1": {
      "model_module": "@jupyter-widgets/controls",
      "model_module_version": "1.5.0",
      "model_name": "HTMLModel",
      "state": {
       "_dom_classes": [],
       "_model_module": "@jupyter-widgets/controls",
       "_model_module_version": "1.5.0",
       "_model_name": "HTMLModel",
       "_view_count": null,
       "_view_module": "@jupyter-widgets/controls",
       "_view_module_version": "1.5.0",
       "_view_name": "HTMLView",
       "description": "",
       "description_tooltip": null,
       "layout": "IPY_MODEL_2adb518af7044a69aad2c2de3ca0c421",
       "placeholder": "​",
       "style": "IPY_MODEL_9fdf833d282d4325b2b2a4c9636868dc",
       "value": "<div style=\"font-size:medium; background-color:#ececec;padding-left:2px;\">Food</div>"
      }
     },
     "345862dba8414c268ba6208c99a7fe39": {
      "model_module": "@jupyter-widgets/controls",
      "model_module_version": "1.5.0",
      "model_name": "DescriptionStyleModel",
      "state": {
       "_model_module": "@jupyter-widgets/controls",
       "_model_module_version": "1.5.0",
       "_model_name": "DescriptionStyleModel",
       "_view_count": null,
       "_view_module": "@jupyter-widgets/base",
       "_view_module_version": "1.2.0",
       "_view_name": "StyleView",
       "description_width": ""
      }
     },
     "34824b03c76e4ae19781eaf290854760": {
      "model_module": "@jupyter-widgets/controls",
      "model_module_version": "1.5.0",
      "model_name": "DescriptionStyleModel",
      "state": {
       "_model_module": "@jupyter-widgets/controls",
       "_model_module_version": "1.5.0",
       "_model_name": "DescriptionStyleModel",
       "_view_count": null,
       "_view_module": "@jupyter-widgets/base",
       "_view_module_version": "1.2.0",
       "_view_name": "StyleView",
       "description_width": ""
      }
     },
     "34adf10033b249b0b20f2ce300f1bdf4": {
      "model_module": "@jupyter-widgets/controls",
      "model_module_version": "1.5.0",
      "model_name": "DescriptionStyleModel",
      "state": {
       "_model_module": "@jupyter-widgets/controls",
       "_model_module_version": "1.5.0",
       "_model_name": "DescriptionStyleModel",
       "_view_count": null,
       "_view_module": "@jupyter-widgets/base",
       "_view_module_version": "1.2.0",
       "_view_name": "StyleView",
       "description_width": ""
      }
     },
     "34ca9a3bc67f4787915d89420d6749b6": {
      "model_module": "@jupyter-widgets/controls",
      "model_module_version": "1.5.0",
      "model_name": "DescriptionStyleModel",
      "state": {
       "_model_module": "@jupyter-widgets/controls",
       "_model_module_version": "1.5.0",
       "_model_name": "DescriptionStyleModel",
       "_view_count": null,
       "_view_module": "@jupyter-widgets/base",
       "_view_module_version": "1.2.0",
       "_view_name": "StyleView",
       "description_width": ""
      }
     },
     "34cb6dc7f1b644bcbd4992f6a3941a6d": {
      "model_module": "@jupyter-widgets/controls",
      "model_module_version": "1.5.0",
      "model_name": "DescriptionStyleModel",
      "state": {
       "_model_module": "@jupyter-widgets/controls",
       "_model_module_version": "1.5.0",
       "_model_name": "DescriptionStyleModel",
       "_view_count": null,
       "_view_module": "@jupyter-widgets/base",
       "_view_module_version": "1.2.0",
       "_view_name": "StyleView",
       "description_width": ""
      }
     },
     "35406b166e85455c965f7d8b73e02958": {
      "model_module": "@jupyter-widgets/controls",
      "model_module_version": "1.5.0",
      "model_name": "DescriptionStyleModel",
      "state": {
       "_model_module": "@jupyter-widgets/controls",
       "_model_module_version": "1.5.0",
       "_model_name": "DescriptionStyleModel",
       "_view_count": null,
       "_view_module": "@jupyter-widgets/base",
       "_view_module_version": "1.2.0",
       "_view_name": "StyleView",
       "description_width": "0px"
      }
     },
     "358515f8c00d45a3bfdd41f28be56e95": {
      "model_module": "@jupyter-widgets/controls",
      "model_module_version": "1.5.0",
      "model_name": "HTMLModel",
      "state": {
       "_dom_classes": [],
       "_model_module": "@jupyter-widgets/controls",
       "_model_module_version": "1.5.0",
       "_model_name": "HTMLModel",
       "_view_count": null,
       "_view_module": "@jupyter-widgets/controls",
       "_view_module_version": "1.5.0",
       "_view_name": "HTMLView",
       "description": "",
       "description_tooltip": null,
       "layout": "IPY_MODEL_1a17608c7cf54c5293a88b93567107e5",
       "placeholder": "​",
       "style": "IPY_MODEL_316b88647e0b4b95830217dd1b3b6403",
       "value": "<div style=\"font-size:medium; background-color:white;padding-left:2px;\">16.60</div>"
      }
     },
     "3607fe130eb24fe89d8ceeb92df424a7": {
      "model_module": "@jupyter-widgets/controls",
      "model_module_version": "1.5.0",
      "model_name": "HTMLModel",
      "state": {
       "_dom_classes": [],
       "_model_module": "@jupyter-widgets/controls",
       "_model_module_version": "1.5.0",
       "_model_name": "HTMLModel",
       "_view_count": null,
       "_view_module": "@jupyter-widgets/controls",
       "_view_module_version": "1.5.0",
       "_view_name": "HTMLView",
       "description": "",
       "description_tooltip": null,
       "layout": "IPY_MODEL_0fc6d0e36882466aaf8b89d9494bcb4b",
       "placeholder": "​",
       "style": "IPY_MODEL_f092799c99a94fa6bd097ffa1b4f90aa",
       "value": "<div style=\"font-size:medium; background-color:white;padding-left:2px;\">Walkable Cities</div>"
      }
     },
     "36221ac9548c48ff9484c34167c8b990": {
      "model_module": "@jupyter-widgets/controls",
      "model_module_version": "1.5.0",
      "model_name": "CheckboxModel",
      "state": {
       "_dom_classes": [
        "checkbox_airplanes"
       ],
       "_model_module": "@jupyter-widgets/controls",
       "_model_module_version": "1.5.0",
       "_model_name": "CheckboxModel",
       "_view_count": null,
       "_view_module": "@jupyter-widgets/controls",
       "_view_module_version": "1.5.0",
       "_view_name": "CheckboxView",
       "description": "",
       "description_tooltip": null,
       "disabled": false,
       "indent": true,
       "layout": "IPY_MODEL_bdef4bf3c7424855b736b0fa72c837ed",
       "style": "IPY_MODEL_56233881067f4cd082ff361e7bf7fad3",
       "value": false
      }
     },
     "3696194da5954aa39c1c70654b45e288": {
      "model_module": "@jupyter-widgets/controls",
      "model_module_version": "1.5.0",
      "model_name": "CheckboxModel",
      "state": {
       "_dom_classes": [
        "checkbox_walkablecities"
       ],
       "_model_module": "@jupyter-widgets/controls",
       "_model_module_version": "1.5.0",
       "_model_name": "CheckboxModel",
       "_view_count": null,
       "_view_module": "@jupyter-widgets/controls",
       "_view_module_version": "1.5.0",
       "_view_name": "CheckboxView",
       "description": "",
       "description_tooltip": null,
       "disabled": false,
       "indent": true,
       "layout": "IPY_MODEL_bdef4bf3c7424855b736b0fa72c837ed",
       "style": "IPY_MODEL_fa52f4fd73b44682a53f5b7e0b0f272a",
       "value": false
      }
     },
     "36c982a9587a4a52aaf2277bee9f6b4a": {
      "model_module": "@jupyter-widgets/controls",
      "model_module_version": "1.5.0",
      "model_name": "DescriptionStyleModel",
      "state": {
       "_model_module": "@jupyter-widgets/controls",
       "_model_module_version": "1.5.0",
       "_model_name": "DescriptionStyleModel",
       "_view_count": null,
       "_view_module": "@jupyter-widgets/base",
       "_view_module_version": "1.2.0",
       "_view_name": "StyleView",
       "description_width": ""
      }
     },
     "376a2d9f9bc54935a79dff6f1375d542": {
      "model_module": "@jupyter-widgets/controls",
      "model_module_version": "1.5.0",
      "model_name": "CheckboxModel",
      "state": {
       "_dom_classes": [
        "checkbox_multistrataagroforestry"
       ],
       "_model_module": "@jupyter-widgets/controls",
       "_model_module_version": "1.5.0",
       "_model_name": "CheckboxModel",
       "_view_count": null,
       "_view_module": "@jupyter-widgets/controls",
       "_view_module_version": "1.5.0",
       "_view_name": "CheckboxView",
       "description": "",
       "description_tooltip": null,
       "disabled": false,
       "indent": true,
       "layout": "IPY_MODEL_bdef4bf3c7424855b736b0fa72c837ed",
       "style": "IPY_MODEL_cb7dcf04a9554105aaf893d6f1a24ab5",
       "value": false
      }
     },
     "37eac25fe70b432c9dc96cb835207098": {
      "model_module": "@jupyter-widgets/controls",
      "model_module_version": "1.5.0",
      "model_name": "CheckboxModel",
      "state": {
       "_dom_classes": [
        "checkbox_waterefficiency"
       ],
       "_model_module": "@jupyter-widgets/controls",
       "_model_module_version": "1.5.0",
       "_model_name": "CheckboxModel",
       "_view_count": null,
       "_view_module": "@jupyter-widgets/controls",
       "_view_module_version": "1.5.0",
       "_view_name": "CheckboxView",
       "description": "",
       "description_tooltip": null,
       "disabled": false,
       "indent": true,
       "layout": "IPY_MODEL_bdef4bf3c7424855b736b0fa72c837ed",
       "style": "IPY_MODEL_ec67dd5c2f1b4d9ebe0a75263e4dcea2",
       "value": false
      }
     },
     "396231ae1a764389bf80309febcd03ae": {
      "model_module": "@jupyter-widgets/controls",
      "model_module_version": "1.5.0",
      "model_name": "HBoxModel",
      "state": {
       "_dom_classes": [],
       "_model_module": "@jupyter-widgets/controls",
       "_model_module_version": "1.5.0",
       "_model_name": "HBoxModel",
       "_view_count": null,
       "_view_module": "@jupyter-widgets/controls",
       "_view_module_version": "1.5.0",
       "_view_name": "HBoxView",
       "box_style": "",
       "children": [
        "IPY_MODEL_d6709e5cc5a74a1586e64062a7c01683",
        "IPY_MODEL_d3e5a2371980451090e4bfd14ebe9cf3",
        "IPY_MODEL_b0c1000025324fafad04c029812ed266",
        "IPY_MODEL_b369b9ee5f0a40d88824af7bf9c9c764"
       ],
       "layout": "IPY_MODEL_804c51697f2b4229a0f02be6b85b1659"
      }
     },
     "39678b4b1ffe4f958d974bb29822a904": {
      "model_module": "@jupyter-widgets/controls",
      "model_module_version": "1.5.0",
      "model_name": "CheckboxModel",
      "state": {
       "_dom_classes": [
        "checkbox_managedgrazing"
       ],
       "_model_module": "@jupyter-widgets/controls",
       "_model_module_version": "1.5.0",
       "_model_name": "CheckboxModel",
       "_view_count": null,
       "_view_module": "@jupyter-widgets/controls",
       "_view_module_version": "1.5.0",
       "_view_name": "CheckboxView",
       "description": "",
       "description_tooltip": null,
       "disabled": false,
       "indent": true,
       "layout": "IPY_MODEL_bdef4bf3c7424855b736b0fa72c837ed",
       "style": "IPY_MODEL_8bc397a77ce64be5922e52c1e789fd5d",
       "value": false
      }
     },
     "399441363bdb4d238198427dc61793f8": {
      "model_module": "@jupyter-widgets/controls",
      "model_module_version": "1.5.0",
      "model_name": "DescriptionStyleModel",
      "state": {
       "_model_module": "@jupyter-widgets/controls",
       "_model_module_version": "1.5.0",
       "_model_name": "DescriptionStyleModel",
       "_view_count": null,
       "_view_module": "@jupyter-widgets/base",
       "_view_module_version": "1.2.0",
       "_view_name": "StyleView",
       "description_width": "0px"
      }
     },
     "399edda7bea24e8c8a6c2339bd1f34cd": {
      "model_module": "@jupyter-widgets/controls",
      "model_module_version": "1.5.0",
      "model_name": "DescriptionStyleModel",
      "state": {
       "_model_module": "@jupyter-widgets/controls",
       "_model_module_version": "1.5.0",
       "_model_name": "DescriptionStyleModel",
       "_view_count": null,
       "_view_module": "@jupyter-widgets/base",
       "_view_module_version": "1.2.0",
       "_view_name": "StyleView",
       "description_width": ""
      }
     },
     "3b0e8ba795c64a449d60ef297c9df739": {
      "model_module": "@jupyter-widgets/controls",
      "model_module_version": "1.5.0",
      "model_name": "DescriptionStyleModel",
      "state": {
       "_model_module": "@jupyter-widgets/controls",
       "_model_module_version": "1.5.0",
       "_model_name": "DescriptionStyleModel",
       "_view_count": null,
       "_view_module": "@jupyter-widgets/base",
       "_view_module_version": "1.2.0",
       "_view_name": "StyleView",
       "description_width": ""
      }
     },
     "3b2127959a3c49bf84e2ce543bb08efc": {
      "model_module": "@jupyter-widgets/controls",
      "model_module_version": "1.5.0",
      "model_name": "CheckboxModel",
      "state": {
       "_dom_classes": [
        "checkbox_"
       ],
       "_model_module": "@jupyter-widgets/controls",
       "_model_module_version": "1.5.0",
       "_model_name": "CheckboxModel",
       "_view_count": null,
       "_view_module": "@jupyter-widgets/controls",
       "_view_module_version": "1.5.0",
       "_view_name": "CheckboxView",
       "description": "",
       "description_tooltip": null,
       "disabled": true,
       "indent": true,
       "layout": "IPY_MODEL_bdef4bf3c7424855b736b0fa72c837ed",
       "style": "IPY_MODEL_9b0d07a6f3904d8bb3df0bb092ed667b",
       "value": false
      }
     },
     "3b731e9b76e7482eaa313a368b6013d7": {
      "model_module": "@jupyter-widgets/controls",
      "model_module_version": "1.5.0",
      "model_name": "HBoxModel",
      "state": {
       "_dom_classes": [],
       "_model_module": "@jupyter-widgets/controls",
       "_model_module_version": "1.5.0",
       "_model_name": "HBoxModel",
       "_view_count": null,
       "_view_module": "@jupyter-widgets/controls",
       "_view_module_version": "1.5.0",
       "_view_name": "HBoxView",
       "box_style": "",
       "children": [
        "IPY_MODEL_e371040a15d94d4eb82297c66484c06f",
        "IPY_MODEL_344c85cac51a46728259e03faf9ab1b1",
        "IPY_MODEL_b1af30fe4a8945da8b6fa9a64a595e23",
        "IPY_MODEL_376a2d9f9bc54935a79dff6f1375d542"
       ],
       "layout": "IPY_MODEL_804c51697f2b4229a0f02be6b85b1659"
      }
     },
     "3b87edcfb7e841f2bbc563f232a1833b": {
      "model_module": "@jupyter-widgets/controls",
      "model_module_version": "1.5.0",
      "model_name": "DescriptionStyleModel",
      "state": {
       "_model_module": "@jupyter-widgets/controls",
       "_model_module_version": "1.5.0",
       "_model_name": "DescriptionStyleModel",
       "_view_count": null,
       "_view_module": "@jupyter-widgets/base",
       "_view_module_version": "1.2.0",
       "_view_name": "StyleView",
       "description_width": ""
      }
     },
     "3c1197e23288409281ee234a060b8d91": {
      "model_module": "@jupyter-widgets/controls",
      "model_module_version": "1.5.0",
      "model_name": "HTMLModel",
      "state": {
       "_dom_classes": [],
       "_model_module": "@jupyter-widgets/controls",
       "_model_module_version": "1.5.0",
       "_model_name": "HTMLModel",
       "_view_count": null,
       "_view_module": "@jupyter-widgets/controls",
       "_view_module_version": "1.5.0",
       "_view_name": "HTMLView",
       "description": "",
       "description_tooltip": null,
       "layout": "IPY_MODEL_2adb518af7044a69aad2c2de3ca0c421",
       "placeholder": "​",
       "style": "IPY_MODEL_18bceac767d7486c8fb1777085241704",
       "value": "<div style=\"font-size:medium; background-color:white;padding-left:2px;\">Food</div>"
      }
     },
     "3c355cb13a434b61a098e6e39a773841": {
      "model_module": "@jupyter-widgets/controls",
      "model_module_version": "1.5.0",
      "model_name": "HBoxModel",
      "state": {
       "_dom_classes": [],
       "_model_module": "@jupyter-widgets/controls",
       "_model_module_version": "1.5.0",
       "_model_name": "HBoxModel",
       "_view_count": null,
       "_view_module": "@jupyter-widgets/controls",
       "_view_module_version": "1.5.0",
       "_view_name": "HBoxView",
       "box_style": "",
       "children": [
        "IPY_MODEL_a9a391c168364c07ab8d0a1e7d6b6830",
        "IPY_MODEL_3442b70d3bd44249a0505e0ba495637e",
        "IPY_MODEL_2f20200065404df5bccffdbcf4abe5f8",
        "IPY_MODEL_6efa730306ec43cc94317f50db9ba263"
       ],
       "layout": "IPY_MODEL_804c51697f2b4229a0f02be6b85b1659"
      }
     },
     "3c357d464bd443bfa4d39ea086ce3165": {
      "model_module": "@jupyter-widgets/controls",
      "model_module_version": "1.5.0",
      "model_name": "DescriptionStyleModel",
      "state": {
       "_model_module": "@jupyter-widgets/controls",
       "_model_module_version": "1.5.0",
       "_model_name": "DescriptionStyleModel",
       "_view_count": null,
       "_view_module": "@jupyter-widgets/base",
       "_view_module_version": "1.2.0",
       "_view_name": "StyleView",
       "description_width": ""
      }
     },
     "3c35bb4563d548259bc658693dbe3eaa": {
      "model_module": "@jupyter-widgets/controls",
      "model_module_version": "1.5.0",
      "model_name": "DescriptionStyleModel",
      "state": {
       "_model_module": "@jupyter-widgets/controls",
       "_model_module_version": "1.5.0",
       "_model_name": "DescriptionStyleModel",
       "_view_count": null,
       "_view_module": "@jupyter-widgets/base",
       "_view_module_version": "1.2.0",
       "_view_name": "StyleView",
       "description_width": ""
      }
     },
     "3ca9f1e6b7834ccfacef55bb183c0591": {
      "model_module": "@jupyter-widgets/controls",
      "model_module_version": "1.5.0",
      "model_name": "CheckboxModel",
      "state": {
       "_dom_classes": [
        "checkbox_forestprotection"
       ],
       "_model_module": "@jupyter-widgets/controls",
       "_model_module_version": "1.5.0",
       "_model_name": "CheckboxModel",
       "_view_count": null,
       "_view_module": "@jupyter-widgets/controls",
       "_view_module_version": "1.5.0",
       "_view_name": "CheckboxView",
       "description": "",
       "description_tooltip": null,
       "disabled": false,
       "indent": true,
       "layout": "IPY_MODEL_bdef4bf3c7424855b736b0fa72c837ed",
       "style": "IPY_MODEL_d342bbf27d2240a5bb510ed757e3418b",
       "value": false
      }
     },
     "3d0129a7234f4e4abeb019858c7a1412": {
      "model_module": "@jupyter-widgets/controls",
      "model_module_version": "1.5.0",
      "model_name": "DescriptionStyleModel",
      "state": {
       "_model_module": "@jupyter-widgets/controls",
       "_model_module_version": "1.5.0",
       "_model_name": "DescriptionStyleModel",
       "_view_count": null,
       "_view_module": "@jupyter-widgets/base",
       "_view_module_version": "1.2.0",
       "_view_name": "StyleView",
       "description_width": "0px"
      }
     },
     "3d2d9e546e9b4054bffd7a615d0d9819": {
      "model_module": "@jupyter-widgets/controls",
      "model_module_version": "1.5.0",
      "model_name": "HBoxModel",
      "state": {
       "_dom_classes": [],
       "_model_module": "@jupyter-widgets/controls",
       "_model_module_version": "1.5.0",
       "_model_name": "HBoxModel",
       "_view_count": null,
       "_view_module": "@jupyter-widgets/controls",
       "_view_module_version": "1.5.0",
       "_view_name": "HBoxView",
       "box_style": "",
       "children": [
        "IPY_MODEL_e1a0950d8fa94eddac0cc906a7184cfc",
        "IPY_MODEL_feac41fc724e414c96f971d5b4227cc9",
        "IPY_MODEL_47afb9da0e8b41848daadf1c95a9f528",
        "IPY_MODEL_f26c8940ef8447a4ab4f85d32cdf3765"
       ],
       "layout": "IPY_MODEL_804c51697f2b4229a0f02be6b85b1659"
      }
     },
     "3d350f50a9cf4d45a5818c12c102b53c": {
      "model_module": "@jupyter-widgets/controls",
      "model_module_version": "1.5.0",
      "model_name": "HTMLModel",
      "state": {
       "_dom_classes": [],
       "_model_module": "@jupyter-widgets/controls",
       "_model_module_version": "1.5.0",
       "_model_name": "HTMLModel",
       "_view_count": null,
       "_view_module": "@jupyter-widgets/controls",
       "_view_module_version": "1.5.0",
       "_view_name": "HTMLView",
       "description": "",
       "description_tooltip": null,
       "layout": "IPY_MODEL_2adb518af7044a69aad2c2de3ca0c421",
       "placeholder": "​",
       "style": "IPY_MODEL_9de630b1f85146819df6df568bdf5b75",
       "value": "<div style=\"font-size:medium; background-color:#ececec;padding-left:2px;\">Electricity Generation</div>"
      }
     },
     "3d3a328f5e254945b1488fad2a49dc2e": {
      "model_module": "@jupyter-widgets/controls",
      "model_module_version": "1.5.0",
      "model_name": "HBoxModel",
      "state": {
       "_dom_classes": [],
       "_model_module": "@jupyter-widgets/controls",
       "_model_module_version": "1.5.0",
       "_model_name": "HBoxModel",
       "_view_count": null,
       "_view_module": "@jupyter-widgets/controls",
       "_view_module_version": "1.5.0",
       "_view_name": "HBoxView",
       "box_style": "",
       "children": [
        "IPY_MODEL_d636657b27634ecab7f4218750c04bd3",
        "IPY_MODEL_68ed495a0bad4b84a4927e4bdea4a7fd",
        "IPY_MODEL_caa8e3adf73e46aeaceb4c4852a96416",
        "IPY_MODEL_2a8c8c6d8a6f446fb864eba5ef6a87b1"
       ],
       "layout": "IPY_MODEL_804c51697f2b4229a0f02be6b85b1659"
      }
     },
     "3d611482a0a940ffb9dcc19239ebc7b5": {
      "model_module": "@jupyter-widgets/controls",
      "model_module_version": "1.5.0",
      "model_name": "CheckboxModel",
      "state": {
       "_dom_classes": [
        "checkbox_"
       ],
       "_model_module": "@jupyter-widgets/controls",
       "_model_module_version": "1.5.0",
       "_model_name": "CheckboxModel",
       "_view_count": null,
       "_view_module": "@jupyter-widgets/controls",
       "_view_module_version": "1.5.0",
       "_view_name": "CheckboxView",
       "description": "",
       "description_tooltip": null,
       "disabled": true,
       "indent": true,
       "layout": "IPY_MODEL_bdef4bf3c7424855b736b0fa72c837ed",
       "style": "IPY_MODEL_fb0ef8f059404dcab6960600c73582bb",
       "value": false
      }
     },
     "3e6efbedf561450ab2542217226ca7f7": {
      "model_module": "@jupyter-widgets/controls",
      "model_module_version": "1.5.0",
      "model_name": "DescriptionStyleModel",
      "state": {
       "_model_module": "@jupyter-widgets/controls",
       "_model_module_version": "1.5.0",
       "_model_name": "DescriptionStyleModel",
       "_view_count": null,
       "_view_module": "@jupyter-widgets/base",
       "_view_module_version": "1.2.0",
       "_view_name": "StyleView",
       "description_width": ""
      }
     },
     "3e83365bd2394dec8de9e3e1c77ac0fb": {
      "model_module": "@jupyter-widgets/controls",
      "model_module_version": "1.5.0",
      "model_name": "DescriptionStyleModel",
      "state": {
       "_model_module": "@jupyter-widgets/controls",
       "_model_module_version": "1.5.0",
       "_model_name": "DescriptionStyleModel",
       "_view_count": null,
       "_view_module": "@jupyter-widgets/base",
       "_view_module_version": "1.2.0",
       "_view_name": "StyleView",
       "description_width": "0px"
      }
     },
     "3efb7e177f704cc9b6211e728f6dcbf3": {
      "model_module": "@jupyter-widgets/controls",
      "model_module_version": "1.5.0",
      "model_name": "HTMLModel",
      "state": {
       "_dom_classes": [],
       "_model_module": "@jupyter-widgets/controls",
       "_model_module_version": "1.5.0",
       "_model_name": "HTMLModel",
       "_view_count": null,
       "_view_module": "@jupyter-widgets/controls",
       "_view_module_version": "1.5.0",
       "_view_name": "HTMLView",
       "description": "",
       "description_tooltip": null,
       "layout": "IPY_MODEL_2adb518af7044a69aad2c2de3ca0c421",
       "placeholder": "​",
       "style": "IPY_MODEL_95c48ca55f814400870da91a3695748c",
       "value": "<div style=\"font-size:medium; background-color:white;padding-left:2px;\">Electricity Generation</div>"
      }
     },
     "3f3d775393f042cd98955b08f0d4870f": {
      "model_module": "@jupyter-widgets/controls",
      "model_module_version": "1.5.0",
      "model_name": "HTMLModel",
      "state": {
       "_dom_classes": [],
       "_model_module": "@jupyter-widgets/controls",
       "_model_module_version": "1.5.0",
       "_model_name": "HTMLModel",
       "_view_count": null,
       "_view_module": "@jupyter-widgets/controls",
       "_view_module_version": "1.5.0",
       "_view_name": "HTMLView",
       "description": "",
       "description_tooltip": null,
       "layout": "IPY_MODEL_2adb518af7044a69aad2c2de3ca0c421",
       "placeholder": "​",
       "style": "IPY_MODEL_55fe45464abd4944ac40ddf2751dc29d",
       "value": "<div style=\"font-size:medium; background-color:white;padding-left:2px;\">Food</div>"
      }
     },
     "3f68ed0e7e81439da604bee99487df26": {
      "model_module": "@jupyter-widgets/controls",
      "model_module_version": "1.5.0",
      "model_name": "HBoxModel",
      "state": {
       "_dom_classes": [],
       "_model_module": "@jupyter-widgets/controls",
       "_model_module_version": "1.5.0",
       "_model_name": "HBoxModel",
       "_view_count": null,
       "_view_module": "@jupyter-widgets/controls",
       "_view_module_version": "1.5.0",
       "_view_name": "HBoxView",
       "box_style": "",
       "children": [
        "IPY_MODEL_e6e29dc6349749809eb7f18c67b3f20e",
        "IPY_MODEL_2030139aea204e7d9b41cd5eb4746f3c",
        "IPY_MODEL_ac0a8b8a4fea41ad95bf8155be6c0af8",
        "IPY_MODEL_3d611482a0a940ffb9dcc19239ebc7b5"
       ],
       "layout": "IPY_MODEL_804c51697f2b4229a0f02be6b85b1659"
      }
     },
     "3faaf4ba97d0497b9669435d3583e947": {
      "model_module": "@jupyter-widgets/controls",
      "model_module_version": "1.5.0",
      "model_name": "DescriptionStyleModel",
      "state": {
       "_model_module": "@jupyter-widgets/controls",
       "_model_module_version": "1.5.0",
       "_model_name": "DescriptionStyleModel",
       "_view_count": null,
       "_view_module": "@jupyter-widgets/base",
       "_view_module_version": "1.2.0",
       "_view_name": "StyleView",
       "description_width": ""
      }
     },
     "3fb6a17c1576416d85f4a41d8c980a8c": {
      "model_module": "@jupyter-widgets/controls",
      "model_module_version": "1.5.0",
      "model_name": "HBoxModel",
      "state": {
       "_dom_classes": [],
       "_model_module": "@jupyter-widgets/controls",
       "_model_module_version": "1.5.0",
       "_model_name": "HBoxModel",
       "_view_count": null,
       "_view_module": "@jupyter-widgets/controls",
       "_view_module_version": "1.5.0",
       "_view_name": "HBoxView",
       "box_style": "",
       "children": [
        "IPY_MODEL_0c3867173a394495906ff6610d2257e6",
        "IPY_MODEL_7da3f1aa0b7e416ebc81275d098b3624",
        "IPY_MODEL_fd442406bd1745009c3de7b7ae19f57d",
        "IPY_MODEL_e904982305924ca59217acec6e48bd0c"
       ],
       "layout": "IPY_MODEL_804c51697f2b4229a0f02be6b85b1659"
      }
     },
     "40126e8930ab4c64a450c521e918dc81": {
      "model_module": "@jupyter-widgets/controls",
      "model_module_version": "1.5.0",
      "model_name": "DescriptionStyleModel",
      "state": {
       "_model_module": "@jupyter-widgets/controls",
       "_model_module_version": "1.5.0",
       "_model_name": "DescriptionStyleModel",
       "_view_count": null,
       "_view_module": "@jupyter-widgets/base",
       "_view_module_version": "1.2.0",
       "_view_name": "StyleView",
       "description_width": ""
      }
     },
     "4027f9cda3fd4ad0867873f46666f81b": {
      "model_module": "@jupyter-widgets/controls",
      "model_module_version": "1.5.0",
      "model_name": "DescriptionStyleModel",
      "state": {
       "_model_module": "@jupyter-widgets/controls",
       "_model_module_version": "1.5.0",
       "_model_name": "DescriptionStyleModel",
       "_view_count": null,
       "_view_module": "@jupyter-widgets/base",
       "_view_module_version": "1.2.0",
       "_view_name": "StyleView",
       "description_width": "0px"
      }
     },
     "40833016613a48dba67784bbfb6db470": {
      "model_module": "@jupyter-widgets/controls",
      "model_module_version": "1.5.0",
      "model_name": "CheckboxModel",
      "state": {
       "_dom_classes": [
        "checkbox_afforestation"
       ],
       "_model_module": "@jupyter-widgets/controls",
       "_model_module_version": "1.5.0",
       "_model_name": "CheckboxModel",
       "_view_count": null,
       "_view_module": "@jupyter-widgets/controls",
       "_view_module_version": "1.5.0",
       "_view_name": "CheckboxView",
       "description": "",
       "description_tooltip": null,
       "disabled": false,
       "indent": true,
       "layout": "IPY_MODEL_bdef4bf3c7424855b736b0fa72c837ed",
       "style": "IPY_MODEL_cbaf1939ff2c4a4db8d693ff5ac9cc65",
       "value": false
      }
     },
     "40b1296c31734ddca2a88d03476260c1": {
      "model_module": "@jupyter-widgets/controls",
      "model_module_version": "1.5.0",
      "model_name": "HTMLModel",
      "state": {
       "_dom_classes": [],
       "_model_module": "@jupyter-widgets/controls",
       "_model_module_version": "1.5.0",
       "_model_name": "HTMLModel",
       "_view_count": null,
       "_view_module": "@jupyter-widgets/controls",
       "_view_module_version": "1.5.0",
       "_view_name": "HTMLView",
       "description": "",
       "description_tooltip": null,
       "layout": "IPY_MODEL_0fc6d0e36882466aaf8b89d9494bcb4b",
       "placeholder": "​",
       "style": "IPY_MODEL_e662454565b14aff966c8faf11b19c9a",
       "value": "<div style=\"font-size:medium; background-color:#ececec;padding-left:2px;\">Bike Infrastructure</div>"
      }
     },
     "4253a436155049d3b6fb15a33c8423df": {
      "model_module": "@jupyter-widgets/controls",
      "model_module_version": "1.5.0",
      "model_name": "CheckboxModel",
      "state": {
       "_dom_classes": [
        "checkbox_solarpvutil"
       ],
       "_model_module": "@jupyter-widgets/controls",
       "_model_module_version": "1.5.0",
       "_model_name": "CheckboxModel",
       "_view_count": null,
       "_view_module": "@jupyter-widgets/controls",
       "_view_module_version": "1.5.0",
       "_view_name": "CheckboxView",
       "description": "",
       "description_tooltip": null,
       "disabled": false,
       "indent": true,
       "layout": "IPY_MODEL_bdef4bf3c7424855b736b0fa72c837ed",
       "style": "IPY_MODEL_c63a1a5b994b49bd9ea216c3269f82b2",
       "value": false
      }
     },
     "42b4ae6c959a452b90a23bc96d14ae79": {
      "model_module": "@jupyter-widgets/controls",
      "model_module_version": "1.5.0",
      "model_name": "CheckboxModel",
      "state": {
       "_dom_classes": [
        "checkbox_perennialbioenergy"
       ],
       "_model_module": "@jupyter-widgets/controls",
       "_model_module_version": "1.5.0",
       "_model_name": "CheckboxModel",
       "_view_count": null,
       "_view_module": "@jupyter-widgets/controls",
       "_view_module_version": "1.5.0",
       "_view_name": "CheckboxView",
       "description": "",
       "description_tooltip": null,
       "disabled": false,
       "indent": true,
       "layout": "IPY_MODEL_bdef4bf3c7424855b736b0fa72c837ed",
       "style": "IPY_MODEL_3193b24165f14608a0d3dbf1c7c6c881",
       "value": false
      }
     },
     "43f26ea7cf6140529e05ed2819a4fb2c": {
      "model_module": "@jupyter-widgets/controls",
      "model_module_version": "1.5.0",
      "model_name": "DescriptionStyleModel",
      "state": {
       "_model_module": "@jupyter-widgets/controls",
       "_model_module_version": "1.5.0",
       "_model_name": "DescriptionStyleModel",
       "_view_count": null,
       "_view_module": "@jupyter-widgets/base",
       "_view_module_version": "1.2.0",
       "_view_name": "StyleView",
       "description_width": "0px"
      }
     },
     "4435715f3f5c4ffca2b8ece9613e1e2b": {
      "model_module": "@jupyter-widgets/controls",
      "model_module_version": "1.5.0",
      "model_name": "HTMLModel",
      "state": {
       "_dom_classes": [],
       "_model_module": "@jupyter-widgets/controls",
       "_model_module_version": "1.5.0",
       "_model_name": "HTMLModel",
       "_view_count": null,
       "_view_module": "@jupyter-widgets/controls",
       "_view_module_version": "1.5.0",
       "_view_name": "HTMLView",
       "description": "",
       "description_tooltip": null,
       "layout": "IPY_MODEL_0fc6d0e36882466aaf8b89d9494bcb4b",
       "placeholder": "​",
       "style": "IPY_MODEL_f7ca39e4d4974dfaa469c74ddd0a58a7",
       "value": "<div style=\"font-size:medium; background-color:#ececec;padding-left:2px;\">Rooftop Solar</div>"
      }
     },
     "448dff603d354684a9c983a0805afe11": {
      "model_module": "@jupyter-widgets/controls",
      "model_module_version": "1.5.0",
      "model_name": "DescriptionStyleModel",
      "state": {
       "_model_module": "@jupyter-widgets/controls",
       "_model_module_version": "1.5.0",
       "_model_name": "DescriptionStyleModel",
       "_view_count": null,
       "_view_module": "@jupyter-widgets/base",
       "_view_module_version": "1.2.0",
       "_view_name": "StyleView",
       "description_width": ""
      }
     },
     "44c610492d6f4e638a05a5f1a90151e2": {
      "model_module": "@jupyter-widgets/controls",
      "model_module_version": "1.5.0",
      "model_name": "HTMLModel",
      "state": {
       "_dom_classes": [],
       "_model_module": "@jupyter-widgets/controls",
       "_model_module_version": "1.5.0",
       "_model_name": "HTMLModel",
       "_view_count": null,
       "_view_module": "@jupyter-widgets/controls",
       "_view_module_version": "1.5.0",
       "_view_name": "HTMLView",
       "description": "",
       "description_tooltip": null,
       "layout": "IPY_MODEL_1a17608c7cf54c5293a88b93567107e5",
       "placeholder": "​",
       "style": "IPY_MODEL_76f78325342b4a579f958a082c1286f4",
       "value": "<div style=\"font-size:medium; background-color:white;padding-left:2px;\">4.61</div>"
      }
     },
     "44fd3fb1d8974e7399b5ba737b2fc25f": {
      "model_module": "@jupyter-widgets/controls",
      "model_module_version": "1.5.0",
      "model_name": "HTMLModel",
      "state": {
       "_dom_classes": [],
       "_model_module": "@jupyter-widgets/controls",
       "_model_module_version": "1.5.0",
       "_model_name": "HTMLModel",
       "_view_count": null,
       "_view_module": "@jupyter-widgets/controls",
       "_view_module_version": "1.5.0",
       "_view_name": "HTMLView",
       "description": "",
       "description_tooltip": null,
       "layout": "IPY_MODEL_1a17608c7cf54c5293a88b93567107e5",
       "placeholder": "​",
       "style": "IPY_MODEL_5c5849d5e98040eab633ec390f48d3de",
       "value": "<div style=\"font-size:medium; background-color:white;padding-left:2px;\">1.99</div>"
      }
     },
     "4506af126ba04af59fc07b7883fd04ab": {
      "model_module": "@jupyter-widgets/controls",
      "model_module_version": "1.5.0",
      "model_name": "HBoxModel",
      "state": {
       "_dom_classes": [],
       "_model_module": "@jupyter-widgets/controls",
       "_model_module_version": "1.5.0",
       "_model_name": "HBoxModel",
       "_view_count": null,
       "_view_module": "@jupyter-widgets/controls",
       "_view_module_version": "1.5.0",
       "_view_name": "HBoxView",
       "box_style": "",
       "children": [
        "IPY_MODEL_f6cf162e4d3249baa6d1af7f75bbee89",
        "IPY_MODEL_cc766f38295e4466b62c69e0dc191c15",
        "IPY_MODEL_473b6785479a4aa8a0f6d0592d877ca1",
        "IPY_MODEL_57f94f57c03646e8ae52496d3e18cc2b"
       ],
       "layout": "IPY_MODEL_804c51697f2b4229a0f02be6b85b1659"
      }
     },
     "45122e6abdd34cf690b70818286c3821": {
      "model_module": "@jupyter-widgets/controls",
      "model_module_version": "1.5.0",
      "model_name": "CheckboxModel",
      "state": {
       "_dom_classes": [
        "checkbox_bamboo"
       ],
       "_model_module": "@jupyter-widgets/controls",
       "_model_module_version": "1.5.0",
       "_model_name": "CheckboxModel",
       "_view_count": null,
       "_view_module": "@jupyter-widgets/controls",
       "_view_module_version": "1.5.0",
       "_view_name": "CheckboxView",
       "description": "",
       "description_tooltip": null,
       "disabled": false,
       "indent": true,
       "layout": "IPY_MODEL_bdef4bf3c7424855b736b0fa72c837ed",
       "style": "IPY_MODEL_cca536c341254a7f8631650f9693fdf6",
       "value": false
      }
     },
     "456627a1f0e540c793ea517a293e1acd": {
      "model_module": "@jupyter-widgets/controls",
      "model_module_version": "1.5.0",
      "model_name": "DescriptionStyleModel",
      "state": {
       "_model_module": "@jupyter-widgets/controls",
       "_model_module_version": "1.5.0",
       "_model_name": "DescriptionStyleModel",
       "_view_count": null,
       "_view_module": "@jupyter-widgets/base",
       "_view_module_version": "1.2.0",
       "_view_name": "StyleView",
       "description_width": ""
      }
     },
     "45787854eed945eca94c94a1928196a1": {
      "model_module": "@jupyter-widgets/controls",
      "model_module_version": "1.5.0",
      "model_name": "HTMLModel",
      "state": {
       "_dom_classes": [],
       "_model_module": "@jupyter-widgets/controls",
       "_model_module_version": "1.5.0",
       "_model_name": "HTMLModel",
       "_view_count": null,
       "_view_module": "@jupyter-widgets/controls",
       "_view_module_version": "1.5.0",
       "_view_name": "HTMLView",
       "description": "",
       "description_tooltip": null,
       "layout": "IPY_MODEL_0fc6d0e36882466aaf8b89d9494bcb4b",
       "placeholder": "​",
       "style": "IPY_MODEL_5fea5a50d46c4e7c89fdc7f3cecb8106",
       "value": "<div style=\"font-size:medium; background-color:white;padding-left:2px;\">Nutrient Management</div>"
      }
     },
     "45d2ac871ae349d98202e65ca262a977": {
      "model_module": "@jupyter-widgets/controls",
      "model_module_version": "1.5.0",
      "model_name": "DescriptionStyleModel",
      "state": {
       "_model_module": "@jupyter-widgets/controls",
       "_model_module_version": "1.5.0",
       "_model_name": "DescriptionStyleModel",
       "_view_count": null,
       "_view_module": "@jupyter-widgets/base",
       "_view_module_version": "1.2.0",
       "_view_name": "StyleView",
       "description_width": ""
      }
     },
     "462462ef79fa4213aa89509714d0de66": {
      "model_module": "@jupyter-widgets/controls",
      "model_module_version": "1.5.0",
      "model_name": "HBoxModel",
      "state": {
       "_dom_classes": [],
       "_model_module": "@jupyter-widgets/controls",
       "_model_module_version": "1.5.0",
       "_model_name": "HBoxModel",
       "_view_count": null,
       "_view_module": "@jupyter-widgets/controls",
       "_view_module_version": "1.5.0",
       "_view_name": "HBoxView",
       "box_style": "",
       "children": [
        "IPY_MODEL_ff6397605ead44f194b879a60a02a08e",
        "IPY_MODEL_3d350f50a9cf4d45a5818c12c102b53c",
        "IPY_MODEL_4ba6ab40e0494de38b90cd09f843203b",
        "IPY_MODEL_1b29585c3f174efbbed0d6114422b7e5"
       ],
       "layout": "IPY_MODEL_804c51697f2b4229a0f02be6b85b1659"
      }
     },
     "4624a18d2f404d799755f5d5c0aca074": {
      "model_module": "@jupyter-widgets/controls",
      "model_module_version": "1.5.0",
      "model_name": "DescriptionStyleModel",
      "state": {
       "_model_module": "@jupyter-widgets/controls",
       "_model_module_version": "1.5.0",
       "_model_name": "DescriptionStyleModel",
       "_view_count": null,
       "_view_module": "@jupyter-widgets/base",
       "_view_module_version": "1.2.0",
       "_view_name": "StyleView",
       "description_width": ""
      }
     },
     "4676117c40b14c0ba617bd5f93f449a7": {
      "model_module": "@jupyter-widgets/controls",
      "model_module_version": "1.5.0",
      "model_name": "HTMLModel",
      "state": {
       "_dom_classes": [],
       "_model_module": "@jupyter-widgets/controls",
       "_model_module_version": "1.5.0",
       "_model_name": "HTMLModel",
       "_view_count": null,
       "_view_module": "@jupyter-widgets/controls",
       "_view_module_version": "1.5.0",
       "_view_name": "HTMLView",
       "description": "",
       "description_tooltip": null,
       "layout": "IPY_MODEL_1a17608c7cf54c5293a88b93567107e5",
       "placeholder": "​",
       "style": "IPY_MODEL_bb8bbee6b66346a48d5248b7c20b0a44",
       "value": "<div style=\"font-size:medium; background-color:#ececec;padding-left:2px;\">4.62</div>"
      }
     },
     "46b9c5b952e44a50b11391712d75c9d2": {
      "model_module": "@jupyter-widgets/controls",
      "model_module_version": "1.5.0",
      "model_name": "DescriptionStyleModel",
      "state": {
       "_model_module": "@jupyter-widgets/controls",
       "_model_module_version": "1.5.0",
       "_model_name": "DescriptionStyleModel",
       "_view_count": null,
       "_view_module": "@jupyter-widgets/base",
       "_view_module_version": "1.2.0",
       "_view_name": "StyleView",
       "description_width": "0px"
      }
     },
     "46c8a2aadae74cfba4af471491ca10a2": {
      "model_module": "@jupyter-widgets/controls",
      "model_module_version": "1.5.0",
      "model_name": "DescriptionStyleModel",
      "state": {
       "_model_module": "@jupyter-widgets/controls",
       "_model_module_version": "1.5.0",
       "_model_name": "DescriptionStyleModel",
       "_view_count": null,
       "_view_module": "@jupyter-widgets/base",
       "_view_module_version": "1.2.0",
       "_view_name": "StyleView",
       "description_width": ""
      }
     },
     "470a68d96dbe4c80975975005872b4e6": {
      "model_module": "@jupyter-widgets/controls",
      "model_module_version": "1.5.0",
      "model_name": "DescriptionStyleModel",
      "state": {
       "_model_module": "@jupyter-widgets/controls",
       "_model_module_version": "1.5.0",
       "_model_name": "DescriptionStyleModel",
       "_view_count": null,
       "_view_module": "@jupyter-widgets/base",
       "_view_module_version": "1.2.0",
       "_view_name": "StyleView",
       "description_width": ""
      }
     },
     "473b6785479a4aa8a0f6d0592d877ca1": {
      "model_module": "@jupyter-widgets/controls",
      "model_module_version": "1.5.0",
      "model_name": "HTMLModel",
      "state": {
       "_dom_classes": [],
       "_model_module": "@jupyter-widgets/controls",
       "_model_module_version": "1.5.0",
       "_model_name": "HTMLModel",
       "_view_count": null,
       "_view_module": "@jupyter-widgets/controls",
       "_view_module_version": "1.5.0",
       "_view_name": "HTMLView",
       "description": "",
       "description_tooltip": null,
       "layout": "IPY_MODEL_1a17608c7cf54c5293a88b93567107e5",
       "placeholder": "​",
       "style": "IPY_MODEL_e6873114f4e54f64b7e2819d03b72409",
       "value": "<div style=\"font-size:medium; background-color:#ececec;padding-left:2px;\">23.15</div>"
      }
     },
     "474c8432d2654d14878dacbc30782049": {
      "model_module": "@jupyter-widgets/controls",
      "model_module_version": "1.5.0",
      "model_name": "DescriptionStyleModel",
      "state": {
       "_model_module": "@jupyter-widgets/controls",
       "_model_module_version": "1.5.0",
       "_model_name": "DescriptionStyleModel",
       "_view_count": null,
       "_view_module": "@jupyter-widgets/base",
       "_view_module_version": "1.2.0",
       "_view_name": "StyleView",
       "description_width": ""
      }
     },
     "47aa5268adec463ebe13e9fa74399536": {
      "model_module": "@jupyter-widgets/controls",
      "model_module_version": "1.5.0",
      "model_name": "HTMLModel",
      "state": {
       "_dom_classes": [],
       "_model_module": "@jupyter-widgets/controls",
       "_model_module_version": "1.5.0",
       "_model_name": "HTMLModel",
       "_view_count": null,
       "_view_module": "@jupyter-widgets/controls",
       "_view_module_version": "1.5.0",
       "_view_name": "HTMLView",
       "description": "",
       "description_tooltip": null,
       "layout": "IPY_MODEL_0fc6d0e36882466aaf8b89d9494bcb4b",
       "placeholder": "​",
       "style": "IPY_MODEL_065189192dd6459b9a156a0c7e1b4fc3",
       "value": "<div style=\"font-size:medium; background-color:#ececec;padding-left:2px;\">Bioplastic</div>"
      }
     },
     "47afb9da0e8b41848daadf1c95a9f528": {
      "model_module": "@jupyter-widgets/controls",
      "model_module_version": "1.5.0",
      "model_name": "HTMLModel",
      "state": {
       "_dom_classes": [],
       "_model_module": "@jupyter-widgets/controls",
       "_model_module_version": "1.5.0",
       "_model_name": "HTMLModel",
       "_view_count": null,
       "_view_module": "@jupyter-widgets/controls",
       "_view_module_version": "1.5.0",
       "_view_name": "HTMLView",
       "description": "",
       "description_tooltip": null,
       "layout": "IPY_MODEL_1a17608c7cf54c5293a88b93567107e5",
       "placeholder": "​",
       "style": "IPY_MODEL_e957bc2eb3c54ef38d2a1d08f676ee8e",
       "value": "<div style=\"font-size:medium; background-color:white;padding-left:2px;\">2.50</div>"
      }
     },
     "47b4d4f1d74544c6abd8df118d8a6144": {
      "model_module": "@jupyter-widgets/controls",
      "model_module_version": "1.5.0",
      "model_name": "DescriptionStyleModel",
      "state": {
       "_model_module": "@jupyter-widgets/controls",
       "_model_module_version": "1.5.0",
       "_model_name": "DescriptionStyleModel",
       "_view_count": null,
       "_view_module": "@jupyter-widgets/base",
       "_view_module_version": "1.2.0",
       "_view_name": "StyleView",
       "description_width": ""
      }
     },
     "47c12af5663349df8649d404973d0919": {
      "model_module": "@jupyter-widgets/controls",
      "model_module_version": "1.5.0",
      "model_name": "CheckboxModel",
      "state": {
       "_dom_classes": [
        "checkbox_peatlands"
       ],
       "_model_module": "@jupyter-widgets/controls",
       "_model_module_version": "1.5.0",
       "_model_name": "CheckboxModel",
       "_view_count": null,
       "_view_module": "@jupyter-widgets/controls",
       "_view_module_version": "1.5.0",
       "_view_name": "CheckboxView",
       "description": "",
       "description_tooltip": null,
       "disabled": false,
       "indent": true,
       "layout": "IPY_MODEL_bdef4bf3c7424855b736b0fa72c837ed",
       "style": "IPY_MODEL_b030c57acee6403b82aa9fbc1ceabbb2",
       "value": false
      }
     },
     "47fb94189c5b4446bf7a7c4e9b4cb147": {
      "model_module": "@jupyter-widgets/controls",
      "model_module_version": "1.5.0",
      "model_name": "DescriptionStyleModel",
      "state": {
       "_model_module": "@jupyter-widgets/controls",
       "_model_module_version": "1.5.0",
       "_model_name": "DescriptionStyleModel",
       "_view_count": null,
       "_view_module": "@jupyter-widgets/base",
       "_view_module_version": "1.2.0",
       "_view_name": "StyleView",
       "description_width": ""
      }
     },
     "488858b20fff474995d0bac46cbd71f1": {
      "model_module": "@jupyter-widgets/controls",
      "model_module_version": "1.5.0",
      "model_name": "HBoxModel",
      "state": {
       "_dom_classes": [],
       "_model_module": "@jupyter-widgets/controls",
       "_model_module_version": "1.5.0",
       "_model_name": "HBoxModel",
       "_view_count": null,
       "_view_module": "@jupyter-widgets/controls",
       "_view_module_version": "1.5.0",
       "_view_name": "HBoxView",
       "box_style": "",
       "children": [
        "IPY_MODEL_9b87ed6f5cda4b99b60b457d78a61a76",
        "IPY_MODEL_a627bc6da8744fcfbb08ef8b88116faa",
        "IPY_MODEL_2895e585e2fc419fa8b1efdd1b48d523",
        "IPY_MODEL_45122e6abdd34cf690b70818286c3821"
       ],
       "layout": "IPY_MODEL_804c51697f2b4229a0f02be6b85b1659"
      }
     },
     "489f6bbe6b034b5b8ae28f8059ac55e5": {
      "model_module": "@jupyter-widgets/controls",
      "model_module_version": "1.5.0",
      "model_name": "HBoxModel",
      "state": {
       "_dom_classes": [],
       "_model_module": "@jupyter-widgets/controls",
       "_model_module_version": "1.5.0",
       "_model_name": "HBoxModel",
       "_view_count": null,
       "_view_module": "@jupyter-widgets/controls",
       "_view_module_version": "1.5.0",
       "_view_name": "HBoxView",
       "box_style": "",
       "children": [
        "IPY_MODEL_5cad37611c184bd989a6f6c6f485f4b2",
        "IPY_MODEL_9eb929bcbe884854aa200ee89946f32e",
        "IPY_MODEL_d635d97517ee49caa5f29a2ab08425d0",
        "IPY_MODEL_99a213672ce14579bad2756a4da38193"
       ],
       "layout": "IPY_MODEL_804c51697f2b4229a0f02be6b85b1659"
      }
     },
     "49eb1835ce51470594610353e0128865": {
      "model_module": "@jupyter-widgets/controls",
      "model_module_version": "1.5.0",
      "model_name": "DescriptionStyleModel",
      "state": {
       "_model_module": "@jupyter-widgets/controls",
       "_model_module_version": "1.5.0",
       "_model_name": "DescriptionStyleModel",
       "_view_count": null,
       "_view_module": "@jupyter-widgets/base",
       "_view_module_version": "1.2.0",
       "_view_name": "StyleView",
       "description_width": ""
      }
     },
     "4a1f3f70e7b84853bf20ab332739ba89": {
      "model_module": "@jupyter-widgets/controls",
      "model_module_version": "1.5.0",
      "model_name": "HBoxModel",
      "state": {
       "_dom_classes": [],
       "_model_module": "@jupyter-widgets/controls",
       "_model_module_version": "1.5.0",
       "_model_name": "HBoxModel",
       "_view_count": null,
       "_view_module": "@jupyter-widgets/controls",
       "_view_module_version": "1.5.0",
       "_view_name": "HBoxView",
       "box_style": "",
       "children": [
        "IPY_MODEL_4afe7bbd229446dcac840279c0188c4f",
        "IPY_MODEL_f75fae01abf74d0cad9e8758588d887f",
        "IPY_MODEL_c6b57ce3f07c45e08f0c1317320e2b21",
        "IPY_MODEL_36221ac9548c48ff9484c34167c8b990"
       ],
       "layout": "IPY_MODEL_804c51697f2b4229a0f02be6b85b1659"
      }
     },
     "4a65242d0a32499f8741022078d84e0b": {
      "model_module": "@jupyter-widgets/base",
      "model_module_version": "1.2.0",
      "model_name": "LayoutModel",
      "state": {
       "_model_module": "@jupyter-widgets/base",
       "_model_module_version": "1.2.0",
       "_model_name": "LayoutModel",
       "_view_count": null,
       "_view_module": "@jupyter-widgets/base",
       "_view_module_version": "1.2.0",
       "_view_name": "LayoutView",
       "align_content": null,
       "align_items": null,
       "align_self": null,
       "border": null,
       "bottom": null,
       "display": null,
       "flex": null,
       "flex_flow": null,
       "grid_area": null,
       "grid_auto_columns": null,
       "grid_auto_flow": null,
       "grid_auto_rows": null,
       "grid_column": null,
       "grid_gap": null,
       "grid_row": null,
       "grid_template_areas": null,
       "grid_template_columns": null,
       "grid_template_rows": null,
       "height": null,
       "justify_content": null,
       "justify_items": null,
       "left": null,
       "margin": null,
       "max_height": null,
       "max_width": null,
       "min_height": null,
       "min_width": null,
       "object_fit": null,
       "object_position": null,
       "order": null,
       "overflow": null,
       "overflow_x": null,
       "overflow_y": null,
       "padding": null,
       "right": null,
       "top": null,
       "visibility": null,
       "width": null
      }
     },
     "4a6a6dc5ff604408bfb158a3128b9ba0": {
      "model_module": "@jupyter-widgets/controls",
      "model_module_version": "1.5.0",
      "model_name": "DescriptionStyleModel",
      "state": {
       "_model_module": "@jupyter-widgets/controls",
       "_model_module_version": "1.5.0",
       "_model_name": "DescriptionStyleModel",
       "_view_count": null,
       "_view_module": "@jupyter-widgets/base",
       "_view_module_version": "1.2.0",
       "_view_name": "StyleView",
       "description_width": ""
      }
     },
     "4afe7bbd229446dcac840279c0188c4f": {
      "model_module": "@jupyter-widgets/controls",
      "model_module_version": "1.5.0",
      "model_name": "HTMLModel",
      "state": {
       "_dom_classes": [],
       "_model_module": "@jupyter-widgets/controls",
       "_model_module_version": "1.5.0",
       "_model_name": "HTMLModel",
       "_view_count": null,
       "_view_module": "@jupyter-widgets/controls",
       "_view_module_version": "1.5.0",
       "_view_name": "HTMLView",
       "description": "",
       "description_tooltip": null,
       "layout": "IPY_MODEL_0fc6d0e36882466aaf8b89d9494bcb4b",
       "placeholder": "​",
       "style": "IPY_MODEL_8473493946be4481a7e6cb2e1714170e",
       "value": "<div style=\"font-size:medium; background-color:white;padding-left:2px;\">Airplanes</div>"
      }
     },
     "4b3b70c3c0994d06a88d01ebfb6b1dca": {
      "model_module": "@jupyter-widgets/controls",
      "model_module_version": "1.5.0",
      "model_name": "DescriptionStyleModel",
      "state": {
       "_model_module": "@jupyter-widgets/controls",
       "_model_module_version": "1.5.0",
       "_model_name": "DescriptionStyleModel",
       "_view_count": null,
       "_view_module": "@jupyter-widgets/base",
       "_view_module_version": "1.2.0",
       "_view_name": "StyleView",
       "description_width": ""
      }
     },
     "4ba6ab40e0494de38b90cd09f843203b": {
      "model_module": "@jupyter-widgets/controls",
      "model_module_version": "1.5.0",
      "model_name": "HTMLModel",
      "state": {
       "_dom_classes": [],
       "_model_module": "@jupyter-widgets/controls",
       "_model_module_version": "1.5.0",
       "_model_name": "HTMLModel",
       "_view_count": null,
       "_view_module": "@jupyter-widgets/controls",
       "_view_module_version": "1.5.0",
       "_view_name": "HTMLView",
       "description": "",
       "description_tooltip": null,
       "layout": "IPY_MODEL_1a17608c7cf54c5293a88b93567107e5",
       "placeholder": "​",
       "style": "IPY_MODEL_bf0578346e7a410e8362d3bc6d13a8d6",
       "value": "<div style=\"font-size:medium; background-color:#ececec;padding-left:2px;\">1.10</div>"
      }
     },
     "4c009226e820432098dcd0b091c58171": {
      "model_module": "@jupyter-widgets/controls",
      "model_module_version": "1.5.0",
      "model_name": "HTMLModel",
      "state": {
       "_dom_classes": [],
       "_model_module": "@jupyter-widgets/controls",
       "_model_module_version": "1.5.0",
       "_model_name": "HTMLModel",
       "_view_count": null,
       "_view_module": "@jupyter-widgets/controls",
       "_view_module_version": "1.5.0",
       "_view_name": "HTMLView",
       "description": "",
       "description_tooltip": null,
       "layout": "IPY_MODEL_0fc6d0e36882466aaf8b89d9494bcb4b",
       "placeholder": "​",
       "style": "IPY_MODEL_dab761ebc0b149bdbe2ae5cb66b8173c",
       "value": "<div style=\"font-size:medium; background-color:#ececec;padding-left:2px;\">Concentrated Solar</div>"
      }
     },
     "4c38a2d616d24401b42ffc57b2e12f37": {
      "model_module": "@jupyter-widgets/controls",
      "model_module_version": "1.5.0",
      "model_name": "DescriptionStyleModel",
      "state": {
       "_model_module": "@jupyter-widgets/controls",
       "_model_module_version": "1.5.0",
       "_model_name": "DescriptionStyleModel",
       "_view_count": null,
       "_view_module": "@jupyter-widgets/base",
       "_view_module_version": "1.2.0",
       "_view_name": "StyleView",
       "description_width": ""
      }
     },
     "4c439e6391a8450892606a3493e2f46b": {
      "model_module": "@jupyter-widgets/controls",
      "model_module_version": "1.5.0",
      "model_name": "HTMLModel",
      "state": {
       "_dom_classes": [],
       "_model_module": "@jupyter-widgets/controls",
       "_model_module_version": "1.5.0",
       "_model_name": "HTMLModel",
       "_view_count": null,
       "_view_module": "@jupyter-widgets/controls",
       "_view_module_version": "1.5.0",
       "_view_name": "HTMLView",
       "description": "",
       "description_tooltip": null,
       "layout": "IPY_MODEL_2adb518af7044a69aad2c2de3ca0c421",
       "placeholder": "​",
       "style": "IPY_MODEL_4624a18d2f404d799755f5d5c0aca074",
       "value": "<div style=\"font-size:medium; background-color:white;padding-left:2px;\">Materials</div>"
      }
     },
     "4c5fb10b95634059853ee4a8d7540d30": {
      "model_module": "@jupyter-widgets/controls",
      "model_module_version": "1.5.0",
      "model_name": "DescriptionStyleModel",
      "state": {
       "_model_module": "@jupyter-widgets/controls",
       "_model_module_version": "1.5.0",
       "_model_name": "DescriptionStyleModel",
       "_view_count": null,
       "_view_module": "@jupyter-widgets/base",
       "_view_module_version": "1.2.0",
       "_view_name": "StyleView",
       "description_width": ""
      }
     },
     "4c8517df85644a0fba78d2ae46f40ac0": {
      "model_module": "@jupyter-widgets/controls",
      "model_module_version": "1.5.0",
      "model_name": "DescriptionStyleModel",
      "state": {
       "_model_module": "@jupyter-widgets/controls",
       "_model_module_version": "1.5.0",
       "_model_name": "DescriptionStyleModel",
       "_view_count": null,
       "_view_module": "@jupyter-widgets/base",
       "_view_module_version": "1.2.0",
       "_view_name": "StyleView",
       "description_width": ""
      }
     },
     "4c93d37c0d6b4058aafe906401787412": {
      "model_module": "@jupyter-widgets/controls",
      "model_module_version": "1.5.0",
      "model_name": "HTMLModel",
      "state": {
       "_dom_classes": [],
       "_model_module": "@jupyter-widgets/controls",
       "_model_module_version": "1.5.0",
       "_model_name": "HTMLModel",
       "_view_count": null,
       "_view_module": "@jupyter-widgets/controls",
       "_view_module_version": "1.5.0",
       "_view_name": "HTMLView",
       "description": "",
       "description_tooltip": null,
       "layout": "IPY_MODEL_2adb518af7044a69aad2c2de3ca0c421",
       "placeholder": "​",
       "style": "IPY_MODEL_4f5f15e6834c44f19a239c340abde401",
       "value": "<div style=\"font-size:medium; background-color:#ececec;padding-left:2px;\">Buildings and Cities</div>"
      }
     },
     "4c993a627c9545febe942fe6a0a54256": {
      "model_module": "@jupyter-widgets/controls",
      "model_module_version": "1.5.0",
      "model_name": "DescriptionStyleModel",
      "state": {
       "_model_module": "@jupyter-widgets/controls",
       "_model_module_version": "1.5.0",
       "_model_name": "DescriptionStyleModel",
       "_view_count": null,
       "_view_module": "@jupyter-widgets/base",
       "_view_module_version": "1.2.0",
       "_view_name": "StyleView",
       "description_width": ""
      }
     },
     "4d228640bf114050bb5e3c4c052823d2": {
      "model_module": "@jupyter-widgets/controls",
      "model_module_version": "1.5.0",
      "model_name": "HBoxModel",
      "state": {
       "_dom_classes": [],
       "_model_module": "@jupyter-widgets/controls",
       "_model_module_version": "1.5.0",
       "_model_name": "HBoxModel",
       "_view_count": null,
       "_view_module": "@jupyter-widgets/controls",
       "_view_module_version": "1.5.0",
       "_view_name": "HBoxView",
       "box_style": "",
       "children": [
        "IPY_MODEL_9e7373a3f04a42039d76961f176047cf",
        "IPY_MODEL_d52b75b765f04062ba840c05d4bcb90a",
        "IPY_MODEL_f3c94335b5a3494d9bf9d28e076304b7",
        "IPY_MODEL_d539aced65454f7ba6da665799a62b10"
       ],
       "layout": "IPY_MODEL_804c51697f2b4229a0f02be6b85b1659"
      }
     },
     "4dcffe44ca014302b3efb129252164e7": {
      "model_module": "@jupyter-widgets/controls",
      "model_module_version": "1.5.0",
      "model_name": "DescriptionStyleModel",
      "state": {
       "_model_module": "@jupyter-widgets/controls",
       "_model_module_version": "1.5.0",
       "_model_name": "DescriptionStyleModel",
       "_view_count": null,
       "_view_module": "@jupyter-widgets/base",
       "_view_module_version": "1.2.0",
       "_view_name": "StyleView",
       "description_width": ""
      }
     },
     "4e00112b8c6343f2aeeaba67c141fe2f": {
      "model_module": "@jupyter-widgets/controls",
      "model_module_version": "1.5.0",
      "model_name": "DescriptionStyleModel",
      "state": {
       "_model_module": "@jupyter-widgets/controls",
       "_model_module_version": "1.5.0",
       "_model_name": "DescriptionStyleModel",
       "_view_count": null,
       "_view_module": "@jupyter-widgets/base",
       "_view_module_version": "1.2.0",
       "_view_name": "StyleView",
       "description_width": ""
      }
     },
     "4e18b95b5a464a28a5176d294e020ccb": {
      "model_module": "@jupyter-widgets/controls",
      "model_module_version": "1.5.0",
      "model_name": "HTMLModel",
      "state": {
       "_dom_classes": [],
       "_model_module": "@jupyter-widgets/controls",
       "_model_module_version": "1.5.0",
       "_model_name": "HTMLModel",
       "_view_count": null,
       "_view_module": "@jupyter-widgets/controls",
       "_view_module_version": "1.5.0",
       "_view_name": "HTMLView",
       "description": "",
       "description_tooltip": null,
       "layout": "IPY_MODEL_1a17608c7cf54c5293a88b93567107e5",
       "placeholder": "​",
       "style": "IPY_MODEL_67d86b60cc2a447ea1fc877a0aa1b100",
       "value": "<div style=\"font-size:medium; background-color:white;padding-left:2px;\">0.81</div>"
      }
     },
     "4ea568bc706b4a6cb75a9aee350a7345": {
      "model_module": "@jupyter-widgets/controls",
      "model_module_version": "1.5.0",
      "model_name": "VBoxModel",
      "state": {
       "_dom_classes": [],
       "_model_module": "@jupyter-widgets/controls",
       "_model_module_version": "1.5.0",
       "_model_name": "VBoxModel",
       "_view_count": null,
       "_view_module": "@jupyter-widgets/controls",
       "_view_module_version": "1.5.0",
       "_view_name": "VBoxView",
       "box_style": "",
       "children": [
        "IPY_MODEL_cce12e1a1d1145d3a08fd2defbca5995",
        "IPY_MODEL_b9319e5bafb64a699d250de729feebcb"
       ],
       "layout": "IPY_MODEL_d8299f5d2ec1406da47707bdde797c6d"
      }
     },
     "4f5f15e6834c44f19a239c340abde401": {
      "model_module": "@jupyter-widgets/controls",
      "model_module_version": "1.5.0",
      "model_name": "DescriptionStyleModel",
      "state": {
       "_model_module": "@jupyter-widgets/controls",
       "_model_module_version": "1.5.0",
       "_model_name": "DescriptionStyleModel",
       "_view_count": null,
       "_view_module": "@jupyter-widgets/base",
       "_view_module_version": "1.2.0",
       "_view_name": "StyleView",
       "description_width": ""
      }
     },
     "4f8e49edd624417c82f767ef79e579b6": {
      "model_module": "@jupyter-widgets/controls",
      "model_module_version": "1.5.0",
      "model_name": "HTMLModel",
      "state": {
       "_dom_classes": [],
       "_model_module": "@jupyter-widgets/controls",
       "_model_module_version": "1.5.0",
       "_model_name": "HTMLModel",
       "_view_count": null,
       "_view_module": "@jupyter-widgets/controls",
       "_view_module_version": "1.5.0",
       "_view_name": "HTMLView",
       "description": "",
       "description_tooltip": null,
       "layout": "IPY_MODEL_2adb518af7044a69aad2c2de3ca0c421",
       "placeholder": "​",
       "style": "IPY_MODEL_3e6efbedf561450ab2542217226ca7f7",
       "value": "<div style=\"font-size:medium; background-color:#ececec;padding-left:2px;\">Food</div>"
      }
     },
     "5034dc65fade4cd68181d84f5374a3dd": {
      "model_module": "@jupyter-widgets/controls",
      "model_module_version": "1.5.0",
      "model_name": "DescriptionStyleModel",
      "state": {
       "_model_module": "@jupyter-widgets/controls",
       "_model_module_version": "1.5.0",
       "_model_name": "DescriptionStyleModel",
       "_view_count": null,
       "_view_module": "@jupyter-widgets/base",
       "_view_module_version": "1.2.0",
       "_view_name": "StyleView",
       "description_width": ""
      }
     },
     "50ad597e99074d18be8c638d63e21664": {
      "model_module": "@jupyter-widgets/base",
      "model_module_version": "1.2.0",
      "model_name": "LayoutModel",
      "state": {
       "_model_module": "@jupyter-widgets/base",
       "_model_module_version": "1.2.0",
       "_model_name": "LayoutModel",
       "_view_count": null,
       "_view_module": "@jupyter-widgets/base",
       "_view_module_version": "1.2.0",
       "_view_name": "LayoutView",
       "align_content": null,
       "align_items": null,
       "align_self": null,
       "border": null,
       "bottom": null,
       "display": null,
       "flex": null,
       "flex_flow": null,
       "grid_area": null,
       "grid_auto_columns": null,
       "grid_auto_flow": null,
       "grid_auto_rows": null,
       "grid_column": null,
       "grid_gap": null,
       "grid_row": null,
       "grid_template_areas": null,
       "grid_template_columns": null,
       "grid_template_rows": null,
       "height": null,
       "justify_content": null,
       "justify_items": null,
       "left": null,
       "margin": null,
       "max_height": null,
       "max_width": null,
       "min_height": null,
       "min_width": null,
       "object_fit": null,
       "object_position": null,
       "order": null,
       "overflow": null,
       "overflow_x": null,
       "overflow_y": null,
       "padding": null,
       "right": null,
       "top": null,
       "visibility": null,
       "width": null
      }
     },
     "50b26ec338154fc6a17931dd356f389a": {
      "model_module": "@jupyter-widgets/controls",
      "model_module_version": "1.5.0",
      "model_name": "HBoxModel",
      "state": {
       "_dom_classes": [],
       "_model_module": "@jupyter-widgets/controls",
       "_model_module_version": "1.5.0",
       "_model_name": "HBoxModel",
       "_view_count": null,
       "_view_module": "@jupyter-widgets/controls",
       "_view_module_version": "1.5.0",
       "_view_name": "HBoxView",
       "box_style": "",
       "children": [
        "IPY_MODEL_ff819cd2abeb40d0bfb59f0d50cc3a15",
        "IPY_MODEL_00a2d1072f254a71aa8daebcb5dfe86b",
        "IPY_MODEL_2bb332d0d19b4d2fa99700345d2d401f",
        "IPY_MODEL_1a62a30516ab42d0a02b47078f66aeac"
       ],
       "layout": "IPY_MODEL_804c51697f2b4229a0f02be6b85b1659"
      }
     },
     "50bc313d21a141a9aacff2ac6c4cc8b8": {
      "model_module": "@jupyter-widgets/controls",
      "model_module_version": "1.5.0",
      "model_name": "HBoxModel",
      "state": {
       "_dom_classes": [],
       "_model_module": "@jupyter-widgets/controls",
       "_model_module_version": "1.5.0",
       "_model_name": "HBoxModel",
       "_view_count": null,
       "_view_module": "@jupyter-widgets/controls",
       "_view_module_version": "1.5.0",
       "_view_name": "HBoxView",
       "box_style": "",
       "children": [
        "IPY_MODEL_7b3719fb4d144a3aaf320d3c6f090d90",
        "IPY_MODEL_6c37c5dcc179432f9ffb6976299e74dd",
        "IPY_MODEL_5a3315023f2e4fbba9c35192a60d0738",
        "IPY_MODEL_acecad4a440149dba0c200aa8bbe31eb"
       ],
       "layout": "IPY_MODEL_804c51697f2b4229a0f02be6b85b1659"
      }
     },
     "5187049f19e14ce8ad41958e9c96a678": {
      "model_module": "@jupyter-widgets/controls",
      "model_module_version": "1.5.0",
      "model_name": "DescriptionStyleModel",
      "state": {
       "_model_module": "@jupyter-widgets/controls",
       "_model_module_version": "1.5.0",
       "_model_name": "DescriptionStyleModel",
       "_view_count": null,
       "_view_module": "@jupyter-widgets/base",
       "_view_module_version": "1.2.0",
       "_view_name": "StyleView",
       "description_width": ""
      }
     },
     "526b7e617585421fb4928c20d8a4dfea": {
      "model_module": "@jupyter-widgets/controls",
      "model_module_version": "1.5.0",
      "model_name": "HBoxModel",
      "state": {
       "_dom_classes": [],
       "_model_module": "@jupyter-widgets/controls",
       "_model_module_version": "1.5.0",
       "_model_name": "HBoxModel",
       "_view_count": null,
       "_view_module": "@jupyter-widgets/controls",
       "_view_module_version": "1.5.0",
       "_view_name": "HBoxView",
       "box_style": "",
       "children": [
        "IPY_MODEL_a78f5bc093264ee09ef488be9818a1ff",
        "IPY_MODEL_4f8e49edd624417c82f767ef79e579b6",
        "IPY_MODEL_63245f2896c64c66b404f30b4b74f3f2",
        "IPY_MODEL_3b2127959a3c49bf84e2ce543bb08efc"
       ],
       "layout": "IPY_MODEL_804c51697f2b4229a0f02be6b85b1659"
      }
     },
     "532aa5df17b74e1587f7959daf70eb2f": {
      "model_module": "@jupyter-widgets/controls",
      "model_module_version": "1.5.0",
      "model_name": "DescriptionStyleModel",
      "state": {
       "_model_module": "@jupyter-widgets/controls",
       "_model_module_version": "1.5.0",
       "_model_name": "DescriptionStyleModel",
       "_view_count": null,
       "_view_module": "@jupyter-widgets/base",
       "_view_module_version": "1.2.0",
       "_view_name": "StyleView",
       "description_width": "0px"
      }
     },
     "5374dcf56503477ca0ed68d8a2437326": {
      "model_module": "@jupyter-widgets/controls",
      "model_module_version": "1.5.0",
      "model_name": "HTMLModel",
      "state": {
       "_dom_classes": [],
       "_model_module": "@jupyter-widgets/controls",
       "_model_module_version": "1.5.0",
       "_model_name": "HTMLModel",
       "_view_count": null,
       "_view_module": "@jupyter-widgets/controls",
       "_view_module_version": "1.5.0",
       "_view_name": "HTMLView",
       "description": "",
       "description_tooltip": null,
       "layout": "IPY_MODEL_2adb518af7044a69aad2c2de3ca0c421",
       "placeholder": "​",
       "style": "IPY_MODEL_36c982a9587a4a52aaf2277bee9f6b4a",
       "value": "<div style=\"font-size:medium; background-color:#ececec;padding-left:2px;\">Transport</div>"
      }
     },
     "53b0dcea257647c787a7391873d3d85b": {
      "model_module": "@jupyter-widgets/controls",
      "model_module_version": "1.5.0",
      "model_name": "CheckboxModel",
      "state": {
       "_dom_classes": [
        "checkbox_biochar"
       ],
       "_model_module": "@jupyter-widgets/controls",
       "_model_module_version": "1.5.0",
       "_model_name": "CheckboxModel",
       "_view_count": null,
       "_view_module": "@jupyter-widgets/controls",
       "_view_module_version": "1.5.0",
       "_view_name": "CheckboxView",
       "description": "",
       "description_tooltip": null,
       "disabled": false,
       "indent": true,
       "layout": "IPY_MODEL_bdef4bf3c7424855b736b0fa72c837ed",
       "style": "IPY_MODEL_b6ab341418f9487e8c2c087b475bb777",
       "value": false
      }
     },
     "53b39b2f4e814983bc6b4d0f6511fd76": {
      "model_module": "@jupyter-widgets/controls",
      "model_module_version": "1.5.0",
      "model_name": "DescriptionStyleModel",
      "state": {
       "_model_module": "@jupyter-widgets/controls",
       "_model_module_version": "1.5.0",
       "_model_name": "DescriptionStyleModel",
       "_view_count": null,
       "_view_module": "@jupyter-widgets/base",
       "_view_module_version": "1.2.0",
       "_view_name": "StyleView",
       "description_width": ""
      }
     },
     "54024c94667c44468aabe039a7583d06": {
      "model_module": "@jupyter-widgets/controls",
      "model_module_version": "1.5.0",
      "model_name": "HBoxModel",
      "state": {
       "_dom_classes": [],
       "_model_module": "@jupyter-widgets/controls",
       "_model_module_version": "1.5.0",
       "_model_name": "HBoxModel",
       "_view_count": null,
       "_view_module": "@jupyter-widgets/controls",
       "_view_module_version": "1.5.0",
       "_view_name": "HBoxView",
       "box_style": "",
       "children": [
        "IPY_MODEL_fd10a2756887411991b850578d0c3621",
        "IPY_MODEL_a5210c77da1c4e2fae73e68ecfd9075d",
        "IPY_MODEL_e1ed4c1a431640bfa7188a9745cc3edd",
        "IPY_MODEL_6d128949a42c4219b1fdacf0c898b732"
       ],
       "layout": "IPY_MODEL_804c51697f2b4229a0f02be6b85b1659"
      }
     },
     "54337cfd3d90429c99a184c2e62f22db": {
      "model_module": "@jupyter-widgets/controls",
      "model_module_version": "1.5.0",
      "model_name": "HTMLModel",
      "state": {
       "_dom_classes": [],
       "_model_module": "@jupyter-widgets/controls",
       "_model_module_version": "1.5.0",
       "_model_name": "HTMLModel",
       "_view_count": null,
       "_view_module": "@jupyter-widgets/controls",
       "_view_module_version": "1.5.0",
       "_view_name": "HTMLView",
       "description": "",
       "description_tooltip": null,
       "layout": "IPY_MODEL_1a17608c7cf54c5293a88b93567107e5",
       "placeholder": "​",
       "style": "IPY_MODEL_561c5f1376b44ecfbe643a4045836835",
       "value": "<div style=\"font-size:medium; background-color:white;padding-left:2px;\">4.00</div>"
      }
     },
     "546bb458634a447aad0365c282c28769": {
      "model_module": "@jupyter-widgets/controls",
      "model_module_version": "1.5.0",
      "model_name": "HTMLModel",
      "state": {
       "_dom_classes": [],
       "_model_module": "@jupyter-widgets/controls",
       "_model_module_version": "1.5.0",
       "_model_name": "HTMLModel",
       "_view_count": null,
       "_view_module": "@jupyter-widgets/controls",
       "_view_module_version": "1.5.0",
       "_view_name": "HTMLView",
       "description": "",
       "description_tooltip": null,
       "layout": "IPY_MODEL_1a17608c7cf54c5293a88b93567107e5",
       "placeholder": "​",
       "style": "IPY_MODEL_936f3fdcbac64800a5cb4456e95a723b",
       "value": "<div style=\"font-size:medium; background-color:#ececec;padding-left:2px;\">6.69</div>"
      }
     },
     "54795c984016456d9560c97eb577fe87": {
      "model_module": "@jupyter-widgets/controls",
      "model_module_version": "1.5.0",
      "model_name": "DescriptionStyleModel",
      "state": {
       "_model_module": "@jupyter-widgets/controls",
       "_model_module_version": "1.5.0",
       "_model_name": "DescriptionStyleModel",
       "_view_count": null,
       "_view_module": "@jupyter-widgets/base",
       "_view_module_version": "1.2.0",
       "_view_name": "StyleView",
       "description_width": ""
      }
     },
     "55211f8f32e5469998a6e16341ffe108": {
      "model_module": "@jupyter-widgets/controls",
      "model_module_version": "1.5.0",
      "model_name": "DescriptionStyleModel",
      "state": {
       "_model_module": "@jupyter-widgets/controls",
       "_model_module_version": "1.5.0",
       "_model_name": "DescriptionStyleModel",
       "_view_count": null,
       "_view_module": "@jupyter-widgets/base",
       "_view_module_version": "1.2.0",
       "_view_name": "StyleView",
       "description_width": ""
      }
     },
     "55367f3f69724373bc324f6281ebc5f1": {
      "model_module": "@jupyter-widgets/controls",
      "model_module_version": "1.5.0",
      "model_name": "HBoxModel",
      "state": {
       "_dom_classes": [],
       "_model_module": "@jupyter-widgets/controls",
       "_model_module_version": "1.5.0",
       "_model_name": "HBoxModel",
       "_view_count": null,
       "_view_module": "@jupyter-widgets/controls",
       "_view_module_version": "1.5.0",
       "_view_name": "HBoxView",
       "box_style": "",
       "children": [
        "IPY_MODEL_854c859c2f4649ca94b729e5ae6a462e",
        "IPY_MODEL_9c169e4bdc32458f95d7c6a41059e385",
        "IPY_MODEL_0812d7f219074c93a34634d9d200e37c",
        "IPY_MODEL_6aa1605c881846ba8962108ce9d863f0"
       ],
       "layout": "IPY_MODEL_804c51697f2b4229a0f02be6b85b1659"
      }
     },
     "558959e261574f1fbb6269bc89a22f60": {
      "model_module": "@jupyter-widgets/controls",
      "model_module_version": "1.5.0",
      "model_name": "DescriptionStyleModel",
      "state": {
       "_model_module": "@jupyter-widgets/controls",
       "_model_module_version": "1.5.0",
       "_model_name": "DescriptionStyleModel",
       "_view_count": null,
       "_view_module": "@jupyter-widgets/base",
       "_view_module_version": "1.2.0",
       "_view_name": "StyleView",
       "description_width": ""
      }
     },
     "55a46bf0cc504c94afd63aa3a3b2c21f": {
      "model_module": "@jupyter-widgets/controls",
      "model_module_version": "1.5.0",
      "model_name": "DescriptionStyleModel",
      "state": {
       "_model_module": "@jupyter-widgets/controls",
       "_model_module_version": "1.5.0",
       "_model_name": "DescriptionStyleModel",
       "_view_count": null,
       "_view_module": "@jupyter-widgets/base",
       "_view_module_version": "1.2.0",
       "_view_name": "StyleView",
       "description_width": ""
      }
     },
     "55b4db314a744a719311d0ec30ce9511": {
      "model_module": "@jupyter-widgets/controls",
      "model_module_version": "1.5.0",
      "model_name": "HTMLModel",
      "state": {
       "_dom_classes": [],
       "_model_module": "@jupyter-widgets/controls",
       "_model_module_version": "1.5.0",
       "_model_name": "HTMLModel",
       "_view_count": null,
       "_view_module": "@jupyter-widgets/controls",
       "_view_module_version": "1.5.0",
       "_view_name": "HTMLView",
       "description": "",
       "description_tooltip": null,
       "layout": "IPY_MODEL_0fc6d0e36882466aaf8b89d9494bcb4b",
       "placeholder": "​",
       "style": "IPY_MODEL_90c414d57e544fffa05eec0bc6af9a90",
       "value": "<div style=\"font-size:medium; background-color:#ececec;padding-left:2px;\">Composting</div>"
      }
     },
     "55fe45464abd4944ac40ddf2751dc29d": {
      "model_module": "@jupyter-widgets/controls",
      "model_module_version": "1.5.0",
      "model_name": "DescriptionStyleModel",
      "state": {
       "_model_module": "@jupyter-widgets/controls",
       "_model_module_version": "1.5.0",
       "_model_name": "DescriptionStyleModel",
       "_view_count": null,
       "_view_module": "@jupyter-widgets/base",
       "_view_module_version": "1.2.0",
       "_view_name": "StyleView",
       "description_width": ""
      }
     },
     "561c5f1376b44ecfbe643a4045836835": {
      "model_module": "@jupyter-widgets/controls",
      "model_module_version": "1.5.0",
      "model_name": "DescriptionStyleModel",
      "state": {
       "_model_module": "@jupyter-widgets/controls",
       "_model_module_version": "1.5.0",
       "_model_name": "DescriptionStyleModel",
       "_view_count": null,
       "_view_module": "@jupyter-widgets/base",
       "_view_module_version": "1.2.0",
       "_view_name": "StyleView",
       "description_width": ""
      }
     },
     "56233881067f4cd082ff361e7bf7fad3": {
      "model_module": "@jupyter-widgets/controls",
      "model_module_version": "1.5.0",
      "model_name": "DescriptionStyleModel",
      "state": {
       "_model_module": "@jupyter-widgets/controls",
       "_model_module_version": "1.5.0",
       "_model_name": "DescriptionStyleModel",
       "_view_count": null,
       "_view_module": "@jupyter-widgets/base",
       "_view_module_version": "1.2.0",
       "_view_name": "StyleView",
       "description_width": "0px"
      }
     },
     "56498678542c4196ad48c0a23be66f6f": {
      "model_module": "@jupyter-widgets/controls",
      "model_module_version": "1.5.0",
      "model_name": "DescriptionStyleModel",
      "state": {
       "_model_module": "@jupyter-widgets/controls",
       "_model_module_version": "1.5.0",
       "_model_name": "DescriptionStyleModel",
       "_view_count": null,
       "_view_module": "@jupyter-widgets/base",
       "_view_module_version": "1.2.0",
       "_view_name": "StyleView",
       "description_width": "0px"
      }
     },
     "56511cfbcfb64b7cb3fc854bc07cf660": {
      "model_module": "@jupyter-widgets/controls",
      "model_module_version": "1.5.0",
      "model_name": "HBoxModel",
      "state": {
       "_dom_classes": [],
       "_model_module": "@jupyter-widgets/controls",
       "_model_module_version": "1.5.0",
       "_model_name": "HBoxModel",
       "_view_count": null,
       "_view_module": "@jupyter-widgets/controls",
       "_view_module_version": "1.5.0",
       "_view_name": "HBoxView",
       "box_style": "",
       "children": [
        "IPY_MODEL_5bb51a0bae1b4047bcf0fb9565f6517d",
        "IPY_MODEL_286b144706304588a977960372521015",
        "IPY_MODEL_4e18b95b5a464a28a5176d294e020ccb",
        "IPY_MODEL_53b0dcea257647c787a7391873d3d85b"
       ],
       "layout": "IPY_MODEL_804c51697f2b4229a0f02be6b85b1659"
      }
     },
     "568d3d4dd32242bab17fffcd812a695a": {
      "model_module": "@jupyter-widgets/controls",
      "model_module_version": "1.5.0",
      "model_name": "HTMLModel",
      "state": {
       "_dom_classes": [],
       "_model_module": "@jupyter-widgets/controls",
       "_model_module_version": "1.5.0",
       "_model_name": "HTMLModel",
       "_view_count": null,
       "_view_module": "@jupyter-widgets/controls",
       "_view_module_version": "1.5.0",
       "_view_name": "HTMLView",
       "description": "",
       "description_tooltip": null,
       "layout": "IPY_MODEL_1a17608c7cf54c5293a88b93567107e5",
       "placeholder": "​",
       "style": "IPY_MODEL_474c8432d2654d14878dacbc30782049",
       "value": "<div style=\"font-size:medium; background-color:white;padding-left:2px;\">2.19</div>"
      }
     },
     "56fec7475a5643ae95d1cca72cb05eb3": {
      "model_module": "@jupyter-widgets/controls",
      "model_module_version": "1.5.0",
      "model_name": "DescriptionStyleModel",
      "state": {
       "_model_module": "@jupyter-widgets/controls",
       "_model_module_version": "1.5.0",
       "_model_name": "DescriptionStyleModel",
       "_view_count": null,
       "_view_module": "@jupyter-widgets/base",
       "_view_module_version": "1.2.0",
       "_view_name": "StyleView",
       "description_width": ""
      }
     },
     "57e8bc80373148c284ba414e7d132978": {
      "model_module": "@jupyter-widgets/controls",
      "model_module_version": "1.5.0",
      "model_name": "CheckboxModel",
      "state": {
       "_dom_classes": [
        "checkbox_composting"
       ],
       "_model_module": "@jupyter-widgets/controls",
       "_model_module_version": "1.5.0",
       "_model_name": "CheckboxModel",
       "_view_count": null,
       "_view_module": "@jupyter-widgets/controls",
       "_view_module_version": "1.5.0",
       "_view_name": "CheckboxView",
       "description": "",
       "description_tooltip": null,
       "disabled": false,
       "indent": true,
       "layout": "IPY_MODEL_bdef4bf3c7424855b736b0fa72c837ed",
       "style": "IPY_MODEL_8082cf43342b4428bd95ec33fc1145c6",
       "value": false
      }
     },
     "57f94f57c03646e8ae52496d3e18cc2b": {
      "model_module": "@jupyter-widgets/controls",
      "model_module_version": "1.5.0",
      "model_name": "CheckboxModel",
      "state": {
       "_dom_classes": [
        "checkbox_regenerativeagriculture"
       ],
       "_model_module": "@jupyter-widgets/controls",
       "_model_module_version": "1.5.0",
       "_model_name": "CheckboxModel",
       "_view_count": null,
       "_view_module": "@jupyter-widgets/controls",
       "_view_module_version": "1.5.0",
       "_view_name": "CheckboxView",
       "description": "",
       "description_tooltip": null,
       "disabled": false,
       "indent": true,
       "layout": "IPY_MODEL_bdef4bf3c7424855b736b0fa72c837ed",
       "style": "IPY_MODEL_46b9c5b952e44a50b11391712d75c9d2",
       "value": false
      }
     },
     "588afdaec9224cf7870b35b423540012": {
      "model_module": "@jupyter-widgets/controls",
      "model_module_version": "1.5.0",
      "model_name": "DescriptionStyleModel",
      "state": {
       "_model_module": "@jupyter-widgets/controls",
       "_model_module_version": "1.5.0",
       "_model_name": "DescriptionStyleModel",
       "_view_count": null,
       "_view_module": "@jupyter-widgets/base",
       "_view_module_version": "1.2.0",
       "_view_name": "StyleView",
       "description_width": "0px"
      }
     },
     "589588c125374620979fff77c8aa2fa8": {
      "model_module": "@jupyter-widgets/controls",
      "model_module_version": "1.5.0",
      "model_name": "DescriptionStyleModel",
      "state": {
       "_model_module": "@jupyter-widgets/controls",
       "_model_module_version": "1.5.0",
       "_model_name": "DescriptionStyleModel",
       "_view_count": null,
       "_view_module": "@jupyter-widgets/base",
       "_view_module_version": "1.2.0",
       "_view_name": "StyleView",
       "description_width": ""
      }
     },
     "594c096f81034cc2b7f292226ca821bd": {
      "model_module": "@jupyter-widgets/controls",
      "model_module_version": "1.5.0",
      "model_name": "HBoxModel",
      "state": {
       "_dom_classes": [],
       "_model_module": "@jupyter-widgets/controls",
       "_model_module_version": "1.5.0",
       "_model_name": "HBoxModel",
       "_view_count": null,
       "_view_module": "@jupyter-widgets/controls",
       "_view_module_version": "1.5.0",
       "_view_name": "HBoxView",
       "box_style": "",
       "children": [
        "IPY_MODEL_24484f0debc846fc9c6ba2ab8cc4f85b",
        "IPY_MODEL_d450e276442d41bc9f6b20152f7199ba",
        "IPY_MODEL_759a6c5777064b38afdeb182f1bb0177",
        "IPY_MODEL_8179bc41a6884181ab0015fd61effb9a"
       ],
       "layout": "IPY_MODEL_804c51697f2b4229a0f02be6b85b1659"
      }
     },
     "5968accb5f4f401fb909135cc35de7e5": {
      "model_module": "@jupyter-widgets/controls",
      "model_module_version": "1.5.0",
      "model_name": "HTMLModel",
      "state": {
       "_dom_classes": [],
       "_model_module": "@jupyter-widgets/controls",
       "_model_module_version": "1.5.0",
       "_model_name": "HTMLModel",
       "_view_count": null,
       "_view_module": "@jupyter-widgets/controls",
       "_view_module_version": "1.5.0",
       "_view_name": "HTMLView",
       "description": "",
       "description_tooltip": null,
       "layout": "IPY_MODEL_2adb518af7044a69aad2c2de3ca0c421",
       "placeholder": "​",
       "style": "IPY_MODEL_83a697fcbd254058b77156f4194c512b",
       "value": "<div style=\"font-size:medium; background-color:#ececec;padding-left:2px;\">Electricity Generation</div>"
      }
     },
     "59a5b0858b64459a998f07260048a575": {
      "model_module": "@jupyter-widgets/controls",
      "model_module_version": "1.5.0",
      "model_name": "HBoxModel",
      "state": {
       "_dom_classes": [],
       "_model_module": "@jupyter-widgets/controls",
       "_model_module_version": "1.5.0",
       "_model_name": "HBoxModel",
       "_view_count": null,
       "_view_module": "@jupyter-widgets/controls",
       "_view_module_version": "1.5.0",
       "_view_name": "HBoxView",
       "box_style": "",
       "children": [
        "IPY_MODEL_c3836259296b46b1bbcc1c9eaa6b8e5b",
        "IPY_MODEL_66655bc3b217408d9bd8acaab443fbe8",
        "IPY_MODEL_7082cede489043a0b1498fc8d7c6bd42",
        "IPY_MODEL_8127141c9055414ea864a95daef30587"
       ],
       "layout": "IPY_MODEL_804c51697f2b4229a0f02be6b85b1659"
      }
     },
     "59c0dcf55af240899d1651f12fc8c8cf": {
      "model_module": "@jupyter-widgets/controls",
      "model_module_version": "1.5.0",
      "model_name": "HTMLModel",
      "state": {
       "_dom_classes": [],
       "_model_module": "@jupyter-widgets/controls",
       "_model_module_version": "1.5.0",
       "_model_name": "HTMLModel",
       "_view_count": null,
       "_view_module": "@jupyter-widgets/controls",
       "_view_module_version": "1.5.0",
       "_view_name": "HTMLView",
       "description": "",
       "description_tooltip": null,
       "layout": "IPY_MODEL_1a17608c7cf54c5293a88b93567107e5",
       "placeholder": "​",
       "style": "IPY_MODEL_6f6f420dfac547f4920358b61925d43a",
       "value": "<div style=\"font-size:medium; background-color:#ececec;padding-left:2px;\">2.62</div>"
      }
     },
     "5a14f9abe76f493ea3b1cadab18cb7b3": {
      "model_module": "@jupyter-widgets/controls",
      "model_module_version": "1.5.0",
      "model_name": "DescriptionStyleModel",
      "state": {
       "_model_module": "@jupyter-widgets/controls",
       "_model_module_version": "1.5.0",
       "_model_name": "DescriptionStyleModel",
       "_view_count": null,
       "_view_module": "@jupyter-widgets/base",
       "_view_module_version": "1.2.0",
       "_view_name": "StyleView",
       "description_width": ""
      }
     },
     "5a2f1037e134462ba36ec2f4669e6c26": {
      "model_module": "@jupyter-widgets/controls",
      "model_module_version": "1.5.0",
      "model_name": "DescriptionStyleModel",
      "state": {
       "_model_module": "@jupyter-widgets/controls",
       "_model_module_version": "1.5.0",
       "_model_name": "DescriptionStyleModel",
       "_view_count": null,
       "_view_module": "@jupyter-widgets/base",
       "_view_module_version": "1.2.0",
       "_view_name": "StyleView",
       "description_width": ""
      }
     },
     "5a3315023f2e4fbba9c35192a60d0738": {
      "model_module": "@jupyter-widgets/controls",
      "model_module_version": "1.5.0",
      "model_name": "HTMLModel",
      "state": {
       "_dom_classes": [],
       "_model_module": "@jupyter-widgets/controls",
       "_model_module_version": "1.5.0",
       "_model_name": "HTMLModel",
       "_view_count": null,
       "_view_module": "@jupyter-widgets/controls",
       "_view_module_version": "1.5.0",
       "_view_name": "HTMLView",
       "description": "",
       "description_tooltip": null,
       "layout": "IPY_MODEL_1a17608c7cf54c5293a88b93567107e5",
       "placeholder": "​",
       "style": "IPY_MODEL_a34a7bb706bd45b2962bd84ddad61c8c",
       "value": "<div style=\"font-size:medium; background-color:#ececec;padding-left:2px;\">6.18</div>"
      }
     },
     "5a36f38559da4bcf90730a6050b12d2c": {
      "model_module": "@jupyter-widgets/controls",
      "model_module_version": "1.5.0",
      "model_name": "HTMLModel",
      "state": {
       "_dom_classes": [],
       "_model_module": "@jupyter-widgets/controls",
       "_model_module_version": "1.5.0",
       "_model_name": "HTMLModel",
       "_view_count": null,
       "_view_module": "@jupyter-widgets/controls",
       "_view_module_version": "1.5.0",
       "_view_name": "HTMLView",
       "description": "",
       "description_tooltip": null,
       "layout": "IPY_MODEL_0fc6d0e36882466aaf8b89d9494bcb4b",
       "placeholder": "​",
       "style": "IPY_MODEL_d1c4be1cabea4b6c8ff64bf189315195",
       "value": "<div style=\"font-size:medium; background-color:#ececec;padding-left:2px;\">Building Automation</div>"
      }
     },
     "5ab2c1d8d41241f09e3374c576159b93": {
      "model_module": "@jupyter-widgets/controls",
      "model_module_version": "1.5.0",
      "model_name": "CheckboxModel",
      "state": {
       "_dom_classes": [
        "checkbox_riceintensification"
       ],
       "_model_module": "@jupyter-widgets/controls",
       "_model_module_version": "1.5.0",
       "_model_name": "CheckboxModel",
       "_view_count": null,
       "_view_module": "@jupyter-widgets/controls",
       "_view_module_version": "1.5.0",
       "_view_name": "CheckboxView",
       "description": "",
       "description_tooltip": null,
       "disabled": false,
       "indent": true,
       "layout": "IPY_MODEL_bdef4bf3c7424855b736b0fa72c837ed",
       "style": "IPY_MODEL_8ca304632ce949d6b1195090426bfddb",
       "value": false
      }
     },
     "5ad85709349b41ee87ce5d8a30b8fc93": {
      "model_module": "@jupyter-widgets/controls",
      "model_module_version": "1.5.0",
      "model_name": "DescriptionStyleModel",
      "state": {
       "_model_module": "@jupyter-widgets/controls",
       "_model_module_version": "1.5.0",
       "_model_name": "DescriptionStyleModel",
       "_view_count": null,
       "_view_module": "@jupyter-widgets/base",
       "_view_module_version": "1.2.0",
       "_view_name": "StyleView",
       "description_width": ""
      }
     },
     "5bb51a0bae1b4047bcf0fb9565f6517d": {
      "model_module": "@jupyter-widgets/controls",
      "model_module_version": "1.5.0",
      "model_name": "HTMLModel",
      "state": {
       "_dom_classes": [],
       "_model_module": "@jupyter-widgets/controls",
       "_model_module_version": "1.5.0",
       "_model_name": "HTMLModel",
       "_view_count": null,
       "_view_module": "@jupyter-widgets/controls",
       "_view_module_version": "1.5.0",
       "_view_name": "HTMLView",
       "description": "",
       "description_tooltip": null,
       "layout": "IPY_MODEL_0fc6d0e36882466aaf8b89d9494bcb4b",
       "placeholder": "​",
       "style": "IPY_MODEL_daaab3393ca7428fb40080c984f1a73b",
       "value": "<div style=\"font-size:medium; background-color:white;padding-left:2px;\">Biochar</div>"
      }
     },
     "5c14bfa4f02f4a528288f3a8924f565f": {
      "model_module": "@jupyter-widgets/controls",
      "model_module_version": "1.5.0",
      "model_name": "HBoxModel",
      "state": {
       "_dom_classes": [],
       "_model_module": "@jupyter-widgets/controls",
       "_model_module_version": "1.5.0",
       "_model_name": "HBoxModel",
       "_view_count": null,
       "_view_module": "@jupyter-widgets/controls",
       "_view_module_version": "1.5.0",
       "_view_name": "HBoxView",
       "box_style": "",
       "children": [
        "IPY_MODEL_8482e5a57f024c229d7a55fc32282759",
        "IPY_MODEL_9bd605e4650441a381dd12206f985138",
        "IPY_MODEL_5c7cc40a7b2c44979320002d9c8fe31a",
        "IPY_MODEL_c356572d01de4b1887492b67f8c21726"
       ],
       "layout": "IPY_MODEL_804c51697f2b4229a0f02be6b85b1659"
      }
     },
     "5c5849d5e98040eab633ec390f48d3de": {
      "model_module": "@jupyter-widgets/controls",
      "model_module_version": "1.5.0",
      "model_name": "DescriptionStyleModel",
      "state": {
       "_model_module": "@jupyter-widgets/controls",
       "_model_module_version": "1.5.0",
       "_model_name": "DescriptionStyleModel",
       "_view_count": null,
       "_view_module": "@jupyter-widgets/base",
       "_view_module_version": "1.2.0",
       "_view_name": "StyleView",
       "description_width": ""
      }
     },
     "5c7cc40a7b2c44979320002d9c8fe31a": {
      "model_module": "@jupyter-widgets/controls",
      "model_module_version": "1.5.0",
      "model_name": "HTMLModel",
      "state": {
       "_dom_classes": [],
       "_model_module": "@jupyter-widgets/controls",
       "_model_module_version": "1.5.0",
       "_model_name": "HTMLModel",
       "_view_count": null,
       "_view_module": "@jupyter-widgets/controls",
       "_view_module_version": "1.5.0",
       "_view_name": "HTMLView",
       "description": "",
       "description_tooltip": null,
       "layout": "IPY_MODEL_1a17608c7cf54c5293a88b93567107e5",
       "placeholder": "​",
       "style": "IPY_MODEL_bb5a2350ae874d3ead0746d171f11c7a",
       "value": "<div style=\"font-size:medium; background-color:#ececec;padding-left:2px;\">7.87</div>"
      }
     },
     "5cad37611c184bd989a6f6c6f485f4b2": {
      "model_module": "@jupyter-widgets/controls",
      "model_module_version": "1.5.0",
      "model_name": "HTMLModel",
      "state": {
       "_dom_classes": [],
       "_model_module": "@jupyter-widgets/controls",
       "_model_module_version": "1.5.0",
       "_model_name": "HTMLModel",
       "_view_count": null,
       "_view_module": "@jupyter-widgets/controls",
       "_view_module_version": "1.5.0",
       "_view_name": "HTMLView",
       "description": "",
       "description_tooltip": null,
       "layout": "IPY_MODEL_0fc6d0e36882466aaf8b89d9494bcb4b",
       "placeholder": "​",
       "style": "IPY_MODEL_ef94738af0b44a1d8c15e7a309a3fe91",
       "value": "<div style=\"font-size:medium; background-color:#ececec;padding-left:2px;\">Tropical Forests</div>"
      }
     },
     "5d20692f50cd4f8dbb35977ed9f77329": {
      "model_module": "@jupyter-widgets/controls",
      "model_module_version": "1.5.0",
      "model_name": "HTMLModel",
      "state": {
       "_dom_classes": [],
       "_model_module": "@jupyter-widgets/controls",
       "_model_module_version": "1.5.0",
       "_model_name": "HTMLModel",
       "_view_count": null,
       "_view_module": "@jupyter-widgets/controls",
       "_view_module_version": "1.5.0",
       "_view_name": "HTMLView",
       "description": "",
       "description_tooltip": null,
       "layout": "IPY_MODEL_0fc6d0e36882466aaf8b89d9494bcb4b",
       "placeholder": "​",
       "style": "IPY_MODEL_f2808ac4e6054273a8fa5d911f1bfee8",
       "value": "<div style=\"font-size:medium; background-color:#ececec;padding-left:2px;\">Conservation Agriculture</div>"
      }
     },
     "5d68c55825194b2b9ff947671c389eec": {
      "model_module": "@jupyter-widgets/controls",
      "model_module_version": "1.5.0",
      "model_name": "HTMLModel",
      "state": {
       "_dom_classes": [],
       "_model_module": "@jupyter-widgets/controls",
       "_model_module_version": "1.5.0",
       "_model_name": "HTMLModel",
       "_view_count": null,
       "_view_module": "@jupyter-widgets/controls",
       "_view_module_version": "1.5.0",
       "_view_name": "HTMLView",
       "description": "",
       "description_tooltip": null,
       "layout": "IPY_MODEL_0fc6d0e36882466aaf8b89d9494bcb4b",
       "placeholder": "​",
       "style": "IPY_MODEL_276c7be562034d29b0ba4c5b6cc638e9",
       "value": "<div style=\"font-size:medium; background-color:white;padding-left:2px;\">Wind Turbines (Offshore)</div>"
      }
     },
     "5dccd12a022f4a189933f96ad5a193c2": {
      "model_module": "@jupyter-widgets/controls",
      "model_module_version": "1.5.0",
      "model_name": "HTMLModel",
      "state": {
       "_dom_classes": [],
       "_model_module": "@jupyter-widgets/controls",
       "_model_module_version": "1.5.0",
       "_model_name": "HTMLModel",
       "_view_count": null,
       "_view_module": "@jupyter-widgets/controls",
       "_view_module_version": "1.5.0",
       "_view_name": "HTMLView",
       "description": "",
       "description_tooltip": null,
       "layout": "IPY_MODEL_1a17608c7cf54c5293a88b93567107e5",
       "placeholder": "​",
       "style": "IPY_MODEL_5187049f19e14ce8ad41958e9c96a678",
       "value": "<div style=\"font-size:medium; background-color:white;padding-left:2px;\">18.06</div>"
      }
     },
     "5e1a53aec4e749e3bb247184847cc202": {
      "model_module": "@jupyter-widgets/controls",
      "model_module_version": "1.5.0",
      "model_name": "DescriptionStyleModel",
      "state": {
       "_model_module": "@jupyter-widgets/controls",
       "_model_module_version": "1.5.0",
       "_model_name": "DescriptionStyleModel",
       "_view_count": null,
       "_view_module": "@jupyter-widgets/base",
       "_view_module_version": "1.2.0",
       "_view_name": "StyleView",
       "description_width": ""
      }
     },
     "5e39fd4547f34785a5a342c1eaa47edc": {
      "model_module": "@jupyter-widgets/controls",
      "model_module_version": "1.5.0",
      "model_name": "HBoxModel",
      "state": {
       "_dom_classes": [],
       "_model_module": "@jupyter-widgets/controls",
       "_model_module_version": "1.5.0",
       "_model_name": "HBoxModel",
       "_view_count": null,
       "_view_module": "@jupyter-widgets/controls",
       "_view_module_version": "1.5.0",
       "_view_name": "HBoxView",
       "box_style": "",
       "children": [
        "IPY_MODEL_5a36f38559da4bcf90730a6050b12d2c",
        "IPY_MODEL_4c93d37c0d6b4058aafe906401787412",
        "IPY_MODEL_4676117c40b14c0ba617bd5f93f449a7",
        "IPY_MODEL_97d16057eb714490811e0d82342b43f8"
       ],
       "layout": "IPY_MODEL_804c51697f2b4229a0f02be6b85b1659"
      }
     },
     "5e765f03df224889814785e6d42244ea": {
      "model_module": "@jupyter-widgets/controls",
      "model_module_version": "1.5.0",
      "model_name": "HBoxModel",
      "state": {
       "_dom_classes": [],
       "_model_module": "@jupyter-widgets/controls",
       "_model_module_version": "1.5.0",
       "_model_name": "HBoxModel",
       "_view_count": null,
       "_view_module": "@jupyter-widgets/controls",
       "_view_module_version": "1.5.0",
       "_view_name": "HBoxView",
       "box_style": "",
       "children": [
        "IPY_MODEL_2caacc665ae64c5089e5d4b38c58d875",
        "IPY_MODEL_3f3d775393f042cd98955b08f0d4870f",
        "IPY_MODEL_9a9988dbd72d4adc8ade2b86405af224",
        "IPY_MODEL_d227fead947a487cbafd8d512e3e5fe4"
       ],
       "layout": "IPY_MODEL_804c51697f2b4229a0f02be6b85b1659"
      }
     },
     "5ebd10bcdf034932825b899b139616fc": {
      "model_module": "@jupyter-widgets/controls",
      "model_module_version": "1.5.0",
      "model_name": "DescriptionStyleModel",
      "state": {
       "_model_module": "@jupyter-widgets/controls",
       "_model_module_version": "1.5.0",
       "_model_name": "DescriptionStyleModel",
       "_view_count": null,
       "_view_module": "@jupyter-widgets/base",
       "_view_module_version": "1.2.0",
       "_view_name": "StyleView",
       "description_width": "0px"
      }
     },
     "5fea5a50d46c4e7c89fdc7f3cecb8106": {
      "model_module": "@jupyter-widgets/controls",
      "model_module_version": "1.5.0",
      "model_name": "DescriptionStyleModel",
      "state": {
       "_model_module": "@jupyter-widgets/controls",
       "_model_module_version": "1.5.0",
       "_model_name": "DescriptionStyleModel",
       "_view_count": null,
       "_view_module": "@jupyter-widgets/base",
       "_view_module_version": "1.2.0",
       "_view_name": "StyleView",
       "description_width": ""
      }
     },
     "61201ee10d5d48ef9c9d14680c55a790": {
      "model_module": "@jupyter-widgets/controls",
      "model_module_version": "1.5.0",
      "model_name": "HTMLModel",
      "state": {
       "_dom_classes": [],
       "_model_module": "@jupyter-widgets/controls",
       "_model_module_version": "1.5.0",
       "_model_name": "HTMLModel",
       "_view_count": null,
       "_view_module": "@jupyter-widgets/controls",
       "_view_module_version": "1.5.0",
       "_view_name": "HTMLView",
       "description": "",
       "description_tooltip": null,
       "layout": "IPY_MODEL_1a17608c7cf54c5293a88b93567107e5",
       "placeholder": "​",
       "style": "IPY_MODEL_eb6a2a74816e415e92c3aef3a233604b",
       "value": "<div style=\"font-size:medium; background-color:#ececec;padding-left:2px;\">24.60</div>"
      }
     },
     "617c38e08a2e4c13b98ca0036d8ad718": {
      "model_module": "@jupyter-widgets/controls",
      "model_module_version": "1.5.0",
      "model_name": "CheckboxModel",
      "state": {
       "_dom_classes": [
        "checkbox_smartthermostats"
       ],
       "_model_module": "@jupyter-widgets/controls",
       "_model_module_version": "1.5.0",
       "_model_name": "CheckboxModel",
       "_view_count": null,
       "_view_module": "@jupyter-widgets/controls",
       "_view_module_version": "1.5.0",
       "_view_name": "CheckboxView",
       "description": "",
       "description_tooltip": null,
       "disabled": false,
       "indent": true,
       "layout": "IPY_MODEL_bdef4bf3c7424855b736b0fa72c837ed",
       "style": "IPY_MODEL_ffe1d5ee14df45e485962194b395574f",
       "value": false
      }
     },
     "620f72acae8e41699c981c82e4c17040": {
      "model_module": "@jupyter-widgets/controls",
      "model_module_version": "1.5.0",
      "model_name": "DescriptionStyleModel",
      "state": {
       "_model_module": "@jupyter-widgets/controls",
       "_model_module_version": "1.5.0",
       "_model_name": "DescriptionStyleModel",
       "_view_count": null,
       "_view_module": "@jupyter-widgets/base",
       "_view_module_version": "1.2.0",
       "_view_name": "StyleView",
       "description_width": "0px"
      }
     },
     "62389dbad4184cf895f1a6bf3b602d9f": {
      "model_module": "@jupyter-widgets/base",
      "model_module_version": "1.2.0",
      "model_name": "DOMWidgetModel",
      "state": {
       "_dom_classes": [],
       "_model_module": "@jupyter-widgets/base",
       "_model_module_version": "1.2.0",
       "_model_name": "DOMWidgetModel",
       "_opt_source": "null",
       "_spec_source": "{\"$schema\": \"https://vega.github.io/schema/vega/v4.json\", \"width\": 400, \"height\": 400, \"autosize\": \"none\", \"signals\": [{\"name\": \"startAngle\", \"value\": 0}, {\"name\": \"endAngle\", \"value\": 6.29}, {\"name\": \"padAngle\", \"value\": 0}, {\"name\": \"sort\", \"value\": false}], \"data\": [{\"name\": \"solutions\", \"values\": [{\"id\": 1, \"name\": \"Refrigerant Management\", \"sector\": \"Materials\", \"size\": 89.74}, {\"id\": 2, \"name\": \"Wind Turbines (Onshore)\", \"sector\": \"Electricity Generation\", \"size\": 84.6}, {\"id\": 3, \"name\": \"Reduced Food Waste\", \"sector\": \"Food\", \"size\": 70.53}, {\"id\": 4, \"name\": \"Plant-Rich Diet\", \"sector\": \"Food\", \"size\": 66.11}, {\"id\": 5, \"name\": \"Tropical Forests\", \"sector\": \"Land Use\", \"size\": 61.23}, {\"id\": 6, \"name\": \"Educating Girls\", \"sector\": \"Women and Girls\", \"size\": 51.48}, {\"id\": 7, \"name\": \"Family Planning\", \"sector\": \"Women and Girls\", \"size\": 51.48}, {\"id\": 8, \"name\": \"Solar Farms\", \"sector\": \"Electricity Generation\", \"size\": 36.9}, {\"id\": 9, \"name\": \"Silvopasture\", \"sector\": \"Food\", \"size\": 31.19}, {\"id\": 10, \"name\": \"Rooftop Solar\", \"sector\": \"Electricity Generation\", \"size\": 24.6}, {\"id\": 11, \"name\": \"Regenerative Agriculture\", \"sector\": \"Food\", \"size\": 23.15}, {\"id\": 12, \"name\": \"Temperate Forests\", \"sector\": \"Land Use\", \"size\": 22.61}, {\"id\": 13, \"name\": \"Peatlands\", \"sector\": \"Land Use\", \"size\": 21.57}, {\"id\": 14, \"name\": \"Tropical Staple Trees\", \"sector\": \"Food\", \"size\": 20.19}, {\"id\": 15, \"name\": \"Afforestation\", \"sector\": \"Land Use\", \"size\": 18.06}, {\"id\": 16, \"name\": \"Conservation Agriculture\", \"sector\": \"Food\", \"size\": 17.35}, {\"id\": 17, \"name\": \"Tree Intercropping\", \"sector\": \"Food\", \"size\": 17.2}, {\"id\": 18, \"name\": \"Geothermal\", \"sector\": \"Electricity Generation\", \"size\": 16.6}, {\"id\": 19, \"name\": \"Managed Grazing\", \"sector\": \"Food\", \"size\": 16.34}, {\"id\": 20, \"name\": \"Nuclear\", \"sector\": \"Electricity Generation\", \"size\": 16.09}, {\"id\": 21, \"name\": \"Clean Cookstoves\", \"sector\": \"Food\", \"size\": 15.81}, {\"id\": 22, \"name\": \"Wind Turbines (Offshore)\", \"sector\": \"Electricity Generation\", \"size\": 14.1}, {\"id\": 23, \"name\": \"Farmland Restoration\", \"sector\": \"Food\", \"size\": 14.08}, {\"id\": 24, \"name\": \"Improved Rice Cultivation\", \"sector\": \"Food\", \"size\": 11.34}, {\"id\": 25, \"name\": \"Concentrated Solar\", \"sector\": \"Electricity Generation\", \"size\": 10.9}, {\"id\": 26, \"name\": \"Electric Vehicles\", \"sector\": \"Transport\", \"size\": 10.8}, {\"id\": 27, \"name\": \"District Heating\", \"sector\": \"Buildings and Cities\", \"size\": 9.38}, {\"id\": 28, \"name\": \"Multistrata Agroforestry\", \"sector\": \"Food\", \"size\": 9.28}, {\"id\": 29, \"name\": \"Wave and Tidal\", \"sector\": \"Electricity Generation\", \"size\": 9.2}, {\"id\": 30, \"name\": \"Methane Digesters (Large)\", \"sector\": \"Electricity Generation\", \"size\": 8.4}, {\"id\": 31, \"name\": \"Insulation\", \"sector\": \"Buildings and Cities\", \"size\": 8.27}, {\"id\": 32, \"name\": \"Ships\", \"sector\": \"Transport\", \"size\": 7.87}, {\"id\": 33, \"name\": \"LED Lighting (Household)\", \"sector\": \"Buildings and Cities\", \"size\": 7.81}, {\"id\": 34, \"name\": \"Biomass\", \"sector\": \"Electricity Generation\", \"size\": 7.5}, {\"id\": 35, \"name\": \"Bamboo\", \"sector\": \"Land Use\", \"size\": 7.22}, {\"id\": 36, \"name\": \"Alternative Cement\", \"sector\": \"Materials\", \"size\": 6.69}, {\"id\": 37, \"name\": \"Mass Transit\", \"sector\": \"Transport\", \"size\": 6.57}, {\"id\": 38, \"name\": \"Forest Protection\", \"sector\": \"Land Use\", \"size\": 6.2}, {\"id\": 39, \"name\": \"Indigenous Peoples\\u2019 Land Management\", \"sector\": \"Land Use\", \"size\": 6.19}, {\"id\": 40, \"name\": \"Trucks\", \"sector\": \"Transport\", \"size\": 6.18}, {\"id\": 41, \"name\": \"Solar Water\", \"sector\": \"Electricity Generation\", \"size\": 6.08}, {\"id\": 42, \"name\": \"Heat Pumps\", \"sector\": \"Buildings and Cities\", \"size\": 5.2}, {\"id\": 43, \"name\": \"Airplanes\", \"sector\": \"Transport\", \"size\": 5.05}, {\"id\": 44, \"name\": \"LED Lighting (Commercial)\", \"sector\": \"Buildings and Cities\", \"size\": 5.04}, {\"id\": 45, \"name\": \"Building Automation\", \"sector\": \"Buildings and Cities\", \"size\": 4.62}, {\"id\": 46, \"name\": \"Water Saving - Home\", \"sector\": \"Materials\", \"size\": 4.61}, {\"id\": 47, \"name\": \"Bioplastic\", \"sector\": \"Materials\", \"size\": 4.3}, {\"id\": 48, \"name\": \"In-Stream Hydro\", \"sector\": \"Electricity Generation\", \"size\": 4.0}, {\"id\": 49, \"name\": \"Cars\", \"sector\": \"Transport\", \"size\": 4.0}, {\"id\": 50, \"name\": \"Cogeneration\", \"sector\": \"Electricity Generation\", \"size\": 3.97}, {\"id\": 51, \"name\": \"Perennial Biomass\", \"sector\": \"Land Use\", \"size\": 3.33}, {\"id\": 52, \"name\": \"Coastal Wetlands\", \"sector\": \"Land Use\", \"size\": 3.19}, {\"id\": 53, \"name\": \"System of Rice Intensification\", \"sector\": \"Food\", \"size\": 3.13}, {\"id\": 54, \"name\": \"Walkable Cities\", \"sector\": \"Buildings and Cities\", \"size\": 2.92}, {\"id\": 55, \"name\": \"Household Recycling\", \"sector\": \"Materials\", \"size\": 2.77}, {\"id\": 56, \"name\": \"Industrial Recycling\", \"sector\": \"Materials\", \"size\": 2.77}, {\"id\": 57, \"name\": \"Smart Thermostats\", \"sector\": \"Buildings and Cities\", \"size\": 2.62}, {\"id\": 58, \"name\": \"Landfill Methane\", \"sector\": \"Buildings and Cities\", \"size\": 2.5}, {\"id\": 59, \"name\": \"Bike Infrastructure\", \"sector\": \"Buildings and Cities\", \"size\": 2.31}, {\"id\": 60, \"name\": \"Composting\", \"sector\": \"Food\", \"size\": 2.28}, {\"id\": 61, \"name\": \"Smart Glass\", \"sector\": \"Buildings and Cities\", \"size\": 2.19}, {\"id\": 62, \"name\": \"Women Smallholders\", \"sector\": \"Women and Girls\", \"size\": 2.06}, {\"id\": 63, \"name\": \"Telepresence\", \"sector\": \"Transport\", \"size\": 1.99}, {\"id\": 64, \"name\": \"Methane Digesters (Small)\", \"sector\": \"Electricity Generation\", \"size\": 1.9}, {\"id\": 65, \"name\": \"Nutrient Management\", \"sector\": \"Food\", \"size\": 1.81}, {\"id\": 66, \"name\": \"High-speed Rail\", \"sector\": \"Transport\", \"size\": 1.52}, {\"id\": 67, \"name\": \"Farmland Irrigation\", \"sector\": \"Food\", \"size\": 1.33}, {\"id\": 68, \"name\": \"Waste-to-Energy\", \"sector\": \"Electricity Generation\", \"size\": 1.1}, {\"id\": 69, \"name\": \"Electric Bikes\", \"sector\": \"Transport\", \"size\": 0.96}, {\"id\": 70, \"name\": \"Recycled Paper\", \"sector\": \"Materials\", \"size\": 0.9}, {\"id\": 71, \"name\": \"Water Distribution\", \"sector\": \"Buildings and Cities\", \"size\": 0.87}, {\"id\": 72, \"name\": \"Biochar\", \"sector\": \"Food\", \"size\": 0.81}, {\"id\": 73, \"name\": \"Green Roofs\", \"sector\": \"Buildings and Cities\", \"size\": 0.77}, {\"id\": 74, \"name\": \"Trains\", \"sector\": \"Transport\", \"size\": 0.52}, {\"id\": 75, \"name\": \"Ridesharing\", \"sector\": \"Transport\", \"size\": 0.32}, {\"id\": 76, \"name\": \"Micro Wind\", \"sector\": \"Electricity Generation\", \"size\": 0.2}, {\"id\": 77, \"name\": \"Carpooling\", \"sector\": \"Transport\", \"size\": 0.16}, {\"id\": 78, \"name\": \"Cool Roofs\", \"sector\": \"Buildings and Cities\", \"size\": 0.52}, {\"id\": 79, \"name\": \"Limiting Bottom Trawling\", \"sector\": \"Oceans\", \"size\": 1.5}], \"transform\": [{\"type\": \"pie\", \"field\": \"size\", \"startAngle\": {\"signal\": \"startAngle\"}, \"endAngle\": {\"signal\": \"endAngle\"}, \"sort\": {\"signal\": \"sort\"}}]}, {\"name\": \"sectors\", \"values\": [{\"id\": 80, \"name\": \"Food\", \"sector\": \"Food\", \"size\": 321.92999999999984}, {\"id\": 81, \"name\": \"Electricity Generation\", \"sector\": \"Electricity Generation\", \"size\": 246.14}, {\"id\": 82, \"name\": \"Land Use\", \"sector\": \"Land Use\", \"size\": 149.6}, {\"id\": 83, \"name\": \"Materials\", \"sector\": \"Materials\", \"size\": 111.77999999999999}, {\"id\": 84, \"name\": \"Women and Girls\", \"sector\": \"Women and Girls\", \"size\": 105.02}, {\"id\": 85, \"name\": \"Buildings and Cities\", \"sector\": \"Buildings and Cities\", \"size\": 55.019999999999996}, {\"id\": 86, \"name\": \"Transport\", \"sector\": \"Transport\", \"size\": 45.940000000000005}, {\"id\": 87, \"name\": \"Oceans\", \"sector\": \"Oceans\", \"size\": 1.5}], \"transform\": [{\"type\": \"pie\", \"field\": \"size\", \"startAngle\": {\"signal\": \"startAngle\"}, \"endAngle\": {\"signal\": \"endAngle\"}, \"sort\": {\"signal\": \"sort\"}}]}], \"scales\": [{\"name\": \"color\", \"type\": \"ordinal\", \"domain\": [\"Materials\", \"Electricity Generation\", \"Electricity\", \"Food\", \"Agriculture\", \"Land Use\", \"Land\", \"Women and Girls\", \"Population\", \"Transport\", \"Transportation\", \"Buildings and Cities\", \"Buildings\", \"Oceans\", \"Waste\"], \"range\": [\"RebeccaPurple\", \"Peru\", \"Peru\", \"PeachPuff\", \"FireBrick\", \"Green\", \"Green\", \"DarkGoldenRod\", \"DarkGoldenRod\", \"Teal\", \"Teal\", \"SteelBlue\", \"SteelBlue\", \"Aquamarine\", \"Sienna\"]}], \"marks\": [{\"type\": \"arc\", \"from\": {\"data\": \"solutions\"}, \"encode\": {\"enter\": {\"fill\": {\"scale\": \"color\", \"field\": \"sector\"}, \"x\": {\"signal\": \"width / 2\"}, \"y\": {\"signal\": \"height / 2\"}, \"tooltip\": {\"signal\": \"{title: datum.name, 'CO2eq': format(datum['size'], '.2f') + ' Gigatons'}\"}}, \"update\": {\"startAngle\": {\"field\": \"startAngle\"}, \"endAngle\": {\"field\": \"endAngle\"}, \"padAngle\": {\"signal\": \"padAngle\"}, \"innerRadius\": {\"value\": 130}, \"outerRadius\": {\"value\": 150}, \"cornerRadius\": {\"value\": 0}}}}, {\"type\": \"arc\", \"from\": {\"data\": \"sectors\"}, \"encode\": {\"enter\": {\"fill\": {\"scale\": \"color\", \"field\": \"sector\"}, \"x\": {\"signal\": \"width / 2\"}, \"y\": {\"signal\": \"height / 2\"}, \"tooltip\": {\"signal\": \"{title: datum.name, 'CO2eq': format(datum['size'], '.2f') + ' Gigatons'}\"}}, \"update\": {\"startAngle\": {\"field\": \"startAngle\"}, \"endAngle\": {\"field\": \"endAngle\"}, \"padAngle\": {\"signal\": \"padAngle\"}, \"innerRadius\": {\"value\": 98}, \"outerRadius\": {\"value\": 118}, \"cornerRadius\": {\"value\": 0}}}}]}",
       "_view_count": null,
       "_view_module": "nbextensions/jupyter-vega/widget",
       "_view_module_version": "0.1.0",
       "_view_name": "VegaWidget",
       "layout": "IPY_MODEL_7e7328947b2c491987f275c7c3cc781d"
      }
     },
     "62baa9f01a5a47c280620f4d298bf752": {
      "model_module": "@jupyter-widgets/controls",
      "model_module_version": "1.5.0",
      "model_name": "DescriptionStyleModel",
      "state": {
       "_model_module": "@jupyter-widgets/controls",
       "_model_module_version": "1.5.0",
       "_model_name": "DescriptionStyleModel",
       "_view_count": null,
       "_view_module": "@jupyter-widgets/base",
       "_view_module_version": "1.2.0",
       "_view_name": "StyleView",
       "description_width": "0px"
      }
     },
     "62dcc23d7d71442aa53eb7615198aa39": {
      "model_module": "@jupyter-widgets/controls",
      "model_module_version": "1.5.0",
      "model_name": "HTMLModel",
      "state": {
       "_dom_classes": [],
       "_model_module": "@jupyter-widgets/controls",
       "_model_module_version": "1.5.0",
       "_model_name": "HTMLModel",
       "_view_count": null,
       "_view_module": "@jupyter-widgets/controls",
       "_view_module_version": "1.5.0",
       "_view_name": "HTMLView",
       "description": "",
       "description_tooltip": null,
       "layout": "IPY_MODEL_2adb518af7044a69aad2c2de3ca0c421",
       "placeholder": "​",
       "style": "IPY_MODEL_6d7e39a4a12746a8bcf19a136c178e45",
       "value": "<div style=\"font-size:medium; background-color:#ececec;padding-left:2px;\">Materials</div>"
      }
     },
     "62e70aabd0434c26a748e2ea23b3011b": {
      "model_module": "@jupyter-widgets/controls",
      "model_module_version": "1.5.0",
      "model_name": "DescriptionStyleModel",
      "state": {
       "_model_module": "@jupyter-widgets/controls",
       "_model_module_version": "1.5.0",
       "_model_name": "DescriptionStyleModel",
       "_view_count": null,
       "_view_module": "@jupyter-widgets/base",
       "_view_module_version": "1.2.0",
       "_view_name": "StyleView",
       "description_width": ""
      }
     },
     "63245f2896c64c66b404f30b4b74f3f2": {
      "model_module": "@jupyter-widgets/controls",
      "model_module_version": "1.5.0",
      "model_name": "HTMLModel",
      "state": {
       "_dom_classes": [],
       "_model_module": "@jupyter-widgets/controls",
       "_model_module_version": "1.5.0",
       "_model_name": "HTMLModel",
       "_view_count": null,
       "_view_module": "@jupyter-widgets/controls",
       "_view_module_version": "1.5.0",
       "_view_name": "HTMLView",
       "description": "",
       "description_tooltip": null,
       "layout": "IPY_MODEL_1a17608c7cf54c5293a88b93567107e5",
       "placeholder": "​",
       "style": "IPY_MODEL_0cf2742419e74c8eaafa8c4ec89205a8",
       "value": "<div style=\"font-size:medium; background-color:#ececec;padding-left:2px;\">66.11</div>"
      }
     },
     "640cd11ef3f84d34bd4c3b22f171a27d": {
      "model_module": "@jupyter-widgets/controls",
      "model_module_version": "1.5.0",
      "model_name": "HTMLModel",
      "state": {
       "_dom_classes": [],
       "_model_module": "@jupyter-widgets/controls",
       "_model_module_version": "1.5.0",
       "_model_name": "HTMLModel",
       "_view_count": null,
       "_view_module": "@jupyter-widgets/controls",
       "_view_module_version": "1.5.0",
       "_view_name": "HTMLView",
       "description": "",
       "description_tooltip": null,
       "layout": "IPY_MODEL_1a17608c7cf54c5293a88b93567107e5",
       "placeholder": "​",
       "style": "IPY_MODEL_6b38ae8d16d243999d3aa9d0458a6aa0",
       "value": "<div style=\"font-size:medium; background-color:white;padding-left:2px;\">9.38</div>"
      }
     },
     "64ce51060e9441bb84e31b8ed93705b3": {
      "model_module": "@jupyter-widgets/controls",
      "model_module_version": "1.5.0",
      "model_name": "CheckboxModel",
      "state": {
       "_dom_classes": [
        "checkbox_bioplastic"
       ],
       "_model_module": "@jupyter-widgets/controls",
       "_model_module_version": "1.5.0",
       "_model_name": "CheckboxModel",
       "_view_count": null,
       "_view_module": "@jupyter-widgets/controls",
       "_view_module_version": "1.5.0",
       "_view_name": "CheckboxView",
       "description": "",
       "description_tooltip": null,
       "disabled": false,
       "indent": true,
       "layout": "IPY_MODEL_bdef4bf3c7424855b736b0fa72c837ed",
       "style": "IPY_MODEL_e4cab5dc3d404966a3cff2e42da36551",
       "value": false
      }
     },
     "64dac6265a074cbeb29727013924c56b": {
      "model_module": "@jupyter-widgets/base",
      "model_module_version": "1.2.0",
      "model_name": "LayoutModel",
      "state": {
       "_model_module": "@jupyter-widgets/base",
       "_model_module_version": "1.2.0",
       "_model_name": "LayoutModel",
       "_view_count": null,
       "_view_module": "@jupyter-widgets/base",
       "_view_module_version": "1.2.0",
       "_view_name": "LayoutView",
       "align_content": null,
       "align_items": null,
       "align_self": null,
       "border": null,
       "bottom": null,
       "display": null,
       "flex": "3 1 0%",
       "flex_flow": null,
       "grid_area": null,
       "grid_auto_columns": null,
       "grid_auto_flow": null,
       "grid_auto_rows": null,
       "grid_column": null,
       "grid_gap": null,
       "grid_row": null,
       "grid_template_areas": null,
       "grid_template_columns": null,
       "grid_template_rows": null,
       "height": null,
       "justify_content": null,
       "justify_items": null,
       "left": null,
       "margin": null,
       "max_height": null,
       "max_width": null,
       "min_height": null,
       "min_width": null,
       "object_fit": null,
       "object_position": null,
       "order": null,
       "overflow": null,
       "overflow_x": null,
       "overflow_y": null,
       "padding": null,
       "right": null,
       "top": null,
       "visibility": null,
       "width": "auto"
      }
     },
     "64ff6cf67b534fe481397f255d6c5edb": {
      "model_module": "@jupyter-widgets/controls",
      "model_module_version": "1.5.0",
      "model_name": "DescriptionStyleModel",
      "state": {
       "_model_module": "@jupyter-widgets/controls",
       "_model_module_version": "1.5.0",
       "_model_name": "DescriptionStyleModel",
       "_view_count": null,
       "_view_module": "@jupyter-widgets/base",
       "_view_module_version": "1.2.0",
       "_view_name": "StyleView",
       "description_width": ""
      }
     },
     "6573834e52464326b5ab98e5a61d77d0": {
      "model_module": "@jupyter-widgets/controls",
      "model_module_version": "1.5.0",
      "model_name": "HTMLModel",
      "state": {
       "_dom_classes": [],
       "_model_module": "@jupyter-widgets/controls",
       "_model_module_version": "1.5.0",
       "_model_name": "HTMLModel",
       "_view_count": null,
       "_view_module": "@jupyter-widgets/controls",
       "_view_module_version": "1.5.0",
       "_view_name": "HTMLView",
       "description": "",
       "description_tooltip": null,
       "layout": "IPY_MODEL_0fc6d0e36882466aaf8b89d9494bcb4b",
       "placeholder": "​",
       "style": "IPY_MODEL_8d49bd2cdb844058835e14870bba52b1",
       "value": "<div style=\"font-size:medium; background-color:#ececec;padding-left:2px;\">Wind Turbines (Onshore)</div>"
      }
     },
     "65825cc33a534472b219ed07c5d9c0cf": {
      "model_module": "@jupyter-widgets/controls",
      "model_module_version": "1.5.0",
      "model_name": "HBoxModel",
      "state": {
       "_dom_classes": [],
       "_model_module": "@jupyter-widgets/controls",
       "_model_module_version": "1.5.0",
       "_model_name": "HBoxModel",
       "_view_count": null,
       "_view_module": "@jupyter-widgets/controls",
       "_view_module_version": "1.5.0",
       "_view_name": "HBoxView",
       "box_style": "",
       "children": [
        "IPY_MODEL_937b2ed966964d8fb2c7df392aa22fc7",
        "IPY_MODEL_33f80ec46431410a8502948aff82c8bf",
        "IPY_MODEL_44fd3fb1d8974e7399b5ba737b2fc25f",
        "IPY_MODEL_1558236f969b4ee580feeb0c4de55ddb"
       ],
       "layout": "IPY_MODEL_804c51697f2b4229a0f02be6b85b1659"
      }
     },
     "658dfdd609bc42228cba410fae407f85": {
      "model_module": "@jupyter-widgets/controls",
      "model_module_version": "1.5.0",
      "model_name": "HTMLModel",
      "state": {
       "_dom_classes": [],
       "_model_module": "@jupyter-widgets/controls",
       "_model_module_version": "1.5.0",
       "_model_name": "HTMLModel",
       "_view_count": null,
       "_view_module": "@jupyter-widgets/controls",
       "_view_module_version": "1.5.0",
       "_view_name": "HTMLView",
       "description": "",
       "description_tooltip": null,
       "layout": "IPY_MODEL_2adb518af7044a69aad2c2de3ca0c421",
       "placeholder": "​",
       "style": "IPY_MODEL_9219fe6b050741f3afd957ec182344eb",
       "value": "<div style=\"font-size:medium; background-color:white;padding-left:2px;\">Electricity Generation</div>"
      }
     },
     "65b96bd562b94766abe8e60e744d227c": {
      "model_module": "@jupyter-widgets/controls",
      "model_module_version": "1.5.0",
      "model_name": "HTMLModel",
      "state": {
       "_dom_classes": [],
       "_model_module": "@jupyter-widgets/controls",
       "_model_module_version": "1.5.0",
       "_model_name": "HTMLModel",
       "_view_count": null,
       "_view_module": "@jupyter-widgets/controls",
       "_view_module_version": "1.5.0",
       "_view_name": "HTMLView",
       "description": "",
       "description_tooltip": null,
       "layout": "IPY_MODEL_2adb518af7044a69aad2c2de3ca0c421",
       "placeholder": "​",
       "style": "IPY_MODEL_818dbbbb0fd544bb98f19dd86e934ed4",
       "value": "<div style=\"font-size:medium; background-color:#ececec;padding-left:2px;\">Electricity Generation</div>"
      }
     },
     "661c0b85edbb492bbd0aa4b7d72e0e86": {
      "model_module": "@jupyter-widgets/controls",
      "model_module_version": "1.5.0",
      "model_name": "DescriptionStyleModel",
      "state": {
       "_model_module": "@jupyter-widgets/controls",
       "_model_module_version": "1.5.0",
       "_model_name": "DescriptionStyleModel",
       "_view_count": null,
       "_view_module": "@jupyter-widgets/base",
       "_view_module_version": "1.2.0",
       "_view_name": "StyleView",
       "description_width": ""
      }
     },
     "66655bc3b217408d9bd8acaab443fbe8": {
      "model_module": "@jupyter-widgets/controls",
      "model_module_version": "1.5.0",
      "model_name": "HTMLModel",
      "state": {
       "_dom_classes": [],
       "_model_module": "@jupyter-widgets/controls",
       "_model_module_version": "1.5.0",
       "_model_name": "HTMLModel",
       "_view_count": null,
       "_view_module": "@jupyter-widgets/controls",
       "_view_module_version": "1.5.0",
       "_view_name": "HTMLView",
       "description": "",
       "description_tooltip": null,
       "layout": "IPY_MODEL_2adb518af7044a69aad2c2de3ca0c421",
       "placeholder": "​",
       "style": "IPY_MODEL_1058a8633cdf47c8a5452f1599ef8a7d",
       "value": "<div style=\"font-size:medium; background-color:white;padding-left:2px;\">Buildings and Cities</div>"
      }
     },
     "6705c127613e44de9061a5acfa891ea2": {
      "model_module": "@jupyter-widgets/controls",
      "model_module_version": "1.5.0",
      "model_name": "HTMLModel",
      "state": {
       "_dom_classes": [],
       "_model_module": "@jupyter-widgets/controls",
       "_model_module_version": "1.5.0",
       "_model_name": "HTMLModel",
       "_view_count": null,
       "_view_module": "@jupyter-widgets/controls",
       "_view_module_version": "1.5.0",
       "_view_name": "HTMLView",
       "description": "",
       "description_tooltip": null,
       "layout": "IPY_MODEL_1a17608c7cf54c5293a88b93567107e5",
       "placeholder": "​",
       "style": "IPY_MODEL_972a413f6b254036acb4958a630b0b33",
       "value": "<div style=\"font-size:medium; background-color:#ececec;padding-left:2px;\">51.48</div>"
      }
     },
     "6711d27df9f14ba9b18a5c24d05d9ad0": {
      "model_module": "@jupyter-widgets/controls",
      "model_module_version": "1.5.0",
      "model_name": "CheckboxModel",
      "state": {
       "_dom_classes": [
        "checkbox_microwind"
       ],
       "_model_module": "@jupyter-widgets/controls",
       "_model_module_version": "1.5.0",
       "_model_name": "CheckboxModel",
       "_view_count": null,
       "_view_module": "@jupyter-widgets/controls",
       "_view_module_version": "1.5.0",
       "_view_name": "CheckboxView",
       "description": "",
       "description_tooltip": null,
       "disabled": false,
       "indent": true,
       "layout": "IPY_MODEL_bdef4bf3c7424855b736b0fa72c837ed",
       "style": "IPY_MODEL_6e7f584766c04c1f94dea56379861ee6",
       "value": false
      }
     },
     "673dfa0a32354b1d9363b8be7cf2b477": {
      "model_module": "@jupyter-widgets/controls",
      "model_module_version": "1.5.0",
      "model_name": "HTMLModel",
      "state": {
       "_dom_classes": [],
       "_model_module": "@jupyter-widgets/controls",
       "_model_module_version": "1.5.0",
       "_model_name": "HTMLModel",
       "_view_count": null,
       "_view_module": "@jupyter-widgets/controls",
       "_view_module_version": "1.5.0",
       "_view_name": "HTMLView",
       "description": "",
       "description_tooltip": null,
       "layout": "IPY_MODEL_1a17608c7cf54c5293a88b93567107e5",
       "placeholder": "​",
       "style": "IPY_MODEL_c6bd372066d240b48b594e59951dfdc3",
       "value": "<div style=\"font-size:medium; background-color:#ececec;padding-left:2px;\">16.34</div>"
      }
     },
     "67935b7fca4e438c9f9a7512073a9895": {
      "model_module": "@jupyter-widgets/controls",
      "model_module_version": "1.5.0",
      "model_name": "CheckboxModel",
      "state": {
       "_dom_classes": [
        "checkbox_masstransit"
       ],
       "_model_module": "@jupyter-widgets/controls",
       "_model_module_version": "1.5.0",
       "_model_name": "CheckboxModel",
       "_view_count": null,
       "_view_module": "@jupyter-widgets/controls",
       "_view_module_version": "1.5.0",
       "_view_name": "CheckboxView",
       "description": "",
       "description_tooltip": null,
       "disabled": false,
       "indent": true,
       "layout": "IPY_MODEL_bdef4bf3c7424855b736b0fa72c837ed",
       "style": "IPY_MODEL_c124a86469d04919a846f4c1af61dd4f",
       "value": false
      }
     },
     "67d86b60cc2a447ea1fc877a0aa1b100": {
      "model_module": "@jupyter-widgets/controls",
      "model_module_version": "1.5.0",
      "model_name": "DescriptionStyleModel",
      "state": {
       "_model_module": "@jupyter-widgets/controls",
       "_model_module_version": "1.5.0",
       "_model_name": "DescriptionStyleModel",
       "_view_count": null,
       "_view_module": "@jupyter-widgets/base",
       "_view_module_version": "1.2.0",
       "_view_name": "StyleView",
       "description_width": ""
      }
     },
     "6826083036b0432ca769f7dcbf892e8f": {
      "model_module": "@jupyter-widgets/controls",
      "model_module_version": "1.5.0",
      "model_name": "DescriptionStyleModel",
      "state": {
       "_model_module": "@jupyter-widgets/controls",
       "_model_module_version": "1.5.0",
       "_model_name": "DescriptionStyleModel",
       "_view_count": null,
       "_view_module": "@jupyter-widgets/base",
       "_view_module_version": "1.2.0",
       "_view_name": "StyleView",
       "description_width": ""
      }
     },
     "68345c36a0704b95b7aad6f4e4870baf": {
      "model_module": "@jupyter-widgets/controls",
      "model_module_version": "1.5.0",
      "model_name": "DescriptionStyleModel",
      "state": {
       "_model_module": "@jupyter-widgets/controls",
       "_model_module_version": "1.5.0",
       "_model_name": "DescriptionStyleModel",
       "_view_count": null,
       "_view_module": "@jupyter-widgets/base",
       "_view_module_version": "1.2.0",
       "_view_name": "StyleView",
       "description_width": ""
      }
     },
     "686b265ea859425484490efb992050ec": {
      "model_module": "@jupyter-widgets/controls",
      "model_module_version": "1.5.0",
      "model_name": "DescriptionStyleModel",
      "state": {
       "_model_module": "@jupyter-widgets/controls",
       "_model_module_version": "1.5.0",
       "_model_name": "DescriptionStyleModel",
       "_view_count": null,
       "_view_module": "@jupyter-widgets/base",
       "_view_module_version": "1.2.0",
       "_view_name": "StyleView",
       "description_width": ""
      }
     },
     "687216a751644a90882d523a83626685": {
      "model_module": "@jupyter-widgets/controls",
      "model_module_version": "1.5.0",
      "model_name": "HTMLModel",
      "state": {
       "_dom_classes": [],
       "_model_module": "@jupyter-widgets/controls",
       "_model_module_version": "1.5.0",
       "_model_name": "HTMLModel",
       "_view_count": null,
       "_view_module": "@jupyter-widgets/controls",
       "_view_module_version": "1.5.0",
       "_view_name": "HTMLView",
       "description": "",
       "description_tooltip": null,
       "layout": "IPY_MODEL_2adb518af7044a69aad2c2de3ca0c421",
       "placeholder": "​",
       "style": "IPY_MODEL_2f6d733a414f48ea87ad8d2d1ccfe4c0",
       "value": "<div style=\"font-size:medium; background-color:white;padding-left:2px;\">Electricity Generation</div>"
      }
     },
     "68ed495a0bad4b84a4927e4bdea4a7fd": {
      "model_module": "@jupyter-widgets/controls",
      "model_module_version": "1.5.0",
      "model_name": "HTMLModel",
      "state": {
       "_dom_classes": [],
       "_model_module": "@jupyter-widgets/controls",
       "_model_module_version": "1.5.0",
       "_model_name": "HTMLModel",
       "_view_count": null,
       "_view_module": "@jupyter-widgets/controls",
       "_view_module_version": "1.5.0",
       "_view_name": "HTMLView",
       "description": "",
       "description_tooltip": null,
       "layout": "IPY_MODEL_2adb518af7044a69aad2c2de3ca0c421",
       "placeholder": "​",
       "style": "IPY_MODEL_5ad85709349b41ee87ce5d8a30b8fc93",
       "value": "<div style=\"font-size:medium; background-color:white;padding-left:2px;\">Food</div>"
      }
     },
     "699879f773374cb98eb98b9375eb644c": {
      "model_module": "@jupyter-widgets/controls",
      "model_module_version": "1.5.0",
      "model_name": "DescriptionStyleModel",
      "state": {
       "_model_module": "@jupyter-widgets/controls",
       "_model_module_version": "1.5.0",
       "_model_name": "DescriptionStyleModel",
       "_view_count": null,
       "_view_module": "@jupyter-widgets/base",
       "_view_module_version": "1.2.0",
       "_view_name": "StyleView",
       "description_width": ""
      }
     },
     "6aa1605c881846ba8962108ce9d863f0": {
      "model_module": "@jupyter-widgets/controls",
      "model_module_version": "1.5.0",
      "model_name": "CheckboxModel",
      "state": {
       "_dom_classes": [
        "checkbox_coolroofs"
       ],
       "_model_module": "@jupyter-widgets/controls",
       "_model_module_version": "1.5.0",
       "_model_name": "CheckboxModel",
       "_view_count": null,
       "_view_module": "@jupyter-widgets/controls",
       "_view_module_version": "1.5.0",
       "_view_name": "CheckboxView",
       "description": "",
       "description_tooltip": null,
       "disabled": false,
       "indent": true,
       "layout": "IPY_MODEL_bdef4bf3c7424855b736b0fa72c837ed",
       "style": "IPY_MODEL_2ef7de7a12314fe69af831eec1a1a491",
       "value": false
      }
     },
     "6ae92d8e2b244bf4bfb3218a7386ff02": {
      "model_module": "@jupyter-widgets/controls",
      "model_module_version": "1.5.0",
      "model_name": "DescriptionStyleModel",
      "state": {
       "_model_module": "@jupyter-widgets/controls",
       "_model_module_version": "1.5.0",
       "_model_name": "DescriptionStyleModel",
       "_view_count": null,
       "_view_module": "@jupyter-widgets/base",
       "_view_module_version": "1.2.0",
       "_view_name": "StyleView",
       "description_width": "0px"
      }
     },
     "6b12ee2b794c449986c4e82df0cd1be0": {
      "model_module": "@jupyter-widgets/controls",
      "model_module_version": "1.5.0",
      "model_name": "DescriptionStyleModel",
      "state": {
       "_model_module": "@jupyter-widgets/controls",
       "_model_module_version": "1.5.0",
       "_model_name": "DescriptionStyleModel",
       "_view_count": null,
       "_view_module": "@jupyter-widgets/base",
       "_view_module_version": "1.2.0",
       "_view_name": "StyleView",
       "description_width": ""
      }
     },
     "6b2fa8757fb344e5a943297a61b4da43": {
      "model_module": "@jupyter-widgets/controls",
      "model_module_version": "1.5.0",
      "model_name": "DescriptionStyleModel",
      "state": {
       "_model_module": "@jupyter-widgets/controls",
       "_model_module_version": "1.5.0",
       "_model_name": "DescriptionStyleModel",
       "_view_count": null,
       "_view_module": "@jupyter-widgets/base",
       "_view_module_version": "1.2.0",
       "_view_name": "StyleView",
       "description_width": "0px"
      }
     },
     "6b38ae8d16d243999d3aa9d0458a6aa0": {
      "model_module": "@jupyter-widgets/controls",
      "model_module_version": "1.5.0",
      "model_name": "DescriptionStyleModel",
      "state": {
       "_model_module": "@jupyter-widgets/controls",
       "_model_module_version": "1.5.0",
       "_model_name": "DescriptionStyleModel",
       "_view_count": null,
       "_view_module": "@jupyter-widgets/base",
       "_view_module_version": "1.2.0",
       "_view_name": "StyleView",
       "description_width": ""
      }
     },
     "6b99c895ef5344c1aa5fe9fd189d4842": {
      "model_module": "@jupyter-widgets/controls",
      "model_module_version": "1.5.0",
      "model_name": "HTMLModel",
      "state": {
       "_dom_classes": [],
       "_model_module": "@jupyter-widgets/controls",
       "_model_module_version": "1.5.0",
       "_model_name": "HTMLModel",
       "_view_count": null,
       "_view_module": "@jupyter-widgets/controls",
       "_view_module_version": "1.5.0",
       "_view_name": "HTMLView",
       "description": "",
       "description_tooltip": null,
       "layout": "IPY_MODEL_1a17608c7cf54c5293a88b93567107e5",
       "placeholder": "​",
       "style": "IPY_MODEL_e7504f12976040ed8c404b4ea585f749",
       "value": "<div style=\"font-size:medium; background-color:white;padding-left:2px;\">0.32</div>"
      }
     },
     "6baa0ae076724a20a76d4363bb2ad443": {
      "model_module": "@jupyter-widgets/controls",
      "model_module_version": "1.5.0",
      "model_name": "HTMLModel",
      "state": {
       "_dom_classes": [],
       "_model_module": "@jupyter-widgets/controls",
       "_model_module_version": "1.5.0",
       "_model_name": "HTMLModel",
       "_view_count": null,
       "_view_module": "@jupyter-widgets/controls",
       "_view_module_version": "1.5.0",
       "_view_name": "HTMLView",
       "description": "",
       "description_tooltip": null,
       "layout": "IPY_MODEL_1a17608c7cf54c5293a88b93567107e5",
       "placeholder": "​",
       "style": "IPY_MODEL_95bc3c42489747c7a068a9af34caac80",
       "value": "<div style=\"font-size:medium; background-color:white;padding-left:2px;\">7.50</div>"
      }
     },
     "6bc0f64f91074a56b0207d1d6d4c0d53": {
      "model_module": "@jupyter-widgets/controls",
      "model_module_version": "1.5.0",
      "model_name": "DescriptionStyleModel",
      "state": {
       "_model_module": "@jupyter-widgets/controls",
       "_model_module_version": "1.5.0",
       "_model_name": "DescriptionStyleModel",
       "_view_count": null,
       "_view_module": "@jupyter-widgets/base",
       "_view_module_version": "1.2.0",
       "_view_name": "StyleView",
       "description_width": ""
      }
     },
     "6c37c5dcc179432f9ffb6976299e74dd": {
      "model_module": "@jupyter-widgets/controls",
      "model_module_version": "1.5.0",
      "model_name": "HTMLModel",
      "state": {
       "_dom_classes": [],
       "_model_module": "@jupyter-widgets/controls",
       "_model_module_version": "1.5.0",
       "_model_name": "HTMLModel",
       "_view_count": null,
       "_view_module": "@jupyter-widgets/controls",
       "_view_module_version": "1.5.0",
       "_view_name": "HTMLView",
       "description": "",
       "description_tooltip": null,
       "layout": "IPY_MODEL_2adb518af7044a69aad2c2de3ca0c421",
       "placeholder": "​",
       "style": "IPY_MODEL_0e73c4b3f9ae4519aa167183e1b036aa",
       "value": "<div style=\"font-size:medium; background-color:#ececec;padding-left:2px;\">Transport</div>"
      }
     },
     "6c664a1726d642e6bf4d0a108a4c6517": {
      "model_module": "@jupyter-widgets/controls",
      "model_module_version": "1.5.0",
      "model_name": "DescriptionStyleModel",
      "state": {
       "_model_module": "@jupyter-widgets/controls",
       "_model_module_version": "1.5.0",
       "_model_name": "DescriptionStyleModel",
       "_view_count": null,
       "_view_module": "@jupyter-widgets/base",
       "_view_module_version": "1.2.0",
       "_view_name": "StyleView",
       "description_width": ""
      }
     },
     "6d128949a42c4219b1fdacf0c898b732": {
      "model_module": "@jupyter-widgets/controls",
      "model_module_version": "1.5.0",
      "model_name": "CheckboxModel",
      "state": {
       "_dom_classes": [
        "checkbox_temperateforests"
       ],
       "_model_module": "@jupyter-widgets/controls",
       "_model_module_version": "1.5.0",
       "_model_name": "CheckboxModel",
       "_view_count": null,
       "_view_module": "@jupyter-widgets/controls",
       "_view_module_version": "1.5.0",
       "_view_name": "CheckboxView",
       "description": "",
       "description_tooltip": null,
       "disabled": false,
       "indent": true,
       "layout": "IPY_MODEL_bdef4bf3c7424855b736b0fa72c837ed",
       "style": "IPY_MODEL_219319ef90914e7ca62acc1043059eea",
       "value": false
      }
     },
     "6d7e39a4a12746a8bcf19a136c178e45": {
      "model_module": "@jupyter-widgets/controls",
      "model_module_version": "1.5.0",
      "model_name": "DescriptionStyleModel",
      "state": {
       "_model_module": "@jupyter-widgets/controls",
       "_model_module_version": "1.5.0",
       "_model_name": "DescriptionStyleModel",
       "_view_count": null,
       "_view_module": "@jupyter-widgets/base",
       "_view_module_version": "1.2.0",
       "_view_name": "StyleView",
       "description_width": ""
      }
     },
     "6d98db30092d4e7285a4582845f38172": {
      "model_module": "@jupyter-widgets/controls",
      "model_module_version": "1.5.0",
      "model_name": "CheckboxModel",
      "state": {
       "_dom_classes": [
        "checkbox_"
       ],
       "_model_module": "@jupyter-widgets/controls",
       "_model_module_version": "1.5.0",
       "_model_name": "CheckboxModel",
       "_view_count": null,
       "_view_module": "@jupyter-widgets/controls",
       "_view_module_version": "1.5.0",
       "_view_name": "CheckboxView",
       "description": "",
       "description_tooltip": null,
       "disabled": true,
       "indent": true,
       "layout": "IPY_MODEL_bdef4bf3c7424855b736b0fa72c837ed",
       "style": "IPY_MODEL_93bd5e6004f7483f8839f87e17faa257",
       "value": false
      }
     },
     "6dd7cb64b2b84158b683f1bb1b9fe953": {
      "model_module": "@jupyter-widgets/controls",
      "model_module_version": "1.5.0",
      "model_name": "HTMLModel",
      "state": {
       "_dom_classes": [],
       "_model_module": "@jupyter-widgets/controls",
       "_model_module_version": "1.5.0",
       "_model_name": "HTMLModel",
       "_view_count": null,
       "_view_module": "@jupyter-widgets/controls",
       "_view_module_version": "1.5.0",
       "_view_name": "HTMLView",
       "description": "",
       "description_tooltip": null,
       "layout": "IPY_MODEL_2adb518af7044a69aad2c2de3ca0c421",
       "placeholder": "​",
       "style": "IPY_MODEL_345862dba8414c268ba6208c99a7fe39",
       "value": "<div style=\"font-size:medium; background-color:white;padding-left:2px;\">Transport</div>"
      }
     },
     "6de0faa5883c463fb4c6025deea40b0b": {
      "model_module": "@jupyter-widgets/controls",
      "model_module_version": "1.5.0",
      "model_name": "HTMLModel",
      "state": {
       "_dom_classes": [],
       "_model_module": "@jupyter-widgets/controls",
       "_model_module_version": "1.5.0",
       "_model_name": "HTMLModel",
       "_view_count": null,
       "_view_module": "@jupyter-widgets/controls",
       "_view_module_version": "1.5.0",
       "_view_name": "HTMLView",
       "description": "",
       "description_tooltip": null,
       "layout": "IPY_MODEL_2adb518af7044a69aad2c2de3ca0c421",
       "placeholder": "​",
       "style": "IPY_MODEL_c980a888345c4a7983ab5a81f8314ab7",
       "value": "<div style=\"font-size:medium; background-color:white;padding-left:2px;\">Buildings and Cities</div>"
      }
     },
     "6df922aa7a194075b06adf3a6b443cc6": {
      "model_module": "@jupyter-widgets/controls",
      "model_module_version": "1.5.0",
      "model_name": "HTMLModel",
      "state": {
       "_dom_classes": [],
       "_model_module": "@jupyter-widgets/controls",
       "_model_module_version": "1.5.0",
       "_model_name": "HTMLModel",
       "_view_count": null,
       "_view_module": "@jupyter-widgets/controls",
       "_view_module_version": "1.5.0",
       "_view_name": "HTMLView",
       "description": "",
       "description_tooltip": null,
       "layout": "IPY_MODEL_0fc6d0e36882466aaf8b89d9494bcb4b",
       "placeholder": "​",
       "style": "IPY_MODEL_e95fc86f0e3940fab401c512d26aaf43",
       "value": "<div style=\"font-size:medium; background-color:#ececec;padding-left:2px;\">Insulation</div>"
      }
     },
     "6e7f584766c04c1f94dea56379861ee6": {
      "model_module": "@jupyter-widgets/controls",
      "model_module_version": "1.5.0",
      "model_name": "DescriptionStyleModel",
      "state": {
       "_model_module": "@jupyter-widgets/controls",
       "_model_module_version": "1.5.0",
       "_model_name": "DescriptionStyleModel",
       "_view_count": null,
       "_view_module": "@jupyter-widgets/base",
       "_view_module_version": "1.2.0",
       "_view_name": "StyleView",
       "description_width": "0px"
      }
     },
     "6eaa40b3129944cda486dbb5f21acb06": {
      "model_module": "@jupyter-widgets/controls",
      "model_module_version": "1.5.0",
      "model_name": "HTMLModel",
      "state": {
       "_dom_classes": [],
       "_model_module": "@jupyter-widgets/controls",
       "_model_module_version": "1.5.0",
       "_model_name": "HTMLModel",
       "_view_count": null,
       "_view_module": "@jupyter-widgets/controls",
       "_view_module_version": "1.5.0",
       "_view_name": "HTMLView",
       "description": "",
       "description_tooltip": null,
       "layout": "IPY_MODEL_1a17608c7cf54c5293a88b93567107e5",
       "placeholder": "​",
       "style": "IPY_MODEL_399edda7bea24e8c8a6c2339bd1f34cd",
       "value": "<div style=\"font-size:medium; background-color:#ececec;padding-left:2px;\">6.08</div>"
      }
     },
     "6ee07c03ff77401e8f23e7f17cedbd83": {
      "model_module": "@jupyter-widgets/controls",
      "model_module_version": "1.5.0",
      "model_name": "CheckboxModel",
      "state": {
       "_dom_classes": [
        "checkbox_improvedcookstoves"
       ],
       "_model_module": "@jupyter-widgets/controls",
       "_model_module_version": "1.5.0",
       "_model_name": "CheckboxModel",
       "_view_count": null,
       "_view_module": "@jupyter-widgets/controls",
       "_view_module_version": "1.5.0",
       "_view_name": "CheckboxView",
       "description": "",
       "description_tooltip": null,
       "disabled": false,
       "indent": true,
       "layout": "IPY_MODEL_bdef4bf3c7424855b736b0fa72c837ed",
       "style": "IPY_MODEL_62baa9f01a5a47c280620f4d298bf752",
       "value": false
      }
     },
     "6efa730306ec43cc94317f50db9ba263": {
      "model_module": "@jupyter-widgets/controls",
      "model_module_version": "1.5.0",
      "model_name": "CheckboxModel",
      "state": {
       "_dom_classes": [
        "checkbox_trains"
       ],
       "_model_module": "@jupyter-widgets/controls",
       "_model_module_version": "1.5.0",
       "_model_name": "CheckboxModel",
       "_view_count": null,
       "_view_module": "@jupyter-widgets/controls",
       "_view_module_version": "1.5.0",
       "_view_name": "CheckboxView",
       "description": "",
       "description_tooltip": null,
       "disabled": false,
       "indent": true,
       "layout": "IPY_MODEL_bdef4bf3c7424855b736b0fa72c837ed",
       "style": "IPY_MODEL_a50699965118432d8f5b01c7598845af",
       "value": false
      }
     },
     "6f6f420dfac547f4920358b61925d43a": {
      "model_module": "@jupyter-widgets/controls",
      "model_module_version": "1.5.0",
      "model_name": "DescriptionStyleModel",
      "state": {
       "_model_module": "@jupyter-widgets/controls",
       "_model_module_version": "1.5.0",
       "_model_name": "DescriptionStyleModel",
       "_view_count": null,
       "_view_module": "@jupyter-widgets/base",
       "_view_module_version": "1.2.0",
       "_view_name": "StyleView",
       "description_width": ""
      }
     },
     "6fdfa01de6fb4f15a7d0234b4c3cd145": {
      "model_module": "@jupyter-widgets/controls",
      "model_module_version": "1.5.0",
      "model_name": "CheckboxModel",
      "state": {
       "_dom_classes": [
        "checkbox_biomass"
       ],
       "_model_module": "@jupyter-widgets/controls",
       "_model_module_version": "1.5.0",
       "_model_name": "CheckboxModel",
       "_view_count": null,
       "_view_module": "@jupyter-widgets/controls",
       "_view_module_version": "1.5.0",
       "_view_name": "CheckboxView",
       "description": "",
       "description_tooltip": null,
       "disabled": false,
       "indent": true,
       "layout": "IPY_MODEL_bdef4bf3c7424855b736b0fa72c837ed",
       "style": "IPY_MODEL_0b0a30e7628a42d8ac7b1d00943cfeff",
       "value": false
      }
     },
     "70047b587cb649a98077ea5b4f2386fd": {
      "model_module": "@jupyter-widgets/controls",
      "model_module_version": "1.5.0",
      "model_name": "DescriptionStyleModel",
      "state": {
       "_model_module": "@jupyter-widgets/controls",
       "_model_module_version": "1.5.0",
       "_model_name": "DescriptionStyleModel",
       "_view_count": null,
       "_view_module": "@jupyter-widgets/base",
       "_view_module_version": "1.2.0",
       "_view_name": "StyleView",
       "description_width": "0px"
      }
     },
     "700ed9f15eb34c668eeb8d2df783c45c": {
      "model_module": "@jupyter-widgets/controls",
      "model_module_version": "1.5.0",
      "model_name": "CheckboxModel",
      "state": {
       "_dom_classes": [
        "checkbox_electricbikes"
       ],
       "_model_module": "@jupyter-widgets/controls",
       "_model_module_version": "1.5.0",
       "_model_name": "CheckboxModel",
       "_view_count": null,
       "_view_module": "@jupyter-widgets/controls",
       "_view_module_version": "1.5.0",
       "_view_name": "CheckboxView",
       "description": "",
       "description_tooltip": null,
       "disabled": false,
       "indent": true,
       "layout": "IPY_MODEL_bdef4bf3c7424855b736b0fa72c837ed",
       "style": "IPY_MODEL_3249f864fb2140748c994e4f62e0c58e",
       "value": false
      }
     },
     "700f61adfc0f4b3b80998c5cb34ff481": {
      "model_module": "@jupyter-widgets/controls",
      "model_module_version": "1.5.0",
      "model_name": "DescriptionStyleModel",
      "state": {
       "_model_module": "@jupyter-widgets/controls",
       "_model_module_version": "1.5.0",
       "_model_name": "DescriptionStyleModel",
       "_view_count": null,
       "_view_module": "@jupyter-widgets/base",
       "_view_module_version": "1.2.0",
       "_view_name": "StyleView",
       "description_width": ""
      }
     },
     "7032954aeb44496697cb3b7b2b891f9a": {
      "model_module": "@jupyter-widgets/controls",
      "model_module_version": "1.5.0",
      "model_name": "DescriptionStyleModel",
      "state": {
       "_model_module": "@jupyter-widgets/controls",
       "_model_module_version": "1.5.0",
       "_model_name": "DescriptionStyleModel",
       "_view_count": null,
       "_view_module": "@jupyter-widgets/base",
       "_view_module_version": "1.2.0",
       "_view_name": "StyleView",
       "description_width": ""
      }
     },
     "704b2a5e9de94f5491faaaed41fcb7ce": {
      "model_module": "@jupyter-widgets/controls",
      "model_module_version": "1.5.0",
      "model_name": "HTMLModel",
      "state": {
       "_dom_classes": [],
       "_model_module": "@jupyter-widgets/controls",
       "_model_module_version": "1.5.0",
       "_model_name": "HTMLModel",
       "_view_count": null,
       "_view_module": "@jupyter-widgets/controls",
       "_view_module_version": "1.5.0",
       "_view_name": "HTMLView",
       "description": "",
       "description_tooltip": null,
       "layout": "IPY_MODEL_0fc6d0e36882466aaf8b89d9494bcb4b",
       "placeholder": "​",
       "style": "IPY_MODEL_6826083036b0432ca769f7dcbf892e8f",
       "value": "<div style=\"font-size:medium; background-color:white;padding-left:2px;\">Recycled Paper</div>"
      }
     },
     "7082cede489043a0b1498fc8d7c6bd42": {
      "model_module": "@jupyter-widgets/controls",
      "model_module_version": "1.5.0",
      "model_name": "HTMLModel",
      "state": {
       "_dom_classes": [],
       "_model_module": "@jupyter-widgets/controls",
       "_model_module_version": "1.5.0",
       "_model_name": "HTMLModel",
       "_view_count": null,
       "_view_module": "@jupyter-widgets/controls",
       "_view_module_version": "1.5.0",
       "_view_name": "HTMLView",
       "description": "",
       "description_tooltip": null,
       "layout": "IPY_MODEL_1a17608c7cf54c5293a88b93567107e5",
       "placeholder": "​",
       "style": "IPY_MODEL_8cfa9c31370440de90ed752be07d2b9c",
       "value": "<div style=\"font-size:medium; background-color:white;padding-left:2px;\">5.04</div>"
      }
     },
     "70de38a1c3e34ecd81f3b4e41ba35975": {
      "model_module": "@jupyter-widgets/controls",
      "model_module_version": "1.5.0",
      "model_name": "HTMLModel",
      "state": {
       "_dom_classes": [],
       "_model_module": "@jupyter-widgets/controls",
       "_model_module_version": "1.5.0",
       "_model_name": "HTMLModel",
       "_view_count": null,
       "_view_module": "@jupyter-widgets/controls",
       "_view_module_version": "1.5.0",
       "_view_name": "HTMLView",
       "description": "",
       "description_tooltip": null,
       "layout": "IPY_MODEL_2adb518af7044a69aad2c2de3ca0c421",
       "placeholder": "​",
       "style": "IPY_MODEL_fb926b529c474295a3360540ec684ffc",
       "value": "<div style=\"font-size:medium; background-color:white;padding-left:2px;\">Electricity Generation</div>"
      }
     },
     "71cb62280d944566851e6f61a7f4dca4": {
      "model_module": "@jupyter-widgets/controls",
      "model_module_version": "1.5.0",
      "model_name": "HTMLModel",
      "state": {
       "_dom_classes": [],
       "_model_module": "@jupyter-widgets/controls",
       "_model_module_version": "1.5.0",
       "_model_name": "HTMLModel",
       "_view_count": null,
       "_view_module": "@jupyter-widgets/controls",
       "_view_module_version": "1.5.0",
       "_view_name": "HTMLView",
       "description": "",
       "description_tooltip": null,
       "layout": "IPY_MODEL_2adb518af7044a69aad2c2de3ca0c421",
       "placeholder": "​",
       "style": "IPY_MODEL_4e00112b8c6343f2aeeaba67c141fe2f",
       "value": "<div style=\"font-size:medium; background-color:#ececec;padding-left:2px;\">Women and Girls</div>"
      }
     },
     "71d5b3667ed04acb82e6c85d7ec4f45e": {
      "model_module": "@jupyter-widgets/controls",
      "model_module_version": "1.5.0",
      "model_name": "ButtonModel",
      "state": {
       "_dom_classes": [],
       "_model_module": "@jupyter-widgets/controls",
       "_model_module_version": "1.5.0",
       "_model_name": "ButtonModel",
       "_view_count": null,
       "_view_module": "@jupyter-widgets/controls",
       "_view_module_version": "1.5.0",
       "_view_name": "ButtonView",
       "button_style": "",
       "description": "Abandon",
       "disabled": true,
       "icon": "",
       "layout": "IPY_MODEL_d0f1241ef55d4f6dbb8a503f3ebf9434",
       "style": "IPY_MODEL_dd597510d4cd44df8adf81dfa5453f6d",
       "tooltip": "Abandon current changes and reload from most recent save"
      }
     },
     "71e170a1cff647159157a0b651218526": {
      "model_module": "@jupyter-widgets/controls",
      "model_module_version": "1.5.0",
      "model_name": "HTMLModel",
      "state": {
       "_dom_classes": [],
       "_model_module": "@jupyter-widgets/controls",
       "_model_module_version": "1.5.0",
       "_model_name": "HTMLModel",
       "_view_count": null,
       "_view_module": "@jupyter-widgets/controls",
       "_view_module_version": "1.5.0",
       "_view_name": "HTMLView",
       "description": "",
       "description_tooltip": null,
       "layout": "IPY_MODEL_1a17608c7cf54c5293a88b93567107e5",
       "placeholder": "​",
       "style": "IPY_MODEL_1e940d2d2f3f441796329e892cf46161",
       "value": "<div style=\"font-size:medium; background-color:#ececec;padding-left:2px;\">0.87</div>"
      }
     },
     "72abd2865d5349249462fb2c96ca7dc4": {
      "model_module": "@jupyter-widgets/controls",
      "model_module_version": "1.5.0",
      "model_name": "HTMLModel",
      "state": {
       "_dom_classes": [],
       "_model_module": "@jupyter-widgets/controls",
       "_model_module_version": "1.5.0",
       "_model_name": "HTMLModel",
       "_view_count": null,
       "_view_module": "@jupyter-widgets/controls",
       "_view_module_version": "1.5.0",
       "_view_name": "HTMLView",
       "description": "",
       "description_tooltip": null,
       "layout": "IPY_MODEL_1a17608c7cf54c5293a88b93567107e5",
       "placeholder": "​",
       "style": "IPY_MODEL_ecefb843659944e39daac7aead13ef82",
       "value": "<div style=\"font-size:medium; background-color:#ececec;padding-left:2px;\">14.08</div>"
      }
     },
     "72c16c13b2364383b65c7845e30309aa": {
      "model_module": "@jupyter-widgets/controls",
      "model_module_version": "1.5.0",
      "model_name": "DescriptionStyleModel",
      "state": {
       "_model_module": "@jupyter-widgets/controls",
       "_model_module_version": "1.5.0",
       "_model_name": "DescriptionStyleModel",
       "_view_count": null,
       "_view_module": "@jupyter-widgets/base",
       "_view_module_version": "1.2.0",
       "_view_name": "StyleView",
       "description_width": ""
      }
     },
     "72d70edb835346e3ad4cb858938b31f6": {
      "model_module": "@jupyter-widgets/controls",
      "model_module_version": "1.5.0",
      "model_name": "DescriptionStyleModel",
      "state": {
       "_model_module": "@jupyter-widgets/controls",
       "_model_module_version": "1.5.0",
       "_model_name": "DescriptionStyleModel",
       "_view_count": null,
       "_view_module": "@jupyter-widgets/base",
       "_view_module_version": "1.2.0",
       "_view_name": "StyleView",
       "description_width": ""
      }
     },
     "7349235b81c24996b4ff3eb14d4033ac": {
      "model_module": "@jupyter-widgets/controls",
      "model_module_version": "1.5.0",
      "model_name": "HTMLModel",
      "state": {
       "_dom_classes": [],
       "_model_module": "@jupyter-widgets/controls",
       "_model_module_version": "1.5.0",
       "_model_name": "HTMLModel",
       "_view_count": null,
       "_view_module": "@jupyter-widgets/controls",
       "_view_module_version": "1.5.0",
       "_view_name": "HTMLView",
       "description": "",
       "description_tooltip": null,
       "layout": "IPY_MODEL_2adb518af7044a69aad2c2de3ca0c421",
       "placeholder": "​",
       "style": "IPY_MODEL_72c16c13b2364383b65c7845e30309aa",
       "value": "<div style=\"font-size:medium; background-color:#ececec;padding-left:2px;\">Food</div>"
      }
     },
     "734a0fc5612343729fe2fe5413755336": {
      "model_module": "@jupyter-widgets/controls",
      "model_module_version": "1.5.0",
      "model_name": "HTMLModel",
      "state": {
       "_dom_classes": [],
       "_model_module": "@jupyter-widgets/controls",
       "_model_module_version": "1.5.0",
       "_model_name": "HTMLModel",
       "_view_count": null,
       "_view_module": "@jupyter-widgets/controls",
       "_view_module_version": "1.5.0",
       "_view_name": "HTMLView",
       "description": "",
       "description_tooltip": null,
       "layout": "IPY_MODEL_2adb518af7044a69aad2c2de3ca0c421",
       "placeholder": "​",
       "style": "IPY_MODEL_cd0b8eafbeda4d8fbc3416087ec2b5f5",
       "value": "<div style=\"font-size:medium; background-color:#ececec;padding-left:2px;\">Food</div>"
      }
     },
     "73cbeb22496f4b68afddb104c3a3eb62": {
      "model_module": "@jupyter-widgets/controls",
      "model_module_version": "1.5.0",
      "model_name": "HTMLModel",
      "state": {
       "_dom_classes": [],
       "_model_module": "@jupyter-widgets/controls",
       "_model_module_version": "1.5.0",
       "_model_name": "HTMLModel",
       "_view_count": null,
       "_view_module": "@jupyter-widgets/controls",
       "_view_module_version": "1.5.0",
       "_view_name": "HTMLView",
       "description": "",
       "description_tooltip": null,
       "layout": "IPY_MODEL_1a17608c7cf54c5293a88b93567107e5",
       "placeholder": "​",
       "style": "IPY_MODEL_d271098a67664ecc9b6dd70c304f0ffc",
       "value": "<div style=\"font-size:medium; background-color:#ececec;padding-left:2px;\">21.57</div>"
      }
     },
     "73dc3b27bb634a42b3098cd4ba81e931": {
      "buffers": [
       {
        "data": "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",
        "encoding": "base64",
        "path": [
         "value"
        ]
       }
      ],
      "model_module": "@jupyter-widgets/controls",
      "model_module_version": "1.5.0",
      "model_name": "ImageModel",
      "state": {
       "_dom_classes": [],
       "_model_module": "@jupyter-widgets/controls",
       "_model_module_version": "1.5.0",
       "_model_name": "ImageModel",
       "_view_count": null,
       "_view_module": "@jupyter-widgets/controls",
       "_view_module_version": "1.5.0",
       "_view_name": "ImageView",
       "format": "gif",
       "height": "19",
       "layout": "IPY_MODEL_4a65242d0a32499f8741022078d84e0b",
       "width": "220"
      }
     },
     "74385998880b4b98b8591c8b9bf379a2": {
      "model_module": "@jupyter-widgets/controls",
      "model_module_version": "1.5.0",
      "model_name": "HTMLModel",
      "state": {
       "_dom_classes": [],
       "_model_module": "@jupyter-widgets/controls",
       "_model_module_version": "1.5.0",
       "_model_name": "HTMLModel",
       "_view_count": null,
       "_view_module": "@jupyter-widgets/controls",
       "_view_module_version": "1.5.0",
       "_view_name": "HTMLView",
       "description": "",
       "description_tooltip": null,
       "layout": "IPY_MODEL_0fc6d0e36882466aaf8b89d9494bcb4b",
       "placeholder": "​",
       "style": "IPY_MODEL_efcc3d7aa1bc427da19ace849cfb429b",
       "value": "<div style=\"font-size:medium; background-color:white;padding-left:2px;\">Water Saving - Home</div>"
      }
     },
     "744a7b83e58648a885db22a89c959d56": {
      "model_module": "@jupyter-widgets/controls",
      "model_module_version": "1.5.0",
      "model_name": "HTMLModel",
      "state": {
       "_dom_classes": [],
       "_model_module": "@jupyter-widgets/controls",
       "_model_module_version": "1.5.0",
       "_model_name": "HTMLModel",
       "_view_count": null,
       "_view_module": "@jupyter-widgets/controls",
       "_view_module_version": "1.5.0",
       "_view_name": "HTMLView",
       "description": "",
       "description_tooltip": null,
       "layout": "IPY_MODEL_0fc6d0e36882466aaf8b89d9494bcb4b",
       "placeholder": "​",
       "style": "IPY_MODEL_2133fd12cfe84dc59cc3ab13c5b1bc44",
       "value": "<div style=\"font-size:medium; background-color:white;padding-left:2px;\">Perennial Biomass</div>"
      }
     },
     "74acd58820b44da28279d4e48f7f28b5": {
      "model_module": "@jupyter-widgets/controls",
      "model_module_version": "1.5.0",
      "model_name": "DescriptionStyleModel",
      "state": {
       "_model_module": "@jupyter-widgets/controls",
       "_model_module_version": "1.5.0",
       "_model_name": "DescriptionStyleModel",
       "_view_count": null,
       "_view_module": "@jupyter-widgets/base",
       "_view_module_version": "1.2.0",
       "_view_name": "StyleView",
       "description_width": ""
      }
     },
     "75064cdac9a74377961332471cddb9cd": {
      "model_module": "@jupyter-widgets/controls",
      "model_module_version": "1.5.0",
      "model_name": "DescriptionStyleModel",
      "state": {
       "_model_module": "@jupyter-widgets/controls",
       "_model_module_version": "1.5.0",
       "_model_name": "DescriptionStyleModel",
       "_view_count": null,
       "_view_module": "@jupyter-widgets/base",
       "_view_module_version": "1.2.0",
       "_view_name": "StyleView",
       "description_width": ""
      }
     },
     "750fda2d3d684727a59cc775ce672728": {
      "model_module": "@jupyter-widgets/base",
      "model_module_version": "1.2.0",
      "model_name": "LayoutModel",
      "state": {
       "_model_module": "@jupyter-widgets/base",
       "_model_module_version": "1.2.0",
       "_model_name": "LayoutModel",
       "_view_count": null,
       "_view_module": "@jupyter-widgets/base",
       "_view_module_version": "1.2.0",
       "_view_name": "LayoutView",
       "align_content": null,
       "align_items": null,
       "align_self": null,
       "border": null,
       "bottom": null,
       "display": null,
       "flex": null,
       "flex_flow": null,
       "grid_area": null,
       "grid_auto_columns": null,
       "grid_auto_flow": null,
       "grid_auto_rows": null,
       "grid_column": null,
       "grid_gap": null,
       "grid_row": null,
       "grid_template_areas": null,
       "grid_template_columns": null,
       "grid_template_rows": null,
       "height": null,
       "justify_content": null,
       "justify_items": null,
       "left": null,
       "margin": null,
       "max_height": null,
       "max_width": null,
       "min_height": null,
       "min_width": null,
       "object_fit": null,
       "object_position": null,
       "order": null,
       "overflow": null,
       "overflow_x": null,
       "overflow_y": null,
       "padding": null,
       "right": null,
       "top": null,
       "visibility": null,
       "width": null
      }
     },
     "754cc07fc8454e459c92fdf36e0e24ec": {
      "model_module": "@jupyter-widgets/controls",
      "model_module_version": "1.5.0",
      "model_name": "DescriptionStyleModel",
      "state": {
       "_model_module": "@jupyter-widgets/controls",
       "_model_module_version": "1.5.0",
       "_model_name": "DescriptionStyleModel",
       "_view_count": null,
       "_view_module": "@jupyter-widgets/base",
       "_view_module_version": "1.2.0",
       "_view_name": "StyleView",
       "description_width": ""
      }
     },
     "759a6c5777064b38afdeb182f1bb0177": {
      "model_module": "@jupyter-widgets/controls",
      "model_module_version": "1.5.0",
      "model_name": "HTMLModel",
      "state": {
       "_dom_classes": [],
       "_model_module": "@jupyter-widgets/controls",
       "_model_module_version": "1.5.0",
       "_model_name": "HTMLModel",
       "_view_count": null,
       "_view_module": "@jupyter-widgets/controls",
       "_view_module_version": "1.5.0",
       "_view_name": "HTMLView",
       "description": "",
       "description_tooltip": null,
       "layout": "IPY_MODEL_1a17608c7cf54c5293a88b93567107e5",
       "placeholder": "​",
       "style": "IPY_MODEL_e96d8a47f3fd4030b01f2271bdb2a0f7",
       "value": "<div style=\"font-size:medium; background-color:white;padding-left:2px;\">10.80</div>"
      }
     },
     "75a8968cd57941a7a1dc1dbddff206c2": {
      "model_module": "@jupyter-widgets/controls",
      "model_module_version": "1.5.0",
      "model_name": "HTMLModel",
      "state": {
       "_dom_classes": [],
       "_model_module": "@jupyter-widgets/controls",
       "_model_module_version": "1.5.0",
       "_model_name": "HTMLModel",
       "_view_count": null,
       "_view_module": "@jupyter-widgets/controls",
       "_view_module_version": "1.5.0",
       "_view_name": "HTMLView",
       "description": "",
       "description_tooltip": null,
       "layout": "IPY_MODEL_0fc6d0e36882466aaf8b89d9494bcb4b",
       "placeholder": "​",
       "style": "IPY_MODEL_ede4be9854e04332a52d45ee230012ae",
       "value": "<div style=\"font-size:medium; background-color:#ececec;padding-left:2px;\">Smart Thermostats</div>"
      }
     },
     "75d6f2654d724999bb69487c54941b90": {
      "model_module": "@jupyter-widgets/controls",
      "model_module_version": "1.5.0",
      "model_name": "HBoxModel",
      "state": {
       "_dom_classes": [],
       "_model_module": "@jupyter-widgets/controls",
       "_model_module_version": "1.5.0",
       "_model_name": "HBoxModel",
       "_view_count": null,
       "_view_module": "@jupyter-widgets/controls",
       "_view_module_version": "1.5.0",
       "_view_name": "HBoxView",
       "box_style": "",
       "children": [
        "IPY_MODEL_4435715f3f5c4ffca2b8ece9613e1e2b",
        "IPY_MODEL_65b96bd562b94766abe8e60e744d227c",
        "IPY_MODEL_61201ee10d5d48ef9c9d14680c55a790",
        "IPY_MODEL_ce060569c1c6427c803d150fb28a7a62"
       ],
       "layout": "IPY_MODEL_804c51697f2b4229a0f02be6b85b1659"
      }
     },
     "760512db6aca4b7ca9061ba0523e7b72": {
      "model_module": "@jupyter-widgets/controls",
      "model_module_version": "1.5.0",
      "model_name": "HBoxModel",
      "state": {
       "_dom_classes": [],
       "_model_module": "@jupyter-widgets/controls",
       "_model_module_version": "1.5.0",
       "_model_name": "HBoxModel",
       "_view_count": null,
       "_view_module": "@jupyter-widgets/controls",
       "_view_module_version": "1.5.0",
       "_view_name": "HBoxView",
       "box_style": "",
       "children": [
        "IPY_MODEL_a35cf04c2dc34c0eafff855acfdb764b",
        "IPY_MODEL_658dfdd609bc42228cba410fae407f85",
        "IPY_MODEL_0f9d25476a124f2f8a550a3a7fef792c",
        "IPY_MODEL_d5d0c4569bbd43c39d7071b57eb81582"
       ],
       "layout": "IPY_MODEL_804c51697f2b4229a0f02be6b85b1659"
      }
     },
     "76f237d8ecae4843b175dcc0b1922dd0": {
      "model_module": "@jupyter-widgets/controls",
      "model_module_version": "1.5.0",
      "model_name": "HBoxModel",
      "state": {
       "_dom_classes": [],
       "_model_module": "@jupyter-widgets/controls",
       "_model_module_version": "1.5.0",
       "_model_name": "HBoxModel",
       "_view_count": null,
       "_view_module": "@jupyter-widgets/controls",
       "_view_module_version": "1.5.0",
       "_view_name": "HBoxView",
       "box_style": "",
       "children": [
        "IPY_MODEL_45787854eed945eca94c94a1928196a1",
        "IPY_MODEL_105c1203ebdc48c588fe367806ce6742",
        "IPY_MODEL_86f720ab871a4ed688be02002f6e25a5",
        "IPY_MODEL_f041e6b8a9a64b93a171ba9a4e7bd025"
       ],
       "layout": "IPY_MODEL_804c51697f2b4229a0f02be6b85b1659"
      }
     },
     "76f78325342b4a579f958a082c1286f4": {
      "model_module": "@jupyter-widgets/controls",
      "model_module_version": "1.5.0",
      "model_name": "DescriptionStyleModel",
      "state": {
       "_model_module": "@jupyter-widgets/controls",
       "_model_module_version": "1.5.0",
       "_model_name": "DescriptionStyleModel",
       "_view_count": null,
       "_view_module": "@jupyter-widgets/base",
       "_view_module_version": "1.2.0",
       "_view_name": "StyleView",
       "description_width": ""
      }
     },
     "7761640e253944a4a49bf72569a8f3ea": {
      "model_module": "@jupyter-widgets/controls",
      "model_module_version": "1.5.0",
      "model_name": "DescriptionStyleModel",
      "state": {
       "_model_module": "@jupyter-widgets/controls",
       "_model_module_version": "1.5.0",
       "_model_name": "DescriptionStyleModel",
       "_view_count": null,
       "_view_module": "@jupyter-widgets/base",
       "_view_module_version": "1.2.0",
       "_view_name": "StyleView",
       "description_width": ""
      }
     },
     "786eead875fd48b58c5b36fc38cb8326": {
      "model_module": "@jupyter-widgets/controls",
      "model_module_version": "1.5.0",
      "model_name": "HTMLModel",
      "state": {
       "_dom_classes": [],
       "_model_module": "@jupyter-widgets/controls",
       "_model_module_version": "1.5.0",
       "_model_name": "HTMLModel",
       "_view_count": null,
       "_view_module": "@jupyter-widgets/controls",
       "_view_module_version": "1.5.0",
       "_view_name": "HTMLView",
       "description": "",
       "description_tooltip": null,
       "layout": "IPY_MODEL_0fc6d0e36882466aaf8b89d9494bcb4b",
       "placeholder": "​",
       "style": "IPY_MODEL_56fec7475a5643ae95d1cca72cb05eb3",
       "value": "<div style=\"font-size:medium; background-color:white;padding-left:2px;\">Family Planning</div>"
      }
     },
     "789a044f8d3c4ecab0297918cb525011": {
      "model_module": "@jupyter-widgets/controls",
      "model_module_version": "1.5.0",
      "model_name": "HTMLModel",
      "state": {
       "_dom_classes": [],
       "_model_module": "@jupyter-widgets/controls",
       "_model_module_version": "1.5.0",
       "_model_name": "HTMLModel",
       "_view_count": null,
       "_view_module": "@jupyter-widgets/controls",
       "_view_module_version": "1.5.0",
       "_view_name": "HTMLView",
       "description": "",
       "description_tooltip": null,
       "layout": "IPY_MODEL_2adb518af7044a69aad2c2de3ca0c421",
       "placeholder": "​",
       "style": "IPY_MODEL_62e70aabd0434c26a748e2ea23b3011b",
       "value": "<div style=\"font-size:medium; background-color:#ececec;padding-left:2px;\">Food</div>"
      }
     },
     "7b2de6b5ea064419aa99c49a6d09e5d5": {
      "model_module": "@jupyter-widgets/controls",
      "model_module_version": "1.5.0",
      "model_name": "DescriptionStyleModel",
      "state": {
       "_model_module": "@jupyter-widgets/controls",
       "_model_module_version": "1.5.0",
       "_model_name": "DescriptionStyleModel",
       "_view_count": null,
       "_view_module": "@jupyter-widgets/base",
       "_view_module_version": "1.2.0",
       "_view_name": "StyleView",
       "description_width": ""
      }
     },
     "7b2fb5846f6441f487a1289eed8c71f8": {
      "model_module": "@jupyter-widgets/controls",
      "model_module_version": "1.5.0",
      "model_name": "HTMLModel",
      "state": {
       "_dom_classes": [],
       "_model_module": "@jupyter-widgets/controls",
       "_model_module_version": "1.5.0",
       "_model_name": "HTMLModel",
       "_view_count": null,
       "_view_module": "@jupyter-widgets/controls",
       "_view_module_version": "1.5.0",
       "_view_name": "HTMLView",
       "description": "",
       "description_tooltip": null,
       "layout": "IPY_MODEL_0fc6d0e36882466aaf8b89d9494bcb4b",
       "placeholder": "​",
       "style": "IPY_MODEL_34adf10033b249b0b20f2ce300f1bdf4",
       "value": "<div style=\"font-size:medium; background-color:#ececec;padding-left:2px;\">Cogeneration</div>"
      }
     },
     "7b3719fb4d144a3aaf320d3c6f090d90": {
      "model_module": "@jupyter-widgets/controls",
      "model_module_version": "1.5.0",
      "model_name": "HTMLModel",
      "state": {
       "_dom_classes": [],
       "_model_module": "@jupyter-widgets/controls",
       "_model_module_version": "1.5.0",
       "_model_name": "HTMLModel",
       "_view_count": null,
       "_view_module": "@jupyter-widgets/controls",
       "_view_module_version": "1.5.0",
       "_view_name": "HTMLView",
       "description": "",
       "description_tooltip": null,
       "layout": "IPY_MODEL_0fc6d0e36882466aaf8b89d9494bcb4b",
       "placeholder": "​",
       "style": "IPY_MODEL_cf37229d4356496fbef5ba458981bc74",
       "value": "<div style=\"font-size:medium; background-color:#ececec;padding-left:2px;\">Trucks</div>"
      }
     },
     "7b461b9e9ded46238cf8c31bc2bb47cb": {
      "model_module": "@jupyter-widgets/controls",
      "model_module_version": "1.5.0",
      "model_name": "HBoxModel",
      "state": {
       "_dom_classes": [],
       "_model_module": "@jupyter-widgets/controls",
       "_model_module_version": "1.5.0",
       "_model_name": "HBoxModel",
       "_view_count": null,
       "_view_module": "@jupyter-widgets/controls",
       "_view_module_version": "1.5.0",
       "_view_name": "HBoxView",
       "box_style": "",
       "children": [
        "IPY_MODEL_83f6b52f4c65439ea174083402933df5",
        "IPY_MODEL_9a6c04c20ea04203bfc049052d03c478",
        "IPY_MODEL_54337cfd3d90429c99a184c2e62f22db",
        "IPY_MODEL_f15a0fbfe815472aa4f1ae0df47d3e6d"
       ],
       "layout": "IPY_MODEL_804c51697f2b4229a0f02be6b85b1659"
      }
     },
     "7b780150de494ec99c6df7f8659c3781": {
      "model_module": "@jupyter-widgets/controls",
      "model_module_version": "1.5.0",
      "model_name": "DescriptionStyleModel",
      "state": {
       "_model_module": "@jupyter-widgets/controls",
       "_model_module_version": "1.5.0",
       "_model_name": "DescriptionStyleModel",
       "_view_count": null,
       "_view_module": "@jupyter-widgets/base",
       "_view_module_version": "1.2.0",
       "_view_name": "StyleView",
       "description_width": ""
      }
     },
     "7c2c5d4f8602499b920e1da5869cb384": {
      "model_module": "@jupyter-widgets/controls",
      "model_module_version": "1.5.0",
      "model_name": "HTMLModel",
      "state": {
       "_dom_classes": [],
       "_model_module": "@jupyter-widgets/controls",
       "_model_module_version": "1.5.0",
       "_model_name": "HTMLModel",
       "_view_count": null,
       "_view_module": "@jupyter-widgets/controls",
       "_view_module_version": "1.5.0",
       "_view_name": "HTMLView",
       "description": "",
       "description_tooltip": null,
       "layout": "IPY_MODEL_0fc6d0e36882466aaf8b89d9494bcb4b",
       "placeholder": "​",
       "style": "IPY_MODEL_d5c3f90ecab547c0ae40ef17ad250a3a",
       "value": "<div style=\"font-size:medium; background-color:white;padding-left:2px;\">Micro Wind</div>"
      }
     },
     "7c8609fc6d0d41f1a43349bc5fcaecb6": {
      "model_module": "@jupyter-widgets/controls",
      "model_module_version": "1.5.0",
      "model_name": "DescriptionStyleModel",
      "state": {
       "_model_module": "@jupyter-widgets/controls",
       "_model_module_version": "1.5.0",
       "_model_name": "DescriptionStyleModel",
       "_view_count": null,
       "_view_module": "@jupyter-widgets/base",
       "_view_module_version": "1.2.0",
       "_view_name": "StyleView",
       "description_width": ""
      }
     },
     "7ca0f1159817419a9b3d9d68dae43248": {
      "model_module": "@jupyter-widgets/controls",
      "model_module_version": "1.5.0",
      "model_name": "DescriptionStyleModel",
      "state": {
       "_model_module": "@jupyter-widgets/controls",
       "_model_module_version": "1.5.0",
       "_model_name": "DescriptionStyleModel",
       "_view_count": null,
       "_view_module": "@jupyter-widgets/base",
       "_view_module_version": "1.2.0",
       "_view_name": "StyleView",
       "description_width": ""
      }
     },
     "7cee799b52374ac4a60047a1ed8ae1ba": {
      "model_module": "@jupyter-widgets/controls",
      "model_module_version": "1.5.0",
      "model_name": "HTMLModel",
      "state": {
       "_dom_classes": [],
       "_model_module": "@jupyter-widgets/controls",
       "_model_module_version": "1.5.0",
       "_model_name": "HTMLModel",
       "_view_count": null,
       "_view_module": "@jupyter-widgets/controls",
       "_view_module_version": "1.5.0",
       "_view_name": "HTMLView",
       "description": "",
       "description_tooltip": null,
       "layout": "IPY_MODEL_1a17608c7cf54c5293a88b93567107e5",
       "placeholder": "​",
       "style": "IPY_MODEL_3c35bb4563d548259bc658693dbe3eaa",
       "value": "<div style=\"font-size:medium; background-color:white;padding-left:2px;\">36.90</div>"
      }
     },
     "7d124a55d4024ce089612c1e59839c4e": {
      "model_module": "@jupyter-widgets/controls",
      "model_module_version": "1.5.0",
      "model_name": "DescriptionStyleModel",
      "state": {
       "_model_module": "@jupyter-widgets/controls",
       "_model_module_version": "1.5.0",
       "_model_name": "DescriptionStyleModel",
       "_view_count": null,
       "_view_module": "@jupyter-widgets/base",
       "_view_module_version": "1.2.0",
       "_view_name": "StyleView",
       "description_width": ""
      }
     },
     "7d552dc98e2f4cf2ab600e77661d716a": {
      "model_module": "@jupyter-widgets/controls",
      "model_module_version": "1.5.0",
      "model_name": "CheckboxModel",
      "state": {
       "_dom_classes": [
        "checkbox_refrigerants"
       ],
       "_model_module": "@jupyter-widgets/controls",
       "_model_module_version": "1.5.0",
       "_model_name": "CheckboxModel",
       "_view_count": null,
       "_view_module": "@jupyter-widgets/controls",
       "_view_module_version": "1.5.0",
       "_view_name": "CheckboxView",
       "description": "",
       "description_tooltip": null,
       "disabled": false,
       "indent": true,
       "layout": "IPY_MODEL_bdef4bf3c7424855b736b0fa72c837ed",
       "style": "IPY_MODEL_fb1fe04eb6d04b5e8d148155ff273e13",
       "value": false
      }
     },
     "7d61d2a8314140ffb401e6f76694eb45": {
      "model_module": "@jupyter-widgets/controls",
      "model_module_version": "1.5.0",
      "model_name": "HTMLModel",
      "state": {
       "_dom_classes": [],
       "_model_module": "@jupyter-widgets/controls",
       "_model_module_version": "1.5.0",
       "_model_name": "HTMLModel",
       "_view_count": null,
       "_view_module": "@jupyter-widgets/controls",
       "_view_module_version": "1.5.0",
       "_view_name": "HTMLView",
       "description": "",
       "description_tooltip": null,
       "layout": "IPY_MODEL_2adb518af7044a69aad2c2de3ca0c421",
       "placeholder": "​",
       "style": "IPY_MODEL_19badc0e61dd4f5a920b813fd7405327",
       "value": "<div style=\"font-size:large;background-color:white;padding-left:2px;font-weight:bold;\">Sector</div>"
      }
     },
     "7d98111aa3f642e296b76ad996935daf": {
      "model_module": "@jupyter-widgets/controls",
      "model_module_version": "1.5.0",
      "model_name": "HTMLModel",
      "state": {
       "_dom_classes": [],
       "_model_module": "@jupyter-widgets/controls",
       "_model_module_version": "1.5.0",
       "_model_name": "HTMLModel",
       "_view_count": null,
       "_view_module": "@jupyter-widgets/controls",
       "_view_module_version": "1.5.0",
       "_view_name": "HTMLView",
       "description": "",
       "description_tooltip": null,
       "layout": "IPY_MODEL_2adb518af7044a69aad2c2de3ca0c421",
       "placeholder": "​",
       "style": "IPY_MODEL_be754395e16943d9b7c4429eb26261a1",
       "value": "<div style=\"font-size:medium; background-color:#ececec;padding-left:2px;\">Buildings and Cities</div>"
      }
     },
     "7da3f1aa0b7e416ebc81275d098b3624": {
      "model_module": "@jupyter-widgets/controls",
      "model_module_version": "1.5.0",
      "model_name": "HTMLModel",
      "state": {
       "_dom_classes": [],
       "_model_module": "@jupyter-widgets/controls",
       "_model_module_version": "1.5.0",
       "_model_name": "HTMLModel",
       "_view_count": null,
       "_view_module": "@jupyter-widgets/controls",
       "_view_module_version": "1.5.0",
       "_view_name": "HTMLView",
       "description": "",
       "description_tooltip": null,
       "layout": "IPY_MODEL_2adb518af7044a69aad2c2de3ca0c421",
       "placeholder": "​",
       "style": "IPY_MODEL_686b265ea859425484490efb992050ec",
       "value": "<div style=\"font-size:medium; background-color:white;padding-left:2px;\">Buildings and Cities</div>"
      }
     },
     "7dcfb088e96b45d18ffff38e9ae00faa": {
      "model_module": "@jupyter-widgets/controls",
      "model_module_version": "1.5.0",
      "model_name": "HBoxModel",
      "state": {
       "_dom_classes": [],
       "_model_module": "@jupyter-widgets/controls",
       "_model_module_version": "1.5.0",
       "_model_name": "HBoxModel",
       "_view_count": null,
       "_view_module": "@jupyter-widgets/controls",
       "_view_module_version": "1.5.0",
       "_view_name": "HBoxView",
       "box_style": "",
       "children": [
        "IPY_MODEL_dd7747c5361845cab0974645c7ba4431",
        "IPY_MODEL_b81d889671f1418c9b167cdd6a9c4494",
        "IPY_MODEL_c26b1d9fc2a54200b44b9c6e1390abe8",
        "IPY_MODEL_3ca9f1e6b7834ccfacef55bb183c0591"
       ],
       "layout": "IPY_MODEL_804c51697f2b4229a0f02be6b85b1659"
      }
     },
     "7e2836a6a763423ab2cf737c6650a597": {
      "model_module": "@jupyter-widgets/controls",
      "model_module_version": "1.5.0",
      "model_name": "DescriptionStyleModel",
      "state": {
       "_model_module": "@jupyter-widgets/controls",
       "_model_module_version": "1.5.0",
       "_model_name": "DescriptionStyleModel",
       "_view_count": null,
       "_view_module": "@jupyter-widgets/base",
       "_view_module_version": "1.2.0",
       "_view_name": "StyleView",
       "description_width": "0px"
      }
     },
     "7e7328947b2c491987f275c7c3cc781d": {
      "model_module": "@jupyter-widgets/base",
      "model_module_version": "1.2.0",
      "model_name": "LayoutModel",
      "state": {
       "_model_module": "@jupyter-widgets/base",
       "_model_module_version": "1.2.0",
       "_model_name": "LayoutModel",
       "_view_count": null,
       "_view_module": "@jupyter-widgets/base",
       "_view_module_version": "1.2.0",
       "_view_name": "LayoutView",
       "align_content": null,
       "align_items": null,
       "align_self": null,
       "border": null,
       "bottom": null,
       "display": null,
       "flex": null,
       "flex_flow": null,
       "grid_area": null,
       "grid_auto_columns": null,
       "grid_auto_flow": null,
       "grid_auto_rows": null,
       "grid_column": null,
       "grid_gap": null,
       "grid_row": null,
       "grid_template_areas": null,
       "grid_template_columns": null,
       "grid_template_rows": null,
       "height": null,
       "justify_content": null,
       "justify_items": null,
       "left": null,
       "margin": null,
       "max_height": null,
       "max_width": null,
       "min_height": null,
       "min_width": null,
       "object_fit": null,
       "object_position": null,
       "order": null,
       "overflow": null,
       "overflow_x": null,
       "overflow_y": null,
       "padding": null,
       "right": null,
       "top": null,
       "visibility": null,
       "width": null
      }
     },
     "7e840af4d0aa4b66a3925b41937688e5": {
      "model_module": "@jupyter-widgets/controls",
      "model_module_version": "1.5.0",
      "model_name": "HBoxModel",
      "state": {
       "_dom_classes": [],
       "_model_module": "@jupyter-widgets/controls",
       "_model_module_version": "1.5.0",
       "_model_name": "HBoxModel",
       "_view_count": null,
       "_view_module": "@jupyter-widgets/controls",
       "_view_module_version": "1.5.0",
       "_view_name": "HBoxView",
       "box_style": "",
       "children": [
        "IPY_MODEL_bd30965fd38d49c58269e23d2e91fbdc",
        "IPY_MODEL_f126bff6c73f47e7aadf88470b7d7d32",
        "IPY_MODEL_73cbeb22496f4b68afddb104c3a3eb62",
        "IPY_MODEL_47c12af5663349df8649d404973d0919"
       ],
       "layout": "IPY_MODEL_804c51697f2b4229a0f02be6b85b1659"
      }
     },
     "7edc3a6a35684eb084a5ac33d2fa04c8": {
      "model_module": "@jupyter-widgets/controls",
      "model_module_version": "1.5.0",
      "model_name": "DescriptionStyleModel",
      "state": {
       "_model_module": "@jupyter-widgets/controls",
       "_model_module_version": "1.5.0",
       "_model_name": "DescriptionStyleModel",
       "_view_count": null,
       "_view_module": "@jupyter-widgets/base",
       "_view_module_version": "1.2.0",
       "_view_name": "StyleView",
       "description_width": ""
      }
     },
     "7f1add8579b644b593a15c39fefadd0c": {
      "model_module": "@jupyter-widgets/controls",
      "model_module_version": "1.5.0",
      "model_name": "CheckboxModel",
      "state": {
       "_dom_classes": [
        "checkbox_geothermal"
       ],
       "_model_module": "@jupyter-widgets/controls",
       "_model_module_version": "1.5.0",
       "_model_name": "CheckboxModel",
       "_view_count": null,
       "_view_module": "@jupyter-widgets/controls",
       "_view_module_version": "1.5.0",
       "_view_name": "CheckboxView",
       "description": "",
       "description_tooltip": null,
       "disabled": false,
       "indent": true,
       "layout": "IPY_MODEL_bdef4bf3c7424855b736b0fa72c837ed",
       "style": "IPY_MODEL_3e83365bd2394dec8de9e3e1c77ac0fb",
       "value": false
      }
     },
     "7fe170e09136403f9b9f944d09146b36": {
      "model_module": "@jupyter-widgets/controls",
      "model_module_version": "1.5.0",
      "model_name": "DescriptionStyleModel",
      "state": {
       "_model_module": "@jupyter-widgets/controls",
       "_model_module_version": "1.5.0",
       "_model_name": "DescriptionStyleModel",
       "_view_count": null,
       "_view_module": "@jupyter-widgets/base",
       "_view_module_version": "1.2.0",
       "_view_name": "StyleView",
       "description_width": "0px"
      }
     },
     "7fe652e6cb454200af02b309518a27ed": {
      "model_module": "@jupyter-widgets/controls",
      "model_module_version": "1.5.0",
      "model_name": "DescriptionStyleModel",
      "state": {
       "_model_module": "@jupyter-widgets/controls",
       "_model_module_version": "1.5.0",
       "_model_name": "DescriptionStyleModel",
       "_view_count": null,
       "_view_module": "@jupyter-widgets/base",
       "_view_module_version": "1.2.0",
       "_view_name": "StyleView",
       "description_width": ""
      }
     },
     "7fe9103993af4cda9fcecf1d5aa94575": {
      "model_module": "@jupyter-widgets/controls",
      "model_module_version": "1.5.0",
      "model_name": "HBoxModel",
      "state": {
       "_dom_classes": [],
       "_model_module": "@jupyter-widgets/controls",
       "_model_module_version": "1.5.0",
       "_model_name": "HBoxModel",
       "_view_count": null,
       "_view_module": "@jupyter-widgets/controls",
       "_view_module_version": "1.5.0",
       "_view_name": "HBoxView",
       "box_style": "",
       "children": [
        "IPY_MODEL_139a1cd8ee2f4940aecb36c474a6b31b",
        "IPY_MODEL_1f3475eb37fe47ccb404119a278b1eec",
        "IPY_MODEL_8c3b1c703a564883b46b2cbc9c990bca",
        "IPY_MODEL_fcc92f93242b408f9a77f72eac249331"
       ],
       "layout": "IPY_MODEL_804c51697f2b4229a0f02be6b85b1659"
      }
     },
     "8042f682be324ee0a9c4cc983a06c957": {
      "model_module": "@jupyter-widgets/controls",
      "model_module_version": "1.5.0",
      "model_name": "DescriptionStyleModel",
      "state": {
       "_model_module": "@jupyter-widgets/controls",
       "_model_module_version": "1.5.0",
       "_model_name": "DescriptionStyleModel",
       "_view_count": null,
       "_view_module": "@jupyter-widgets/base",
       "_view_module_version": "1.2.0",
       "_view_name": "StyleView",
       "description_width": "0px"
      }
     },
     "804c51697f2b4229a0f02be6b85b1659": {
      "model_module": "@jupyter-widgets/base",
      "model_module_version": "1.2.0",
      "model_name": "LayoutModel",
      "state": {
       "_model_module": "@jupyter-widgets/base",
       "_model_module_version": "1.2.0",
       "_model_name": "LayoutModel",
       "_view_count": null,
       "_view_module": "@jupyter-widgets/base",
       "_view_module_version": "1.2.0",
       "_view_name": "LayoutView",
       "align_content": null,
       "align_items": "stretch",
       "align_self": null,
       "border": null,
       "bottom": null,
       "display": "flex",
       "flex": null,
       "flex_flow": "row",
       "grid_area": null,
       "grid_auto_columns": null,
       "grid_auto_flow": null,
       "grid_auto_rows": null,
       "grid_column": null,
       "grid_gap": null,
       "grid_row": null,
       "grid_template_areas": null,
       "grid_template_columns": null,
       "grid_template_rows": null,
       "height": null,
       "justify_content": null,
       "justify_items": null,
       "left": null,
       "margin": null,
       "max_height": null,
       "max_width": null,
       "min_height": null,
       "min_width": null,
       "object_fit": null,
       "object_position": null,
       "order": null,
       "overflow": null,
       "overflow_x": null,
       "overflow_y": null,
       "padding": null,
       "right": null,
       "top": null,
       "visibility": null,
       "width": "100%"
      }
     },
     "8082cf43342b4428bd95ec33fc1145c6": {
      "model_module": "@jupyter-widgets/controls",
      "model_module_version": "1.5.0",
      "model_name": "DescriptionStyleModel",
      "state": {
       "_model_module": "@jupyter-widgets/controls",
       "_model_module_version": "1.5.0",
       "_model_name": "DescriptionStyleModel",
       "_view_count": null,
       "_view_module": "@jupyter-widgets/base",
       "_view_module_version": "1.2.0",
       "_view_name": "StyleView",
       "description_width": "0px"
      }
     },
     "8127141c9055414ea864a95daef30587": {
      "model_module": "@jupyter-widgets/controls",
      "model_module_version": "1.5.0",
      "model_name": "CheckboxModel",
      "state": {
       "_dom_classes": [
        "checkbox_leds_commercial"
       ],
       "_model_module": "@jupyter-widgets/controls",
       "_model_module_version": "1.5.0",
       "_model_name": "CheckboxModel",
       "_view_count": null,
       "_view_module": "@jupyter-widgets/controls",
       "_view_module_version": "1.5.0",
       "_view_name": "CheckboxView",
       "description": "",
       "description_tooltip": null,
       "disabled": false,
       "indent": true,
       "layout": "IPY_MODEL_bdef4bf3c7424855b736b0fa72c837ed",
       "style": "IPY_MODEL_6ae92d8e2b244bf4bfb3218a7386ff02",
       "value": false
      }
     },
     "8179bc41a6884181ab0015fd61effb9a": {
      "model_module": "@jupyter-widgets/controls",
      "model_module_version": "1.5.0",
      "model_name": "CheckboxModel",
      "state": {
       "_dom_classes": [
        "checkbox_electricvehicles"
       ],
       "_model_module": "@jupyter-widgets/controls",
       "_model_module_version": "1.5.0",
       "_model_name": "CheckboxModel",
       "_view_count": null,
       "_view_module": "@jupyter-widgets/controls",
       "_view_module_version": "1.5.0",
       "_view_name": "CheckboxView",
       "description": "",
       "description_tooltip": null,
       "disabled": false,
       "indent": true,
       "layout": "IPY_MODEL_bdef4bf3c7424855b736b0fa72c837ed",
       "style": "IPY_MODEL_4027f9cda3fd4ad0867873f46666f81b",
       "value": false
      }
     },
     "818dbbbb0fd544bb98f19dd86e934ed4": {
      "model_module": "@jupyter-widgets/controls",
      "model_module_version": "1.5.0",
      "model_name": "DescriptionStyleModel",
      "state": {
       "_model_module": "@jupyter-widgets/controls",
       "_model_module_version": "1.5.0",
       "_model_name": "DescriptionStyleModel",
       "_view_count": null,
       "_view_module": "@jupyter-widgets/base",
       "_view_module_version": "1.2.0",
       "_view_name": "StyleView",
       "description_width": ""
      }
     },
     "826afc097e924d5dbb2ec53fdb196d64": {
      "model_module": "@jupyter-widgets/controls",
      "model_module_version": "1.5.0",
      "model_name": "HTMLModel",
      "state": {
       "_dom_classes": [],
       "_model_module": "@jupyter-widgets/controls",
       "_model_module_version": "1.5.0",
       "_model_name": "HTMLModel",
       "_view_count": null,
       "_view_module": "@jupyter-widgets/controls",
       "_view_module_version": "1.5.0",
       "_view_name": "HTMLView",
       "description": "",
       "description_tooltip": null,
       "layout": "IPY_MODEL_2adb518af7044a69aad2c2de3ca0c421",
       "placeholder": "​",
       "style": "IPY_MODEL_1435af8f98f94f299d161ec5324cd4d4",
       "value": "<div style=\"font-size:medium; background-color:#ececec;padding-left:2px;\">Transport</div>"
      }
     },
     "831813cac1b5407cb45d9a74a91a7edd": {
      "model_module": "@jupyter-widgets/controls",
      "model_module_version": "1.5.0",
      "model_name": "CheckboxModel",
      "state": {
       "_dom_classes": [
        "checkbox_conservationagriculture"
       ],
       "_model_module": "@jupyter-widgets/controls",
       "_model_module_version": "1.5.0",
       "_model_name": "CheckboxModel",
       "_view_count": null,
       "_view_module": "@jupyter-widgets/controls",
       "_view_module_version": "1.5.0",
       "_view_name": "CheckboxView",
       "description": "",
       "description_tooltip": null,
       "disabled": false,
       "indent": true,
       "layout": "IPY_MODEL_bdef4bf3c7424855b736b0fa72c837ed",
       "style": "IPY_MODEL_d5fdab3c423d40e3afbb5dafaea11911",
       "value": false
      }
     },
     "83a697fcbd254058b77156f4194c512b": {
      "model_module": "@jupyter-widgets/controls",
      "model_module_version": "1.5.0",
      "model_name": "DescriptionStyleModel",
      "state": {
       "_model_module": "@jupyter-widgets/controls",
       "_model_module_version": "1.5.0",
       "_model_name": "DescriptionStyleModel",
       "_view_count": null,
       "_view_module": "@jupyter-widgets/base",
       "_view_module_version": "1.2.0",
       "_view_name": "StyleView",
       "description_width": ""
      }
     },
     "83f6b52f4c65439ea174083402933df5": {
      "model_module": "@jupyter-widgets/controls",
      "model_module_version": "1.5.0",
      "model_name": "HTMLModel",
      "state": {
       "_dom_classes": [],
       "_model_module": "@jupyter-widgets/controls",
       "_model_module_version": "1.5.0",
       "_model_name": "HTMLModel",
       "_view_count": null,
       "_view_module": "@jupyter-widgets/controls",
       "_view_module_version": "1.5.0",
       "_view_name": "HTMLView",
       "description": "",
       "description_tooltip": null,
       "layout": "IPY_MODEL_0fc6d0e36882466aaf8b89d9494bcb4b",
       "placeholder": "​",
       "style": "IPY_MODEL_dca2163fa89f4210855d9fa08617a809",
       "value": "<div style=\"font-size:medium; background-color:white;padding-left:2px;\">In-Stream Hydro</div>"
      }
     },
     "8473493946be4481a7e6cb2e1714170e": {
      "model_module": "@jupyter-widgets/controls",
      "model_module_version": "1.5.0",
      "model_name": "DescriptionStyleModel",
      "state": {
       "_model_module": "@jupyter-widgets/controls",
       "_model_module_version": "1.5.0",
       "_model_name": "DescriptionStyleModel",
       "_view_count": null,
       "_view_module": "@jupyter-widgets/base",
       "_view_module_version": "1.2.0",
       "_view_name": "StyleView",
       "description_width": ""
      }
     },
     "8482e5a57f024c229d7a55fc32282759": {
      "model_module": "@jupyter-widgets/controls",
      "model_module_version": "1.5.0",
      "model_name": "HTMLModel",
      "state": {
       "_dom_classes": [],
       "_model_module": "@jupyter-widgets/controls",
       "_model_module_version": "1.5.0",
       "_model_name": "HTMLModel",
       "_view_count": null,
       "_view_module": "@jupyter-widgets/controls",
       "_view_module_version": "1.5.0",
       "_view_name": "HTMLView",
       "description": "",
       "description_tooltip": null,
       "layout": "IPY_MODEL_0fc6d0e36882466aaf8b89d9494bcb4b",
       "placeholder": "​",
       "style": "IPY_MODEL_2c494daeee1d4226923a66ce3e0fa9bd",
       "value": "<div style=\"font-size:medium; background-color:#ececec;padding-left:2px;\">Ships</div>"
      }
     },
     "84a566feee9f4a2a948446d4034fb4f0": {
      "model_module": "@jupyter-widgets/controls",
      "model_module_version": "1.5.0",
      "model_name": "DescriptionStyleModel",
      "state": {
       "_model_module": "@jupyter-widgets/controls",
       "_model_module_version": "1.5.0",
       "_model_name": "DescriptionStyleModel",
       "_view_count": null,
       "_view_module": "@jupyter-widgets/base",
       "_view_module_version": "1.2.0",
       "_view_name": "StyleView",
       "description_width": ""
      }
     },
     "84f4cd4a10d04c90ba40f75ae69e35bb": {
      "model_module": "@jupyter-widgets/controls",
      "model_module_version": "1.5.0",
      "model_name": "HTMLModel",
      "state": {
       "_dom_classes": [],
       "_model_module": "@jupyter-widgets/controls",
       "_model_module_version": "1.5.0",
       "_model_name": "HTMLModel",
       "_view_count": null,
       "_view_module": "@jupyter-widgets/controls",
       "_view_module_version": "1.5.0",
       "_view_name": "HTMLView",
       "description": "",
       "description_tooltip": null,
       "layout": "IPY_MODEL_2adb518af7044a69aad2c2de3ca0c421",
       "placeholder": "​",
       "style": "IPY_MODEL_4c38a2d616d24401b42ffc57b2e12f37",
       "value": "<div style=\"font-size:medium; background-color:white;padding-left:2px;\">Electricity Generation</div>"
      }
     },
     "854c859c2f4649ca94b729e5ae6a462e": {
      "model_module": "@jupyter-widgets/controls",
      "model_module_version": "1.5.0",
      "model_name": "HTMLModel",
      "state": {
       "_dom_classes": [],
       "_model_module": "@jupyter-widgets/controls",
       "_model_module_version": "1.5.0",
       "_model_name": "HTMLModel",
       "_view_count": null,
       "_view_module": "@jupyter-widgets/controls",
       "_view_module_version": "1.5.0",
       "_view_name": "HTMLView",
       "description": "",
       "description_tooltip": null,
       "layout": "IPY_MODEL_0fc6d0e36882466aaf8b89d9494bcb4b",
       "placeholder": "​",
       "style": "IPY_MODEL_e5825944fd6842278190c9dd6a02214d",
       "value": "<div style=\"font-size:medium; background-color:#ececec;padding-left:2px;\">Cool Roofs</div>"
      }
     },
     "863fec935e0244569ddcf9918f783c24": {
      "model_module": "@jupyter-widgets/controls",
      "model_module_version": "1.5.0",
      "model_name": "CheckboxModel",
      "state": {
       "_dom_classes": [
        "checkbox_bikeinfrastructure"
       ],
       "_model_module": "@jupyter-widgets/controls",
       "_model_module_version": "1.5.0",
       "_model_name": "CheckboxModel",
       "_view_count": null,
       "_view_module": "@jupyter-widgets/controls",
       "_view_module_version": "1.5.0",
       "_view_name": "CheckboxView",
       "description": "",
       "description_tooltip": null,
       "disabled": false,
       "indent": true,
       "layout": "IPY_MODEL_bdef4bf3c7424855b736b0fa72c837ed",
       "style": "IPY_MODEL_1fcd01baebd8462286628cc6a91e59a2",
       "value": false
      }
     },
     "8679e79662284deabd85bc4d5742c412": {
      "model_module": "@jupyter-widgets/controls",
      "model_module_version": "1.5.0",
      "model_name": "HTMLModel",
      "state": {
       "_dom_classes": [],
       "_model_module": "@jupyter-widgets/controls",
       "_model_module_version": "1.5.0",
       "_model_name": "HTMLModel",
       "_view_count": null,
       "_view_module": "@jupyter-widgets/controls",
       "_view_module_version": "1.5.0",
       "_view_name": "HTMLView",
       "description": "",
       "description_tooltip": null,
       "layout": "IPY_MODEL_1a17608c7cf54c5293a88b93567107e5",
       "placeholder": "​",
       "style": "IPY_MODEL_2ad0f51b7c1e4316a84c63405e572b3a",
       "value": "<div style=\"font-size:medium; background-color:#ececec;padding-left:2px;\">8.27</div>"
      }
     },
     "86aa44ec46794881a7f9f1a65d224c57": {
      "model_module": "@jupyter-widgets/controls",
      "model_module_version": "1.5.0",
      "model_name": "HTMLModel",
      "state": {
       "_dom_classes": [],
       "_model_module": "@jupyter-widgets/controls",
       "_model_module_version": "1.5.0",
       "_model_name": "HTMLModel",
       "_view_count": null,
       "_view_module": "@jupyter-widgets/controls",
       "_view_module_version": "1.5.0",
       "_view_name": "HTMLView",
       "description": "",
       "description_tooltip": null,
       "layout": "IPY_MODEL_1a17608c7cf54c5293a88b93567107e5",
       "placeholder": "​",
       "style": "IPY_MODEL_6c664a1726d642e6bf4d0a108a4c6517",
       "value": "<div style=\"font-size:medium; background-color:white;padding-left:2px;\">17.20</div>"
      }
     },
     "86c375ed67a44056a4a0f1b62dcc2ae8": {
      "model_module": "@jupyter-widgets/controls",
      "model_module_version": "1.5.0",
      "model_name": "HTMLModel",
      "state": {
       "_dom_classes": [],
       "_model_module": "@jupyter-widgets/controls",
       "_model_module_version": "1.5.0",
       "_model_name": "HTMLModel",
       "_view_count": null,
       "_view_module": "@jupyter-widgets/controls",
       "_view_module_version": "1.5.0",
       "_view_name": "HTMLView",
       "description": "",
       "description_tooltip": null,
       "layout": "IPY_MODEL_0fc6d0e36882466aaf8b89d9494bcb4b",
       "placeholder": "​",
       "style": "IPY_MODEL_5034dc65fade4cd68181d84f5374a3dd",
       "value": "<div style=\"font-size:medium; background-color:white;padding-left:2px;\">Clean Cookstoves</div>"
      }
     },
     "86d584df2dab463ba0e074cf3e28e4cd": {
      "model_module": "@jupyter-widgets/controls",
      "model_module_version": "1.5.0",
      "model_name": "CheckboxModel",
      "state": {
       "_dom_classes": [
        "checkbox_farmlandrestoration"
       ],
       "_model_module": "@jupyter-widgets/controls",
       "_model_module_version": "1.5.0",
       "_model_name": "CheckboxModel",
       "_view_count": null,
       "_view_module": "@jupyter-widgets/controls",
       "_view_module_version": "1.5.0",
       "_view_name": "CheckboxView",
       "description": "",
       "description_tooltip": null,
       "disabled": false,
       "indent": true,
       "layout": "IPY_MODEL_bdef4bf3c7424855b736b0fa72c837ed",
       "style": "IPY_MODEL_29d939e619fa437aa367d151f276c140",
       "value": false
      }
     },
     "86f720ab871a4ed688be02002f6e25a5": {
      "model_module": "@jupyter-widgets/controls",
      "model_module_version": "1.5.0",
      "model_name": "HTMLModel",
      "state": {
       "_dom_classes": [],
       "_model_module": "@jupyter-widgets/controls",
       "_model_module_version": "1.5.0",
       "_model_name": "HTMLModel",
       "_view_count": null,
       "_view_module": "@jupyter-widgets/controls",
       "_view_module_version": "1.5.0",
       "_view_name": "HTMLView",
       "description": "",
       "description_tooltip": null,
       "layout": "IPY_MODEL_1a17608c7cf54c5293a88b93567107e5",
       "placeholder": "​",
       "style": "IPY_MODEL_fc9d19aa14334fa789216be1f5024055",
       "value": "<div style=\"font-size:medium; background-color:white;padding-left:2px;\">1.81</div>"
      }
     },
     "871b45294cbd4ee686c0ac3a8eea4e36": {
      "model_module": "@jupyter-widgets/controls",
      "model_module_version": "1.5.0",
      "model_name": "HTMLModel",
      "state": {
       "_dom_classes": [],
       "_model_module": "@jupyter-widgets/controls",
       "_model_module_version": "1.5.0",
       "_model_name": "HTMLModel",
       "_view_count": null,
       "_view_module": "@jupyter-widgets/controls",
       "_view_module_version": "1.5.0",
       "_view_name": "HTMLView",
       "description": "",
       "description_tooltip": null,
       "layout": "IPY_MODEL_2adb518af7044a69aad2c2de3ca0c421",
       "placeholder": "​",
       "style": "IPY_MODEL_d9210250e943423394eb175e993d1394",
       "value": "<div style=\"font-size:medium; background-color:white;padding-left:2px;\">Food</div>"
      }
     },
     "8755f7bc05cf45089d7e2da3664bbcb4": {
      "model_module": "@jupyter-widgets/controls",
      "model_module_version": "1.5.0",
      "model_name": "HBoxModel",
      "state": {
       "_dom_classes": [],
       "_model_module": "@jupyter-widgets/controls",
       "_model_module_version": "1.5.0",
       "_model_name": "HBoxModel",
       "_view_count": null,
       "_view_module": "@jupyter-widgets/controls",
       "_view_module_version": "1.5.0",
       "_view_name": "HBoxView",
       "box_style": "",
       "children": [
        "IPY_MODEL_98b4432c809649aeb5db1fde35d92dee",
        "IPY_MODEL_247239b8ef0744f28f948c10089d2548",
        "IPY_MODEL_341dac05159f4665941875c97cfecd9f",
        "IPY_MODEL_700ed9f15eb34c668eeb8d2df783c45c"
       ],
       "layout": "IPY_MODEL_804c51697f2b4229a0f02be6b85b1659"
      }
     },
     "87df822f761a46fcad81c9ee686f1df4": {
      "model_module": "@jupyter-widgets/controls",
      "model_module_version": "1.5.0",
      "model_name": "DescriptionStyleModel",
      "state": {
       "_model_module": "@jupyter-widgets/controls",
       "_model_module_version": "1.5.0",
       "_model_name": "DescriptionStyleModel",
       "_view_count": null,
       "_view_module": "@jupyter-widgets/base",
       "_view_module_version": "1.2.0",
       "_view_name": "StyleView",
       "description_width": ""
      }
     },
     "87e0b9611304421ba5cf38c1f4ba51b1": {
      "model_module": "@jupyter-widgets/controls",
      "model_module_version": "1.5.0",
      "model_name": "DescriptionStyleModel",
      "state": {
       "_model_module": "@jupyter-widgets/controls",
       "_model_module_version": "1.5.0",
       "_model_name": "DescriptionStyleModel",
       "_view_count": null,
       "_view_module": "@jupyter-widgets/base",
       "_view_module_version": "1.2.0",
       "_view_name": "StyleView",
       "description_width": ""
      }
     },
     "8819ee5d55d04423a3b2187115df7b42": {
      "model_module": "@jupyter-widgets/controls",
      "model_module_version": "1.5.0",
      "model_name": "HTMLModel",
      "state": {
       "_dom_classes": [],
       "_model_module": "@jupyter-widgets/controls",
       "_model_module_version": "1.5.0",
       "_model_name": "HTMLModel",
       "_view_count": null,
       "_view_module": "@jupyter-widgets/controls",
       "_view_module_version": "1.5.0",
       "_view_name": "HTMLView",
       "description": "",
       "description_tooltip": null,
       "layout": "IPY_MODEL_2adb518af7044a69aad2c2de3ca0c421",
       "placeholder": "​",
       "style": "IPY_MODEL_4a6a6dc5ff604408bfb158a3128b9ba0",
       "value": "<div style=\"font-size:medium; background-color:#ececec;padding-left:2px;\">Women and Girls</div>"
      }
     },
     "8924f0a543bb4afeba9efcf87b9b36ea": {
      "model_module": "@jupyter-widgets/controls",
      "model_module_version": "1.5.0",
      "model_name": "CheckboxModel",
      "state": {
       "_dom_classes": [
        "checkbox_heatpumps"
       ],
       "_model_module": "@jupyter-widgets/controls",
       "_model_module_version": "1.5.0",
       "_model_name": "CheckboxModel",
       "_view_count": null,
       "_view_module": "@jupyter-widgets/controls",
       "_view_module_version": "1.5.0",
       "_view_name": "CheckboxView",
       "description": "",
       "description_tooltip": null,
       "disabled": false,
       "indent": true,
       "layout": "IPY_MODEL_bdef4bf3c7424855b736b0fa72c837ed",
       "style": "IPY_MODEL_70047b587cb649a98077ea5b4f2386fd",
       "value": false
      }
     },
     "896c4b910b2e4679b458af7ab02210ae": {
      "model_module": "@jupyter-widgets/controls",
      "model_module_version": "1.5.0",
      "model_name": "HTMLModel",
      "state": {
       "_dom_classes": [],
       "_model_module": "@jupyter-widgets/controls",
       "_model_module_version": "1.5.0",
       "_model_name": "HTMLModel",
       "_view_count": null,
       "_view_module": "@jupyter-widgets/controls",
       "_view_module_version": "1.5.0",
       "_view_name": "HTMLView",
       "description": "",
       "description_tooltip": null,
       "layout": "IPY_MODEL_1a17608c7cf54c5293a88b93567107e5",
       "placeholder": "​",
       "style": "IPY_MODEL_c2f205036703472f976d1437fc38a62c",
       "value": "<div style=\"font-size:medium; background-color:#ececec;padding-left:2px;\">2.28</div>"
      }
     },
     "8a941f89480f4960b103a7510bd280db": {
      "model_module": "@jupyter-widgets/controls",
      "model_module_version": "1.5.0",
      "model_name": "DescriptionStyleModel",
      "state": {
       "_model_module": "@jupyter-widgets/controls",
       "_model_module_version": "1.5.0",
       "_model_name": "DescriptionStyleModel",
       "_view_count": null,
       "_view_module": "@jupyter-widgets/base",
       "_view_module_version": "1.2.0",
       "_view_name": "StyleView",
       "description_width": ""
      }
     },
     "8bb6d1211008465bba481efdd48cbe10": {
      "model_module": "@jupyter-widgets/controls",
      "model_module_version": "1.5.0",
      "model_name": "DescriptionStyleModel",
      "state": {
       "_model_module": "@jupyter-widgets/controls",
       "_model_module_version": "1.5.0",
       "_model_name": "DescriptionStyleModel",
       "_view_count": null,
       "_view_module": "@jupyter-widgets/base",
       "_view_module_version": "1.2.0",
       "_view_name": "StyleView",
       "description_width": ""
      }
     },
     "8bc397a77ce64be5922e52c1e789fd5d": {
      "model_module": "@jupyter-widgets/controls",
      "model_module_version": "1.5.0",
      "model_name": "DescriptionStyleModel",
      "state": {
       "_model_module": "@jupyter-widgets/controls",
       "_model_module_version": "1.5.0",
       "_model_name": "DescriptionStyleModel",
       "_view_count": null,
       "_view_module": "@jupyter-widgets/base",
       "_view_module_version": "1.2.0",
       "_view_name": "StyleView",
       "description_width": "0px"
      }
     },
     "8c241ccac934437b8989457b44c87dc5": {
      "model_module": "@jupyter-widgets/controls",
      "model_module_version": "1.5.0",
      "model_name": "DescriptionStyleModel",
      "state": {
       "_model_module": "@jupyter-widgets/controls",
       "_model_module_version": "1.5.0",
       "_model_name": "DescriptionStyleModel",
       "_view_count": null,
       "_view_module": "@jupyter-widgets/base",
       "_view_module_version": "1.2.0",
       "_view_name": "StyleView",
       "description_width": ""
      }
     },
     "8c2d4753c22a4c3e9fc54211b003b1df": {
      "model_module": "@jupyter-widgets/controls",
      "model_module_version": "1.5.0",
      "model_name": "DescriptionStyleModel",
      "state": {
       "_model_module": "@jupyter-widgets/controls",
       "_model_module_version": "1.5.0",
       "_model_name": "DescriptionStyleModel",
       "_view_count": null,
       "_view_module": "@jupyter-widgets/base",
       "_view_module_version": "1.2.0",
       "_view_name": "StyleView",
       "description_width": "0px"
      }
     },
     "8c3b1c703a564883b46b2cbc9c990bca": {
      "model_module": "@jupyter-widgets/controls",
      "model_module_version": "1.5.0",
      "model_name": "HTMLModel",
      "state": {
       "_dom_classes": [],
       "_model_module": "@jupyter-widgets/controls",
       "_model_module_version": "1.5.0",
       "_model_name": "HTMLModel",
       "_view_count": null,
       "_view_module": "@jupyter-widgets/controls",
       "_view_module_version": "1.5.0",
       "_view_name": "HTMLView",
       "description": "",
       "description_tooltip": null,
       "layout": "IPY_MODEL_1a17608c7cf54c5293a88b93567107e5",
       "placeholder": "​",
       "style": "IPY_MODEL_7c8609fc6d0d41f1a43349bc5fcaecb6",
       "value": "<div style=\"font-size:medium; background-color:#ececec;padding-left:2px;\">2.77</div>"
      }
     },
     "8c7c29cf5e1b459cbf2430a43de18f33": {
      "model_module": "@jupyter-widgets/controls",
      "model_module_version": "1.5.0",
      "model_name": "CheckboxModel",
      "state": {
       "_dom_classes": [
        "checkbox_onshorewind"
       ],
       "_model_module": "@jupyter-widgets/controls",
       "_model_module_version": "1.5.0",
       "_model_name": "CheckboxModel",
       "_view_count": null,
       "_view_module": "@jupyter-widgets/controls",
       "_view_module_version": "1.5.0",
       "_view_name": "CheckboxView",
       "description": "",
       "description_tooltip": null,
       "disabled": false,
       "indent": true,
       "layout": "IPY_MODEL_bdef4bf3c7424855b736b0fa72c837ed",
       "style": "IPY_MODEL_188917d1c34c4e10a2ffcebd072032be",
       "value": false
      }
     },
     "8ca304632ce949d6b1195090426bfddb": {
      "model_module": "@jupyter-widgets/controls",
      "model_module_version": "1.5.0",
      "model_name": "DescriptionStyleModel",
      "state": {
       "_model_module": "@jupyter-widgets/controls",
       "_model_module_version": "1.5.0",
       "_model_name": "DescriptionStyleModel",
       "_view_count": null,
       "_view_module": "@jupyter-widgets/base",
       "_view_module_version": "1.2.0",
       "_view_name": "StyleView",
       "description_width": "0px"
      }
     },
     "8cfa9c31370440de90ed752be07d2b9c": {
      "model_module": "@jupyter-widgets/controls",
      "model_module_version": "1.5.0",
      "model_name": "DescriptionStyleModel",
      "state": {
       "_model_module": "@jupyter-widgets/controls",
       "_model_module_version": "1.5.0",
       "_model_name": "DescriptionStyleModel",
       "_view_count": null,
       "_view_module": "@jupyter-widgets/base",
       "_view_module_version": "1.2.0",
       "_view_name": "StyleView",
       "description_width": ""
      }
     },
     "8d49bd2cdb844058835e14870bba52b1": {
      "model_module": "@jupyter-widgets/controls",
      "model_module_version": "1.5.0",
      "model_name": "DescriptionStyleModel",
      "state": {
       "_model_module": "@jupyter-widgets/controls",
       "_model_module_version": "1.5.0",
       "_model_name": "DescriptionStyleModel",
       "_view_count": null,
       "_view_module": "@jupyter-widgets/base",
       "_view_module_version": "1.2.0",
       "_view_name": "StyleView",
       "description_width": ""
      }
     },
     "8d696b3b0cda475eadfb84b03ec6c880": {
      "model_module": "@jupyter-widgets/controls",
      "model_module_version": "1.5.0",
      "model_name": "DescriptionStyleModel",
      "state": {
       "_model_module": "@jupyter-widgets/controls",
       "_model_module_version": "1.5.0",
       "_model_name": "DescriptionStyleModel",
       "_view_count": null,
       "_view_module": "@jupyter-widgets/base",
       "_view_module_version": "1.2.0",
       "_view_name": "StyleView",
       "description_width": ""
      }
     },
     "8df988dd0bee4a27bd459a5962408ca3": {
      "model_module": "@jupyter-widgets/controls",
      "model_module_version": "1.5.0",
      "model_name": "HTMLModel",
      "state": {
       "_dom_classes": [],
       "_model_module": "@jupyter-widgets/controls",
       "_model_module_version": "1.5.0",
       "_model_name": "HTMLModel",
       "_view_count": null,
       "_view_module": "@jupyter-widgets/controls",
       "_view_module_version": "1.5.0",
       "_view_name": "HTMLView",
       "description": "",
       "description_tooltip": null,
       "layout": "IPY_MODEL_2adb518af7044a69aad2c2de3ca0c421",
       "placeholder": "​",
       "style": "IPY_MODEL_9810bdd746964ca4bff9e9faa18dfc80",
       "value": "<div style=\"font-size:medium; background-color:#ececec;padding-left:2px;\">Food</div>"
      }
     },
     "8e2cb7c8f8ba4926af99bba8b480596d": {
      "model_module": "@jupyter-widgets/controls",
      "model_module_version": "1.5.0",
      "model_name": "DescriptionStyleModel",
      "state": {
       "_model_module": "@jupyter-widgets/controls",
       "_model_module_version": "1.5.0",
       "_model_name": "DescriptionStyleModel",
       "_view_count": null,
       "_view_module": "@jupyter-widgets/base",
       "_view_module_version": "1.2.0",
       "_view_name": "StyleView",
       "description_width": ""
      }
     },
     "8e75ae7c26ba4a11800170e0e0ade059": {
      "model_module": "@jupyter-widgets/controls",
      "model_module_version": "1.5.0",
      "model_name": "HBoxModel",
      "state": {
       "_dom_classes": [],
       "_model_module": "@jupyter-widgets/controls",
       "_model_module_version": "1.5.0",
       "_model_name": "HBoxModel",
       "_view_count": null,
       "_view_module": "@jupyter-widgets/controls",
       "_view_module_version": "1.5.0",
       "_view_name": "HBoxView",
       "box_style": "",
       "children": [
        "IPY_MODEL_5d20692f50cd4f8dbb35977ed9f77329",
        "IPY_MODEL_789a044f8d3c4ecab0297918cb525011",
        "IPY_MODEL_ee3d1e8b67904450ac6220fcebbb347f",
        "IPY_MODEL_831813cac1b5407cb45d9a74a91a7edd"
       ],
       "layout": "IPY_MODEL_804c51697f2b4229a0f02be6b85b1659"
      }
     },
     "8e96daf7ed24492fb735f69e0b6a690e": {
      "model_module": "@jupyter-widgets/controls",
      "model_module_version": "1.5.0",
      "model_name": "DescriptionStyleModel",
      "state": {
       "_model_module": "@jupyter-widgets/controls",
       "_model_module_version": "1.5.0",
       "_model_name": "DescriptionStyleModel",
       "_view_count": null,
       "_view_module": "@jupyter-widgets/base",
       "_view_module_version": "1.2.0",
       "_view_name": "StyleView",
       "description_width": ""
      }
     },
     "8f60431b06054d5bb943c2bc3ebc4c29": {
      "model_module": "@jupyter-widgets/controls",
      "model_module_version": "1.5.0",
      "model_name": "HTMLModel",
      "state": {
       "_dom_classes": [],
       "_model_module": "@jupyter-widgets/controls",
       "_model_module_version": "1.5.0",
       "_model_name": "HTMLModel",
       "_view_count": null,
       "_view_module": "@jupyter-widgets/controls",
       "_view_module_version": "1.5.0",
       "_view_name": "HTMLView",
       "description": "",
       "description_tooltip": null,
       "layout": "IPY_MODEL_0fc6d0e36882466aaf8b89d9494bcb4b",
       "placeholder": "​",
       "style": "IPY_MODEL_558959e261574f1fbb6269bc89a22f60",
       "value": "<div style=\"font-size:medium; background-color:white;padding-left:2px;\">Refrigerant Management</div>"
      }
     },
     "8fa8ff3a73424a518f500a817e7ab70e": {
      "model_module": "@jupyter-widgets/controls",
      "model_module_version": "1.5.0",
      "model_name": "HBoxModel",
      "state": {
       "_dom_classes": [],
       "_model_module": "@jupyter-widgets/controls",
       "_model_module_version": "1.5.0",
       "_model_name": "HBoxModel",
       "_view_count": null,
       "_view_module": "@jupyter-widgets/controls",
       "_view_module_version": "1.5.0",
       "_view_name": "HBoxView",
       "box_style": "",
       "children": [
        "IPY_MODEL_40b1296c31734ddca2a88d03476260c1",
        "IPY_MODEL_7d98111aa3f642e296b76ad996935daf",
        "IPY_MODEL_b53d4ed9d361434da95e85b1ac22a7e7",
        "IPY_MODEL_863fec935e0244569ddcf9918f783c24"
       ],
       "layout": "IPY_MODEL_804c51697f2b4229a0f02be6b85b1659"
      }
     },
     "8fef7bc6803440b39256665c80045999": {
      "model_module": "@jupyter-widgets/controls",
      "model_module_version": "1.5.0",
      "model_name": "HBoxModel",
      "state": {
       "_dom_classes": [],
       "_model_module": "@jupyter-widgets/controls",
       "_model_module_version": "1.5.0",
       "_model_name": "HBoxModel",
       "_view_count": null,
       "_view_module": "@jupyter-widgets/controls",
       "_view_module_version": "1.5.0",
       "_view_name": "HBoxView",
       "box_style": "",
       "children": [
        "IPY_MODEL_1fa1f27c297c42fda137c5d8c4175741",
        "IPY_MODEL_7349235b81c24996b4ff3eb14d4033ac",
        "IPY_MODEL_72abd2865d5349249462fb2c96ca7dc4",
        "IPY_MODEL_86d584df2dab463ba0e074cf3e28e4cd"
       ],
       "layout": "IPY_MODEL_804c51697f2b4229a0f02be6b85b1659"
      }
     },
     "90726fd662d64c5a81ee05098b872e13": {
      "model_module": "@jupyter-widgets/controls",
      "model_module_version": "1.5.0",
      "model_name": "HBoxModel",
      "state": {
       "_dom_classes": [],
       "_model_module": "@jupyter-widgets/controls",
       "_model_module_version": "1.5.0",
       "_model_name": "HBoxModel",
       "_view_count": null,
       "_view_module": "@jupyter-widgets/controls",
       "_view_module_version": "1.5.0",
       "_view_name": "HBoxView",
       "box_style": "",
       "children": [
        "IPY_MODEL_7b2fb5846f6441f487a1289eed8c71f8",
        "IPY_MODEL_bd0bb270564e4aecb2fac4f8c582349e",
        "IPY_MODEL_d72043a180694f12a8e3c34ec9943e72",
        "IPY_MODEL_0864ec68aaf546fea1f989b0399bdec7"
       ],
       "layout": "IPY_MODEL_804c51697f2b4229a0f02be6b85b1659"
      }
     },
     "90c414d57e544fffa05eec0bc6af9a90": {
      "model_module": "@jupyter-widgets/controls",
      "model_module_version": "1.5.0",
      "model_name": "DescriptionStyleModel",
      "state": {
       "_model_module": "@jupyter-widgets/controls",
       "_model_module_version": "1.5.0",
       "_model_name": "DescriptionStyleModel",
       "_view_count": null,
       "_view_module": "@jupyter-widgets/base",
       "_view_module_version": "1.2.0",
       "_view_name": "StyleView",
       "description_width": ""
      }
     },
     "91f4ba717a434a1a93452e2c72985587": {
      "model_module": "@jupyter-widgets/controls",
      "model_module_version": "1.5.0",
      "model_name": "DescriptionStyleModel",
      "state": {
       "_model_module": "@jupyter-widgets/controls",
       "_model_module_version": "1.5.0",
       "_model_name": "DescriptionStyleModel",
       "_view_count": null,
       "_view_module": "@jupyter-widgets/base",
       "_view_module_version": "1.2.0",
       "_view_name": "StyleView",
       "description_width": ""
      }
     },
     "9219fe6b050741f3afd957ec182344eb": {
      "model_module": "@jupyter-widgets/controls",
      "model_module_version": "1.5.0",
      "model_name": "DescriptionStyleModel",
      "state": {
       "_model_module": "@jupyter-widgets/controls",
       "_model_module_version": "1.5.0",
       "_model_name": "DescriptionStyleModel",
       "_view_count": null,
       "_view_module": "@jupyter-widgets/base",
       "_view_module_version": "1.2.0",
       "_view_name": "StyleView",
       "description_width": ""
      }
     },
     "926274cdf9f748019c8340230c68649a": {
      "model_module": "@jupyter-widgets/controls",
      "model_module_version": "1.5.0",
      "model_name": "HBoxModel",
      "state": {
       "_dom_classes": [],
       "_model_module": "@jupyter-widgets/controls",
       "_model_module_version": "1.5.0",
       "_model_name": "HBoxModel",
       "_view_count": null,
       "_view_module": "@jupyter-widgets/controls",
       "_view_module_version": "1.5.0",
       "_view_name": "HBoxView",
       "box_style": "",
       "children": [
        "IPY_MODEL_93f377f306724b7fbe81a8cba496f8e4",
        "IPY_MODEL_70de38a1c3e34ecd81f3b4e41ba35975",
        "IPY_MODEL_6baa0ae076724a20a76d4363bb2ad443",
        "IPY_MODEL_6fdfa01de6fb4f15a7d0234b4c3cd145"
       ],
       "layout": "IPY_MODEL_804c51697f2b4229a0f02be6b85b1659"
      }
     },
     "9269a3b76f1248e0b89d1ad2236b6452": {
      "model_module": "@jupyter-widgets/controls",
      "model_module_version": "1.5.0",
      "model_name": "DescriptionStyleModel",
      "state": {
       "_model_module": "@jupyter-widgets/controls",
       "_model_module_version": "1.5.0",
       "_model_name": "DescriptionStyleModel",
       "_view_count": null,
       "_view_module": "@jupyter-widgets/base",
       "_view_module_version": "1.2.0",
       "_view_name": "StyleView",
       "description_width": "0px"
      }
     },
     "926d7cc235b84dd49bf9f211aa2590c0": {
      "model_module": "@jupyter-widgets/controls",
      "model_module_version": "1.5.0",
      "model_name": "HBoxModel",
      "state": {
       "_dom_classes": [],
       "_model_module": "@jupyter-widgets/controls",
       "_model_module_version": "1.5.0",
       "_model_name": "HBoxModel",
       "_view_count": null,
       "_view_module": "@jupyter-widgets/controls",
       "_view_module_version": "1.5.0",
       "_view_name": "HBoxView",
       "box_style": "",
       "children": [
        "IPY_MODEL_2f6bc8a62d364bee88c244a86a33d5c6",
        "IPY_MODEL_9ef25adca0f34e40afd115a5a57bb79f",
        "IPY_MODEL_5dccd12a022f4a189933f96ad5a193c2",
        "IPY_MODEL_40833016613a48dba67784bbfb6db470"
       ],
       "layout": "IPY_MODEL_804c51697f2b4229a0f02be6b85b1659"
      }
     },
     "93032dd9446b49c8af2ecbe1cf35c810": {
      "model_module": "@jupyter-widgets/controls",
      "model_module_version": "1.5.0",
      "model_name": "HBoxModel",
      "state": {
       "_dom_classes": [],
       "_model_module": "@jupyter-widgets/controls",
       "_model_module_version": "1.5.0",
       "_model_name": "HBoxModel",
       "_view_count": null,
       "_view_module": "@jupyter-widgets/controls",
       "_view_module_version": "1.5.0",
       "_view_name": "HBoxView",
       "box_style": "",
       "children": [
        "IPY_MODEL_feea0fc50f234358be9ff4e4175c7a31",
        "IPY_MODEL_cc23558fcbd84f5087875db9d7923f3b",
        "IPY_MODEL_1160e4939cbc4f2494fe2da9b8885444",
        "IPY_MODEL_fc51159c837e4262bc735554761a3cc9"
       ],
       "layout": "IPY_MODEL_804c51697f2b4229a0f02be6b85b1659"
      }
     },
     "936f3fdcbac64800a5cb4456e95a723b": {
      "model_module": "@jupyter-widgets/controls",
      "model_module_version": "1.5.0",
      "model_name": "DescriptionStyleModel",
      "state": {
       "_model_module": "@jupyter-widgets/controls",
       "_model_module_version": "1.5.0",
       "_model_name": "DescriptionStyleModel",
       "_view_count": null,
       "_view_module": "@jupyter-widgets/base",
       "_view_module_version": "1.2.0",
       "_view_name": "StyleView",
       "description_width": ""
      }
     },
     "937b2ed966964d8fb2c7df392aa22fc7": {
      "model_module": "@jupyter-widgets/controls",
      "model_module_version": "1.5.0",
      "model_name": "HTMLModel",
      "state": {
       "_dom_classes": [],
       "_model_module": "@jupyter-widgets/controls",
       "_model_module_version": "1.5.0",
       "_model_name": "HTMLModel",
       "_view_count": null,
       "_view_module": "@jupyter-widgets/controls",
       "_view_module_version": "1.5.0",
       "_view_name": "HTMLView",
       "description": "",
       "description_tooltip": null,
       "layout": "IPY_MODEL_0fc6d0e36882466aaf8b89d9494bcb4b",
       "placeholder": "​",
       "style": "IPY_MODEL_b22a21d66d9f4e2fa8d4a4a7a4e2ef32",
       "value": "<div style=\"font-size:medium; background-color:white;padding-left:2px;\">Telepresence</div>"
      }
     },
     "939a12092f7b489591ce8c4773955b82": {
      "model_module": "@jupyter-widgets/controls",
      "model_module_version": "1.5.0",
      "model_name": "FloatProgressModel",
      "state": {
       "_dom_classes": [],
       "_model_module": "@jupyter-widgets/controls",
       "_model_module_version": "1.5.0",
       "_model_name": "FloatProgressModel",
       "_view_count": null,
       "_view_module": "@jupyter-widgets/controls",
       "_view_module_version": "1.5.0",
       "_view_name": "ProgressView",
       "bar_style": "",
       "description": "",
       "description_tooltip": null,
       "layout": "IPY_MODEL_cbd2ccfe365c4611b3a7612a9ff42fa3",
       "max": 1.0,
       "min": 0.0,
       "orientation": "horizontal",
       "style": "IPY_MODEL_ddacc7ec3e6f4679b88b5a246b613dad",
       "value": 0.0
      }
     },
     "93bd5e6004f7483f8839f87e17faa257": {
      "model_module": "@jupyter-widgets/controls",
      "model_module_version": "1.5.0",
      "model_name": "DescriptionStyleModel",
      "state": {
       "_model_module": "@jupyter-widgets/controls",
       "_model_module_version": "1.5.0",
       "_model_name": "DescriptionStyleModel",
       "_view_count": null,
       "_view_module": "@jupyter-widgets/base",
       "_view_module_version": "1.2.0",
       "_view_name": "StyleView",
       "description_width": "0px"
      }
     },
     "93f377f306724b7fbe81a8cba496f8e4": {
      "model_module": "@jupyter-widgets/controls",
      "model_module_version": "1.5.0",
      "model_name": "HTMLModel",
      "state": {
       "_dom_classes": [],
       "_model_module": "@jupyter-widgets/controls",
       "_model_module_version": "1.5.0",
       "_model_name": "HTMLModel",
       "_view_count": null,
       "_view_module": "@jupyter-widgets/controls",
       "_view_module_version": "1.5.0",
       "_view_name": "HTMLView",
       "description": "",
       "description_tooltip": null,
       "layout": "IPY_MODEL_0fc6d0e36882466aaf8b89d9494bcb4b",
       "placeholder": "​",
       "style": "IPY_MODEL_da65e1d4529e475d8622c4ab26bde74c",
       "value": "<div style=\"font-size:medium; background-color:white;padding-left:2px;\">Biomass</div>"
      }
     },
     "94ebc96650a343b9ac5e399634280f2f": {
      "model_module": "@jupyter-widgets/controls",
      "model_module_version": "1.5.0",
      "model_name": "HBoxModel",
      "state": {
       "_dom_classes": [],
       "_model_module": "@jupyter-widgets/controls",
       "_model_module_version": "1.5.0",
       "_model_name": "HBoxModel",
       "_view_count": null,
       "_view_module": "@jupyter-widgets/controls",
       "_view_module_version": "1.5.0",
       "_view_name": "HBoxView",
       "box_style": "",
       "children": [
        "IPY_MODEL_704b2a5e9de94f5491faaaed41fcb7ce",
        "IPY_MODEL_4c439e6391a8450892606a3493e2f46b",
        "IPY_MODEL_2f0b7cdfffd24c5b9afb1adeb1213de1",
        "IPY_MODEL_c1ff0729065745a5a9d67ec21dfc46fb"
       ],
       "layout": "IPY_MODEL_804c51697f2b4229a0f02be6b85b1659"
      }
     },
     "954949632ad24b37a69ba58d6a9bbf80": {
      "model_module": "@jupyter-widgets/controls",
      "model_module_version": "1.5.0",
      "model_name": "HTMLModel",
      "state": {
       "_dom_classes": [],
       "_model_module": "@jupyter-widgets/controls",
       "_model_module_version": "1.5.0",
       "_model_name": "HTMLModel",
       "_view_count": null,
       "_view_module": "@jupyter-widgets/controls",
       "_view_module_version": "1.5.0",
       "_view_name": "HTMLView",
       "description": "",
       "description_tooltip": null,
       "layout": "IPY_MODEL_2adb518af7044a69aad2c2de3ca0c421",
       "placeholder": "​",
       "style": "IPY_MODEL_abfe38f77da942a2bcb99564837b1c6b",
       "value": "<div style=\"font-size:medium; background-color:white;padding-left:2px;\">Food</div>"
      }
     },
     "95bc3c42489747c7a068a9af34caac80": {
      "model_module": "@jupyter-widgets/controls",
      "model_module_version": "1.5.0",
      "model_name": "DescriptionStyleModel",
      "state": {
       "_model_module": "@jupyter-widgets/controls",
       "_model_module_version": "1.5.0",
       "_model_name": "DescriptionStyleModel",
       "_view_count": null,
       "_view_module": "@jupyter-widgets/base",
       "_view_module_version": "1.2.0",
       "_view_name": "StyleView",
       "description_width": ""
      }
     },
     "95c48ca55f814400870da91a3695748c": {
      "model_module": "@jupyter-widgets/controls",
      "model_module_version": "1.5.0",
      "model_name": "DescriptionStyleModel",
      "state": {
       "_model_module": "@jupyter-widgets/controls",
       "_model_module_version": "1.5.0",
       "_model_name": "DescriptionStyleModel",
       "_view_count": null,
       "_view_module": "@jupyter-widgets/base",
       "_view_module_version": "1.2.0",
       "_view_name": "StyleView",
       "description_width": ""
      }
     },
     "960a0651dd4348f597ae46a526d2b3e0": {
      "model_module": "@jupyter-widgets/controls",
      "model_module_version": "1.5.0",
      "model_name": "HTMLModel",
      "state": {
       "_dom_classes": [],
       "_model_module": "@jupyter-widgets/controls",
       "_model_module_version": "1.5.0",
       "_model_name": "HTMLModel",
       "_view_count": null,
       "_view_module": "@jupyter-widgets/controls",
       "_view_module_version": "1.5.0",
       "_view_name": "HTMLView",
       "description": "",
       "description_tooltip": null,
       "layout": "IPY_MODEL_1a17608c7cf54c5293a88b93567107e5",
       "placeholder": "​",
       "style": "IPY_MODEL_87e0b9611304421ba5cf38c1f4ba51b1",
       "value": "<div style=\"font-size:medium; background-color:white;padding-left:2px;\">2.92</div>"
      }
     },
     "972a413f6b254036acb4958a630b0b33": {
      "model_module": "@jupyter-widgets/controls",
      "model_module_version": "1.5.0",
      "model_name": "DescriptionStyleModel",
      "state": {
       "_model_module": "@jupyter-widgets/controls",
       "_model_module_version": "1.5.0",
       "_model_name": "DescriptionStyleModel",
       "_view_count": null,
       "_view_module": "@jupyter-widgets/base",
       "_view_module_version": "1.2.0",
       "_view_name": "StyleView",
       "description_width": ""
      }
     },
     "97910267326b4e56839e0da9be9bb156": {
      "model_module": "@jupyter-widgets/controls",
      "model_module_version": "1.5.0",
      "model_name": "CheckboxModel",
      "state": {
       "_dom_classes": [
        "checkbox_cars"
       ],
       "_model_module": "@jupyter-widgets/controls",
       "_model_module_version": "1.5.0",
       "_model_name": "CheckboxModel",
       "_view_count": null,
       "_view_module": "@jupyter-widgets/controls",
       "_view_module_version": "1.5.0",
       "_view_name": "CheckboxView",
       "description": "",
       "description_tooltip": null,
       "disabled": false,
       "indent": true,
       "layout": "IPY_MODEL_bdef4bf3c7424855b736b0fa72c837ed",
       "style": "IPY_MODEL_6b2fa8757fb344e5a943297a61b4da43",
       "value": false
      }
     },
     "97d16057eb714490811e0d82342b43f8": {
      "model_module": "@jupyter-widgets/controls",
      "model_module_version": "1.5.0",
      "model_name": "CheckboxModel",
      "state": {
       "_dom_classes": [
        "checkbox_buildingautomation"
       ],
       "_model_module": "@jupyter-widgets/controls",
       "_model_module_version": "1.5.0",
       "_model_name": "CheckboxModel",
       "_view_count": null,
       "_view_module": "@jupyter-widgets/controls",
       "_view_module_version": "1.5.0",
       "_view_name": "CheckboxView",
       "description": "",
       "description_tooltip": null,
       "disabled": false,
       "indent": true,
       "layout": "IPY_MODEL_bdef4bf3c7424855b736b0fa72c837ed",
       "style": "IPY_MODEL_8042f682be324ee0a9c4cc983a06c957",
       "value": false
      }
     },
     "9810bdd746964ca4bff9e9faa18dfc80": {
      "model_module": "@jupyter-widgets/controls",
      "model_module_version": "1.5.0",
      "model_name": "DescriptionStyleModel",
      "state": {
       "_model_module": "@jupyter-widgets/controls",
       "_model_module_version": "1.5.0",
       "_model_name": "DescriptionStyleModel",
       "_view_count": null,
       "_view_module": "@jupyter-widgets/base",
       "_view_module_version": "1.2.0",
       "_view_name": "StyleView",
       "description_width": ""
      }
     },
     "9862e0e8ba4e46c8926c6129be79e414": {
      "model_module": "@jupyter-widgets/controls",
      "model_module_version": "1.5.0",
      "model_name": "DescriptionStyleModel",
      "state": {
       "_model_module": "@jupyter-widgets/controls",
       "_model_module_version": "1.5.0",
       "_model_name": "DescriptionStyleModel",
       "_view_count": null,
       "_view_module": "@jupyter-widgets/base",
       "_view_module_version": "1.2.0",
       "_view_name": "StyleView",
       "description_width": ""
      }
     },
     "98b4432c809649aeb5db1fde35d92dee": {
      "model_module": "@jupyter-widgets/controls",
      "model_module_version": "1.5.0",
      "model_name": "HTMLModel",
      "state": {
       "_dom_classes": [],
       "_model_module": "@jupyter-widgets/controls",
       "_model_module_version": "1.5.0",
       "_model_name": "HTMLModel",
       "_view_count": null,
       "_view_module": "@jupyter-widgets/controls",
       "_view_module_version": "1.5.0",
       "_view_name": "HTMLView",
       "description": "",
       "description_tooltip": null,
       "layout": "IPY_MODEL_0fc6d0e36882466aaf8b89d9494bcb4b",
       "placeholder": "​",
       "style": "IPY_MODEL_3c357d464bd443bfa4d39ea086ce3165",
       "value": "<div style=\"font-size:medium; background-color:white;padding-left:2px;\">Electric Bikes</div>"
      }
     },
     "99a213672ce14579bad2756a4da38193": {
      "model_module": "@jupyter-widgets/controls",
      "model_module_version": "1.5.0",
      "model_name": "CheckboxModel",
      "state": {
       "_dom_classes": [
        "checkbox_tropicalforests"
       ],
       "_model_module": "@jupyter-widgets/controls",
       "_model_module_version": "1.5.0",
       "_model_name": "CheckboxModel",
       "_view_count": null,
       "_view_module": "@jupyter-widgets/controls",
       "_view_module_version": "1.5.0",
       "_view_name": "CheckboxView",
       "description": "",
       "description_tooltip": null,
       "disabled": false,
       "indent": true,
       "layout": "IPY_MODEL_bdef4bf3c7424855b736b0fa72c837ed",
       "style": "IPY_MODEL_b44c01e45b754bdf8bf607b1b88213fd",
       "value": false
      }
     },
     "9a6c04c20ea04203bfc049052d03c478": {
      "model_module": "@jupyter-widgets/controls",
      "model_module_version": "1.5.0",
      "model_name": "HTMLModel",
      "state": {
       "_dom_classes": [],
       "_model_module": "@jupyter-widgets/controls",
       "_model_module_version": "1.5.0",
       "_model_name": "HTMLModel",
       "_view_count": null,
       "_view_module": "@jupyter-widgets/controls",
       "_view_module_version": "1.5.0",
       "_view_name": "HTMLView",
       "description": "",
       "description_tooltip": null,
       "layout": "IPY_MODEL_2adb518af7044a69aad2c2de3ca0c421",
       "placeholder": "​",
       "style": "IPY_MODEL_1851da1989fc41fa9e157d41d655e13c",
       "value": "<div style=\"font-size:medium; background-color:white;padding-left:2px;\">Electricity Generation</div>"
      }
     },
     "9a9988dbd72d4adc8ade2b86405af224": {
      "model_module": "@jupyter-widgets/controls",
      "model_module_version": "1.5.0",
      "model_name": "HTMLModel",
      "state": {
       "_dom_classes": [],
       "_model_module": "@jupyter-widgets/controls",
       "_model_module_version": "1.5.0",
       "_model_name": "HTMLModel",
       "_view_count": null,
       "_view_module": "@jupyter-widgets/controls",
       "_view_module_version": "1.5.0",
       "_view_name": "HTMLView",
       "description": "",
       "description_tooltip": null,
       "layout": "IPY_MODEL_1a17608c7cf54c5293a88b93567107e5",
       "placeholder": "​",
       "style": "IPY_MODEL_069cacd4ce1c4db5bd72701ee685a3e8",
       "value": "<div style=\"font-size:medium; background-color:white;padding-left:2px;\">11.34</div>"
      }
     },
     "9ab9b74b7224413b9e450f0f0e0c08c1": {
      "model_module": "@jupyter-widgets/controls",
      "model_module_version": "1.5.0",
      "model_name": "HTMLModel",
      "state": {
       "_dom_classes": [],
       "_model_module": "@jupyter-widgets/controls",
       "_model_module_version": "1.5.0",
       "_model_name": "HTMLModel",
       "_view_count": null,
       "_view_module": "@jupyter-widgets/controls",
       "_view_module_version": "1.5.0",
       "_view_name": "HTMLView",
       "description": "",
       "description_tooltip": null,
       "layout": "IPY_MODEL_1a17608c7cf54c5293a88b93567107e5",
       "placeholder": "​",
       "style": "IPY_MODEL_3faaf4ba97d0497b9669435d3583e947",
       "value": "<div style=\"font-size:medium; background-color:white;padding-left:2px;\">3.13</div>"
      }
     },
     "9b0d07a6f3904d8bb3df0bb092ed667b": {
      "model_module": "@jupyter-widgets/controls",
      "model_module_version": "1.5.0",
      "model_name": "DescriptionStyleModel",
      "state": {
       "_model_module": "@jupyter-widgets/controls",
       "_model_module_version": "1.5.0",
       "_model_name": "DescriptionStyleModel",
       "_view_count": null,
       "_view_module": "@jupyter-widgets/base",
       "_view_module_version": "1.2.0",
       "_view_name": "StyleView",
       "description_width": "0px"
      }
     },
     "9b5cb9bfe1c14cc0a5717192544af445": {
      "model_module": "@jupyter-widgets/controls",
      "model_module_version": "1.5.0",
      "model_name": "HTMLModel",
      "state": {
       "_dom_classes": [],
       "_model_module": "@jupyter-widgets/controls",
       "_model_module_version": "1.5.0",
       "_model_name": "HTMLModel",
       "_view_count": null,
       "_view_module": "@jupyter-widgets/controls",
       "_view_module_version": "1.5.0",
       "_view_name": "HTMLView",
       "description": "",
       "description_tooltip": null,
       "layout": "IPY_MODEL_1a17608c7cf54c5293a88b93567107e5",
       "placeholder": "​",
       "style": "IPY_MODEL_d4d07fd20b4341c0ba0df52ad58d66f3",
       "value": "<div style=\"font-size:medium; background-color:white;padding-left:2px;\">6.57</div>"
      }
     },
     "9b87ed6f5cda4b99b60b457d78a61a76": {
      "model_module": "@jupyter-widgets/controls",
      "model_module_version": "1.5.0",
      "model_name": "HTMLModel",
      "state": {
       "_dom_classes": [],
       "_model_module": "@jupyter-widgets/controls",
       "_model_module_version": "1.5.0",
       "_model_name": "HTMLModel",
       "_view_count": null,
       "_view_module": "@jupyter-widgets/controls",
       "_view_module_version": "1.5.0",
       "_view_name": "HTMLView",
       "description": "",
       "description_tooltip": null,
       "layout": "IPY_MODEL_0fc6d0e36882466aaf8b89d9494bcb4b",
       "placeholder": "​",
       "style": "IPY_MODEL_34824b03c76e4ae19781eaf290854760",
       "value": "<div style=\"font-size:medium; background-color:#ececec;padding-left:2px;\">Bamboo</div>"
      }
     },
     "9bc2cb341c864e3b9a4fda205d29de2d": {
      "model_module": "@jupyter-widgets/controls",
      "model_module_version": "1.5.0",
      "model_name": "HTMLModel",
      "state": {
       "_dom_classes": [],
       "_model_module": "@jupyter-widgets/controls",
       "_model_module_version": "1.5.0",
       "_model_name": "HTMLModel",
       "_view_count": null,
       "_view_module": "@jupyter-widgets/controls",
       "_view_module_version": "1.5.0",
       "_view_name": "HTMLView",
       "description": "",
       "description_tooltip": null,
       "layout": "IPY_MODEL_1a17608c7cf54c5293a88b93567107e5",
       "placeholder": "​",
       "style": "IPY_MODEL_8a941f89480f4960b103a7510bd280db",
       "value": "<div style=\"font-size:medium; background-color:white;padding-left:2px;\">2.77</div>"
      }
     },
     "9bd605e4650441a381dd12206f985138": {
      "model_module": "@jupyter-widgets/controls",
      "model_module_version": "1.5.0",
      "model_name": "HTMLModel",
      "state": {
       "_dom_classes": [],
       "_model_module": "@jupyter-widgets/controls",
       "_model_module_version": "1.5.0",
       "_model_name": "HTMLModel",
       "_view_count": null,
       "_view_module": "@jupyter-widgets/controls",
       "_view_module_version": "1.5.0",
       "_view_name": "HTMLView",
       "description": "",
       "description_tooltip": null,
       "layout": "IPY_MODEL_2adb518af7044a69aad2c2de3ca0c421",
       "placeholder": "​",
       "style": "IPY_MODEL_9d3d6df8863140ec848772722b6f24fe",
       "value": "<div style=\"font-size:medium; background-color:#ececec;padding-left:2px;\">Transport</div>"
      }
     },
     "9c169e4bdc32458f95d7c6a41059e385": {
      "model_module": "@jupyter-widgets/controls",
      "model_module_version": "1.5.0",
      "model_name": "HTMLModel",
      "state": {
       "_dom_classes": [],
       "_model_module": "@jupyter-widgets/controls",
       "_model_module_version": "1.5.0",
       "_model_name": "HTMLModel",
       "_view_count": null,
       "_view_module": "@jupyter-widgets/controls",
       "_view_module_version": "1.5.0",
       "_view_name": "HTMLView",
       "description": "",
       "description_tooltip": null,
       "layout": "IPY_MODEL_2adb518af7044a69aad2c2de3ca0c421",
       "placeholder": "​",
       "style": "IPY_MODEL_de62511e41694f228c8d436e6d4338da",
       "value": "<div style=\"font-size:medium; background-color:#ececec;padding-left:2px;\">Buildings and Cities</div>"
      }
     },
     "9d128c872c5e4fd1ab5d23193579c0fe": {
      "model_module": "@jupyter-widgets/controls",
      "model_module_version": "1.5.0",
      "model_name": "DescriptionStyleModel",
      "state": {
       "_model_module": "@jupyter-widgets/controls",
       "_model_module_version": "1.5.0",
       "_model_name": "DescriptionStyleModel",
       "_view_count": null,
       "_view_module": "@jupyter-widgets/base",
       "_view_module_version": "1.2.0",
       "_view_name": "StyleView",
       "description_width": "0px"
      }
     },
     "9d3d6df8863140ec848772722b6f24fe": {
      "model_module": "@jupyter-widgets/controls",
      "model_module_version": "1.5.0",
      "model_name": "DescriptionStyleModel",
      "state": {
       "_model_module": "@jupyter-widgets/controls",
       "_model_module_version": "1.5.0",
       "_model_name": "DescriptionStyleModel",
       "_view_count": null,
       "_view_module": "@jupyter-widgets/base",
       "_view_module_version": "1.2.0",
       "_view_name": "StyleView",
       "description_width": ""
      }
     },
     "9de630b1f85146819df6df568bdf5b75": {
      "model_module": "@jupyter-widgets/controls",
      "model_module_version": "1.5.0",
      "model_name": "DescriptionStyleModel",
      "state": {
       "_model_module": "@jupyter-widgets/controls",
       "_model_module_version": "1.5.0",
       "_model_name": "DescriptionStyleModel",
       "_view_count": null,
       "_view_module": "@jupyter-widgets/base",
       "_view_module_version": "1.2.0",
       "_view_name": "StyleView",
       "description_width": ""
      }
     },
     "9e5b0c3a20074c8b81c8e3079f3fcc52": {
      "model_module": "@jupyter-widgets/controls",
      "model_module_version": "1.5.0",
      "model_name": "HTMLModel",
      "state": {
       "_dom_classes": [],
       "_model_module": "@jupyter-widgets/controls",
       "_model_module_version": "1.5.0",
       "_model_name": "HTMLModel",
       "_view_count": null,
       "_view_module": "@jupyter-widgets/controls",
       "_view_module_version": "1.5.0",
       "_view_name": "HTMLView",
       "description": "",
       "description_tooltip": null,
       "layout": "IPY_MODEL_1a17608c7cf54c5293a88b93567107e5",
       "placeholder": "​",
       "style": "IPY_MODEL_55211f8f32e5469998a6e16341ffe108",
       "value": "<div style=\"font-size:medium; background-color:#ececec;padding-left:2px;\">3.19</div>"
      }
     },
     "9e7373a3f04a42039d76961f176047cf": {
      "model_module": "@jupyter-widgets/controls",
      "model_module_version": "1.5.0",
      "model_name": "HTMLModel",
      "state": {
       "_dom_classes": [],
       "_model_module": "@jupyter-widgets/controls",
       "_model_module_version": "1.5.0",
       "_model_name": "HTMLModel",
       "_view_count": null,
       "_view_module": "@jupyter-widgets/controls",
       "_view_module_version": "1.5.0",
       "_view_name": "HTMLView",
       "description": "",
       "description_tooltip": null,
       "layout": "IPY_MODEL_0fc6d0e36882466aaf8b89d9494bcb4b",
       "placeholder": "​",
       "style": "IPY_MODEL_72d70edb835346e3ad4cb858938b31f6",
       "value": "<div style=\"font-size:medium; background-color:#ececec;padding-left:2px;\">High-speed Rail</div>"
      }
     },
     "9eb5898e73f24ce89477ec1be4794b42": {
      "model_module": "@jupyter-widgets/controls",
      "model_module_version": "1.5.0",
      "model_name": "HTMLModel",
      "state": {
       "_dom_classes": [],
       "_model_module": "@jupyter-widgets/controls",
       "_model_module_version": "1.5.0",
       "_model_name": "HTMLModel",
       "_view_count": null,
       "_view_module": "@jupyter-widgets/controls",
       "_view_module_version": "1.5.0",
       "_view_name": "HTMLView",
       "description": "",
       "description_tooltip": null,
       "layout": "IPY_MODEL_2adb518af7044a69aad2c2de3ca0c421",
       "placeholder": "​",
       "style": "IPY_MODEL_c2bfffab4be34638b015fe10f7ce12d7",
       "value": "<div style=\"font-size:medium; background-color:white;padding-left:2px;\">Food</div>"
      }
     },
     "9eb929bcbe884854aa200ee89946f32e": {
      "model_module": "@jupyter-widgets/controls",
      "model_module_version": "1.5.0",
      "model_name": "HTMLModel",
      "state": {
       "_dom_classes": [],
       "_model_module": "@jupyter-widgets/controls",
       "_model_module_version": "1.5.0",
       "_model_name": "HTMLModel",
       "_view_count": null,
       "_view_module": "@jupyter-widgets/controls",
       "_view_module_version": "1.5.0",
       "_view_name": "HTMLView",
       "description": "",
       "description_tooltip": null,
       "layout": "IPY_MODEL_2adb518af7044a69aad2c2de3ca0c421",
       "placeholder": "​",
       "style": "IPY_MODEL_c8942f28aee74a109a25ebc5b96881a2",
       "value": "<div style=\"font-size:medium; background-color:#ececec;padding-left:2px;\">Land Use</div>"
      }
     },
     "9ef25adca0f34e40afd115a5a57bb79f": {
      "model_module": "@jupyter-widgets/controls",
      "model_module_version": "1.5.0",
      "model_name": "HTMLModel",
      "state": {
       "_dom_classes": [],
       "_model_module": "@jupyter-widgets/controls",
       "_model_module_version": "1.5.0",
       "_model_name": "HTMLModel",
       "_view_count": null,
       "_view_module": "@jupyter-widgets/controls",
       "_view_module_version": "1.5.0",
       "_view_name": "HTMLView",
       "description": "",
       "description_tooltip": null,
       "layout": "IPY_MODEL_2adb518af7044a69aad2c2de3ca0c421",
       "placeholder": "​",
       "style": "IPY_MODEL_53b39b2f4e814983bc6b4d0f6511fd76",
       "value": "<div style=\"font-size:medium; background-color:white;padding-left:2px;\">Land Use</div>"
      }
     },
     "9f77a8cfee37459eab9140f6bb10df38": {
      "model_module": "@jupyter-widgets/controls",
      "model_module_version": "1.5.0",
      "model_name": "DescriptionStyleModel",
      "state": {
       "_model_module": "@jupyter-widgets/controls",
       "_model_module_version": "1.5.0",
       "_model_name": "DescriptionStyleModel",
       "_view_count": null,
       "_view_module": "@jupyter-widgets/base",
       "_view_module_version": "1.2.0",
       "_view_name": "StyleView",
       "description_width": "0px"
      }
     },
     "9fdf833d282d4325b2b2a4c9636868dc": {
      "model_module": "@jupyter-widgets/controls",
      "model_module_version": "1.5.0",
      "model_name": "DescriptionStyleModel",
      "state": {
       "_model_module": "@jupyter-widgets/controls",
       "_model_module_version": "1.5.0",
       "_model_name": "DescriptionStyleModel",
       "_view_count": null,
       "_view_module": "@jupyter-widgets/base",
       "_view_module_version": "1.2.0",
       "_view_name": "StyleView",
       "description_width": ""
      }
     },
     "9ff7ca29faa847788c358b4c25bee024": {
      "model_module": "@jupyter-widgets/controls",
      "model_module_version": "1.5.0",
      "model_name": "HTMLModel",
      "state": {
       "_dom_classes": [],
       "_model_module": "@jupyter-widgets/controls",
       "_model_module_version": "1.5.0",
       "_model_name": "HTMLModel",
       "_view_count": null,
       "_view_module": "@jupyter-widgets/controls",
       "_view_module_version": "1.5.0",
       "_view_name": "HTMLView",
       "description": "",
       "description_tooltip": null,
       "layout": "IPY_MODEL_2adb518af7044a69aad2c2de3ca0c421",
       "placeholder": "​",
       "style": "IPY_MODEL_c9f7b20c7e0f423aa66ca86d6180401c",
       "value": "<div style=\"font-size:medium; background-color:#ececec;padding-left:2px;\">Buildings and Cities</div>"
      }
     },
     "a09df7a64d6b49289789445d8aa7d80f": {
      "model_module": "@jupyter-widgets/controls",
      "model_module_version": "1.5.0",
      "model_name": "CheckboxModel",
      "state": {
       "_dom_classes": [
        "checkbox_insulation"
       ],
       "_model_module": "@jupyter-widgets/controls",
       "_model_module_version": "1.5.0",
       "_model_name": "CheckboxModel",
       "_view_count": null,
       "_view_module": "@jupyter-widgets/controls",
       "_view_module_version": "1.5.0",
       "_view_name": "CheckboxView",
       "description": "",
       "description_tooltip": null,
       "disabled": false,
       "indent": true,
       "layout": "IPY_MODEL_bdef4bf3c7424855b736b0fa72c837ed",
       "style": "IPY_MODEL_7fe170e09136403f9b9f944d09146b36",
       "value": false
      }
     },
     "a2478675e0c64ceea62250a7c0563f80": {
      "model_module": "@jupyter-widgets/controls",
      "model_module_version": "1.5.0",
      "model_name": "DescriptionStyleModel",
      "state": {
       "_model_module": "@jupyter-widgets/controls",
       "_model_module_version": "1.5.0",
       "_model_name": "DescriptionStyleModel",
       "_view_count": null,
       "_view_module": "@jupyter-widgets/base",
       "_view_module_version": "1.2.0",
       "_view_name": "StyleView",
       "description_width": ""
      }
     },
     "a34a7bb706bd45b2962bd84ddad61c8c": {
      "model_module": "@jupyter-widgets/controls",
      "model_module_version": "1.5.0",
      "model_name": "DescriptionStyleModel",
      "state": {
       "_model_module": "@jupyter-widgets/controls",
       "_model_module_version": "1.5.0",
       "_model_name": "DescriptionStyleModel",
       "_view_count": null,
       "_view_module": "@jupyter-widgets/base",
       "_view_module_version": "1.2.0",
       "_view_name": "StyleView",
       "description_width": ""
      }
     },
     "a35cf04c2dc34c0eafff855acfdb764b": {
      "model_module": "@jupyter-widgets/controls",
      "model_module_version": "1.5.0",
      "model_name": "HTMLModel",
      "state": {
       "_dom_classes": [],
       "_model_module": "@jupyter-widgets/controls",
       "_model_module_version": "1.5.0",
       "_model_name": "HTMLModel",
       "_view_count": null,
       "_view_module": "@jupyter-widgets/controls",
       "_view_module_version": "1.5.0",
       "_view_name": "HTMLView",
       "description": "",
       "description_tooltip": null,
       "layout": "IPY_MODEL_0fc6d0e36882466aaf8b89d9494bcb4b",
       "placeholder": "​",
       "style": "IPY_MODEL_d396fefdde4d41399e9f44c9a9e9f88e",
       "value": "<div style=\"font-size:medium; background-color:white;padding-left:2px;\">Methane Digesters (Small)</div>"
      }
     },
     "a39a852f058346ca82ba0a37ab1680b0": {
      "model_module": "@jupyter-widgets/controls",
      "model_module_version": "1.5.0",
      "model_name": "DescriptionStyleModel",
      "state": {
       "_model_module": "@jupyter-widgets/controls",
       "_model_module_version": "1.5.0",
       "_model_name": "DescriptionStyleModel",
       "_view_count": null,
       "_view_module": "@jupyter-widgets/base",
       "_view_module_version": "1.2.0",
       "_view_name": "StyleView",
       "description_width": "0px"
      }
     },
     "a3f0503406774ccc9fd5580793edd581": {
      "model_module": "@jupyter-widgets/controls",
      "model_module_version": "1.5.0",
      "model_name": "HBoxModel",
      "state": {
       "_dom_classes": [],
       "_model_module": "@jupyter-widgets/controls",
       "_model_module_version": "1.5.0",
       "_model_name": "HBoxModel",
       "_view_count": null,
       "_view_module": "@jupyter-widgets/controls",
       "_view_module_version": "1.5.0",
       "_view_name": "HBoxView",
       "box_style": "",
       "children": [
        "IPY_MODEL_0459466656404f0ea7e34f7fd8561bf8",
        "IPY_MODEL_8819ee5d55d04423a3b2187115df7b42",
        "IPY_MODEL_6705c127613e44de9061a5acfa891ea2",
        "IPY_MODEL_ca4f204bba824d7fb39f45b5764cb658"
       ],
       "layout": "IPY_MODEL_804c51697f2b4229a0f02be6b85b1659"
      }
     },
     "a43dc03eb5f54292bb34b0f8e997b7b3": {
      "model_module": "@jupyter-widgets/controls",
      "model_module_version": "1.5.0",
      "model_name": "HBoxModel",
      "state": {
       "_dom_classes": [],
       "_model_module": "@jupyter-widgets/controls",
       "_model_module_version": "1.5.0",
       "_model_name": "HBoxModel",
       "_view_count": null,
       "_view_module": "@jupyter-widgets/controls",
       "_view_module_version": "1.5.0",
       "_view_name": "HBoxView",
       "box_style": "",
       "children": [
        "IPY_MODEL_260a9c6a7258454c969cf3ae5b1e246b",
        "IPY_MODEL_826afc097e924d5dbb2ec53fdb196d64",
        "IPY_MODEL_dbe9e4fd8b514df1864bc20ad9c55ec6",
        "IPY_MODEL_97910267326b4e56839e0da9be9bb156"
       ],
       "layout": "IPY_MODEL_804c51697f2b4229a0f02be6b85b1659"
      }
     },
     "a45f27f7eb8746e682476f86d36c073d": {
      "model_module": "@jupyter-widgets/controls",
      "model_module_version": "1.5.0",
      "model_name": "HBoxModel",
      "state": {
       "_dom_classes": [],
       "_model_module": "@jupyter-widgets/controls",
       "_model_module_version": "1.5.0",
       "_model_name": "HBoxModel",
       "_view_count": null,
       "_view_module": "@jupyter-widgets/controls",
       "_view_module_version": "1.5.0",
       "_view_name": "HBoxView",
       "box_style": "",
       "children": [
        "IPY_MODEL_23c5cf1bde644ecbbcf06c5352af6710",
        "IPY_MODEL_3c1197e23288409281ee234a060b8d91",
        "IPY_MODEL_e9903369105a4356888f2b2538cddc5e",
        "IPY_MODEL_32f45d39bd694aca800859857a469552"
       ],
       "layout": "IPY_MODEL_804c51697f2b4229a0f02be6b85b1659"
      }
     },
     "a50699965118432d8f5b01c7598845af": {
      "model_module": "@jupyter-widgets/controls",
      "model_module_version": "1.5.0",
      "model_name": "DescriptionStyleModel",
      "state": {
       "_model_module": "@jupyter-widgets/controls",
       "_model_module_version": "1.5.0",
       "_model_name": "DescriptionStyleModel",
       "_view_count": null,
       "_view_module": "@jupyter-widgets/base",
       "_view_module_version": "1.2.0",
       "_view_name": "StyleView",
       "description_width": "0px"
      }
     },
     "a5210c77da1c4e2fae73e68ecfd9075d": {
      "model_module": "@jupyter-widgets/controls",
      "model_module_version": "1.5.0",
      "model_name": "HTMLModel",
      "state": {
       "_dom_classes": [],
       "_model_module": "@jupyter-widgets/controls",
       "_model_module_version": "1.5.0",
       "_model_name": "HTMLModel",
       "_view_count": null,
       "_view_module": "@jupyter-widgets/controls",
       "_view_module_version": "1.5.0",
       "_view_name": "HTMLView",
       "description": "",
       "description_tooltip": null,
       "layout": "IPY_MODEL_2adb518af7044a69aad2c2de3ca0c421",
       "placeholder": "​",
       "style": "IPY_MODEL_a5e15dab9ae94c0bbbe739f0a1260590",
       "value": "<div style=\"font-size:medium; background-color:white;padding-left:2px;\">Land Use</div>"
      }
     },
     "a592d94291a74a9ea3d929e7a3ec9bac": {
      "model_module": "@jupyter-widgets/controls",
      "model_module_version": "1.5.0",
      "model_name": "DescriptionStyleModel",
      "state": {
       "_model_module": "@jupyter-widgets/controls",
       "_model_module_version": "1.5.0",
       "_model_name": "DescriptionStyleModel",
       "_view_count": null,
       "_view_module": "@jupyter-widgets/base",
       "_view_module_version": "1.2.0",
       "_view_name": "StyleView",
       "description_width": "0px"
      }
     },
     "a5e15dab9ae94c0bbbe739f0a1260590": {
      "model_module": "@jupyter-widgets/controls",
      "model_module_version": "1.5.0",
      "model_name": "DescriptionStyleModel",
      "state": {
       "_model_module": "@jupyter-widgets/controls",
       "_model_module_version": "1.5.0",
       "_model_name": "DescriptionStyleModel",
       "_view_count": null,
       "_view_module": "@jupyter-widgets/base",
       "_view_module_version": "1.2.0",
       "_view_name": "StyleView",
       "description_width": ""
      }
     },
     "a627271e02b848ebbadcac717195151b": {
      "model_module": "@jupyter-widgets/controls",
      "model_module_version": "1.5.0",
      "model_name": "DescriptionStyleModel",
      "state": {
       "_model_module": "@jupyter-widgets/controls",
       "_model_module_version": "1.5.0",
       "_model_name": "DescriptionStyleModel",
       "_view_count": null,
       "_view_module": "@jupyter-widgets/base",
       "_view_module_version": "1.2.0",
       "_view_name": "StyleView",
       "description_width": ""
      }
     },
     "a627bc6da8744fcfbb08ef8b88116faa": {
      "model_module": "@jupyter-widgets/controls",
      "model_module_version": "1.5.0",
      "model_name": "HTMLModel",
      "state": {
       "_dom_classes": [],
       "_model_module": "@jupyter-widgets/controls",
       "_model_module_version": "1.5.0",
       "_model_name": "HTMLModel",
       "_view_count": null,
       "_view_module": "@jupyter-widgets/controls",
       "_view_module_version": "1.5.0",
       "_view_name": "HTMLView",
       "description": "",
       "description_tooltip": null,
       "layout": "IPY_MODEL_2adb518af7044a69aad2c2de3ca0c421",
       "placeholder": "​",
       "style": "IPY_MODEL_7fe652e6cb454200af02b309518a27ed",
       "value": "<div style=\"font-size:medium; background-color:#ececec;padding-left:2px;\">Land Use</div>"
      }
     },
     "a68adbd3c1e640bd8f3eb4b63e4b96c5": {
      "model_module": "@jupyter-widgets/controls",
      "model_module_version": "1.5.0",
      "model_name": "DescriptionStyleModel",
      "state": {
       "_model_module": "@jupyter-widgets/controls",
       "_model_module_version": "1.5.0",
       "_model_name": "DescriptionStyleModel",
       "_view_count": null,
       "_view_module": "@jupyter-widgets/base",
       "_view_module_version": "1.2.0",
       "_view_name": "StyleView",
       "description_width": ""
      }
     },
     "a6d1bea640b9405bba531a88489eaf25": {
      "model_module": "@jupyter-widgets/controls",
      "model_module_version": "1.5.0",
      "model_name": "HBoxModel",
      "state": {
       "_dom_classes": [],
       "_model_module": "@jupyter-widgets/controls",
       "_model_module_version": "1.5.0",
       "_model_name": "HBoxModel",
       "_view_count": null,
       "_view_module": "@jupyter-widgets/controls",
       "_view_module_version": "1.5.0",
       "_view_name": "HBoxView",
       "box_style": "",
       "children": [
        "IPY_MODEL_2081061a697846fe832e865a0aaec5a1",
        "IPY_MODEL_871b45294cbd4ee686c0ac3a8eea4e36",
        "IPY_MODEL_86aa44ec46794881a7f9f1a65d224c57",
        "IPY_MODEL_12aa41f51216479ba57efbe4a370d318"
       ],
       "layout": "IPY_MODEL_804c51697f2b4229a0f02be6b85b1659"
      }
     },
     "a6e3f0858ac342e6965e4961ce08c7e5": {
      "model_module": "@jupyter-widgets/controls",
      "model_module_version": "1.5.0",
      "model_name": "DescriptionStyleModel",
      "state": {
       "_model_module": "@jupyter-widgets/controls",
       "_model_module_version": "1.5.0",
       "_model_name": "DescriptionStyleModel",
       "_view_count": null,
       "_view_module": "@jupyter-widgets/base",
       "_view_module_version": "1.2.0",
       "_view_name": "StyleView",
       "description_width": ""
      }
     },
     "a6e722e2e3524d72bb077035580e148d": {
      "model_module": "@jupyter-widgets/controls",
      "model_module_version": "1.5.0",
      "model_name": "DescriptionStyleModel",
      "state": {
       "_model_module": "@jupyter-widgets/controls",
       "_model_module_version": "1.5.0",
       "_model_name": "DescriptionStyleModel",
       "_view_count": null,
       "_view_module": "@jupyter-widgets/base",
       "_view_module_version": "1.2.0",
       "_view_name": "StyleView",
       "description_width": "0px"
      }
     },
     "a78f5bc093264ee09ef488be9818a1ff": {
      "model_module": "@jupyter-widgets/controls",
      "model_module_version": "1.5.0",
      "model_name": "HTMLModel",
      "state": {
       "_dom_classes": [],
       "_model_module": "@jupyter-widgets/controls",
       "_model_module_version": "1.5.0",
       "_model_name": "HTMLModel",
       "_view_count": null,
       "_view_module": "@jupyter-widgets/controls",
       "_view_module_version": "1.5.0",
       "_view_name": "HTMLView",
       "description": "",
       "description_tooltip": null,
       "layout": "IPY_MODEL_0fc6d0e36882466aaf8b89d9494bcb4b",
       "placeholder": "​",
       "style": "IPY_MODEL_0a1b0f6d2a364119856df947c4718839",
       "value": "<div style=\"font-size:medium; background-color:#ececec;padding-left:2px;\">Plant-Rich Diet</div>"
      }
     },
     "a7d3a1d87b654aab982153bc7f347973": {
      "model_module": "@jupyter-widgets/controls",
      "model_module_version": "1.5.0",
      "model_name": "DescriptionStyleModel",
      "state": {
       "_model_module": "@jupyter-widgets/controls",
       "_model_module_version": "1.5.0",
       "_model_name": "DescriptionStyleModel",
       "_view_count": null,
       "_view_module": "@jupyter-widgets/base",
       "_view_module_version": "1.2.0",
       "_view_name": "StyleView",
       "description_width": ""
      }
     },
     "a802f9ad0b094e92a0a0a077ebb4f128": {
      "model_module": "@jupyter-widgets/controls",
      "model_module_version": "1.5.0",
      "model_name": "HBoxModel",
      "state": {
       "_dom_classes": [],
       "_model_module": "@jupyter-widgets/controls",
       "_model_module_version": "1.5.0",
       "_model_name": "HBoxModel",
       "_view_count": null,
       "_view_module": "@jupyter-widgets/controls",
       "_view_module_version": "1.5.0",
       "_view_name": "HBoxView",
       "box_style": "",
       "children": [
        "IPY_MODEL_1ccacf34a6e046aa8e43d3ba2e765fe8",
        "IPY_MODEL_0e6c52745c7a42868161721d8fa6afc0",
        "IPY_MODEL_9bc2cb341c864e3b9a4fda205d29de2d",
        "IPY_MODEL_dbc6d611f1c1482c8953c32ec49c1e36"
       ],
       "layout": "IPY_MODEL_804c51697f2b4229a0f02be6b85b1659"
      }
     },
     "a8bc7539e08748659a4e9168141b854c": {
      "model_module": "@jupyter-widgets/controls",
      "model_module_version": "1.5.0",
      "model_name": "DescriptionStyleModel",
      "state": {
       "_model_module": "@jupyter-widgets/controls",
       "_model_module_version": "1.5.0",
       "_model_name": "DescriptionStyleModel",
       "_view_count": null,
       "_view_module": "@jupyter-widgets/base",
       "_view_module_version": "1.2.0",
       "_view_name": "StyleView",
       "description_width": ""
      }
     },
     "a9a115719ade47e280b62fe60a2063ff": {
      "model_module": "@jupyter-widgets/controls",
      "model_module_version": "1.5.0",
      "model_name": "HTMLModel",
      "state": {
       "_dom_classes": [],
       "_model_module": "@jupyter-widgets/controls",
       "_model_module_version": "1.5.0",
       "_model_name": "HTMLModel",
       "_view_count": null,
       "_view_module": "@jupyter-widgets/controls",
       "_view_module_version": "1.5.0",
       "_view_name": "HTMLView",
       "description": "",
       "description_tooltip": null,
       "layout": "IPY_MODEL_2adb518af7044a69aad2c2de3ca0c421",
       "placeholder": "​",
       "style": "IPY_MODEL_a68adbd3c1e640bd8f3eb4b63e4b96c5",
       "value": "<div style=\"font-size:medium; background-color:#ececec;padding-left:2px;\">Electricity Generation</div>"
      }
     },
     "a9a391c168364c07ab8d0a1e7d6b6830": {
      "model_module": "@jupyter-widgets/controls",
      "model_module_version": "1.5.0",
      "model_name": "HTMLModel",
      "state": {
       "_dom_classes": [],
       "_model_module": "@jupyter-widgets/controls",
       "_model_module_version": "1.5.0",
       "_model_name": "HTMLModel",
       "_view_count": null,
       "_view_module": "@jupyter-widgets/controls",
       "_view_module_version": "1.5.0",
       "_view_name": "HTMLView",
       "description": "",
       "description_tooltip": null,
       "layout": "IPY_MODEL_0fc6d0e36882466aaf8b89d9494bcb4b",
       "placeholder": "​",
       "style": "IPY_MODEL_ca16a81d0e594059b284fe2ce5f31606",
       "value": "<div style=\"font-size:medium; background-color:#ececec;padding-left:2px;\">Trains</div>"
      }
     },
     "aa994564de3541d5a4e8657f2edb07b0": {
      "model_module": "@jupyter-widgets/controls",
      "model_module_version": "1.5.0",
      "model_name": "HTMLModel",
      "state": {
       "_dom_classes": [],
       "_model_module": "@jupyter-widgets/controls",
       "_model_module_version": "1.5.0",
       "_model_name": "HTMLModel",
       "_view_count": null,
       "_view_module": "@jupyter-widgets/controls",
       "_view_module_version": "1.5.0",
       "_view_name": "HTMLView",
       "description": "",
       "description_tooltip": null,
       "layout": "IPY_MODEL_2adb518af7044a69aad2c2de3ca0c421",
       "placeholder": "​",
       "style": "IPY_MODEL_75064cdac9a74377961332471cddb9cd",
       "value": "<div style=\"font-size:medium; background-color:#ececec;padding-left:2px;\">Land Use</div>"
      }
     },
     "ab9cac7dcf6a48a7be62b989028262a8": {
      "model_module": "@jupyter-widgets/controls",
      "model_module_version": "1.5.0",
      "model_name": "DescriptionStyleModel",
      "state": {
       "_model_module": "@jupyter-widgets/controls",
       "_model_module_version": "1.5.0",
       "_model_name": "DescriptionStyleModel",
       "_view_count": null,
       "_view_module": "@jupyter-widgets/base",
       "_view_module_version": "1.2.0",
       "_view_name": "StyleView",
       "description_width": ""
      }
     },
     "abfe38f77da942a2bcb99564837b1c6b": {
      "model_module": "@jupyter-widgets/controls",
      "model_module_version": "1.5.0",
      "model_name": "DescriptionStyleModel",
      "state": {
       "_model_module": "@jupyter-widgets/controls",
       "_model_module_version": "1.5.0",
       "_model_name": "DescriptionStyleModel",
       "_view_count": null,
       "_view_module": "@jupyter-widgets/base",
       "_view_module_version": "1.2.0",
       "_view_name": "StyleView",
       "description_width": ""
      }
     },
     "ac0a8b8a4fea41ad95bf8155be6c0af8": {
      "model_module": "@jupyter-widgets/controls",
      "model_module_version": "1.5.0",
      "model_name": "HTMLModel",
      "state": {
       "_dom_classes": [],
       "_model_module": "@jupyter-widgets/controls",
       "_model_module_version": "1.5.0",
       "_model_name": "HTMLModel",
       "_view_count": null,
       "_view_module": "@jupyter-widgets/controls",
       "_view_module_version": "1.5.0",
       "_view_name": "HTMLView",
       "description": "",
       "description_tooltip": null,
       "layout": "IPY_MODEL_1a17608c7cf54c5293a88b93567107e5",
       "placeholder": "​",
       "style": "IPY_MODEL_5e1a53aec4e749e3bb247184847cc202",
       "value": "<div style=\"font-size:medium; background-color:white;padding-left:2px;\">70.53</div>"
      }
     },
     "ac68a5d2577e43b4960e4f88dd4dc512": {
      "model_module": "@jupyter-widgets/controls",
      "model_module_version": "1.5.0",
      "model_name": "HBoxModel",
      "state": {
       "_dom_classes": [],
       "_model_module": "@jupyter-widgets/controls",
       "_model_module_version": "1.5.0",
       "_model_name": "HBoxModel",
       "_view_count": null,
       "_view_module": "@jupyter-widgets/controls",
       "_view_module_version": "1.5.0",
       "_view_name": "HBoxView",
       "box_style": "",
       "children": [
        "IPY_MODEL_0d63e7c518f340a5aa9fc998b42eecd0",
        "IPY_MODEL_d8025c160feb4fd1a307e768b6c18165",
        "IPY_MODEL_568d3d4dd32242bab17fffcd812a695a",
        "IPY_MODEL_09df5522d8414bc69a4c6754b78afd52"
       ],
       "layout": "IPY_MODEL_804c51697f2b4229a0f02be6b85b1659"
      }
     },
     "acecad4a440149dba0c200aa8bbe31eb": {
      "model_module": "@jupyter-widgets/controls",
      "model_module_version": "1.5.0",
      "model_name": "CheckboxModel",
      "state": {
       "_dom_classes": [
        "checkbox_trucks"
       ],
       "_model_module": "@jupyter-widgets/controls",
       "_model_module_version": "1.5.0",
       "_model_name": "CheckboxModel",
       "_view_count": null,
       "_view_module": "@jupyter-widgets/controls",
       "_view_module_version": "1.5.0",
       "_view_name": "CheckboxView",
       "description": "",
       "description_tooltip": null,
       "disabled": false,
       "indent": true,
       "layout": "IPY_MODEL_bdef4bf3c7424855b736b0fa72c837ed",
       "style": "IPY_MODEL_f34b9749de994b5abb092a1e7630addd",
       "value": false
      }
     },
     "af4a5f60625d437ca541b9cb88024c17": {
      "model_module": "@jupyter-widgets/controls",
      "model_module_version": "1.5.0",
      "model_name": "DescriptionStyleModel",
      "state": {
       "_model_module": "@jupyter-widgets/controls",
       "_model_module_version": "1.5.0",
       "_model_name": "DescriptionStyleModel",
       "_view_count": null,
       "_view_module": "@jupyter-widgets/base",
       "_view_module_version": "1.2.0",
       "_view_name": "StyleView",
       "description_width": ""
      }
     },
     "af9e244f60364dfaaec6c71e28647c51": {
      "model_module": "@jupyter-widgets/controls",
      "model_module_version": "1.5.0",
      "model_name": "DescriptionStyleModel",
      "state": {
       "_model_module": "@jupyter-widgets/controls",
       "_model_module_version": "1.5.0",
       "_model_name": "DescriptionStyleModel",
       "_view_count": null,
       "_view_module": "@jupyter-widgets/base",
       "_view_module_version": "1.2.0",
       "_view_name": "StyleView",
       "description_width": ""
      }
     },
     "b030c57acee6403b82aa9fbc1ceabbb2": {
      "model_module": "@jupyter-widgets/controls",
      "model_module_version": "1.5.0",
      "model_name": "DescriptionStyleModel",
      "state": {
       "_model_module": "@jupyter-widgets/controls",
       "_model_module_version": "1.5.0",
       "_model_name": "DescriptionStyleModel",
       "_view_count": null,
       "_view_module": "@jupyter-widgets/base",
       "_view_module_version": "1.2.0",
       "_view_name": "StyleView",
       "description_width": "0px"
      }
     },
     "b0c1000025324fafad04c029812ed266": {
      "model_module": "@jupyter-widgets/controls",
      "model_module_version": "1.5.0",
      "model_name": "HTMLModel",
      "state": {
       "_dom_classes": [],
       "_model_module": "@jupyter-widgets/controls",
       "_model_module_version": "1.5.0",
       "_model_name": "HTMLModel",
       "_view_count": null,
       "_view_module": "@jupyter-widgets/controls",
       "_view_module_version": "1.5.0",
       "_view_name": "HTMLView",
       "description": "",
       "description_tooltip": null,
       "layout": "IPY_MODEL_1a17608c7cf54c5293a88b93567107e5",
       "placeholder": "​",
       "style": "IPY_MODEL_5a2f1037e134462ba36ec2f4669e6c26",
       "value": "<div style=\"font-size:medium; background-color:#ececec;padding-left:2px;\">16.09</div>"
      }
     },
     "b0da96dc1c16424184e397251d06d61b": {
      "model_module": "@jupyter-widgets/controls",
      "model_module_version": "1.5.0",
      "model_name": "HTMLModel",
      "state": {
       "_dom_classes": [],
       "_model_module": "@jupyter-widgets/controls",
       "_model_module_version": "1.5.0",
       "_model_name": "HTMLModel",
       "_view_count": null,
       "_view_module": "@jupyter-widgets/controls",
       "_view_module_version": "1.5.0",
       "_view_name": "HTMLView",
       "description": "",
       "description_tooltip": null,
       "layout": "IPY_MODEL_1a17608c7cf54c5293a88b93567107e5",
       "placeholder": "​",
       "style": "IPY_MODEL_a627271e02b848ebbadcac717195151b",
       "value": "<div style=\"font-size:medium; background-color:#ececec;padding-left:2px;\">84.60</div>"
      }
     },
     "b1af30fe4a8945da8b6fa9a64a595e23": {
      "model_module": "@jupyter-widgets/controls",
      "model_module_version": "1.5.0",
      "model_name": "HTMLModel",
      "state": {
       "_dom_classes": [],
       "_model_module": "@jupyter-widgets/controls",
       "_model_module_version": "1.5.0",
       "_model_name": "HTMLModel",
       "_view_count": null,
       "_view_module": "@jupyter-widgets/controls",
       "_view_module_version": "1.5.0",
       "_view_name": "HTMLView",
       "description": "",
       "description_tooltip": null,
       "layout": "IPY_MODEL_1a17608c7cf54c5293a88b93567107e5",
       "placeholder": "​",
       "style": "IPY_MODEL_661c0b85edbb492bbd0aa4b7d72e0e86",
       "value": "<div style=\"font-size:medium; background-color:#ececec;padding-left:2px;\">9.28</div>"
      }
     },
     "b22a21d66d9f4e2fa8d4a4a7a4e2ef32": {
      "model_module": "@jupyter-widgets/controls",
      "model_module_version": "1.5.0",
      "model_name": "DescriptionStyleModel",
      "state": {
       "_model_module": "@jupyter-widgets/controls",
       "_model_module_version": "1.5.0",
       "_model_name": "DescriptionStyleModel",
       "_view_count": null,
       "_view_module": "@jupyter-widgets/base",
       "_view_module_version": "1.2.0",
       "_view_name": "StyleView",
       "description_width": ""
      }
     },
     "b31ac15ba5154cb0803530fabc876a75": {
      "model_module": "@jupyter-widgets/controls",
      "model_module_version": "1.5.0",
      "model_name": "HTMLModel",
      "state": {
       "_dom_classes": [],
       "_model_module": "@jupyter-widgets/controls",
       "_model_module_version": "1.5.0",
       "_model_name": "HTMLModel",
       "_view_count": null,
       "_view_module": "@jupyter-widgets/controls",
       "_view_module_version": "1.5.0",
       "_view_name": "HTMLView",
       "description": "",
       "description_tooltip": null,
       "layout": "IPY_MODEL_0fc6d0e36882466aaf8b89d9494bcb4b",
       "placeholder": "​",
       "style": "IPY_MODEL_ed19586e3a0841e8ad9083bb3b802f1d",
       "value": "<div style=\"font-size:medium; background-color:white;padding-left:2px;\">Green Roofs</div>"
      }
     },
     "b369b9ee5f0a40d88824af7bf9c9c764": {
      "model_module": "@jupyter-widgets/controls",
      "model_module_version": "1.5.0",
      "model_name": "CheckboxModel",
      "state": {
       "_dom_classes": [
        "checkbox_nuclear"
       ],
       "_model_module": "@jupyter-widgets/controls",
       "_model_module_version": "1.5.0",
       "_model_name": "CheckboxModel",
       "_view_count": null,
       "_view_module": "@jupyter-widgets/controls",
       "_view_module_version": "1.5.0",
       "_view_name": "CheckboxView",
       "description": "",
       "description_tooltip": null,
       "disabled": false,
       "indent": true,
       "layout": "IPY_MODEL_bdef4bf3c7424855b736b0fa72c837ed",
       "style": "IPY_MODEL_25638be4a4524eecaa6acf7b81816ec7",
       "value": false
      }
     },
     "b44c01e45b754bdf8bf607b1b88213fd": {
      "model_module": "@jupyter-widgets/controls",
      "model_module_version": "1.5.0",
      "model_name": "DescriptionStyleModel",
      "state": {
       "_model_module": "@jupyter-widgets/controls",
       "_model_module_version": "1.5.0",
       "_model_name": "DescriptionStyleModel",
       "_view_count": null,
       "_view_module": "@jupyter-widgets/base",
       "_view_module_version": "1.2.0",
       "_view_name": "StyleView",
       "description_width": "0px"
      }
     },
     "b4bc583764a9410198ddc3e58a81139c": {
      "model_module": "@jupyter-widgets/controls",
      "model_module_version": "1.5.0",
      "model_name": "HTMLModel",
      "state": {
       "_dom_classes": [],
       "_model_module": "@jupyter-widgets/controls",
       "_model_module_version": "1.5.0",
       "_model_name": "HTMLModel",
       "_view_count": null,
       "_view_module": "@jupyter-widgets/controls",
       "_view_module_version": "1.5.0",
       "_view_name": "HTMLView",
       "description": "",
       "description_tooltip": null,
       "layout": "IPY_MODEL_2adb518af7044a69aad2c2de3ca0c421",
       "placeholder": "​",
       "style": "IPY_MODEL_088831fb30724ce1b085b70076589c4a",
       "value": "<div style=\"font-size:medium; background-color:white;padding-left:2px;\">Buildings and Cities</div>"
      }
     },
     "b53d4ed9d361434da95e85b1ac22a7e7": {
      "model_module": "@jupyter-widgets/controls",
      "model_module_version": "1.5.0",
      "model_name": "HTMLModel",
      "state": {
       "_dom_classes": [],
       "_model_module": "@jupyter-widgets/controls",
       "_model_module_version": "1.5.0",
       "_model_name": "HTMLModel",
       "_view_count": null,
       "_view_module": "@jupyter-widgets/controls",
       "_view_module_version": "1.5.0",
       "_view_name": "HTMLView",
       "description": "",
       "description_tooltip": null,
       "layout": "IPY_MODEL_1a17608c7cf54c5293a88b93567107e5",
       "placeholder": "​",
       "style": "IPY_MODEL_f5d6c4597e764a85871f2ce7596e41b7",
       "value": "<div style=\"font-size:medium; background-color:#ececec;padding-left:2px;\">2.31</div>"
      }
     },
     "b6ab341418f9487e8c2c087b475bb777": {
      "model_module": "@jupyter-widgets/controls",
      "model_module_version": "1.5.0",
      "model_name": "DescriptionStyleModel",
      "state": {
       "_model_module": "@jupyter-widgets/controls",
       "_model_module_version": "1.5.0",
       "_model_name": "DescriptionStyleModel",
       "_view_count": null,
       "_view_module": "@jupyter-widgets/base",
       "_view_module_version": "1.2.0",
       "_view_name": "StyleView",
       "description_width": "0px"
      }
     },
     "b783bdf06d3f40efbdf6e7574978c46f": {
      "model_module": "@jupyter-widgets/controls",
      "model_module_version": "1.5.0",
      "model_name": "CheckboxModel",
      "state": {
       "_dom_classes": [
        "checkbox_offshorewind"
       ],
       "_model_module": "@jupyter-widgets/controls",
       "_model_module_version": "1.5.0",
       "_model_name": "CheckboxModel",
       "_view_count": null,
       "_view_module": "@jupyter-widgets/controls",
       "_view_module_version": "1.5.0",
       "_view_name": "CheckboxView",
       "description": "",
       "description_tooltip": null,
       "disabled": false,
       "indent": true,
       "layout": "IPY_MODEL_bdef4bf3c7424855b736b0fa72c837ed",
       "style": "IPY_MODEL_c87db73045584910bcfe25023299bb9c",
       "value": false
      }
     },
     "b7efaeb9958c435585409955ad3d9b77": {
      "model_module": "@jupyter-widgets/controls",
      "model_module_version": "1.5.0",
      "model_name": "DescriptionStyleModel",
      "state": {
       "_model_module": "@jupyter-widgets/controls",
       "_model_module_version": "1.5.0",
       "_model_name": "DescriptionStyleModel",
       "_view_count": null,
       "_view_module": "@jupyter-widgets/base",
       "_view_module_version": "1.2.0",
       "_view_name": "StyleView",
       "description_width": ""
      }
     },
     "b81d889671f1418c9b167cdd6a9c4494": {
      "model_module": "@jupyter-widgets/controls",
      "model_module_version": "1.5.0",
      "model_name": "HTMLModel",
      "state": {
       "_dom_classes": [],
       "_model_module": "@jupyter-widgets/controls",
       "_model_module_version": "1.5.0",
       "_model_name": "HTMLModel",
       "_view_count": null,
       "_view_module": "@jupyter-widgets/controls",
       "_view_module_version": "1.5.0",
       "_view_name": "HTMLView",
       "description": "",
       "description_tooltip": null,
       "layout": "IPY_MODEL_2adb518af7044a69aad2c2de3ca0c421",
       "placeholder": "​",
       "style": "IPY_MODEL_699879f773374cb98eb98b9375eb644c",
       "value": "<div style=\"font-size:medium; background-color:white;padding-left:2px;\">Land Use</div>"
      }
     },
     "b894eba1b391419b92e7296e6d695b0a": {
      "model_module": "@jupyter-widgets/controls",
      "model_module_version": "1.5.0",
      "model_name": "DescriptionStyleModel",
      "state": {
       "_model_module": "@jupyter-widgets/controls",
       "_model_module_version": "1.5.0",
       "_model_name": "DescriptionStyleModel",
       "_view_count": null,
       "_view_module": "@jupyter-widgets/base",
       "_view_module_version": "1.2.0",
       "_view_name": "StyleView",
       "description_width": ""
      }
     },
     "b89ab2b1fab04899b999ff31ab0bd274": {
      "model_module": "@jupyter-widgets/controls",
      "model_module_version": "1.5.0",
      "model_name": "HTMLModel",
      "state": {
       "_dom_classes": [],
       "_model_module": "@jupyter-widgets/controls",
       "_model_module_version": "1.5.0",
       "_model_name": "HTMLModel",
       "_view_count": null,
       "_view_module": "@jupyter-widgets/controls",
       "_view_module_version": "1.5.0",
       "_view_name": "HTMLView",
       "description": "",
       "description_tooltip": null,
       "layout": "IPY_MODEL_2adb518af7044a69aad2c2de3ca0c421",
       "placeholder": "​",
       "style": "IPY_MODEL_d02d90544e3a4f40b31f62ca5060c0d9",
       "value": "<div style=\"font-size:medium; background-color:white;padding-left:2px;\">Materials</div>"
      }
     },
     "b8bb4468d3a743d69de918905d038676": {
      "model_module": "@jupyter-widgets/controls",
      "model_module_version": "1.5.0",
      "model_name": "DescriptionStyleModel",
      "state": {
       "_model_module": "@jupyter-widgets/controls",
       "_model_module_version": "1.5.0",
       "_model_name": "DescriptionStyleModel",
       "_view_count": null,
       "_view_module": "@jupyter-widgets/base",
       "_view_module_version": "1.2.0",
       "_view_name": "StyleView",
       "description_width": ""
      }
     },
     "b8d51cb66acb42489aa01410c6fe18ea": {
      "model_module": "@jupyter-widgets/controls",
      "model_module_version": "1.5.0",
      "model_name": "ButtonStyleModel",
      "state": {
       "_model_module": "@jupyter-widgets/controls",
       "_model_module_version": "1.5.0",
       "_model_name": "ButtonStyleModel",
       "_view_count": null,
       "_view_module": "@jupyter-widgets/base",
       "_view_module_version": "1.2.0",
       "_view_name": "StyleView",
       "button_color": null,
       "font_weight": ""
      }
     },
     "b90a779b595d4374ae7d870c07088a45": {
      "model_module": "@jupyter-widgets/controls",
      "model_module_version": "1.5.0",
      "model_name": "DescriptionStyleModel",
      "state": {
       "_model_module": "@jupyter-widgets/controls",
       "_model_module_version": "1.5.0",
       "_model_name": "DescriptionStyleModel",
       "_view_count": null,
       "_view_module": "@jupyter-widgets/base",
       "_view_module_version": "1.2.0",
       "_view_name": "StyleView",
       "description_width": ""
      }
     },
     "b91d18e781ec4df4b72c8fe8b6e31a0a": {
      "model_module": "@jupyter-widgets/controls",
      "model_module_version": "1.5.0",
      "model_name": "CheckboxModel",
      "state": {
       "_dom_classes": [
        "checkbox_"
       ],
       "_model_module": "@jupyter-widgets/controls",
       "_model_module_version": "1.5.0",
       "_model_name": "CheckboxModel",
       "_view_count": null,
       "_view_module": "@jupyter-widgets/controls",
       "_view_module_version": "1.5.0",
       "_view_name": "CheckboxView",
       "description": "",
       "description_tooltip": null,
       "disabled": true,
       "indent": true,
       "layout": "IPY_MODEL_bdef4bf3c7424855b736b0fa72c837ed",
       "style": "IPY_MODEL_ebf83b4241be460fa92cd1e6798fcca3",
       "value": false
      }
     },
     "b9319e5bafb64a699d250de729feebcb": {
      "model_module": "@jupyter-widgets/controls",
      "model_module_version": "1.5.0",
      "model_name": "TabModel",
      "state": {
       "_dom_classes": [
        "web_ui_tab_bar"
       ],
       "_model_module": "@jupyter-widgets/controls",
       "_model_module_version": "1.5.0",
       "_model_name": "TabModel",
       "_titles": {
        "0": "Overview"
       },
       "_view_count": null,
       "_view_module": "@jupyter-widgets/controls",
       "_view_module_version": "1.5.0",
       "_view_name": "TabView",
       "box_style": "",
       "children": [
        "IPY_MODEL_e401a3e768a14d65972fa194b491da74"
       ],
       "layout": "IPY_MODEL_750fda2d3d684727a59cc775ce672728",
       "selected_index": 0
      }
     },
     "ba04c81ce4514df8bae019c9d5bbdc53": {
      "model_module": "@jupyter-widgets/controls",
      "model_module_version": "1.5.0",
      "model_name": "HBoxModel",
      "state": {
       "_dom_classes": [],
       "_model_module": "@jupyter-widgets/controls",
       "_model_module_version": "1.5.0",
       "_model_name": "HBoxModel",
       "_view_count": null,
       "_view_module": "@jupyter-widgets/controls",
       "_view_module_version": "1.5.0",
       "_view_name": "HBoxView",
       "box_style": "",
       "children": [
        "IPY_MODEL_47aa5268adec463ebe13e9fa74399536",
        "IPY_MODEL_0d2cff223b5d439fb1258e27fd0eb9bd",
        "IPY_MODEL_19bda179482e453aa598749e61d14ee7",
        "IPY_MODEL_64ce51060e9441bb84e31b8ed93705b3"
       ],
       "layout": "IPY_MODEL_804c51697f2b4229a0f02be6b85b1659"
      }
     },
     "bb14cbed38bc47d383c6d6016c4af156": {
      "model_module": "@jupyter-widgets/controls",
      "model_module_version": "1.5.0",
      "model_name": "HBoxModel",
      "state": {
       "_dom_classes": [],
       "_model_module": "@jupyter-widgets/controls",
       "_model_module_version": "1.5.0",
       "_model_name": "HBoxModel",
       "_view_count": null,
       "_view_module": "@jupyter-widgets/controls",
       "_view_module_version": "1.5.0",
       "_view_name": "HBoxView",
       "box_style": "",
       "children": [
        "IPY_MODEL_161172513cfe46ae8be3b4c5aeee7f64",
        "IPY_MODEL_5374dcf56503477ca0ed68d8a2437326",
        "IPY_MODEL_01e059b9cb67410ebda406ab8c4e2a64",
        "IPY_MODEL_2594e263ea484878a51edb4bd766c9c4"
       ],
       "layout": "IPY_MODEL_804c51697f2b4229a0f02be6b85b1659"
      }
     },
     "bb2e39ccf7a34ddca7fbae8d28eb88d6": {
      "model_module": "@jupyter-widgets/controls",
      "model_module_version": "1.5.0",
      "model_name": "ButtonModel",
      "state": {
       "_dom_classes": [],
       "_model_module": "@jupyter-widgets/controls",
       "_model_module_version": "1.5.0",
       "_model_name": "ButtonModel",
       "_view_count": null,
       "_view_module": "@jupyter-widgets/controls",
       "_view_module_version": "1.5.0",
       "_view_name": "ButtonView",
       "button_style": "",
       "description": "Save",
       "disabled": true,
       "icon": "",
       "layout": "IPY_MODEL_d462e721bb3e4b91bbcabe50d120916e",
       "style": "IPY_MODEL_b8d51cb66acb42489aa01410c6fe18ea",
       "tooltip": "Save changes to model"
      }
     },
     "bb5a2350ae874d3ead0746d171f11c7a": {
      "model_module": "@jupyter-widgets/controls",
      "model_module_version": "1.5.0",
      "model_name": "DescriptionStyleModel",
      "state": {
       "_model_module": "@jupyter-widgets/controls",
       "_model_module_version": "1.5.0",
       "_model_name": "DescriptionStyleModel",
       "_view_count": null,
       "_view_module": "@jupyter-widgets/base",
       "_view_module_version": "1.2.0",
       "_view_name": "StyleView",
       "description_width": ""
      }
     },
     "bb8bbee6b66346a48d5248b7c20b0a44": {
      "model_module": "@jupyter-widgets/controls",
      "model_module_version": "1.5.0",
      "model_name": "DescriptionStyleModel",
      "state": {
       "_model_module": "@jupyter-widgets/controls",
       "_model_module_version": "1.5.0",
       "_model_name": "DescriptionStyleModel",
       "_view_count": null,
       "_view_module": "@jupyter-widgets/base",
       "_view_module_version": "1.2.0",
       "_view_name": "StyleView",
       "description_width": ""
      }
     },
     "bc1b4112bff042629a40739cb3211b6c": {
      "model_module": "@jupyter-widgets/controls",
      "model_module_version": "1.5.0",
      "model_name": "DescriptionStyleModel",
      "state": {
       "_model_module": "@jupyter-widgets/controls",
       "_model_module_version": "1.5.0",
       "_model_name": "DescriptionStyleModel",
       "_view_count": null,
       "_view_module": "@jupyter-widgets/base",
       "_view_module_version": "1.2.0",
       "_view_name": "StyleView",
       "description_width": "0px"
      }
     },
     "bc96cb89407c4b7e83baaffb4df7133c": {
      "model_module": "@jupyter-widgets/controls",
      "model_module_version": "1.5.0",
      "model_name": "HTMLModel",
      "state": {
       "_dom_classes": [],
       "_model_module": "@jupyter-widgets/controls",
       "_model_module_version": "1.5.0",
       "_model_name": "HTMLModel",
       "_view_count": null,
       "_view_module": "@jupyter-widgets/controls",
       "_view_module_version": "1.5.0",
       "_view_name": "HTMLView",
       "description": "",
       "description_tooltip": null,
       "layout": "IPY_MODEL_0fc6d0e36882466aaf8b89d9494bcb4b",
       "placeholder": "​",
       "style": "IPY_MODEL_0ee16d14ef2a46708ec3644f5a02da8f",
       "value": "<div style=\"font-size:medium; background-color:white;padding-left:2px;\">Ridesharing</div>"
      }
     },
     "bd0bb270564e4aecb2fac4f8c582349e": {
      "model_module": "@jupyter-widgets/controls",
      "model_module_version": "1.5.0",
      "model_name": "HTMLModel",
      "state": {
       "_dom_classes": [],
       "_model_module": "@jupyter-widgets/controls",
       "_model_module_version": "1.5.0",
       "_model_name": "HTMLModel",
       "_view_count": null,
       "_view_module": "@jupyter-widgets/controls",
       "_view_module_version": "1.5.0",
       "_view_name": "HTMLView",
       "description": "",
       "description_tooltip": null,
       "layout": "IPY_MODEL_2adb518af7044a69aad2c2de3ca0c421",
       "placeholder": "​",
       "style": "IPY_MODEL_8d696b3b0cda475eadfb84b03ec6c880",
       "value": "<div style=\"font-size:medium; background-color:#ececec;padding-left:2px;\">Electricity Generation</div>"
      }
     },
     "bd30965fd38d49c58269e23d2e91fbdc": {
      "model_module": "@jupyter-widgets/controls",
      "model_module_version": "1.5.0",
      "model_name": "HTMLModel",
      "state": {
       "_dom_classes": [],
       "_model_module": "@jupyter-widgets/controls",
       "_model_module_version": "1.5.0",
       "_model_name": "HTMLModel",
       "_view_count": null,
       "_view_module": "@jupyter-widgets/controls",
       "_view_module_version": "1.5.0",
       "_view_name": "HTMLView",
       "description": "",
       "description_tooltip": null,
       "layout": "IPY_MODEL_0fc6d0e36882466aaf8b89d9494bcb4b",
       "placeholder": "​",
       "style": "IPY_MODEL_7ca0f1159817419a9b3d9d68dae43248",
       "value": "<div style=\"font-size:medium; background-color:#ececec;padding-left:2px;\">Peatlands</div>"
      }
     },
     "bd66cdff0d224aab8e51b7366414e720": {
      "model_module": "@jupyter-widgets/controls",
      "model_module_version": "1.5.0",
      "model_name": "DescriptionStyleModel",
      "state": {
       "_model_module": "@jupyter-widgets/controls",
       "_model_module_version": "1.5.0",
       "_model_name": "DescriptionStyleModel",
       "_view_count": null,
       "_view_module": "@jupyter-widgets/base",
       "_view_module_version": "1.2.0",
       "_view_name": "StyleView",
       "description_width": ""
      }
     },
     "bdef4bf3c7424855b736b0fa72c837ed": {
      "model_module": "@jupyter-widgets/base",
      "model_module_version": "1.2.0",
      "model_name": "LayoutModel",
      "state": {
       "_model_module": "@jupyter-widgets/base",
       "_model_module_version": "1.2.0",
       "_model_name": "LayoutModel",
       "_view_count": null,
       "_view_module": "@jupyter-widgets/base",
       "_view_module_version": "1.2.0",
       "_view_name": "LayoutView",
       "align_content": null,
       "align_items": null,
       "align_self": null,
       "border": null,
       "bottom": null,
       "display": null,
       "flex": "1 1 0%",
       "flex_flow": null,
       "grid_area": null,
       "grid_auto_columns": null,
       "grid_auto_flow": null,
       "grid_auto_rows": null,
       "grid_column": null,
       "grid_gap": null,
       "grid_row": null,
       "grid_template_areas": null,
       "grid_template_columns": null,
       "grid_template_rows": null,
       "height": null,
       "justify_content": null,
       "justify_items": null,
       "left": null,
       "margin": null,
       "max_height": null,
       "max_width": null,
       "min_height": null,
       "min_width": null,
       "object_fit": null,
       "object_position": null,
       "order": null,
       "overflow": null,
       "overflow_x": null,
       "overflow_y": null,
       "padding": null,
       "right": null,
       "top": null,
       "visibility": null,
       "width": "auto"
      }
     },
     "bdf18163424c4db1a3bfd2fe15caf603": {
      "model_module": "@jupyter-widgets/controls",
      "model_module_version": "1.5.0",
      "model_name": "HBoxModel",
      "state": {
       "_dom_classes": [],
       "_model_module": "@jupyter-widgets/controls",
       "_model_module_version": "1.5.0",
       "_model_name": "HBoxModel",
       "_view_count": null,
       "_view_module": "@jupyter-widgets/controls",
       "_view_module_version": "1.5.0",
       "_view_name": "HBoxView",
       "box_style": "",
       "children": [
        "IPY_MODEL_dd71848a0d474e1b865ff1b06a775d50",
        "IPY_MODEL_6dd7cb64b2b84158b683f1bb1b9fe953",
        "IPY_MODEL_9b5cb9bfe1c14cc0a5717192544af445",
        "IPY_MODEL_67935b7fca4e438c9f9a7512073a9895"
       ],
       "layout": "IPY_MODEL_804c51697f2b4229a0f02be6b85b1659"
      }
     },
     "be754395e16943d9b7c4429eb26261a1": {
      "model_module": "@jupyter-widgets/controls",
      "model_module_version": "1.5.0",
      "model_name": "DescriptionStyleModel",
      "state": {
       "_model_module": "@jupyter-widgets/controls",
       "_model_module_version": "1.5.0",
       "_model_name": "DescriptionStyleModel",
       "_view_count": null,
       "_view_module": "@jupyter-widgets/base",
       "_view_module_version": "1.2.0",
       "_view_name": "StyleView",
       "description_width": ""
      }
     },
     "beef7651e7854a18b5a1778398a40abc": {
      "model_module": "@jupyter-widgets/controls",
      "model_module_version": "1.5.0",
      "model_name": "DescriptionStyleModel",
      "state": {
       "_model_module": "@jupyter-widgets/controls",
       "_model_module_version": "1.5.0",
       "_model_name": "DescriptionStyleModel",
       "_view_count": null,
       "_view_module": "@jupyter-widgets/base",
       "_view_module_version": "1.2.0",
       "_view_name": "StyleView",
       "description_width": ""
      }
     },
     "bf0578346e7a410e8362d3bc6d13a8d6": {
      "model_module": "@jupyter-widgets/controls",
      "model_module_version": "1.5.0",
      "model_name": "DescriptionStyleModel",
      "state": {
       "_model_module": "@jupyter-widgets/controls",
       "_model_module_version": "1.5.0",
       "_model_name": "DescriptionStyleModel",
       "_view_count": null,
       "_view_module": "@jupyter-widgets/base",
       "_view_module_version": "1.2.0",
       "_view_name": "StyleView",
       "description_width": ""
      }
     },
     "bf382b2547a54f72ac23a67c064ab70c": {
      "model_module": "@jupyter-widgets/controls",
      "model_module_version": "1.5.0",
      "model_name": "HBoxModel",
      "state": {
       "_dom_classes": [],
       "_model_module": "@jupyter-widgets/controls",
       "_model_module_version": "1.5.0",
       "_model_name": "HBoxModel",
       "_view_count": null,
       "_view_module": "@jupyter-widgets/controls",
       "_view_module_version": "1.5.0",
       "_view_name": "HBoxView",
       "box_style": "",
       "children": [
        "IPY_MODEL_15d5de6bd9004dd2b3a3f57c4d20e404",
        "IPY_MODEL_b4bc583764a9410198ddc3e58a81139c",
        "IPY_MODEL_640cd11ef3f84d34bd4c3b22f171a27d",
        "IPY_MODEL_dbc8585366444c51a15d01b72fc9bd1d"
       ],
       "layout": "IPY_MODEL_804c51697f2b4229a0f02be6b85b1659"
      }
     },
     "c124a86469d04919a846f4c1af61dd4f": {
      "model_module": "@jupyter-widgets/controls",
      "model_module_version": "1.5.0",
      "model_name": "DescriptionStyleModel",
      "state": {
       "_model_module": "@jupyter-widgets/controls",
       "_model_module_version": "1.5.0",
       "_model_name": "DescriptionStyleModel",
       "_view_count": null,
       "_view_module": "@jupyter-widgets/base",
       "_view_module_version": "1.2.0",
       "_view_name": "StyleView",
       "description_width": "0px"
      }
     },
     "c1ff0729065745a5a9d67ec21dfc46fb": {
      "model_module": "@jupyter-widgets/controls",
      "model_module_version": "1.5.0",
      "model_name": "CheckboxModel",
      "state": {
       "_dom_classes": [
        "checkbox_recycledpaper"
       ],
       "_model_module": "@jupyter-widgets/controls",
       "_model_module_version": "1.5.0",
       "_model_name": "CheckboxModel",
       "_view_count": null,
       "_view_module": "@jupyter-widgets/controls",
       "_view_module_version": "1.5.0",
       "_view_name": "CheckboxView",
       "description": "",
       "description_tooltip": null,
       "disabled": false,
       "indent": true,
       "layout": "IPY_MODEL_bdef4bf3c7424855b736b0fa72c837ed",
       "style": "IPY_MODEL_0c0ef0b7af3a40279fe6795c5afa339b",
       "value": false
      }
     },
     "c26b1d9fc2a54200b44b9c6e1390abe8": {
      "model_module": "@jupyter-widgets/controls",
      "model_module_version": "1.5.0",
      "model_name": "HTMLModel",
      "state": {
       "_dom_classes": [],
       "_model_module": "@jupyter-widgets/controls",
       "_model_module_version": "1.5.0",
       "_model_name": "HTMLModel",
       "_view_count": null,
       "_view_module": "@jupyter-widgets/controls",
       "_view_module_version": "1.5.0",
       "_view_name": "HTMLView",
       "description": "",
       "description_tooltip": null,
       "layout": "IPY_MODEL_1a17608c7cf54c5293a88b93567107e5",
       "placeholder": "​",
       "style": "IPY_MODEL_54795c984016456d9560c97eb577fe87",
       "value": "<div style=\"font-size:medium; background-color:white;padding-left:2px;\">6.20</div>"
      }
     },
     "c287234142424e8b87d199ed98c6eb5e": {
      "model_module": "@jupyter-widgets/controls",
      "model_module_version": "1.5.0",
      "model_name": "CheckboxModel",
      "state": {
       "_dom_classes": [
        "checkbox_altcement"
       ],
       "_model_module": "@jupyter-widgets/controls",
       "_model_module_version": "1.5.0",
       "_model_name": "CheckboxModel",
       "_view_count": null,
       "_view_module": "@jupyter-widgets/controls",
       "_view_module_version": "1.5.0",
       "_view_name": "CheckboxView",
       "description": "",
       "description_tooltip": null,
       "disabled": false,
       "indent": true,
       "layout": "IPY_MODEL_bdef4bf3c7424855b736b0fa72c837ed",
       "style": "IPY_MODEL_267e19eb991842828613394889dedf30",
       "value": false
      }
     },
     "c2bfffab4be34638b015fe10f7ce12d7": {
      "model_module": "@jupyter-widgets/controls",
      "model_module_version": "1.5.0",
      "model_name": "DescriptionStyleModel",
      "state": {
       "_model_module": "@jupyter-widgets/controls",
       "_model_module_version": "1.5.0",
       "_model_name": "DescriptionStyleModel",
       "_view_count": null,
       "_view_module": "@jupyter-widgets/base",
       "_view_module_version": "1.2.0",
       "_view_name": "StyleView",
       "description_width": ""
      }
     },
     "c2e5227aa5544a1382948737073751e1": {
      "model_module": "@jupyter-widgets/controls",
      "model_module_version": "1.5.0",
      "model_name": "HTMLModel",
      "state": {
       "_dom_classes": [],
       "_model_module": "@jupyter-widgets/controls",
       "_model_module_version": "1.5.0",
       "_model_name": "HTMLModel",
       "_view_count": null,
       "_view_module": "@jupyter-widgets/controls",
       "_view_module_version": "1.5.0",
       "_view_name": "HTMLView",
       "description": "",
       "description_tooltip": null,
       "layout": "IPY_MODEL_0fc6d0e36882466aaf8b89d9494bcb4b",
       "placeholder": "​",
       "style": "IPY_MODEL_19e0af2362674317b0b4cd59135bad67",
       "value": "<div style=\"font-size:medium; background-color:#ececec;padding-left:2px;\">Women Smallholders</div>"
      }
     },
     "c2efb61f3fbc45ef93700204153ccef3": {
      "model_module": "@jupyter-widgets/controls",
      "model_module_version": "1.5.0",
      "model_name": "HBoxModel",
      "state": {
       "_dom_classes": [],
       "_model_module": "@jupyter-widgets/controls",
       "_model_module_version": "1.5.0",
       "_model_name": "HBoxModel",
       "_view_count": null,
       "_view_module": "@jupyter-widgets/controls",
       "_view_module_version": "1.5.0",
       "_view_name": "HBoxView",
       "box_style": "",
       "children": [
        "IPY_MODEL_0f5640b6ab48471685beced0870c959f",
        "IPY_MODEL_9ff7ca29faa847788c358b4c25bee024",
        "IPY_MODEL_0189a7b21ab74131b80cbbae1c18b5f6",
        "IPY_MODEL_8924f0a543bb4afeba9efcf87b9b36ea"
       ],
       "layout": "IPY_MODEL_804c51697f2b4229a0f02be6b85b1659"
      }
     },
     "c2f205036703472f976d1437fc38a62c": {
      "model_module": "@jupyter-widgets/controls",
      "model_module_version": "1.5.0",
      "model_name": "DescriptionStyleModel",
      "state": {
       "_model_module": "@jupyter-widgets/controls",
       "_model_module_version": "1.5.0",
       "_model_name": "DescriptionStyleModel",
       "_view_count": null,
       "_view_module": "@jupyter-widgets/base",
       "_view_module_version": "1.2.0",
       "_view_name": "StyleView",
       "description_width": ""
      }
     },
     "c356572d01de4b1887492b67f8c21726": {
      "model_module": "@jupyter-widgets/controls",
      "model_module_version": "1.5.0",
      "model_name": "CheckboxModel",
      "state": {
       "_dom_classes": [
        "checkbox_ships"
       ],
       "_model_module": "@jupyter-widgets/controls",
       "_model_module_version": "1.5.0",
       "_model_name": "CheckboxModel",
       "_view_count": null,
       "_view_module": "@jupyter-widgets/controls",
       "_view_module_version": "1.5.0",
       "_view_name": "CheckboxView",
       "description": "",
       "description_tooltip": null,
       "disabled": false,
       "indent": true,
       "layout": "IPY_MODEL_bdef4bf3c7424855b736b0fa72c837ed",
       "style": "IPY_MODEL_f862df5602074f6481578395c226f713",
       "value": false
      }
     },
     "c3836259296b46b1bbcc1c9eaa6b8e5b": {
      "model_module": "@jupyter-widgets/controls",
      "model_module_version": "1.5.0",
      "model_name": "HTMLModel",
      "state": {
       "_dom_classes": [],
       "_model_module": "@jupyter-widgets/controls",
       "_model_module_version": "1.5.0",
       "_model_name": "HTMLModel",
       "_view_count": null,
       "_view_module": "@jupyter-widgets/controls",
       "_view_module_version": "1.5.0",
       "_view_name": "HTMLView",
       "description": "",
       "description_tooltip": null,
       "layout": "IPY_MODEL_0fc6d0e36882466aaf8b89d9494bcb4b",
       "placeholder": "​",
       "style": "IPY_MODEL_11652388f23e444387c79e5c4bb71e6b",
       "value": "<div style=\"font-size:medium; background-color:white;padding-left:2px;\">LED Lighting (Commercial)</div>"
      }
     },
     "c38f17adc2cc47a5a2186dc4e5f4dfb9": {
      "model_module": "@jupyter-widgets/controls",
      "model_module_version": "1.5.0",
      "model_name": "HTMLModel",
      "state": {
       "_dom_classes": [],
       "_model_module": "@jupyter-widgets/controls",
       "_model_module_version": "1.5.0",
       "_model_name": "HTMLModel",
       "_view_count": null,
       "_view_module": "@jupyter-widgets/controls",
       "_view_module_version": "1.5.0",
       "_view_name": "HTMLView",
       "description": "",
       "description_tooltip": null,
       "layout": "IPY_MODEL_0fc6d0e36882466aaf8b89d9494bcb4b",
       "placeholder": "​",
       "style": "IPY_MODEL_700f61adfc0f4b3b80998c5cb34ff481",
       "value": "<div style=\"font-size:medium; background-color:#ececec;padding-left:2px;\">Water Distribution</div>"
      }
     },
     "c63a1a5b994b49bd9ea216c3269f82b2": {
      "model_module": "@jupyter-widgets/controls",
      "model_module_version": "1.5.0",
      "model_name": "DescriptionStyleModel",
      "state": {
       "_model_module": "@jupyter-widgets/controls",
       "_model_module_version": "1.5.0",
       "_model_name": "DescriptionStyleModel",
       "_view_count": null,
       "_view_module": "@jupyter-widgets/base",
       "_view_module_version": "1.2.0",
       "_view_name": "StyleView",
       "description_width": "0px"
      }
     },
     "c67fc0b9c9da452398c17a4f63136a78": {
      "model_module": "@jupyter-widgets/controls",
      "model_module_version": "1.5.0",
      "model_name": "DescriptionStyleModel",
      "state": {
       "_model_module": "@jupyter-widgets/controls",
       "_model_module_version": "1.5.0",
       "_model_name": "DescriptionStyleModel",
       "_view_count": null,
       "_view_module": "@jupyter-widgets/base",
       "_view_module_version": "1.2.0",
       "_view_name": "StyleView",
       "description_width": "0px"
      }
     },
     "c6b57ce3f07c45e08f0c1317320e2b21": {
      "model_module": "@jupyter-widgets/controls",
      "model_module_version": "1.5.0",
      "model_name": "HTMLModel",
      "state": {
       "_dom_classes": [],
       "_model_module": "@jupyter-widgets/controls",
       "_model_module_version": "1.5.0",
       "_model_name": "HTMLModel",
       "_view_count": null,
       "_view_module": "@jupyter-widgets/controls",
       "_view_module_version": "1.5.0",
       "_view_name": "HTMLView",
       "description": "",
       "description_tooltip": null,
       "layout": "IPY_MODEL_1a17608c7cf54c5293a88b93567107e5",
       "placeholder": "​",
       "style": "IPY_MODEL_dac0a5d27367456bb6c0a2a1a95ea4be",
       "value": "<div style=\"font-size:medium; background-color:white;padding-left:2px;\">5.05</div>"
      }
     },
     "c6bd372066d240b48b594e59951dfdc3": {
      "model_module": "@jupyter-widgets/controls",
      "model_module_version": "1.5.0",
      "model_name": "DescriptionStyleModel",
      "state": {
       "_model_module": "@jupyter-widgets/controls",
       "_model_module_version": "1.5.0",
       "_model_name": "DescriptionStyleModel",
       "_view_count": null,
       "_view_module": "@jupyter-widgets/base",
       "_view_module_version": "1.2.0",
       "_view_name": "StyleView",
       "description_width": ""
      }
     },
     "c704ffc4ad0e474395f357dbe5fd4f6e": {
      "model_module": "@jupyter-widgets/controls",
      "model_module_version": "1.5.0",
      "model_name": "HTMLModel",
      "state": {
       "_dom_classes": [],
       "_model_module": "@jupyter-widgets/controls",
       "_model_module_version": "1.5.0",
       "_model_name": "HTMLModel",
       "_view_count": null,
       "_view_module": "@jupyter-widgets/controls",
       "_view_module_version": "1.5.0",
       "_view_name": "HTMLView",
       "description": "",
       "description_tooltip": null,
       "layout": "IPY_MODEL_1a17608c7cf54c5293a88b93567107e5",
       "placeholder": "​",
       "style": "IPY_MODEL_fe18d2bfeb514d8f9a8728d2ac50527a",
       "value": "<div style=\"font-size:medium; background-color:#ececec;padding-left:2px;\">10.90</div>"
      }
     },
     "c7d1d0057520456fa0c19a15095d0b48": {
      "model_module": "@jupyter-widgets/controls",
      "model_module_version": "1.5.0",
      "model_name": "HBoxModel",
      "state": {
       "_dom_classes": [],
       "_model_module": "@jupyter-widgets/controls",
       "_model_module_version": "1.5.0",
       "_model_name": "HBoxModel",
       "_view_count": null,
       "_view_module": "@jupyter-widgets/controls",
       "_view_module_version": "1.5.0",
       "_view_name": "HBoxView",
       "box_style": "",
       "children": [
        "IPY_MODEL_03b346d2bbf449e68be0130295da658d",
        "IPY_MODEL_0c3bbaca713e43608290536908357339"
       ],
       "layout": "IPY_MODEL_804c51697f2b4229a0f02be6b85b1659"
      }
     },
     "c87db73045584910bcfe25023299bb9c": {
      "model_module": "@jupyter-widgets/controls",
      "model_module_version": "1.5.0",
      "model_name": "DescriptionStyleModel",
      "state": {
       "_model_module": "@jupyter-widgets/controls",
       "_model_module_version": "1.5.0",
       "_model_name": "DescriptionStyleModel",
       "_view_count": null,
       "_view_module": "@jupyter-widgets/base",
       "_view_module_version": "1.2.0",
       "_view_name": "StyleView",
       "description_width": "0px"
      }
     },
     "c8942f28aee74a109a25ebc5b96881a2": {
      "model_module": "@jupyter-widgets/controls",
      "model_module_version": "1.5.0",
      "model_name": "DescriptionStyleModel",
      "state": {
       "_model_module": "@jupyter-widgets/controls",
       "_model_module_version": "1.5.0",
       "_model_name": "DescriptionStyleModel",
       "_view_count": null,
       "_view_module": "@jupyter-widgets/base",
       "_view_module_version": "1.2.0",
       "_view_name": "StyleView",
       "description_width": ""
      }
     },
     "c92876c2afba4c8890ff59778ab3f659": {
      "model_module": "@jupyter-widgets/controls",
      "model_module_version": "1.5.0",
      "model_name": "HTMLModel",
      "state": {
       "_dom_classes": [],
       "_model_module": "@jupyter-widgets/controls",
       "_model_module_version": "1.5.0",
       "_model_name": "HTMLModel",
       "_view_count": null,
       "_view_module": "@jupyter-widgets/controls",
       "_view_module_version": "1.5.0",
       "_view_name": "HTMLView",
       "description": "",
       "description_tooltip": null,
       "layout": "IPY_MODEL_0fc6d0e36882466aaf8b89d9494bcb4b",
       "placeholder": "​",
       "style": "IPY_MODEL_ea85fbaa405547ab8555bddfd40c495c",
       "value": "<div style=\"font-size:medium; background-color:#ececec;padding-left:2px;\">Coastal Wetlands</div>"
      }
     },
     "c980a888345c4a7983ab5a81f8314ab7": {
      "model_module": "@jupyter-widgets/controls",
      "model_module_version": "1.5.0",
      "model_name": "DescriptionStyleModel",
      "state": {
       "_model_module": "@jupyter-widgets/controls",
       "_model_module_version": "1.5.0",
       "_model_name": "DescriptionStyleModel",
       "_view_count": null,
       "_view_module": "@jupyter-widgets/base",
       "_view_module_version": "1.2.0",
       "_view_name": "StyleView",
       "description_width": ""
      }
     },
     "c9f7b20c7e0f423aa66ca86d6180401c": {
      "model_module": "@jupyter-widgets/controls",
      "model_module_version": "1.5.0",
      "model_name": "DescriptionStyleModel",
      "state": {
       "_model_module": "@jupyter-widgets/controls",
       "_model_module_version": "1.5.0",
       "_model_name": "DescriptionStyleModel",
       "_view_count": null,
       "_view_module": "@jupyter-widgets/base",
       "_view_module_version": "1.2.0",
       "_view_name": "StyleView",
       "description_width": ""
      }
     },
     "ca09c095389b4285931a39dc60e76eaa": {
      "model_module": "@jupyter-widgets/controls",
      "model_module_version": "1.5.0",
      "model_name": "DescriptionStyleModel",
      "state": {
       "_model_module": "@jupyter-widgets/controls",
       "_model_module_version": "1.5.0",
       "_model_name": "DescriptionStyleModel",
       "_view_count": null,
       "_view_module": "@jupyter-widgets/base",
       "_view_module_version": "1.2.0",
       "_view_name": "StyleView",
       "description_width": ""
      }
     },
     "ca16a81d0e594059b284fe2ce5f31606": {
      "model_module": "@jupyter-widgets/controls",
      "model_module_version": "1.5.0",
      "model_name": "DescriptionStyleModel",
      "state": {
       "_model_module": "@jupyter-widgets/controls",
       "_model_module_version": "1.5.0",
       "_model_name": "DescriptionStyleModel",
       "_view_count": null,
       "_view_module": "@jupyter-widgets/base",
       "_view_module_version": "1.2.0",
       "_view_name": "StyleView",
       "description_width": ""
      }
     },
     "ca4f204bba824d7fb39f45b5764cb658": {
      "model_module": "@jupyter-widgets/controls",
      "model_module_version": "1.5.0",
      "model_name": "CheckboxModel",
      "state": {
       "_dom_classes": [
        "checkbox_"
       ],
       "_model_module": "@jupyter-widgets/controls",
       "_model_module_version": "1.5.0",
       "_model_name": "CheckboxModel",
       "_view_count": null,
       "_view_module": "@jupyter-widgets/controls",
       "_view_module_version": "1.5.0",
       "_view_name": "CheckboxView",
       "description": "",
       "description_tooltip": null,
       "disabled": true,
       "indent": true,
       "layout": "IPY_MODEL_bdef4bf3c7424855b736b0fa72c837ed",
       "style": "IPY_MODEL_9269a3b76f1248e0b89d1ad2236b6452",
       "value": false
      }
     },
     "caa8e3adf73e46aeaceb4c4852a96416": {
      "model_module": "@jupyter-widgets/controls",
      "model_module_version": "1.5.0",
      "model_name": "HTMLModel",
      "state": {
       "_dom_classes": [],
       "_model_module": "@jupyter-widgets/controls",
       "_model_module_version": "1.5.0",
       "_model_name": "HTMLModel",
       "_view_count": null,
       "_view_module": "@jupyter-widgets/controls",
       "_view_module_version": "1.5.0",
       "_view_name": "HTMLView",
       "description": "",
       "description_tooltip": null,
       "layout": "IPY_MODEL_1a17608c7cf54c5293a88b93567107e5",
       "placeholder": "​",
       "style": "IPY_MODEL_21ef53635017471bb5599d7c191cec34",
       "value": "<div style=\"font-size:medium; background-color:white;padding-left:2px;\">31.19</div>"
      }
     },
     "cb10f18ab39f4d3ca04e9c7d6fe5c5cf": {
      "model_module": "@jupyter-widgets/controls",
      "model_module_version": "1.5.0",
      "model_name": "HTMLModel",
      "state": {
       "_dom_classes": [],
       "_model_module": "@jupyter-widgets/controls",
       "_model_module_version": "1.5.0",
       "_model_name": "HTMLModel",
       "_view_count": null,
       "_view_module": "@jupyter-widgets/controls",
       "_view_module_version": "1.5.0",
       "_view_name": "HTMLView",
       "description": "",
       "description_tooltip": null,
       "layout": "IPY_MODEL_2adb518af7044a69aad2c2de3ca0c421",
       "placeholder": "​",
       "style": "IPY_MODEL_d3a503e60b4b42d78c7e990b21d5136b",
       "value": "<div style=\"font-size:medium; background-color:#ececec;padding-left:2px;\">Electricity Generation</div>"
      }
     },
     "cb339d8f19274ecf8d344d93a594de0f": {
      "model_module": "@jupyter-widgets/controls",
      "model_module_version": "1.5.0",
      "model_name": "DescriptionStyleModel",
      "state": {
       "_model_module": "@jupyter-widgets/controls",
       "_model_module_version": "1.5.0",
       "_model_name": "DescriptionStyleModel",
       "_view_count": null,
       "_view_module": "@jupyter-widgets/base",
       "_view_module_version": "1.2.0",
       "_view_name": "StyleView",
       "description_width": "0px"
      }
     },
     "cb4d417a02f0438db92382d14dd2f1e0": {
      "model_module": "@jupyter-widgets/controls",
      "model_module_version": "1.5.0",
      "model_name": "HBoxModel",
      "state": {
       "_dom_classes": [],
       "_model_module": "@jupyter-widgets/controls",
       "_model_module_version": "1.5.0",
       "_model_name": "HBoxModel",
       "_view_count": null,
       "_view_module": "@jupyter-widgets/controls",
       "_view_module_version": "1.5.0",
       "_view_name": "HBoxView",
       "box_style": "",
       "children": [
        "IPY_MODEL_bc96cb89407c4b7e83baaffb4df7133c",
        "IPY_MODEL_f2cc8e1a4b3b445bb6379e1808b8e583",
        "IPY_MODEL_6b99c895ef5344c1aa5fe9fd189d4842",
        "IPY_MODEL_6d98db30092d4e7285a4582845f38172"
       ],
       "layout": "IPY_MODEL_804c51697f2b4229a0f02be6b85b1659"
      }
     },
     "cb7dcf04a9554105aaf893d6f1a24ab5": {
      "model_module": "@jupyter-widgets/controls",
      "model_module_version": "1.5.0",
      "model_name": "DescriptionStyleModel",
      "state": {
       "_model_module": "@jupyter-widgets/controls",
       "_model_module_version": "1.5.0",
       "_model_name": "DescriptionStyleModel",
       "_view_count": null,
       "_view_module": "@jupyter-widgets/base",
       "_view_module_version": "1.2.0",
       "_view_name": "StyleView",
       "description_width": "0px"
      }
     },
     "cbaf1939ff2c4a4db8d693ff5ac9cc65": {
      "model_module": "@jupyter-widgets/controls",
      "model_module_version": "1.5.0",
      "model_name": "DescriptionStyleModel",
      "state": {
       "_model_module": "@jupyter-widgets/controls",
       "_model_module_version": "1.5.0",
       "_model_name": "DescriptionStyleModel",
       "_view_count": null,
       "_view_module": "@jupyter-widgets/base",
       "_view_module_version": "1.2.0",
       "_view_name": "StyleView",
       "description_width": "0px"
      }
     },
     "cbd2ccfe365c4611b3a7612a9ff42fa3": {
      "model_module": "@jupyter-widgets/base",
      "model_module_version": "1.2.0",
      "model_name": "LayoutModel",
      "state": {
       "_model_module": "@jupyter-widgets/base",
       "_model_module_version": "1.2.0",
       "_model_name": "LayoutModel",
       "_view_count": null,
       "_view_module": "@jupyter-widgets/base",
       "_view_module_version": "1.2.0",
       "_view_name": "LayoutView",
       "align_content": null,
       "align_items": null,
       "align_self": null,
       "border": null,
       "bottom": null,
       "display": null,
       "flex": null,
       "flex_flow": null,
       "grid_area": null,
       "grid_auto_columns": null,
       "grid_auto_flow": null,
       "grid_auto_rows": null,
       "grid_column": null,
       "grid_gap": null,
       "grid_row": null,
       "grid_template_areas": null,
       "grid_template_columns": null,
       "grid_template_rows": null,
       "height": null,
       "justify_content": null,
       "justify_items": null,
       "left": null,
       "margin": null,
       "max_height": null,
       "max_width": null,
       "min_height": null,
       "min_width": null,
       "object_fit": null,
       "object_position": null,
       "order": null,
       "overflow": null,
       "overflow_x": null,
       "overflow_y": null,
       "padding": null,
       "right": null,
       "top": null,
       "visibility": null,
       "width": "99%"
      }
     },
     "cc0fd41b35524bdfa0398bbe03475131": {
      "model_module": "@jupyter-widgets/base",
      "model_module_version": "1.2.0",
      "model_name": "LayoutModel",
      "state": {
       "_model_module": "@jupyter-widgets/base",
       "_model_module_version": "1.2.0",
       "_model_name": "LayoutModel",
       "_view_count": null,
       "_view_module": "@jupyter-widgets/base",
       "_view_module_version": "1.2.0",
       "_view_name": "LayoutView",
       "align_content": null,
       "align_items": null,
       "align_self": null,
       "border": null,
       "bottom": null,
       "display": null,
       "flex": null,
       "flex_flow": null,
       "grid_area": null,
       "grid_auto_columns": null,
       "grid_auto_flow": null,
       "grid_auto_rows": null,
       "grid_column": null,
       "grid_gap": null,
       "grid_row": null,
       "grid_template_areas": null,
       "grid_template_columns": null,
       "grid_template_rows": null,
       "height": null,
       "justify_content": null,
       "justify_items": null,
       "left": null,
       "margin": null,
       "max_height": null,
       "max_width": null,
       "min_height": null,
       "min_width": null,
       "object_fit": null,
       "object_position": null,
       "order": null,
       "overflow": null,
       "overflow_x": null,
       "overflow_y": null,
       "padding": null,
       "right": null,
       "top": null,
       "visibility": null,
       "width": null
      }
     },
     "cc23558fcbd84f5087875db9d7923f3b": {
      "model_module": "@jupyter-widgets/controls",
      "model_module_version": "1.5.0",
      "model_name": "HTMLModel",
      "state": {
       "_dom_classes": [],
       "_model_module": "@jupyter-widgets/controls",
       "_model_module_version": "1.5.0",
       "_model_name": "HTMLModel",
       "_view_count": null,
       "_view_module": "@jupyter-widgets/controls",
       "_view_module_version": "1.5.0",
       "_view_name": "HTMLView",
       "description": "",
       "description_tooltip": null,
       "layout": "IPY_MODEL_2adb518af7044a69aad2c2de3ca0c421",
       "placeholder": "​",
       "style": "IPY_MODEL_f8f9596b55564c4fb303808b36b1b784",
       "value": "<div style=\"font-size:medium; background-color:white;padding-left:2px;\">Electricity Generation</div>"
      }
     },
     "cc766f38295e4466b62c69e0dc191c15": {
      "model_module": "@jupyter-widgets/controls",
      "model_module_version": "1.5.0",
      "model_name": "HTMLModel",
      "state": {
       "_dom_classes": [],
       "_model_module": "@jupyter-widgets/controls",
       "_model_module_version": "1.5.0",
       "_model_name": "HTMLModel",
       "_view_count": null,
       "_view_module": "@jupyter-widgets/controls",
       "_view_module_version": "1.5.0",
       "_view_name": "HTMLView",
       "description": "",
       "description_tooltip": null,
       "layout": "IPY_MODEL_2adb518af7044a69aad2c2de3ca0c421",
       "placeholder": "​",
       "style": "IPY_MODEL_ec5ab877671941cdb2159f55de7d03fd",
       "value": "<div style=\"font-size:medium; background-color:#ececec;padding-left:2px;\">Food</div>"
      }
     },
     "cca536c341254a7f8631650f9693fdf6": {
      "model_module": "@jupyter-widgets/controls",
      "model_module_version": "1.5.0",
      "model_name": "DescriptionStyleModel",
      "state": {
       "_model_module": "@jupyter-widgets/controls",
       "_model_module_version": "1.5.0",
       "_model_name": "DescriptionStyleModel",
       "_view_count": null,
       "_view_module": "@jupyter-widgets/base",
       "_view_module_version": "1.2.0",
       "_view_name": "StyleView",
       "description_width": "0px"
      }
     },
     "cce12e1a1d1145d3a08fd2defbca5995": {
      "model_module": "@jupyter-widgets/controls",
      "model_module_version": "1.5.0",
      "model_name": "HBoxModel",
      "state": {
       "_dom_classes": [],
       "_model_module": "@jupyter-widgets/controls",
       "_model_module_version": "1.5.0",
       "_model_name": "HBoxModel",
       "_view_count": null,
       "_view_module": "@jupyter-widgets/controls",
       "_view_module_version": "1.5.0",
       "_view_name": "HBoxView",
       "box_style": "",
       "children": [
        "IPY_MODEL_939a12092f7b489591ce8c4773955b82",
        "IPY_MODEL_bb2e39ccf7a34ddca7fbae8d28eb88d6",
        "IPY_MODEL_71d5b3667ed04acb82e6c85d7ec4f45e"
       ],
       "layout": "IPY_MODEL_50ad597e99074d18be8c638d63e21664"
      }
     },
     "cd0b8eafbeda4d8fbc3416087ec2b5f5": {
      "model_module": "@jupyter-widgets/controls",
      "model_module_version": "1.5.0",
      "model_name": "DescriptionStyleModel",
      "state": {
       "_model_module": "@jupyter-widgets/controls",
       "_model_module_version": "1.5.0",
       "_model_name": "DescriptionStyleModel",
       "_view_count": null,
       "_view_module": "@jupyter-widgets/base",
       "_view_module_version": "1.2.0",
       "_view_name": "StyleView",
       "description_width": ""
      }
     },
     "cda86620b2e447cdb8e7cc6bb4edc31f": {
      "model_module": "@jupyter-widgets/controls",
      "model_module_version": "1.5.0",
      "model_name": "HTMLModel",
      "state": {
       "_dom_classes": [],
       "_model_module": "@jupyter-widgets/controls",
       "_model_module_version": "1.5.0",
       "_model_name": "HTMLModel",
       "_view_count": null,
       "_view_module": "@jupyter-widgets/controls",
       "_view_module_version": "1.5.0",
       "_view_name": "HTMLView",
       "description": "",
       "description_tooltip": null,
       "layout": "IPY_MODEL_2adb518af7044a69aad2c2de3ca0c421",
       "placeholder": "​",
       "style": "IPY_MODEL_315445507f534e8481eb985570969fb5",
       "value": "<div style=\"font-size:medium; background-color:#ececec;padding-left:2px;\">Electricity Generation</div>"
      }
     },
     "cdc032e3842944a4928167eecd5c6fab": {
      "model_module": "@jupyter-widgets/controls",
      "model_module_version": "1.5.0",
      "model_name": "HBoxModel",
      "state": {
       "_dom_classes": [],
       "_model_module": "@jupyter-widgets/controls",
       "_model_module_version": "1.5.0",
       "_model_name": "HBoxModel",
       "_view_count": null,
       "_view_module": "@jupyter-widgets/controls",
       "_view_module_version": "1.5.0",
       "_view_name": "HBoxView",
       "box_style": "",
       "children": [
        "IPY_MODEL_1e15077345f5435eb1969ca6cde67cba",
        "IPY_MODEL_2d1a95fce95b418393bc4faca8b6fc62",
        "IPY_MODEL_673dfa0a32354b1d9363b8be7cf2b477",
        "IPY_MODEL_39678b4b1ffe4f958d974bb29822a904"
       ],
       "layout": "IPY_MODEL_804c51697f2b4229a0f02be6b85b1659"
      }
     },
     "ce060569c1c6427c803d150fb28a7a62": {
      "model_module": "@jupyter-widgets/controls",
      "model_module_version": "1.5.0",
      "model_name": "CheckboxModel",
      "state": {
       "_dom_classes": [
        "checkbox_solarpvroof"
       ],
       "_model_module": "@jupyter-widgets/controls",
       "_model_module_version": "1.5.0",
       "_model_name": "CheckboxModel",
       "_view_count": null,
       "_view_module": "@jupyter-widgets/controls",
       "_view_module_version": "1.5.0",
       "_view_name": "CheckboxView",
       "description": "",
       "description_tooltip": null,
       "disabled": false,
       "indent": true,
       "layout": "IPY_MODEL_bdef4bf3c7424855b736b0fa72c837ed",
       "style": "IPY_MODEL_e7a6ce44800f4828a69a2d2f6c16ed9c",
       "value": false
      }
     },
     "cf37229d4356496fbef5ba458981bc74": {
      "model_module": "@jupyter-widgets/controls",
      "model_module_version": "1.5.0",
      "model_name": "DescriptionStyleModel",
      "state": {
       "_model_module": "@jupyter-widgets/controls",
       "_model_module_version": "1.5.0",
       "_model_name": "DescriptionStyleModel",
       "_view_count": null,
       "_view_module": "@jupyter-widgets/base",
       "_view_module_version": "1.2.0",
       "_view_name": "StyleView",
       "description_width": ""
      }
     },
     "cfc7b06c1c354d218e4c1148537c91e4": {
      "model_module": "@jupyter-widgets/controls",
      "model_module_version": "1.5.0",
      "model_name": "HTMLModel",
      "state": {
       "_dom_classes": [],
       "_model_module": "@jupyter-widgets/controls",
       "_model_module_version": "1.5.0",
       "_model_name": "HTMLModel",
       "_view_count": null,
       "_view_module": "@jupyter-widgets/controls",
       "_view_module_version": "1.5.0",
       "_view_name": "HTMLView",
       "description": "",
       "description_tooltip": null,
       "layout": "IPY_MODEL_1a17608c7cf54c5293a88b93567107e5",
       "placeholder": "​",
       "style": "IPY_MODEL_68345c36a0704b95b7aad6f4e4870baf",
       "value": "<div style=\"font-size:large;background-color:white;padding-left:2px;font-weight:bold;\">CO2eq</div>"
      }
     },
     "d02d90544e3a4f40b31f62ca5060c0d9": {
      "model_module": "@jupyter-widgets/controls",
      "model_module_version": "1.5.0",
      "model_name": "DescriptionStyleModel",
      "state": {
       "_model_module": "@jupyter-widgets/controls",
       "_model_module_version": "1.5.0",
       "_model_name": "DescriptionStyleModel",
       "_view_count": null,
       "_view_module": "@jupyter-widgets/base",
       "_view_module_version": "1.2.0",
       "_view_name": "StyleView",
       "description_width": ""
      }
     },
     "d0568e5e02604a6c80c21b2e4fb0ce5a": {
      "model_module": "@jupyter-widgets/controls",
      "model_module_version": "1.5.0",
      "model_name": "HBoxModel",
      "state": {
       "_dom_classes": [],
       "_model_module": "@jupyter-widgets/controls",
       "_model_module_version": "1.5.0",
       "_model_name": "HBoxModel",
       "_view_count": null,
       "_view_module": "@jupyter-widgets/controls",
       "_view_module_version": "1.5.0",
       "_view_name": "HBoxView",
       "box_style": "",
       "children": [
        "IPY_MODEL_4c009226e820432098dcd0b091c58171",
        "IPY_MODEL_cb10f18ab39f4d3ca04e9c7d6fe5c5cf",
        "IPY_MODEL_c704ffc4ad0e474395f357dbe5fd4f6e",
        "IPY_MODEL_d1a10a101dd843f386cdf712f7ec2665"
       ],
       "layout": "IPY_MODEL_804c51697f2b4229a0f02be6b85b1659"
      }
     },
     "d0f1241ef55d4f6dbb8a503f3ebf9434": {
      "model_module": "@jupyter-widgets/base",
      "model_module_version": "1.2.0",
      "model_name": "LayoutModel",
      "state": {
       "_model_module": "@jupyter-widgets/base",
       "_model_module_version": "1.2.0",
       "_model_name": "LayoutModel",
       "_view_count": null,
       "_view_module": "@jupyter-widgets/base",
       "_view_module_version": "1.2.0",
       "_view_name": "LayoutView",
       "align_content": null,
       "align_items": null,
       "align_self": null,
       "border": null,
       "bottom": null,
       "display": null,
       "flex": null,
       "flex_flow": null,
       "grid_area": null,
       "grid_auto_columns": null,
       "grid_auto_flow": null,
       "grid_auto_rows": null,
       "grid_column": null,
       "grid_gap": null,
       "grid_row": null,
       "grid_template_areas": null,
       "grid_template_columns": null,
       "grid_template_rows": null,
       "height": null,
       "justify_content": null,
       "justify_items": null,
       "left": null,
       "margin": null,
       "max_height": null,
       "max_width": null,
       "min_height": null,
       "min_width": null,
       "object_fit": null,
       "object_position": null,
       "order": null,
       "overflow": null,
       "overflow_x": null,
       "overflow_y": null,
       "padding": null,
       "right": null,
       "top": null,
       "visibility": null,
       "width": null
      }
     },
     "d16a34f593f848308a6c3fe7627628ae": {
      "model_module": "@jupyter-widgets/base",
      "model_module_version": "1.2.0",
      "model_name": "LayoutModel",
      "state": {
       "_model_module": "@jupyter-widgets/base",
       "_model_module_version": "1.2.0",
       "_model_name": "LayoutModel",
       "_view_count": null,
       "_view_module": "@jupyter-widgets/base",
       "_view_module_version": "1.2.0",
       "_view_name": "LayoutView",
       "align_content": null,
       "align_items": null,
       "align_self": null,
       "border": null,
       "bottom": null,
       "display": null,
       "flex": null,
       "flex_flow": null,
       "grid_area": null,
       "grid_auto_columns": null,
       "grid_auto_flow": null,
       "grid_auto_rows": null,
       "grid_column": null,
       "grid_gap": null,
       "grid_row": null,
       "grid_template_areas": null,
       "grid_template_columns": null,
       "grid_template_rows": null,
       "height": null,
       "justify_content": null,
       "justify_items": null,
       "left": null,
       "margin": null,
       "max_height": null,
       "max_width": null,
       "min_height": null,
       "min_width": null,
       "object_fit": null,
       "object_position": null,
       "order": null,
       "overflow": null,
       "overflow_x": null,
       "overflow_y": null,
       "padding": null,
       "right": null,
       "top": null,
       "visibility": null,
       "width": null
      }
     },
     "d1a10a101dd843f386cdf712f7ec2665": {
      "model_module": "@jupyter-widgets/controls",
      "model_module_version": "1.5.0",
      "model_name": "CheckboxModel",
      "state": {
       "_dom_classes": [
        "checkbox_concentratedsolar"
       ],
       "_model_module": "@jupyter-widgets/controls",
       "_model_module_version": "1.5.0",
       "_model_name": "CheckboxModel",
       "_view_count": null,
       "_view_module": "@jupyter-widgets/controls",
       "_view_module_version": "1.5.0",
       "_view_name": "CheckboxView",
       "description": "",
       "description_tooltip": null,
       "disabled": false,
       "indent": true,
       "layout": "IPY_MODEL_bdef4bf3c7424855b736b0fa72c837ed",
       "style": "IPY_MODEL_e64adb8822a7440d8b86e0d55dd78808",
       "value": false
      }
     },
     "d1c4be1cabea4b6c8ff64bf189315195": {
      "model_module": "@jupyter-widgets/controls",
      "model_module_version": "1.5.0",
      "model_name": "DescriptionStyleModel",
      "state": {
       "_model_module": "@jupyter-widgets/controls",
       "_model_module_version": "1.5.0",
       "_model_name": "DescriptionStyleModel",
       "_view_count": null,
       "_view_module": "@jupyter-widgets/base",
       "_view_module_version": "1.2.0",
       "_view_name": "StyleView",
       "description_width": ""
      }
     },
     "d227fead947a487cbafd8d512e3e5fe4": {
      "model_module": "@jupyter-widgets/controls",
      "model_module_version": "1.5.0",
      "model_name": "CheckboxModel",
      "state": {
       "_dom_classes": [
        "checkbox_improvedrice"
       ],
       "_model_module": "@jupyter-widgets/controls",
       "_model_module_version": "1.5.0",
       "_model_name": "CheckboxModel",
       "_view_count": null,
       "_view_module": "@jupyter-widgets/controls",
       "_view_module_version": "1.5.0",
       "_view_name": "CheckboxView",
       "description": "",
       "description_tooltip": null,
       "disabled": false,
       "indent": true,
       "layout": "IPY_MODEL_bdef4bf3c7424855b736b0fa72c837ed",
       "style": "IPY_MODEL_a592d94291a74a9ea3d929e7a3ec9bac",
       "value": false
      }
     },
     "d271098a67664ecc9b6dd70c304f0ffc": {
      "model_module": "@jupyter-widgets/controls",
      "model_module_version": "1.5.0",
      "model_name": "DescriptionStyleModel",
      "state": {
       "_model_module": "@jupyter-widgets/controls",
       "_model_module_version": "1.5.0",
       "_model_name": "DescriptionStyleModel",
       "_view_count": null,
       "_view_module": "@jupyter-widgets/base",
       "_view_module_version": "1.2.0",
       "_view_name": "StyleView",
       "description_width": ""
      }
     },
     "d2a15dd579754bf39735ca4b9a3cd0f8": {
      "model_module": "@jupyter-widgets/controls",
      "model_module_version": "1.5.0",
      "model_name": "HBoxModel",
      "state": {
       "_dom_classes": [],
       "_model_module": "@jupyter-widgets/controls",
       "_model_module_version": "1.5.0",
       "_model_name": "HBoxModel",
       "_view_count": null,
       "_view_module": "@jupyter-widgets/controls",
       "_view_module_version": "1.5.0",
       "_view_name": "HBoxView",
       "box_style": "",
       "children": [
        "IPY_MODEL_7c2c5d4f8602499b920e1da5869cb384",
        "IPY_MODEL_84f4cd4a10d04c90ba40f75ae69e35bb",
        "IPY_MODEL_1e26ff7bf57a49d6943894d1414ffcae",
        "IPY_MODEL_6711d27df9f14ba9b18a5c24d05d9ad0"
       ],
       "layout": "IPY_MODEL_804c51697f2b4229a0f02be6b85b1659"
      }
     },
     "d33fca9ebdcf45b38c6e474a969e27ca": {
      "model_module": "@jupyter-widgets/controls",
      "model_module_version": "1.5.0",
      "model_name": "HTMLModel",
      "state": {
       "_dom_classes": [],
       "_model_module": "@jupyter-widgets/controls",
       "_model_module_version": "1.5.0",
       "_model_name": "HTMLModel",
       "_view_count": null,
       "_view_module": "@jupyter-widgets/controls",
       "_view_module_version": "1.5.0",
       "_view_name": "HTMLView",
       "description": "",
       "description_tooltip": null,
       "layout": "IPY_MODEL_2adb518af7044a69aad2c2de3ca0c421",
       "placeholder": "​",
       "style": "IPY_MODEL_589588c125374620979fff77c8aa2fa8",
       "value": "<div style=\"font-size:medium; background-color:white;padding-left:2px;\">Electricity Generation</div>"
      }
     },
     "d342bbf27d2240a5bb510ed757e3418b": {
      "model_module": "@jupyter-widgets/controls",
      "model_module_version": "1.5.0",
      "model_name": "DescriptionStyleModel",
      "state": {
       "_model_module": "@jupyter-widgets/controls",
       "_model_module_version": "1.5.0",
       "_model_name": "DescriptionStyleModel",
       "_view_count": null,
       "_view_module": "@jupyter-widgets/base",
       "_view_module_version": "1.2.0",
       "_view_name": "StyleView",
       "description_width": "0px"
      }
     },
     "d396fefdde4d41399e9f44c9a9e9f88e": {
      "model_module": "@jupyter-widgets/controls",
      "model_module_version": "1.5.0",
      "model_name": "DescriptionStyleModel",
      "state": {
       "_model_module": "@jupyter-widgets/controls",
       "_model_module_version": "1.5.0",
       "_model_name": "DescriptionStyleModel",
       "_view_count": null,
       "_view_module": "@jupyter-widgets/base",
       "_view_module_version": "1.2.0",
       "_view_name": "StyleView",
       "description_width": ""
      }
     },
     "d3a503e60b4b42d78c7e990b21d5136b": {
      "model_module": "@jupyter-widgets/controls",
      "model_module_version": "1.5.0",
      "model_name": "DescriptionStyleModel",
      "state": {
       "_model_module": "@jupyter-widgets/controls",
       "_model_module_version": "1.5.0",
       "_model_name": "DescriptionStyleModel",
       "_view_count": null,
       "_view_module": "@jupyter-widgets/base",
       "_view_module_version": "1.2.0",
       "_view_name": "StyleView",
       "description_width": ""
      }
     },
     "d3e5a2371980451090e4bfd14ebe9cf3": {
      "model_module": "@jupyter-widgets/controls",
      "model_module_version": "1.5.0",
      "model_name": "HTMLModel",
      "state": {
       "_dom_classes": [],
       "_model_module": "@jupyter-widgets/controls",
       "_model_module_version": "1.5.0",
       "_model_name": "HTMLModel",
       "_view_count": null,
       "_view_module": "@jupyter-widgets/controls",
       "_view_module_version": "1.5.0",
       "_view_name": "HTMLView",
       "description": "",
       "description_tooltip": null,
       "layout": "IPY_MODEL_2adb518af7044a69aad2c2de3ca0c421",
       "placeholder": "​",
       "style": "IPY_MODEL_84a566feee9f4a2a948446d4034fb4f0",
       "value": "<div style=\"font-size:medium; background-color:#ececec;padding-left:2px;\">Electricity Generation</div>"
      }
     },
     "d450e276442d41bc9f6b20152f7199ba": {
      "model_module": "@jupyter-widgets/controls",
      "model_module_version": "1.5.0",
      "model_name": "HTMLModel",
      "state": {
       "_dom_classes": [],
       "_model_module": "@jupyter-widgets/controls",
       "_model_module_version": "1.5.0",
       "_model_name": "HTMLModel",
       "_view_count": null,
       "_view_module": "@jupyter-widgets/controls",
       "_view_module_version": "1.5.0",
       "_view_name": "HTMLView",
       "description": "",
       "description_tooltip": null,
       "layout": "IPY_MODEL_2adb518af7044a69aad2c2de3ca0c421",
       "placeholder": "​",
       "style": "IPY_MODEL_8e2cb7c8f8ba4926af99bba8b480596d",
       "value": "<div style=\"font-size:medium; background-color:white;padding-left:2px;\">Transport</div>"
      }
     },
     "d462e721bb3e4b91bbcabe50d120916e": {
      "model_module": "@jupyter-widgets/base",
      "model_module_version": "1.2.0",
      "model_name": "LayoutModel",
      "state": {
       "_model_module": "@jupyter-widgets/base",
       "_model_module_version": "1.2.0",
       "_model_name": "LayoutModel",
       "_view_count": null,
       "_view_module": "@jupyter-widgets/base",
       "_view_module_version": "1.2.0",
       "_view_name": "LayoutView",
       "align_content": null,
       "align_items": null,
       "align_self": null,
       "border": null,
       "bottom": null,
       "display": null,
       "flex": null,
       "flex_flow": null,
       "grid_area": null,
       "grid_auto_columns": null,
       "grid_auto_flow": null,
       "grid_auto_rows": null,
       "grid_column": null,
       "grid_gap": null,
       "grid_row": null,
       "grid_template_areas": null,
       "grid_template_columns": null,
       "grid_template_rows": null,
       "height": null,
       "justify_content": null,
       "justify_items": null,
       "left": null,
       "margin": null,
       "max_height": null,
       "max_width": null,
       "min_height": null,
       "min_width": null,
       "object_fit": null,
       "object_position": null,
       "order": null,
       "overflow": null,
       "overflow_x": null,
       "overflow_y": null,
       "padding": null,
       "right": null,
       "top": null,
       "visibility": null,
       "width": null
      }
     },
     "d48fbcb00d554fc69fbc103ee9f9d748": {
      "model_module": "@jupyter-widgets/controls",
      "model_module_version": "1.5.0",
      "model_name": "CheckboxModel",
      "state": {
       "_dom_classes": [
        "checkbox_irrigationefficiency"
       ],
       "_model_module": "@jupyter-widgets/controls",
       "_model_module_version": "1.5.0",
       "_model_name": "CheckboxModel",
       "_view_count": null,
       "_view_module": "@jupyter-widgets/controls",
       "_view_module_version": "1.5.0",
       "_view_name": "CheckboxView",
       "description": "",
       "description_tooltip": null,
       "disabled": false,
       "indent": true,
       "layout": "IPY_MODEL_bdef4bf3c7424855b736b0fa72c837ed",
       "style": "IPY_MODEL_588afdaec9224cf7870b35b423540012",
       "value": false
      }
     },
     "d4d07fd20b4341c0ba0df52ad58d66f3": {
      "model_module": "@jupyter-widgets/controls",
      "model_module_version": "1.5.0",
      "model_name": "DescriptionStyleModel",
      "state": {
       "_model_module": "@jupyter-widgets/controls",
       "_model_module_version": "1.5.0",
       "_model_name": "DescriptionStyleModel",
       "_view_count": null,
       "_view_module": "@jupyter-widgets/base",
       "_view_module_version": "1.2.0",
       "_view_name": "StyleView",
       "description_width": ""
      }
     },
     "d4d14409c3a44033a5177cf9f0806adb": {
      "model_module": "@jupyter-widgets/controls",
      "model_module_version": "1.5.0",
      "model_name": "HBoxModel",
      "state": {
       "_dom_classes": [],
       "_model_module": "@jupyter-widgets/controls",
       "_model_module_version": "1.5.0",
       "_model_name": "HBoxModel",
       "_view_count": null,
       "_view_module": "@jupyter-widgets/controls",
       "_view_module_version": "1.5.0",
       "_view_name": "HBoxView",
       "box_style": "",
       "children": [
        "IPY_MODEL_3235620c9b8c4e4f8a37b418120304ca",
        "IPY_MODEL_cda86620b2e447cdb8e7cc6bb4edc31f",
        "IPY_MODEL_00c5cda254d347b880f9751b480c6ec4",
        "IPY_MODEL_1c3d3e385aed434a84fd162c7482b68a"
       ],
       "layout": "IPY_MODEL_804c51697f2b4229a0f02be6b85b1659"
      }
     },
     "d52b75b765f04062ba840c05d4bcb90a": {
      "model_module": "@jupyter-widgets/controls",
      "model_module_version": "1.5.0",
      "model_name": "HTMLModel",
      "state": {
       "_dom_classes": [],
       "_model_module": "@jupyter-widgets/controls",
       "_model_module_version": "1.5.0",
       "_model_name": "HTMLModel",
       "_view_count": null,
       "_view_module": "@jupyter-widgets/controls",
       "_view_module_version": "1.5.0",
       "_view_name": "HTMLView",
       "description": "",
       "description_tooltip": null,
       "layout": "IPY_MODEL_2adb518af7044a69aad2c2de3ca0c421",
       "placeholder": "​",
       "style": "IPY_MODEL_7761640e253944a4a49bf72569a8f3ea",
       "value": "<div style=\"font-size:medium; background-color:#ececec;padding-left:2px;\">Transport</div>"
      }
     },
     "d539aced65454f7ba6da665799a62b10": {
      "model_module": "@jupyter-widgets/controls",
      "model_module_version": "1.5.0",
      "model_name": "CheckboxModel",
      "state": {
       "_dom_classes": [
        "checkbox_highspeedrail"
       ],
       "_model_module": "@jupyter-widgets/controls",
       "_model_module_version": "1.5.0",
       "_model_name": "CheckboxModel",
       "_view_count": null,
       "_view_module": "@jupyter-widgets/controls",
       "_view_module_version": "1.5.0",
       "_view_name": "CheckboxView",
       "description": "",
       "description_tooltip": null,
       "disabled": false,
       "indent": true,
       "layout": "IPY_MODEL_bdef4bf3c7424855b736b0fa72c837ed",
       "style": "IPY_MODEL_bc1b4112bff042629a40739cb3211b6c",
       "value": false
      }
     },
     "d54784b0ec42441488e24a2d8ecf1e78": {
      "model_module": "@jupyter-widgets/controls",
      "model_module_version": "1.5.0",
      "model_name": "DescriptionStyleModel",
      "state": {
       "_model_module": "@jupyter-widgets/controls",
       "_model_module_version": "1.5.0",
       "_model_name": "DescriptionStyleModel",
       "_view_count": null,
       "_view_module": "@jupyter-widgets/base",
       "_view_module_version": "1.2.0",
       "_view_name": "StyleView",
       "description_width": "0px"
      }
     },
     "d5c3f90ecab547c0ae40ef17ad250a3a": {
      "model_module": "@jupyter-widgets/controls",
      "model_module_version": "1.5.0",
      "model_name": "DescriptionStyleModel",
      "state": {
       "_model_module": "@jupyter-widgets/controls",
       "_model_module_version": "1.5.0",
       "_model_name": "DescriptionStyleModel",
       "_view_count": null,
       "_view_module": "@jupyter-widgets/base",
       "_view_module_version": "1.2.0",
       "_view_name": "StyleView",
       "description_width": ""
      }
     },
     "d5d0c4569bbd43c39d7071b57eb81582": {
      "model_module": "@jupyter-widgets/controls",
      "model_module_version": "1.5.0",
      "model_name": "CheckboxModel",
      "state": {
       "_dom_classes": [
        "checkbox_biogas_small"
       ],
       "_model_module": "@jupyter-widgets/controls",
       "_model_module_version": "1.5.0",
       "_model_name": "CheckboxModel",
       "_view_count": null,
       "_view_module": "@jupyter-widgets/controls",
       "_view_module_version": "1.5.0",
       "_view_name": "CheckboxView",
       "description": "",
       "description_tooltip": null,
       "disabled": false,
       "indent": true,
       "layout": "IPY_MODEL_bdef4bf3c7424855b736b0fa72c837ed",
       "style": "IPY_MODEL_35406b166e85455c965f7d8b73e02958",
       "value": false
      }
     },
     "d5fdab3c423d40e3afbb5dafaea11911": {
      "model_module": "@jupyter-widgets/controls",
      "model_module_version": "1.5.0",
      "model_name": "DescriptionStyleModel",
      "state": {
       "_model_module": "@jupyter-widgets/controls",
       "_model_module_version": "1.5.0",
       "_model_name": "DescriptionStyleModel",
       "_view_count": null,
       "_view_module": "@jupyter-widgets/base",
       "_view_module_version": "1.2.0",
       "_view_name": "StyleView",
       "description_width": "0px"
      }
     },
     "d635d97517ee49caa5f29a2ab08425d0": {
      "model_module": "@jupyter-widgets/controls",
      "model_module_version": "1.5.0",
      "model_name": "HTMLModel",
      "state": {
       "_dom_classes": [],
       "_model_module": "@jupyter-widgets/controls",
       "_model_module_version": "1.5.0",
       "_model_name": "HTMLModel",
       "_view_count": null,
       "_view_module": "@jupyter-widgets/controls",
       "_view_module_version": "1.5.0",
       "_view_name": "HTMLView",
       "description": "",
       "description_tooltip": null,
       "layout": "IPY_MODEL_1a17608c7cf54c5293a88b93567107e5",
       "placeholder": "​",
       "style": "IPY_MODEL_1287dde2195240af926e6c422a107b04",
       "value": "<div style=\"font-size:medium; background-color:#ececec;padding-left:2px;\">61.23</div>"
      }
     },
     "d636657b27634ecab7f4218750c04bd3": {
      "model_module": "@jupyter-widgets/controls",
      "model_module_version": "1.5.0",
      "model_name": "HTMLModel",
      "state": {
       "_dom_classes": [],
       "_model_module": "@jupyter-widgets/controls",
       "_model_module_version": "1.5.0",
       "_model_name": "HTMLModel",
       "_view_count": null,
       "_view_module": "@jupyter-widgets/controls",
       "_view_module_version": "1.5.0",
       "_view_name": "HTMLView",
       "description": "",
       "description_tooltip": null,
       "layout": "IPY_MODEL_0fc6d0e36882466aaf8b89d9494bcb4b",
       "placeholder": "​",
       "style": "IPY_MODEL_4c8517df85644a0fba78d2ae46f40ac0",
       "value": "<div style=\"font-size:medium; background-color:white;padding-left:2px;\">Silvopasture</div>"
      }
     },
     "d6709e5cc5a74a1586e64062a7c01683": {
      "model_module": "@jupyter-widgets/controls",
      "model_module_version": "1.5.0",
      "model_name": "HTMLModel",
      "state": {
       "_dom_classes": [],
       "_model_module": "@jupyter-widgets/controls",
       "_model_module_version": "1.5.0",
       "_model_name": "HTMLModel",
       "_view_count": null,
       "_view_module": "@jupyter-widgets/controls",
       "_view_module_version": "1.5.0",
       "_view_name": "HTMLView",
       "description": "",
       "description_tooltip": null,
       "layout": "IPY_MODEL_0fc6d0e36882466aaf8b89d9494bcb4b",
       "placeholder": "​",
       "style": "IPY_MODEL_31e213c1a351456eac304840d4149445",
       "value": "<div style=\"font-size:medium; background-color:#ececec;padding-left:2px;\">Nuclear</div>"
      }
     },
     "d6eb2cabca9a486cbd38439c55febae4": {
      "model_module": "@jupyter-widgets/controls",
      "model_module_version": "1.5.0",
      "model_name": "DescriptionStyleModel",
      "state": {
       "_model_module": "@jupyter-widgets/controls",
       "_model_module_version": "1.5.0",
       "_model_name": "DescriptionStyleModel",
       "_view_count": null,
       "_view_module": "@jupyter-widgets/base",
       "_view_module_version": "1.2.0",
       "_view_name": "StyleView",
       "description_width": ""
      }
     },
     "d72043a180694f12a8e3c34ec9943e72": {
      "model_module": "@jupyter-widgets/controls",
      "model_module_version": "1.5.0",
      "model_name": "HTMLModel",
      "state": {
       "_dom_classes": [],
       "_model_module": "@jupyter-widgets/controls",
       "_model_module_version": "1.5.0",
       "_model_name": "HTMLModel",
       "_view_count": null,
       "_view_module": "@jupyter-widgets/controls",
       "_view_module_version": "1.5.0",
       "_view_name": "HTMLView",
       "description": "",
       "description_tooltip": null,
       "layout": "IPY_MODEL_1a17608c7cf54c5293a88b93567107e5",
       "placeholder": "​",
       "style": "IPY_MODEL_fe6442611dae46fe9cc78fe23668736e",
       "value": "<div style=\"font-size:medium; background-color:#ececec;padding-left:2px;\">3.97</div>"
      }
     },
     "d7ca9e3319e444199e0ef26ba51bfc66": {
      "model_module": "@jupyter-widgets/controls",
      "model_module_version": "1.5.0",
      "model_name": "HBoxModel",
      "state": {
       "_dom_classes": [],
       "_model_module": "@jupyter-widgets/controls",
       "_model_module_version": "1.5.0",
       "_model_name": "HBoxModel",
       "_view_count": null,
       "_view_module": "@jupyter-widgets/controls",
       "_view_module_version": "1.5.0",
       "_view_name": "HBoxView",
       "box_style": "",
       "children": [
        "IPY_MODEL_c38f17adc2cc47a5a2186dc4e5f4dfb9",
        "IPY_MODEL_163efae914714c9c84f37ca2d5e10486",
        "IPY_MODEL_71e170a1cff647159157a0b651218526",
        "IPY_MODEL_de20e682b5d549e3a5d907292f0d1a6a"
       ],
       "layout": "IPY_MODEL_804c51697f2b4229a0f02be6b85b1659"
      }
     },
     "d8025c160feb4fd1a307e768b6c18165": {
      "model_module": "@jupyter-widgets/controls",
      "model_module_version": "1.5.0",
      "model_name": "HTMLModel",
      "state": {
       "_dom_classes": [],
       "_model_module": "@jupyter-widgets/controls",
       "_model_module_version": "1.5.0",
       "_model_name": "HTMLModel",
       "_view_count": null,
       "_view_module": "@jupyter-widgets/controls",
       "_view_module_version": "1.5.0",
       "_view_name": "HTMLView",
       "description": "",
       "description_tooltip": null,
       "layout": "IPY_MODEL_2adb518af7044a69aad2c2de3ca0c421",
       "placeholder": "​",
       "style": "IPY_MODEL_40126e8930ab4c64a450c521e918dc81",
       "value": "<div style=\"font-size:medium; background-color:white;padding-left:2px;\">Buildings and Cities</div>"
      }
     },
     "d8299f5d2ec1406da47707bdde797c6d": {
      "model_module": "@jupyter-widgets/base",
      "model_module_version": "1.2.0",
      "model_name": "LayoutModel",
      "state": {
       "_model_module": "@jupyter-widgets/base",
       "_model_module_version": "1.2.0",
       "_model_name": "LayoutModel",
       "_view_count": null,
       "_view_module": "@jupyter-widgets/base",
       "_view_module_version": "1.2.0",
       "_view_name": "LayoutView",
       "align_content": null,
       "align_items": null,
       "align_self": null,
       "border": null,
       "bottom": null,
       "display": null,
       "flex": null,
       "flex_flow": null,
       "grid_area": null,
       "grid_auto_columns": null,
       "grid_auto_flow": null,
       "grid_auto_rows": null,
       "grid_column": null,
       "grid_gap": null,
       "grid_row": null,
       "grid_template_areas": null,
       "grid_template_columns": null,
       "grid_template_rows": null,
       "height": null,
       "justify_content": null,
       "justify_items": null,
       "left": null,
       "margin": null,
       "max_height": null,
       "max_width": null,
       "min_height": null,
       "min_width": null,
       "object_fit": null,
       "object_position": null,
       "order": null,
       "overflow": null,
       "overflow_x": null,
       "overflow_y": null,
       "padding": null,
       "right": null,
       "top": null,
       "visibility": null,
       "width": null
      }
     },
     "d8d308a8869e43cb88bd6d90df1feaed": {
      "model_module": "@jupyter-widgets/controls",
      "model_module_version": "1.5.0",
      "model_name": "HTMLModel",
      "state": {
       "_dom_classes": [],
       "_model_module": "@jupyter-widgets/controls",
       "_model_module_version": "1.5.0",
       "_model_name": "HTMLModel",
       "_view_count": null,
       "_view_module": "@jupyter-widgets/controls",
       "_view_module_version": "1.5.0",
       "_view_name": "HTMLView",
       "description": "",
       "description_tooltip": null,
       "layout": "IPY_MODEL_1a17608c7cf54c5293a88b93567107e5",
       "placeholder": "​",
       "style": "IPY_MODEL_de7c704f0060407ebc9c8b1297e2d5a5",
       "value": "<div style=\"font-size:medium; background-color:white;padding-left:2px;\">3.33</div>"
      }
     },
     "d9210250e943423394eb175e993d1394": {
      "model_module": "@jupyter-widgets/controls",
      "model_module_version": "1.5.0",
      "model_name": "DescriptionStyleModel",
      "state": {
       "_model_module": "@jupyter-widgets/controls",
       "_model_module_version": "1.5.0",
       "_model_name": "DescriptionStyleModel",
       "_view_count": null,
       "_view_module": "@jupyter-widgets/base",
       "_view_module_version": "1.2.0",
       "_view_name": "StyleView",
       "description_width": ""
      }
     },
     "da65e1d4529e475d8622c4ab26bde74c": {
      "model_module": "@jupyter-widgets/controls",
      "model_module_version": "1.5.0",
      "model_name": "DescriptionStyleModel",
      "state": {
       "_model_module": "@jupyter-widgets/controls",
       "_model_module_version": "1.5.0",
       "_model_name": "DescriptionStyleModel",
       "_view_count": null,
       "_view_module": "@jupyter-widgets/base",
       "_view_module_version": "1.2.0",
       "_view_name": "StyleView",
       "description_width": ""
      }
     },
     "da693f26e7f941039be116cae20a6f93": {
      "model_module": "@jupyter-widgets/base",
      "model_module_version": "1.2.0",
      "model_name": "LayoutModel",
      "state": {
       "_model_module": "@jupyter-widgets/base",
       "_model_module_version": "1.2.0",
       "_model_name": "LayoutModel",
       "_view_count": null,
       "_view_module": "@jupyter-widgets/base",
       "_view_module_version": "1.2.0",
       "_view_name": "LayoutView",
       "align_content": null,
       "align_items": null,
       "align_self": null,
       "border": null,
       "bottom": null,
       "display": null,
       "flex": "5 1 0%",
       "flex_flow": null,
       "grid_area": null,
       "grid_auto_columns": null,
       "grid_auto_flow": null,
       "grid_auto_rows": null,
       "grid_column": null,
       "grid_gap": null,
       "grid_row": null,
       "grid_template_areas": null,
       "grid_template_columns": null,
       "grid_template_rows": null,
       "height": null,
       "justify_content": null,
       "justify_items": null,
       "left": null,
       "margin": null,
       "max_height": null,
       "max_width": null,
       "min_height": null,
       "min_width": null,
       "object_fit": null,
       "object_position": null,
       "order": null,
       "overflow": null,
       "overflow_x": null,
       "overflow_y": null,
       "padding": null,
       "right": null,
       "top": null,
       "visibility": null,
       "width": "auto"
      }
     },
     "daaab3393ca7428fb40080c984f1a73b": {
      "model_module": "@jupyter-widgets/controls",
      "model_module_version": "1.5.0",
      "model_name": "DescriptionStyleModel",
      "state": {
       "_model_module": "@jupyter-widgets/controls",
       "_model_module_version": "1.5.0",
       "_model_name": "DescriptionStyleModel",
       "_view_count": null,
       "_view_module": "@jupyter-widgets/base",
       "_view_module_version": "1.2.0",
       "_view_name": "StyleView",
       "description_width": ""
      }
     },
     "dab761ebc0b149bdbe2ae5cb66b8173c": {
      "model_module": "@jupyter-widgets/controls",
      "model_module_version": "1.5.0",
      "model_name": "DescriptionStyleModel",
      "state": {
       "_model_module": "@jupyter-widgets/controls",
       "_model_module_version": "1.5.0",
       "_model_name": "DescriptionStyleModel",
       "_view_count": null,
       "_view_module": "@jupyter-widgets/base",
       "_view_module_version": "1.2.0",
       "_view_name": "StyleView",
       "description_width": ""
      }
     },
     "dac0a5d27367456bb6c0a2a1a95ea4be": {
      "model_module": "@jupyter-widgets/controls",
      "model_module_version": "1.5.0",
      "model_name": "DescriptionStyleModel",
      "state": {
       "_model_module": "@jupyter-widgets/controls",
       "_model_module_version": "1.5.0",
       "_model_name": "DescriptionStyleModel",
       "_view_count": null,
       "_view_module": "@jupyter-widgets/base",
       "_view_module_version": "1.2.0",
       "_view_name": "StyleView",
       "description_width": ""
      }
     },
     "dafc00f7de4e468a9b25661a8a5b8da5": {
      "model_module": "@jupyter-widgets/controls",
      "model_module_version": "1.5.0",
      "model_name": "DescriptionStyleModel",
      "state": {
       "_model_module": "@jupyter-widgets/controls",
       "_model_module_version": "1.5.0",
       "_model_name": "DescriptionStyleModel",
       "_view_count": null,
       "_view_module": "@jupyter-widgets/base",
       "_view_module_version": "1.2.0",
       "_view_name": "StyleView",
       "description_width": ""
      }
     },
     "db6c55ca1799401682de86681db2861a": {
      "model_module": "@jupyter-widgets/controls",
      "model_module_version": "1.5.0",
      "model_name": "DescriptionStyleModel",
      "state": {
       "_model_module": "@jupyter-widgets/controls",
       "_model_module_version": "1.5.0",
       "_model_name": "DescriptionStyleModel",
       "_view_count": null,
       "_view_module": "@jupyter-widgets/base",
       "_view_module_version": "1.2.0",
       "_view_name": "StyleView",
       "description_width": ""
      }
     },
     "dbc6d611f1c1482c8953c32ec49c1e36": {
      "model_module": "@jupyter-widgets/controls",
      "model_module_version": "1.5.0",
      "model_name": "CheckboxModel",
      "state": {
       "_dom_classes": [
        "checkbox_"
       ],
       "_model_module": "@jupyter-widgets/controls",
       "_model_module_version": "1.5.0",
       "_model_name": "CheckboxModel",
       "_view_count": null,
       "_view_module": "@jupyter-widgets/controls",
       "_view_module_version": "1.5.0",
       "_view_name": "CheckboxView",
       "description": "",
       "description_tooltip": null,
       "disabled": true,
       "indent": true,
       "layout": "IPY_MODEL_bdef4bf3c7424855b736b0fa72c837ed",
       "style": "IPY_MODEL_17fbd02047fe4092a22f6258f1ef4b7a",
       "value": false
      }
     },
     "dbc8585366444c51a15d01b72fc9bd1d": {
      "model_module": "@jupyter-widgets/controls",
      "model_module_version": "1.5.0",
      "model_name": "CheckboxModel",
      "state": {
       "_dom_classes": [
        "checkbox_districtheating"
       ],
       "_model_module": "@jupyter-widgets/controls",
       "_model_module_version": "1.5.0",
       "_model_name": "CheckboxModel",
       "_view_count": null,
       "_view_module": "@jupyter-widgets/controls",
       "_view_module_version": "1.5.0",
       "_view_name": "CheckboxView",
       "description": "",
       "description_tooltip": null,
       "disabled": false,
       "indent": true,
       "layout": "IPY_MODEL_bdef4bf3c7424855b736b0fa72c837ed",
       "style": "IPY_MODEL_3d0129a7234f4e4abeb019858c7a1412",
       "value": false
      }
     },
     "dbe9e4fd8b514df1864bc20ad9c55ec6": {
      "model_module": "@jupyter-widgets/controls",
      "model_module_version": "1.5.0",
      "model_name": "HTMLModel",
      "state": {
       "_dom_classes": [],
       "_model_module": "@jupyter-widgets/controls",
       "_model_module_version": "1.5.0",
       "_model_name": "HTMLModel",
       "_view_count": null,
       "_view_module": "@jupyter-widgets/controls",
       "_view_module_version": "1.5.0",
       "_view_name": "HTMLView",
       "description": "",
       "description_tooltip": null,
       "layout": "IPY_MODEL_1a17608c7cf54c5293a88b93567107e5",
       "placeholder": "​",
       "style": "IPY_MODEL_754cc07fc8454e459c92fdf36e0e24ec",
       "value": "<div style=\"font-size:medium; background-color:#ececec;padding-left:2px;\">4.00</div>"
      }
     },
     "dca2163fa89f4210855d9fa08617a809": {
      "model_module": "@jupyter-widgets/controls",
      "model_module_version": "1.5.0",
      "model_name": "DescriptionStyleModel",
      "state": {
       "_model_module": "@jupyter-widgets/controls",
       "_model_module_version": "1.5.0",
       "_model_name": "DescriptionStyleModel",
       "_view_count": null,
       "_view_module": "@jupyter-widgets/base",
       "_view_module_version": "1.2.0",
       "_view_name": "StyleView",
       "description_width": ""
      }
     },
     "dccff1c272304df19835ce22eb4dbc79": {
      "model_module": "@jupyter-widgets/controls",
      "model_module_version": "1.5.0",
      "model_name": "DescriptionStyleModel",
      "state": {
       "_model_module": "@jupyter-widgets/controls",
       "_model_module_version": "1.5.0",
       "_model_name": "DescriptionStyleModel",
       "_view_count": null,
       "_view_module": "@jupyter-widgets/base",
       "_view_module_version": "1.2.0",
       "_view_name": "StyleView",
       "description_width": ""
      }
     },
     "dd597510d4cd44df8adf81dfa5453f6d": {
      "model_module": "@jupyter-widgets/controls",
      "model_module_version": "1.5.0",
      "model_name": "ButtonStyleModel",
      "state": {
       "_model_module": "@jupyter-widgets/controls",
       "_model_module_version": "1.5.0",
       "_model_name": "ButtonStyleModel",
       "_view_count": null,
       "_view_module": "@jupyter-widgets/base",
       "_view_module_version": "1.2.0",
       "_view_name": "StyleView",
       "button_color": null,
       "font_weight": ""
      }
     },
     "dd71848a0d474e1b865ff1b06a775d50": {
      "model_module": "@jupyter-widgets/controls",
      "model_module_version": "1.5.0",
      "model_name": "HTMLModel",
      "state": {
       "_dom_classes": [],
       "_model_module": "@jupyter-widgets/controls",
       "_model_module_version": "1.5.0",
       "_model_name": "HTMLModel",
       "_view_count": null,
       "_view_module": "@jupyter-widgets/controls",
       "_view_module_version": "1.5.0",
       "_view_name": "HTMLView",
       "description": "",
       "description_tooltip": null,
       "layout": "IPY_MODEL_0fc6d0e36882466aaf8b89d9494bcb4b",
       "placeholder": "​",
       "style": "IPY_MODEL_55a46bf0cc504c94afd63aa3a3b2c21f",
       "value": "<div style=\"font-size:medium; background-color:white;padding-left:2px;\">Mass Transit</div>"
      }
     },
     "dd7747c5361845cab0974645c7ba4431": {
      "model_module": "@jupyter-widgets/controls",
      "model_module_version": "1.5.0",
      "model_name": "HTMLModel",
      "state": {
       "_dom_classes": [],
       "_model_module": "@jupyter-widgets/controls",
       "_model_module_version": "1.5.0",
       "_model_name": "HTMLModel",
       "_view_count": null,
       "_view_module": "@jupyter-widgets/controls",
       "_view_module_version": "1.5.0",
       "_view_name": "HTMLView",
       "description": "",
       "description_tooltip": null,
       "layout": "IPY_MODEL_0fc6d0e36882466aaf8b89d9494bcb4b",
       "placeholder": "​",
       "style": "IPY_MODEL_11f7112dea634b94861dcc6105030b17",
       "value": "<div style=\"font-size:medium; background-color:white;padding-left:2px;\">Forest Protection</div>"
      }
     },
     "dd84d71bf20349deaa7b9a3110e308cc": {
      "model_module": "@jupyter-widgets/controls",
      "model_module_version": "1.5.0",
      "model_name": "DescriptionStyleModel",
      "state": {
       "_model_module": "@jupyter-widgets/controls",
       "_model_module_version": "1.5.0",
       "_model_name": "DescriptionStyleModel",
       "_view_count": null,
       "_view_module": "@jupyter-widgets/base",
       "_view_module_version": "1.2.0",
       "_view_name": "StyleView",
       "description_width": ""
      }
     },
     "ddacc7ec3e6f4679b88b5a246b613dad": {
      "model_module": "@jupyter-widgets/controls",
      "model_module_version": "1.5.0",
      "model_name": "ProgressStyleModel",
      "state": {
       "_model_module": "@jupyter-widgets/controls",
       "_model_module_version": "1.5.0",
       "_model_name": "ProgressStyleModel",
       "_view_count": null,
       "_view_module": "@jupyter-widgets/base",
       "_view_module_version": "1.2.0",
       "_view_name": "StyleView",
       "bar_color": null,
       "description_width": ""
      }
     },
     "de20e682b5d549e3a5d907292f0d1a6a": {
      "model_module": "@jupyter-widgets/controls",
      "model_module_version": "1.5.0",
      "model_name": "CheckboxModel",
      "state": {
       "_dom_classes": [
        "checkbox_waterdistribution"
       ],
       "_model_module": "@jupyter-widgets/controls",
       "_model_module_version": "1.5.0",
       "_model_name": "CheckboxModel",
       "_view_count": null,
       "_view_module": "@jupyter-widgets/controls",
       "_view_module_version": "1.5.0",
       "_view_name": "CheckboxView",
       "description": "",
       "description_tooltip": null,
       "disabled": false,
       "indent": true,
       "layout": "IPY_MODEL_bdef4bf3c7424855b736b0fa72c837ed",
       "style": "IPY_MODEL_2a4bbcc6967245c9b47979f791bb64f2",
       "value": false
      }
     },
     "de50cae58c9e431090889c36869c1d82": {
      "model_module": "@jupyter-widgets/controls",
      "model_module_version": "1.5.0",
      "model_name": "HTMLModel",
      "state": {
       "_dom_classes": [],
       "_model_module": "@jupyter-widgets/controls",
       "_model_module_version": "1.5.0",
       "_model_name": "HTMLModel",
       "_view_count": null,
       "_view_module": "@jupyter-widgets/controls",
       "_view_module_version": "1.5.0",
       "_view_name": "HTMLView",
       "description": "",
       "description_tooltip": null,
       "layout": "IPY_MODEL_0fc6d0e36882466aaf8b89d9494bcb4b",
       "placeholder": "​",
       "style": "IPY_MODEL_a7d3a1d87b654aab982153bc7f347973",
       "value": "<div style=\"font-size:medium; background-color:white;padding-left:2px;\">System of Rice Intensification</div>"
      }
     },
     "de5206a45e0945d0ad4a597ba2e690c1": {
      "model_module": "@jupyter-widgets/controls",
      "model_module_version": "1.5.0",
      "model_name": "DescriptionStyleModel",
      "state": {
       "_model_module": "@jupyter-widgets/controls",
       "_model_module_version": "1.5.0",
       "_model_name": "DescriptionStyleModel",
       "_view_count": null,
       "_view_module": "@jupyter-widgets/base",
       "_view_module_version": "1.2.0",
       "_view_name": "StyleView",
       "description_width": "0px"
      }
     },
     "de62511e41694f228c8d436e6d4338da": {
      "model_module": "@jupyter-widgets/controls",
      "model_module_version": "1.5.0",
      "model_name": "DescriptionStyleModel",
      "state": {
       "_model_module": "@jupyter-widgets/controls",
       "_model_module_version": "1.5.0",
       "_model_name": "DescriptionStyleModel",
       "_view_count": null,
       "_view_module": "@jupyter-widgets/base",
       "_view_module_version": "1.2.0",
       "_view_name": "StyleView",
       "description_width": ""
      }
     },
     "de7c704f0060407ebc9c8b1297e2d5a5": {
      "model_module": "@jupyter-widgets/controls",
      "model_module_version": "1.5.0",
      "model_name": "DescriptionStyleModel",
      "state": {
       "_model_module": "@jupyter-widgets/controls",
       "_model_module_version": "1.5.0",
       "_model_name": "DescriptionStyleModel",
       "_view_count": null,
       "_view_module": "@jupyter-widgets/base",
       "_view_module_version": "1.2.0",
       "_view_name": "StyleView",
       "description_width": ""
      }
     },
     "dfbd2b2da4c4435587fae1205b7e3c7f": {
      "model_module": "@jupyter-widgets/controls",
      "model_module_version": "1.5.0",
      "model_name": "HTMLModel",
      "state": {
       "_dom_classes": [],
       "_model_module": "@jupyter-widgets/controls",
       "_model_module_version": "1.5.0",
       "_model_name": "HTMLModel",
       "_view_count": null,
       "_view_module": "@jupyter-widgets/controls",
       "_view_module_version": "1.5.0",
       "_view_name": "HTMLView",
       "description": "",
       "description_tooltip": null,
       "layout": "IPY_MODEL_0fc6d0e36882466aaf8b89d9494bcb4b",
       "placeholder": "​",
       "style": "IPY_MODEL_f5c408c868a249af9f4d84e8934ca506",
       "value": "<div style=\"font-size:medium; background-color:#ececec;padding-left:2px;\">Alternative Cement</div>"
      }
     },
     "e0ec154bb2864358856efa75c1440b2c": {
      "model_module": "@jupyter-widgets/controls",
      "model_module_version": "1.5.0",
      "model_name": "DescriptionStyleModel",
      "state": {
       "_model_module": "@jupyter-widgets/controls",
       "_model_module_version": "1.5.0",
       "_model_name": "DescriptionStyleModel",
       "_view_count": null,
       "_view_module": "@jupyter-widgets/base",
       "_view_module_version": "1.2.0",
       "_view_name": "StyleView",
       "description_width": "0px"
      }
     },
     "e163947207234a9a8f3e32b6460f8609": {
      "model_module": "@jupyter-widgets/controls",
      "model_module_version": "1.5.0",
      "model_name": "HBoxModel",
      "state": {
       "_dom_classes": [],
       "_model_module": "@jupyter-widgets/controls",
       "_model_module_version": "1.5.0",
       "_model_name": "HBoxModel",
       "_view_count": null,
       "_view_module": "@jupyter-widgets/controls",
       "_view_module_version": "1.5.0",
       "_view_name": "HBoxView",
       "box_style": "",
       "children": [
        "IPY_MODEL_f127b37ff0344aeab71535510a0e14c9",
        "IPY_MODEL_5968accb5f4f401fb909135cc35de7e5",
        "IPY_MODEL_6eaa40b3129944cda486dbb5f21acb06",
        "IPY_MODEL_e875fde200064eb9adcd27850b9516a1"
       ],
       "layout": "IPY_MODEL_804c51697f2b4229a0f02be6b85b1659"
      }
     },
     "e174828e579641ea8129f0ad85fe0cbb": {
      "model_module": "@jupyter-widgets/controls",
      "model_module_version": "1.5.0",
      "model_name": "DescriptionStyleModel",
      "state": {
       "_model_module": "@jupyter-widgets/controls",
       "_model_module_version": "1.5.0",
       "_model_name": "DescriptionStyleModel",
       "_view_count": null,
       "_view_module": "@jupyter-widgets/base",
       "_view_module_version": "1.2.0",
       "_view_name": "StyleView",
       "description_width": "0px"
      }
     },
     "e1a0950d8fa94eddac0cc906a7184cfc": {
      "model_module": "@jupyter-widgets/controls",
      "model_module_version": "1.5.0",
      "model_name": "HTMLModel",
      "state": {
       "_dom_classes": [],
       "_model_module": "@jupyter-widgets/controls",
       "_model_module_version": "1.5.0",
       "_model_name": "HTMLModel",
       "_view_count": null,
       "_view_module": "@jupyter-widgets/controls",
       "_view_module_version": "1.5.0",
       "_view_name": "HTMLView",
       "description": "",
       "description_tooltip": null,
       "layout": "IPY_MODEL_0fc6d0e36882466aaf8b89d9494bcb4b",
       "placeholder": "​",
       "style": "IPY_MODEL_4b3b70c3c0994d06a88d01ebfb6b1dca",
       "value": "<div style=\"font-size:medium; background-color:white;padding-left:2px;\">Landfill Methane</div>"
      }
     },
     "e1ed4c1a431640bfa7188a9745cc3edd": {
      "model_module": "@jupyter-widgets/controls",
      "model_module_version": "1.5.0",
      "model_name": "HTMLModel",
      "state": {
       "_dom_classes": [],
       "_model_module": "@jupyter-widgets/controls",
       "_model_module_version": "1.5.0",
       "_model_name": "HTMLModel",
       "_view_count": null,
       "_view_module": "@jupyter-widgets/controls",
       "_view_module_version": "1.5.0",
       "_view_name": "HTMLView",
       "description": "",
       "description_tooltip": null,
       "layout": "IPY_MODEL_1a17608c7cf54c5293a88b93567107e5",
       "placeholder": "​",
       "style": "IPY_MODEL_16befa7b610f4f05894c65f6b6788dba",
       "value": "<div style=\"font-size:medium; background-color:white;padding-left:2px;\">22.61</div>"
      }
     },
     "e2b9606a6bfb44ae9534a23156278e97": {
      "model_module": "@jupyter-widgets/controls",
      "model_module_version": "1.5.0",
      "model_name": "HTMLModel",
      "state": {
       "_dom_classes": [],
       "_model_module": "@jupyter-widgets/controls",
       "_model_module_version": "1.5.0",
       "_model_name": "HTMLModel",
       "_view_count": null,
       "_view_module": "@jupyter-widgets/controls",
       "_view_module_version": "1.5.0",
       "_view_name": "HTMLView",
       "description": "",
       "description_tooltip": null,
       "layout": "IPY_MODEL_2adb518af7044a69aad2c2de3ca0c421",
       "placeholder": "​",
       "style": "IPY_MODEL_34cb6dc7f1b644bcbd4992f6a3941a6d",
       "value": "<div style=\"font-size:medium; background-color:white;padding-left:2px;\">Oceans</div>"
      }
     },
     "e300c069594e417d9916a67e9b827d9e": {
      "model_module": "@jupyter-widgets/controls",
      "model_module_version": "1.5.0",
      "model_name": "HTMLModel",
      "state": {
       "_dom_classes": [],
       "_model_module": "@jupyter-widgets/controls",
       "_model_module_version": "1.5.0",
       "_model_name": "HTMLModel",
       "_view_count": null,
       "_view_module": "@jupyter-widgets/controls",
       "_view_module_version": "1.5.0",
       "_view_name": "HTMLView",
       "description": "",
       "description_tooltip": null,
       "layout": "IPY_MODEL_0fc6d0e36882466aaf8b89d9494bcb4b",
       "placeholder": "​",
       "style": "IPY_MODEL_0b036fcf2dc941e58f70f5f56c058eb9",
       "value": "<div style=\"font-size:medium; background-color:#ececec;padding-left:2px;\">Farmland Irrigation</div>"
      }
     },
     "e371040a15d94d4eb82297c66484c06f": {
      "model_module": "@jupyter-widgets/controls",
      "model_module_version": "1.5.0",
      "model_name": "HTMLModel",
      "state": {
       "_dom_classes": [],
       "_model_module": "@jupyter-widgets/controls",
       "_model_module_version": "1.5.0",
       "_model_name": "HTMLModel",
       "_view_count": null,
       "_view_module": "@jupyter-widgets/controls",
       "_view_module_version": "1.5.0",
       "_view_name": "HTMLView",
       "description": "",
       "description_tooltip": null,
       "layout": "IPY_MODEL_0fc6d0e36882466aaf8b89d9494bcb4b",
       "placeholder": "​",
       "style": "IPY_MODEL_243249f8ac164d05ba5cd07259e8aacb",
       "value": "<div style=\"font-size:medium; background-color:#ececec;padding-left:2px;\">Multistrata Agroforestry</div>"
      }
     },
     "e39bfb557a684478a149cf37370d8096": {
      "model_module": "@jupyter-widgets/controls",
      "model_module_version": "1.5.0",
      "model_name": "DescriptionStyleModel",
      "state": {
       "_model_module": "@jupyter-widgets/controls",
       "_model_module_version": "1.5.0",
       "_model_name": "DescriptionStyleModel",
       "_view_count": null,
       "_view_module": "@jupyter-widgets/base",
       "_view_module_version": "1.2.0",
       "_view_name": "StyleView",
       "description_width": ""
      }
     },
     "e401a3e768a14d65972fa194b491da74": {
      "model_module": "@jupyter-widgets/controls",
      "model_module_version": "1.5.0",
      "model_name": "VBoxModel",
      "state": {
       "_dom_classes": [],
       "_model_module": "@jupyter-widgets/controls",
       "_model_module_version": "1.5.0",
       "_model_name": "VBoxModel",
       "_view_count": null,
       "_view_module": "@jupyter-widgets/controls",
       "_view_module_version": "1.5.0",
       "_view_name": "VBoxView",
       "box_style": "",
       "children": [
        "IPY_MODEL_c7d1d0057520456fa0c19a15095d0b48"
       ],
       "layout": "IPY_MODEL_d16a34f593f848308a6c3fe7627628ae"
      }
     },
     "e4cab5dc3d404966a3cff2e42da36551": {
      "model_module": "@jupyter-widgets/controls",
      "model_module_version": "1.5.0",
      "model_name": "DescriptionStyleModel",
      "state": {
       "_model_module": "@jupyter-widgets/controls",
       "_model_module_version": "1.5.0",
       "_model_name": "DescriptionStyleModel",
       "_view_count": null,
       "_view_module": "@jupyter-widgets/base",
       "_view_module_version": "1.2.0",
       "_view_name": "StyleView",
       "description_width": "0px"
      }
     },
     "e5576ffd6ba14633bfe5b91fa07b8bb1": {
      "model_module": "@jupyter-widgets/controls",
      "model_module_version": "1.5.0",
      "model_name": "HBoxModel",
      "state": {
       "_dom_classes": [],
       "_model_module": "@jupyter-widgets/controls",
       "_model_module_version": "1.5.0",
       "_model_name": "HBoxModel",
       "_view_count": null,
       "_view_module": "@jupyter-widgets/controls",
       "_view_module_version": "1.5.0",
       "_view_name": "HBoxView",
       "box_style": "",
       "children": [
        "IPY_MODEL_c2e5227aa5544a1382948737073751e1",
        "IPY_MODEL_71cb62280d944566851e6f61a7f4dca4",
        "IPY_MODEL_f5bcc2dd646d4e7892d448d13a38f686",
        "IPY_MODEL_070df4d398e0488bbdc9ea533537f684"
       ],
       "layout": "IPY_MODEL_804c51697f2b4229a0f02be6b85b1659"
      }
     },
     "e5825944fd6842278190c9dd6a02214d": {
      "model_module": "@jupyter-widgets/controls",
      "model_module_version": "1.5.0",
      "model_name": "DescriptionStyleModel",
      "state": {
       "_model_module": "@jupyter-widgets/controls",
       "_model_module_version": "1.5.0",
       "_model_name": "DescriptionStyleModel",
       "_view_count": null,
       "_view_module": "@jupyter-widgets/base",
       "_view_module_version": "1.2.0",
       "_view_name": "StyleView",
       "description_width": ""
      }
     },
     "e584667635aa472d8cad265896d9a43f": {
      "model_module": "@jupyter-widgets/controls",
      "model_module_version": "1.5.0",
      "model_name": "DescriptionStyleModel",
      "state": {
       "_model_module": "@jupyter-widgets/controls",
       "_model_module_version": "1.5.0",
       "_model_name": "DescriptionStyleModel",
       "_view_count": null,
       "_view_module": "@jupyter-widgets/base",
       "_view_module_version": "1.2.0",
       "_view_name": "StyleView",
       "description_width": ""
      }
     },
     "e64adb8822a7440d8b86e0d55dd78808": {
      "model_module": "@jupyter-widgets/controls",
      "model_module_version": "1.5.0",
      "model_name": "DescriptionStyleModel",
      "state": {
       "_model_module": "@jupyter-widgets/controls",
       "_model_module_version": "1.5.0",
       "_model_name": "DescriptionStyleModel",
       "_view_count": null,
       "_view_module": "@jupyter-widgets/base",
       "_view_module_version": "1.2.0",
       "_view_name": "StyleView",
       "description_width": "0px"
      }
     },
     "e662454565b14aff966c8faf11b19c9a": {
      "model_module": "@jupyter-widgets/controls",
      "model_module_version": "1.5.0",
      "model_name": "DescriptionStyleModel",
      "state": {
       "_model_module": "@jupyter-widgets/controls",
       "_model_module_version": "1.5.0",
       "_model_name": "DescriptionStyleModel",
       "_view_count": null,
       "_view_module": "@jupyter-widgets/base",
       "_view_module_version": "1.2.0",
       "_view_name": "StyleView",
       "description_width": ""
      }
     },
     "e67f1256fda04f54a8ec7e33c5486210": {
      "model_module": "@jupyter-widgets/controls",
      "model_module_version": "1.5.0",
      "model_name": "DescriptionStyleModel",
      "state": {
       "_model_module": "@jupyter-widgets/controls",
       "_model_module_version": "1.5.0",
       "_model_name": "DescriptionStyleModel",
       "_view_count": null,
       "_view_module": "@jupyter-widgets/base",
       "_view_module_version": "1.2.0",
       "_view_name": "StyleView",
       "description_width": ""
      }
     },
     "e6873114f4e54f64b7e2819d03b72409": {
      "model_module": "@jupyter-widgets/controls",
      "model_module_version": "1.5.0",
      "model_name": "DescriptionStyleModel",
      "state": {
       "_model_module": "@jupyter-widgets/controls",
       "_model_module_version": "1.5.0",
       "_model_name": "DescriptionStyleModel",
       "_view_count": null,
       "_view_module": "@jupyter-widgets/base",
       "_view_module_version": "1.2.0",
       "_view_name": "StyleView",
       "description_width": ""
      }
     },
     "e6e29dc6349749809eb7f18c67b3f20e": {
      "model_module": "@jupyter-widgets/controls",
      "model_module_version": "1.5.0",
      "model_name": "HTMLModel",
      "state": {
       "_dom_classes": [],
       "_model_module": "@jupyter-widgets/controls",
       "_model_module_version": "1.5.0",
       "_model_name": "HTMLModel",
       "_view_count": null,
       "_view_module": "@jupyter-widgets/controls",
       "_view_module_version": "1.5.0",
       "_view_name": "HTMLView",
       "description": "",
       "description_tooltip": null,
       "layout": "IPY_MODEL_0fc6d0e36882466aaf8b89d9494bcb4b",
       "placeholder": "​",
       "style": "IPY_MODEL_7b2de6b5ea064419aa99c49a6d09e5d5",
       "value": "<div style=\"font-size:medium; background-color:white;padding-left:2px;\">Reduced Food Waste</div>"
      }
     },
     "e7504f12976040ed8c404b4ea585f749": {
      "model_module": "@jupyter-widgets/controls",
      "model_module_version": "1.5.0",
      "model_name": "DescriptionStyleModel",
      "state": {
       "_model_module": "@jupyter-widgets/controls",
       "_model_module_version": "1.5.0",
       "_model_name": "DescriptionStyleModel",
       "_view_count": null,
       "_view_module": "@jupyter-widgets/base",
       "_view_module_version": "1.2.0",
       "_view_name": "StyleView",
       "description_width": ""
      }
     },
     "e7a6ce44800f4828a69a2d2f6c16ed9c": {
      "model_module": "@jupyter-widgets/controls",
      "model_module_version": "1.5.0",
      "model_name": "DescriptionStyleModel",
      "state": {
       "_model_module": "@jupyter-widgets/controls",
       "_model_module_version": "1.5.0",
       "_model_name": "DescriptionStyleModel",
       "_view_count": null,
       "_view_module": "@jupyter-widgets/base",
       "_view_module_version": "1.2.0",
       "_view_name": "StyleView",
       "description_width": "0px"
      }
     },
     "e875fde200064eb9adcd27850b9516a1": {
      "model_module": "@jupyter-widgets/controls",
      "model_module_version": "1.5.0",
      "model_name": "CheckboxModel",
      "state": {
       "_dom_classes": [
        "checkbox_solarhotwater"
       ],
       "_model_module": "@jupyter-widgets/controls",
       "_model_module_version": "1.5.0",
       "_model_name": "CheckboxModel",
       "_view_count": null,
       "_view_module": "@jupyter-widgets/controls",
       "_view_module_version": "1.5.0",
       "_view_name": "CheckboxView",
       "description": "",
       "description_tooltip": null,
       "disabled": false,
       "indent": true,
       "layout": "IPY_MODEL_bdef4bf3c7424855b736b0fa72c837ed",
       "style": "IPY_MODEL_e174828e579641ea8129f0ad85fe0cbb",
       "value": false
      }
     },
     "e8d9ef1882ab4082a85043d428c13e51": {
      "model_module": "@jupyter-widgets/controls",
      "model_module_version": "1.5.0",
      "model_name": "DescriptionStyleModel",
      "state": {
       "_model_module": "@jupyter-widgets/controls",
       "_model_module_version": "1.5.0",
       "_model_name": "DescriptionStyleModel",
       "_view_count": null,
       "_view_module": "@jupyter-widgets/base",
       "_view_module_version": "1.2.0",
       "_view_name": "StyleView",
       "description_width": ""
      }
     },
     "e904982305924ca59217acec6e48bd0c": {
      "model_module": "@jupyter-widgets/controls",
      "model_module_version": "1.5.0",
      "model_name": "CheckboxModel",
      "state": {
       "_dom_classes": [
        "checkbox_leds_residential"
       ],
       "_model_module": "@jupyter-widgets/controls",
       "_model_module_version": "1.5.0",
       "_model_name": "CheckboxModel",
       "_view_count": null,
       "_view_module": "@jupyter-widgets/controls",
       "_view_module_version": "1.5.0",
       "_view_name": "CheckboxView",
       "description": "",
       "description_tooltip": null,
       "disabled": false,
       "indent": true,
       "layout": "IPY_MODEL_bdef4bf3c7424855b736b0fa72c837ed",
       "style": "IPY_MODEL_d54784b0ec42441488e24a2d8ecf1e78",
       "value": false
      }
     },
     "e957bc2eb3c54ef38d2a1d08f676ee8e": {
      "model_module": "@jupyter-widgets/controls",
      "model_module_version": "1.5.0",
      "model_name": "DescriptionStyleModel",
      "state": {
       "_model_module": "@jupyter-widgets/controls",
       "_model_module_version": "1.5.0",
       "_model_name": "DescriptionStyleModel",
       "_view_count": null,
       "_view_module": "@jupyter-widgets/base",
       "_view_module_version": "1.2.0",
       "_view_name": "StyleView",
       "description_width": ""
      }
     },
     "e95fc86f0e3940fab401c512d26aaf43": {
      "model_module": "@jupyter-widgets/controls",
      "model_module_version": "1.5.0",
      "model_name": "DescriptionStyleModel",
      "state": {
       "_model_module": "@jupyter-widgets/controls",
       "_model_module_version": "1.5.0",
       "_model_name": "DescriptionStyleModel",
       "_view_count": null,
       "_view_module": "@jupyter-widgets/base",
       "_view_module_version": "1.2.0",
       "_view_name": "StyleView",
       "description_width": ""
      }
     },
     "e96d8a47f3fd4030b01f2271bdb2a0f7": {
      "model_module": "@jupyter-widgets/controls",
      "model_module_version": "1.5.0",
      "model_name": "DescriptionStyleModel",
      "state": {
       "_model_module": "@jupyter-widgets/controls",
       "_model_module_version": "1.5.0",
       "_model_name": "DescriptionStyleModel",
       "_view_count": null,
       "_view_module": "@jupyter-widgets/base",
       "_view_module_version": "1.2.0",
       "_view_name": "StyleView",
       "description_width": ""
      }
     },
     "e9903369105a4356888f2b2538cddc5e": {
      "model_module": "@jupyter-widgets/controls",
      "model_module_version": "1.5.0",
      "model_name": "HTMLModel",
      "state": {
       "_dom_classes": [],
       "_model_module": "@jupyter-widgets/controls",
       "_model_module_version": "1.5.0",
       "_model_name": "HTMLModel",
       "_view_count": null,
       "_view_module": "@jupyter-widgets/controls",
       "_view_module_version": "1.5.0",
       "_view_name": "HTMLView",
       "description": "",
       "description_tooltip": null,
       "layout": "IPY_MODEL_1a17608c7cf54c5293a88b93567107e5",
       "placeholder": "​",
       "style": "IPY_MODEL_ef71732abe644d6d8f8ed390c4d52a61",
       "value": "<div style=\"font-size:medium; background-color:white;padding-left:2px;\">20.19</div>"
      }
     },
     "ea2b70de78d84280bceb78d172e44a22": {
      "model_module": "@jupyter-widgets/controls",
      "model_module_version": "1.5.0",
      "model_name": "HTMLModel",
      "state": {
       "_dom_classes": [],
       "_model_module": "@jupyter-widgets/controls",
       "_model_module_version": "1.5.0",
       "_model_name": "HTMLModel",
       "_view_count": null,
       "_view_module": "@jupyter-widgets/controls",
       "_view_module_version": "1.5.0",
       "_view_name": "HTMLView",
       "description": "",
       "description_tooltip": null,
       "layout": "IPY_MODEL_2adb518af7044a69aad2c2de3ca0c421",
       "placeholder": "​",
       "style": "IPY_MODEL_0bd49321da7a44258163862fcc039a06",
       "value": "<div style=\"font-size:medium; background-color:#ececec;padding-left:2px;\">Buildings and Cities</div>"
      }
     },
     "ea7fe400c1b54ea895d4ed0a74a54ea6": {
      "model_module": "@jupyter-widgets/controls",
      "model_module_version": "1.5.0",
      "model_name": "HBoxModel",
      "state": {
       "_dom_classes": [],
       "_model_module": "@jupyter-widgets/controls",
       "_model_module_version": "1.5.0",
       "_model_name": "HBoxModel",
       "_view_count": null,
       "_view_module": "@jupyter-widgets/controls",
       "_view_module_version": "1.5.0",
       "_view_name": "HBoxView",
       "box_style": "",
       "children": [
        "IPY_MODEL_c92876c2afba4c8890ff59778ab3f659",
        "IPY_MODEL_aa994564de3541d5a4e8657f2edb07b0",
        "IPY_MODEL_9e5b0c3a20074c8b81c8e3079f3fcc52",
        "IPY_MODEL_b91d18e781ec4df4b72c8fe8b6e31a0a"
       ],
       "layout": "IPY_MODEL_804c51697f2b4229a0f02be6b85b1659"
      }
     },
     "ea85fbaa405547ab8555bddfd40c495c": {
      "model_module": "@jupyter-widgets/controls",
      "model_module_version": "1.5.0",
      "model_name": "DescriptionStyleModel",
      "state": {
       "_model_module": "@jupyter-widgets/controls",
       "_model_module_version": "1.5.0",
       "_model_name": "DescriptionStyleModel",
       "_view_count": null,
       "_view_module": "@jupyter-widgets/base",
       "_view_module_version": "1.2.0",
       "_view_name": "StyleView",
       "description_width": ""
      }
     },
     "eb6a2a74816e415e92c3aef3a233604b": {
      "model_module": "@jupyter-widgets/controls",
      "model_module_version": "1.5.0",
      "model_name": "DescriptionStyleModel",
      "state": {
       "_model_module": "@jupyter-widgets/controls",
       "_model_module_version": "1.5.0",
       "_model_name": "DescriptionStyleModel",
       "_view_count": null,
       "_view_module": "@jupyter-widgets/base",
       "_view_module_version": "1.2.0",
       "_view_name": "StyleView",
       "description_width": ""
      }
     },
     "ebf83b4241be460fa92cd1e6798fcca3": {
      "model_module": "@jupyter-widgets/controls",
      "model_module_version": "1.5.0",
      "model_name": "DescriptionStyleModel",
      "state": {
       "_model_module": "@jupyter-widgets/controls",
       "_model_module_version": "1.5.0",
       "_model_name": "DescriptionStyleModel",
       "_view_count": null,
       "_view_module": "@jupyter-widgets/base",
       "_view_module_version": "1.2.0",
       "_view_name": "StyleView",
       "description_width": "0px"
      }
     },
     "ec5ab877671941cdb2159f55de7d03fd": {
      "model_module": "@jupyter-widgets/controls",
      "model_module_version": "1.5.0",
      "model_name": "DescriptionStyleModel",
      "state": {
       "_model_module": "@jupyter-widgets/controls",
       "_model_module_version": "1.5.0",
       "_model_name": "DescriptionStyleModel",
       "_view_count": null,
       "_view_module": "@jupyter-widgets/base",
       "_view_module_version": "1.2.0",
       "_view_name": "StyleView",
       "description_width": ""
      }
     },
     "ec67dd5c2f1b4d9ebe0a75263e4dcea2": {
      "model_module": "@jupyter-widgets/controls",
      "model_module_version": "1.5.0",
      "model_name": "DescriptionStyleModel",
      "state": {
       "_model_module": "@jupyter-widgets/controls",
       "_model_module_version": "1.5.0",
       "_model_name": "DescriptionStyleModel",
       "_view_count": null,
       "_view_module": "@jupyter-widgets/base",
       "_view_module_version": "1.2.0",
       "_view_name": "StyleView",
       "description_width": "0px"
      }
     },
     "ecefb843659944e39daac7aead13ef82": {
      "model_module": "@jupyter-widgets/controls",
      "model_module_version": "1.5.0",
      "model_name": "DescriptionStyleModel",
      "state": {
       "_model_module": "@jupyter-widgets/controls",
       "_model_module_version": "1.5.0",
       "_model_name": "DescriptionStyleModel",
       "_view_count": null,
       "_view_module": "@jupyter-widgets/base",
       "_view_module_version": "1.2.0",
       "_view_name": "StyleView",
       "description_width": ""
      }
     },
     "ed19586e3a0841e8ad9083bb3b802f1d": {
      "model_module": "@jupyter-widgets/controls",
      "model_module_version": "1.5.0",
      "model_name": "DescriptionStyleModel",
      "state": {
       "_model_module": "@jupyter-widgets/controls",
       "_model_module_version": "1.5.0",
       "_model_name": "DescriptionStyleModel",
       "_view_count": null,
       "_view_module": "@jupyter-widgets/base",
       "_view_module_version": "1.2.0",
       "_view_name": "StyleView",
       "description_width": ""
      }
     },
     "ede4be9854e04332a52d45ee230012ae": {
      "model_module": "@jupyter-widgets/controls",
      "model_module_version": "1.5.0",
      "model_name": "DescriptionStyleModel",
      "state": {
       "_model_module": "@jupyter-widgets/controls",
       "_model_module_version": "1.5.0",
       "_model_name": "DescriptionStyleModel",
       "_view_count": null,
       "_view_module": "@jupyter-widgets/base",
       "_view_module_version": "1.2.0",
       "_view_name": "StyleView",
       "description_width": ""
      }
     },
     "ee3d1e8b67904450ac6220fcebbb347f": {
      "model_module": "@jupyter-widgets/controls",
      "model_module_version": "1.5.0",
      "model_name": "HTMLModel",
      "state": {
       "_dom_classes": [],
       "_model_module": "@jupyter-widgets/controls",
       "_model_module_version": "1.5.0",
       "_model_name": "HTMLModel",
       "_view_count": null,
       "_view_module": "@jupyter-widgets/controls",
       "_view_module_version": "1.5.0",
       "_view_name": "HTMLView",
       "description": "",
       "description_tooltip": null,
       "layout": "IPY_MODEL_1a17608c7cf54c5293a88b93567107e5",
       "placeholder": "​",
       "style": "IPY_MODEL_7edc3a6a35684eb084a5ac33d2fa04c8",
       "value": "<div style=\"font-size:medium; background-color:#ececec;padding-left:2px;\">17.35</div>"
      }
     },
     "eecfd25205734f28807f5adbe33d7c90": {
      "model_module": "@jupyter-widgets/controls",
      "model_module_version": "1.5.0",
      "model_name": "HTMLModel",
      "state": {
       "_dom_classes": [],
       "_model_module": "@jupyter-widgets/controls",
       "_model_module_version": "1.5.0",
       "_model_name": "HTMLModel",
       "_view_count": null,
       "_view_module": "@jupyter-widgets/controls",
       "_view_module_version": "1.5.0",
       "_view_name": "HTMLView",
       "description": "",
       "description_tooltip": null,
       "layout": "IPY_MODEL_0fc6d0e36882466aaf8b89d9494bcb4b",
       "placeholder": "​",
       "style": "IPY_MODEL_f21f651f36b54e9dbff5db6ec5c7abc7",
       "value": "<div style=\"font-size:medium; background-color:white;padding-left:2px;\">Solar Farms</div>"
      }
     },
     "ef71732abe644d6d8f8ed390c4d52a61": {
      "model_module": "@jupyter-widgets/controls",
      "model_module_version": "1.5.0",
      "model_name": "DescriptionStyleModel",
      "state": {
       "_model_module": "@jupyter-widgets/controls",
       "_model_module_version": "1.5.0",
       "_model_name": "DescriptionStyleModel",
       "_view_count": null,
       "_view_module": "@jupyter-widgets/base",
       "_view_module_version": "1.2.0",
       "_view_name": "StyleView",
       "description_width": ""
      }
     },
     "ef94738af0b44a1d8c15e7a309a3fe91": {
      "model_module": "@jupyter-widgets/controls",
      "model_module_version": "1.5.0",
      "model_name": "DescriptionStyleModel",
      "state": {
       "_model_module": "@jupyter-widgets/controls",
       "_model_module_version": "1.5.0",
       "_model_name": "DescriptionStyleModel",
       "_view_count": null,
       "_view_module": "@jupyter-widgets/base",
       "_view_module_version": "1.2.0",
       "_view_name": "StyleView",
       "description_width": ""
      }
     },
     "efcc3d7aa1bc427da19ace849cfb429b": {
      "model_module": "@jupyter-widgets/controls",
      "model_module_version": "1.5.0",
      "model_name": "DescriptionStyleModel",
      "state": {
       "_model_module": "@jupyter-widgets/controls",
       "_model_module_version": "1.5.0",
       "_model_name": "DescriptionStyleModel",
       "_view_count": null,
       "_view_module": "@jupyter-widgets/base",
       "_view_module_version": "1.2.0",
       "_view_name": "StyleView",
       "description_width": ""
      }
     },
     "efdea52f317f42b4aaa8d60fdb2bd8c5": {
      "model_module": "@jupyter-widgets/controls",
      "model_module_version": "1.5.0",
      "model_name": "DescriptionStyleModel",
      "state": {
       "_model_module": "@jupyter-widgets/controls",
       "_model_module_version": "1.5.0",
       "_model_name": "DescriptionStyleModel",
       "_view_count": null,
       "_view_module": "@jupyter-widgets/base",
       "_view_module_version": "1.2.0",
       "_view_name": "StyleView",
       "description_width": ""
      }
     },
     "f041e6b8a9a64b93a171ba9a4e7bd025": {
      "model_module": "@jupyter-widgets/controls",
      "model_module_version": "1.5.0",
      "model_name": "CheckboxModel",
      "state": {
       "_dom_classes": [
        "checkbox_nutrientmanagement"
       ],
       "_model_module": "@jupyter-widgets/controls",
       "_model_module_version": "1.5.0",
       "_model_name": "CheckboxModel",
       "_view_count": null,
       "_view_module": "@jupyter-widgets/controls",
       "_view_module_version": "1.5.0",
       "_view_name": "CheckboxView",
       "description": "",
       "description_tooltip": null,
       "disabled": false,
       "indent": true,
       "layout": "IPY_MODEL_bdef4bf3c7424855b736b0fa72c837ed",
       "style": "IPY_MODEL_e0ec154bb2864358856efa75c1440b2c",
       "value": false
      }
     },
     "f07cb19ea4e74a559ab01602e4ad72b6": {
      "model_module": "@jupyter-widgets/controls",
      "model_module_version": "1.5.0",
      "model_name": "HBoxModel",
      "state": {
       "_dom_classes": [],
       "_model_module": "@jupyter-widgets/controls",
       "_model_module_version": "1.5.0",
       "_model_name": "HBoxModel",
       "_view_count": null,
       "_view_module": "@jupyter-widgets/controls",
       "_view_module_version": "1.5.0",
       "_view_name": "HBoxView",
       "box_style": "",
       "children": [
        "IPY_MODEL_74385998880b4b98b8591c8b9bf379a2",
        "IPY_MODEL_1d83c3a37aa840569984636b9530086f",
        "IPY_MODEL_44c610492d6f4e638a05a5f1a90151e2",
        "IPY_MODEL_37eac25fe70b432c9dc96cb835207098"
       ],
       "layout": "IPY_MODEL_804c51697f2b4229a0f02be6b85b1659"
      }
     },
     "f092799c99a94fa6bd097ffa1b4f90aa": {
      "model_module": "@jupyter-widgets/controls",
      "model_module_version": "1.5.0",
      "model_name": "DescriptionStyleModel",
      "state": {
       "_model_module": "@jupyter-widgets/controls",
       "_model_module_version": "1.5.0",
       "_model_name": "DescriptionStyleModel",
       "_view_count": null,
       "_view_module": "@jupyter-widgets/base",
       "_view_module_version": "1.2.0",
       "_view_name": "StyleView",
       "description_width": ""
      }
     },
     "f0ba629ea6c54e21804275f812bf7c8d": {
      "model_module": "@jupyter-widgets/controls",
      "model_module_version": "1.5.0",
      "model_name": "DescriptionStyleModel",
      "state": {
       "_model_module": "@jupyter-widgets/controls",
       "_model_module_version": "1.5.0",
       "_model_name": "DescriptionStyleModel",
       "_view_count": null,
       "_view_module": "@jupyter-widgets/base",
       "_view_module_version": "1.2.0",
       "_view_name": "StyleView",
       "description_width": ""
      }
     },
     "f0ee08622c9f432f830d2fbd3b16b623": {
      "model_module": "@jupyter-widgets/controls",
      "model_module_version": "1.5.0",
      "model_name": "CheckboxModel",
      "state": {
       "_dom_classes": [
        "checkbox_bottomtrawling"
       ],
       "_model_module": "@jupyter-widgets/controls",
       "_model_module_version": "1.5.0",
       "_model_name": "CheckboxModel",
       "_view_count": null,
       "_view_module": "@jupyter-widgets/controls",
       "_view_module_version": "1.5.0",
       "_view_name": "CheckboxView",
       "description": "",
       "description_tooltip": null,
       "disabled": false,
       "indent": true,
       "layout": "IPY_MODEL_bdef4bf3c7424855b736b0fa72c837ed",
       "style": "IPY_MODEL_399441363bdb4d238198427dc61793f8",
       "value": false
      }
     },
     "f126bff6c73f47e7aadf88470b7d7d32": {
      "model_module": "@jupyter-widgets/controls",
      "model_module_version": "1.5.0",
      "model_name": "HTMLModel",
      "state": {
       "_dom_classes": [],
       "_model_module": "@jupyter-widgets/controls",
       "_model_module_version": "1.5.0",
       "_model_name": "HTMLModel",
       "_view_count": null,
       "_view_module": "@jupyter-widgets/controls",
       "_view_module_version": "1.5.0",
       "_view_name": "HTMLView",
       "description": "",
       "description_tooltip": null,
       "layout": "IPY_MODEL_2adb518af7044a69aad2c2de3ca0c421",
       "placeholder": "​",
       "style": "IPY_MODEL_f71691b4212045a4bdbf03c1409a27aa",
       "value": "<div style=\"font-size:medium; background-color:#ececec;padding-left:2px;\">Land Use</div>"
      }
     },
     "f127b37ff0344aeab71535510a0e14c9": {
      "model_module": "@jupyter-widgets/controls",
      "model_module_version": "1.5.0",
      "model_name": "HTMLModel",
      "state": {
       "_dom_classes": [],
       "_model_module": "@jupyter-widgets/controls",
       "_model_module_version": "1.5.0",
       "_model_name": "HTMLModel",
       "_view_count": null,
       "_view_module": "@jupyter-widgets/controls",
       "_view_module_version": "1.5.0",
       "_view_name": "HTMLView",
       "description": "",
       "description_tooltip": null,
       "layout": "IPY_MODEL_0fc6d0e36882466aaf8b89d9494bcb4b",
       "placeholder": "​",
       "style": "IPY_MODEL_47fb94189c5b4446bf7a7c4e9b4cb147",
       "value": "<div style=\"font-size:medium; background-color:#ececec;padding-left:2px;\">Solar Water</div>"
      }
     },
     "f15a0fbfe815472aa4f1ae0df47d3e6d": {
      "model_module": "@jupyter-widgets/controls",
      "model_module_version": "1.5.0",
      "model_name": "CheckboxModel",
      "state": {
       "_dom_classes": [
        "checkbox_instreamhydro"
       ],
       "_model_module": "@jupyter-widgets/controls",
       "_model_module_version": "1.5.0",
       "_model_name": "CheckboxModel",
       "_view_count": null,
       "_view_module": "@jupyter-widgets/controls",
       "_view_module_version": "1.5.0",
       "_view_name": "CheckboxView",
       "description": "",
       "description_tooltip": null,
       "disabled": false,
       "indent": true,
       "layout": "IPY_MODEL_bdef4bf3c7424855b736b0fa72c837ed",
       "style": "IPY_MODEL_532aa5df17b74e1587f7959daf70eb2f",
       "value": false
      }
     },
     "f21f651f36b54e9dbff5db6ec5c7abc7": {
      "model_module": "@jupyter-widgets/controls",
      "model_module_version": "1.5.0",
      "model_name": "DescriptionStyleModel",
      "state": {
       "_model_module": "@jupyter-widgets/controls",
       "_model_module_version": "1.5.0",
       "_model_name": "DescriptionStyleModel",
       "_view_count": null,
       "_view_module": "@jupyter-widgets/base",
       "_view_module_version": "1.2.0",
       "_view_name": "StyleView",
       "description_width": ""
      }
     },
     "f26c8940ef8447a4ab4f85d32cdf3765": {
      "model_module": "@jupyter-widgets/controls",
      "model_module_version": "1.5.0",
      "model_name": "CheckboxModel",
      "state": {
       "_dom_classes": [
        "checkbox_landfillmethane"
       ],
       "_model_module": "@jupyter-widgets/controls",
       "_model_module_version": "1.5.0",
       "_model_name": "CheckboxModel",
       "_view_count": null,
       "_view_module": "@jupyter-widgets/controls",
       "_view_module_version": "1.5.0",
       "_view_name": "CheckboxView",
       "description": "",
       "description_tooltip": null,
       "disabled": false,
       "indent": true,
       "layout": "IPY_MODEL_bdef4bf3c7424855b736b0fa72c837ed",
       "style": "IPY_MODEL_de5206a45e0945d0ad4a597ba2e690c1",
       "value": false
      }
     },
     "f2808ac4e6054273a8fa5d911f1bfee8": {
      "model_module": "@jupyter-widgets/controls",
      "model_module_version": "1.5.0",
      "model_name": "DescriptionStyleModel",
      "state": {
       "_model_module": "@jupyter-widgets/controls",
       "_model_module_version": "1.5.0",
       "_model_name": "DescriptionStyleModel",
       "_view_count": null,
       "_view_module": "@jupyter-widgets/base",
       "_view_module_version": "1.2.0",
       "_view_name": "StyleView",
       "description_width": ""
      }
     },
     "f2cc8e1a4b3b445bb6379e1808b8e583": {
      "model_module": "@jupyter-widgets/controls",
      "model_module_version": "1.5.0",
      "model_name": "HTMLModel",
      "state": {
       "_dom_classes": [],
       "_model_module": "@jupyter-widgets/controls",
       "_model_module_version": "1.5.0",
       "_model_name": "HTMLModel",
       "_view_count": null,
       "_view_module": "@jupyter-widgets/controls",
       "_view_module_version": "1.5.0",
       "_view_name": "HTMLView",
       "description": "",
       "description_tooltip": null,
       "layout": "IPY_MODEL_2adb518af7044a69aad2c2de3ca0c421",
       "placeholder": "​",
       "style": "IPY_MODEL_4dcffe44ca014302b3efb129252164e7",
       "value": "<div style=\"font-size:medium; background-color:white;padding-left:2px;\">Transport</div>"
      }
     },
     "f34b9749de994b5abb092a1e7630addd": {
      "model_module": "@jupyter-widgets/controls",
      "model_module_version": "1.5.0",
      "model_name": "DescriptionStyleModel",
      "state": {
       "_model_module": "@jupyter-widgets/controls",
       "_model_module_version": "1.5.0",
       "_model_name": "DescriptionStyleModel",
       "_view_count": null,
       "_view_module": "@jupyter-widgets/base",
       "_view_module_version": "1.2.0",
       "_view_name": "StyleView",
       "description_width": "0px"
      }
     },
     "f3a5a033bfc348d488bd369360d97909": {
      "model_module": "@jupyter-widgets/controls",
      "model_module_version": "1.5.0",
      "model_name": "DescriptionStyleModel",
      "state": {
       "_model_module": "@jupyter-widgets/controls",
       "_model_module_version": "1.5.0",
       "_model_name": "DescriptionStyleModel",
       "_view_count": null,
       "_view_module": "@jupyter-widgets/base",
       "_view_module_version": "1.2.0",
       "_view_name": "StyleView",
       "description_width": ""
      }
     },
     "f3c94335b5a3494d9bf9d28e076304b7": {
      "model_module": "@jupyter-widgets/controls",
      "model_module_version": "1.5.0",
      "model_name": "HTMLModel",
      "state": {
       "_dom_classes": [],
       "_model_module": "@jupyter-widgets/controls",
       "_model_module_version": "1.5.0",
       "_model_name": "HTMLModel",
       "_view_count": null,
       "_view_module": "@jupyter-widgets/controls",
       "_view_module_version": "1.5.0",
       "_view_name": "HTMLView",
       "description": "",
       "description_tooltip": null,
       "layout": "IPY_MODEL_1a17608c7cf54c5293a88b93567107e5",
       "placeholder": "​",
       "style": "IPY_MODEL_dafc00f7de4e468a9b25661a8a5b8da5",
       "value": "<div style=\"font-size:medium; background-color:#ececec;padding-left:2px;\">1.52</div>"
      }
     },
     "f57609ab0c214c95af69914d16ebe6c2": {
      "model_module": "@jupyter-widgets/controls",
      "model_module_version": "1.5.0",
      "model_name": "DescriptionStyleModel",
      "state": {
       "_model_module": "@jupyter-widgets/controls",
       "_model_module_version": "1.5.0",
       "_model_name": "DescriptionStyleModel",
       "_view_count": null,
       "_view_module": "@jupyter-widgets/base",
       "_view_module_version": "1.2.0",
       "_view_name": "StyleView",
       "description_width": "0px"
      }
     },
     "f5bcc2dd646d4e7892d448d13a38f686": {
      "model_module": "@jupyter-widgets/controls",
      "model_module_version": "1.5.0",
      "model_name": "HTMLModel",
      "state": {
       "_dom_classes": [],
       "_model_module": "@jupyter-widgets/controls",
       "_model_module_version": "1.5.0",
       "_model_name": "HTMLModel",
       "_view_count": null,
       "_view_module": "@jupyter-widgets/controls",
       "_view_module_version": "1.5.0",
       "_view_name": "HTMLView",
       "description": "",
       "description_tooltip": null,
       "layout": "IPY_MODEL_1a17608c7cf54c5293a88b93567107e5",
       "placeholder": "​",
       "style": "IPY_MODEL_14690240299740c8b6a9ad2c53fdf8e1",
       "value": "<div style=\"font-size:medium; background-color:#ececec;padding-left:2px;\">2.06</div>"
      }
     },
     "f5c408c868a249af9f4d84e8934ca506": {
      "model_module": "@jupyter-widgets/controls",
      "model_module_version": "1.5.0",
      "model_name": "DescriptionStyleModel",
      "state": {
       "_model_module": "@jupyter-widgets/controls",
       "_model_module_version": "1.5.0",
       "_model_name": "DescriptionStyleModel",
       "_view_count": null,
       "_view_module": "@jupyter-widgets/base",
       "_view_module_version": "1.2.0",
       "_view_name": "StyleView",
       "description_width": ""
      }
     },
     "f5d6c4597e764a85871f2ce7596e41b7": {
      "model_module": "@jupyter-widgets/controls",
      "model_module_version": "1.5.0",
      "model_name": "DescriptionStyleModel",
      "state": {
       "_model_module": "@jupyter-widgets/controls",
       "_model_module_version": "1.5.0",
       "_model_name": "DescriptionStyleModel",
       "_view_count": null,
       "_view_module": "@jupyter-widgets/base",
       "_view_module_version": "1.2.0",
       "_view_name": "StyleView",
       "description_width": ""
      }
     },
     "f6cf162e4d3249baa6d1af7f75bbee89": {
      "model_module": "@jupyter-widgets/controls",
      "model_module_version": "1.5.0",
      "model_name": "HTMLModel",
      "state": {
       "_dom_classes": [],
       "_model_module": "@jupyter-widgets/controls",
       "_model_module_version": "1.5.0",
       "_model_name": "HTMLModel",
       "_view_count": null,
       "_view_module": "@jupyter-widgets/controls",
       "_view_module_version": "1.5.0",
       "_view_name": "HTMLView",
       "description": "",
       "description_tooltip": null,
       "layout": "IPY_MODEL_0fc6d0e36882466aaf8b89d9494bcb4b",
       "placeholder": "​",
       "style": "IPY_MODEL_6b12ee2b794c449986c4e82df0cd1be0",
       "value": "<div style=\"font-size:medium; background-color:#ececec;padding-left:2px;\">Regenerative Agriculture</div>"
      }
     },
     "f71691b4212045a4bdbf03c1409a27aa": {
      "model_module": "@jupyter-widgets/controls",
      "model_module_version": "1.5.0",
      "model_name": "DescriptionStyleModel",
      "state": {
       "_model_module": "@jupyter-widgets/controls",
       "_model_module_version": "1.5.0",
       "_model_name": "DescriptionStyleModel",
       "_view_count": null,
       "_view_module": "@jupyter-widgets/base",
       "_view_module_version": "1.2.0",
       "_view_name": "StyleView",
       "description_width": ""
      }
     },
     "f75fae01abf74d0cad9e8758588d887f": {
      "model_module": "@jupyter-widgets/controls",
      "model_module_version": "1.5.0",
      "model_name": "HTMLModel",
      "state": {
       "_dom_classes": [],
       "_model_module": "@jupyter-widgets/controls",
       "_model_module_version": "1.5.0",
       "_model_name": "HTMLModel",
       "_view_count": null,
       "_view_module": "@jupyter-widgets/controls",
       "_view_module_version": "1.5.0",
       "_view_name": "HTMLView",
       "description": "",
       "description_tooltip": null,
       "layout": "IPY_MODEL_2adb518af7044a69aad2c2de3ca0c421",
       "placeholder": "​",
       "style": "IPY_MODEL_b90a779b595d4374ae7d870c07088a45",
       "value": "<div style=\"font-size:medium; background-color:white;padding-left:2px;\">Transport</div>"
      }
     },
     "f7aca649a29f4f77b8ba3de7ae6187b4": {
      "model_module": "@jupyter-widgets/controls",
      "model_module_version": "1.5.0",
      "model_name": "HBoxModel",
      "state": {
       "_dom_classes": [],
       "_model_module": "@jupyter-widgets/controls",
       "_model_module_version": "1.5.0",
       "_model_name": "HBoxModel",
       "_view_count": null,
       "_view_module": "@jupyter-widgets/controls",
       "_view_module_version": "1.5.0",
       "_view_name": "HBoxView",
       "box_style": "",
       "children": [
        "IPY_MODEL_75a8968cd57941a7a1dc1dbddff206c2",
        "IPY_MODEL_07d83b3362644f7bbe58845962710923",
        "IPY_MODEL_59c0dcf55af240899d1651f12fc8c8cf",
        "IPY_MODEL_617c38e08a2e4c13b98ca0036d8ad718"
       ],
       "layout": "IPY_MODEL_804c51697f2b4229a0f02be6b85b1659"
      }
     },
     "f7ca39e4d4974dfaa469c74ddd0a58a7": {
      "model_module": "@jupyter-widgets/controls",
      "model_module_version": "1.5.0",
      "model_name": "DescriptionStyleModel",
      "state": {
       "_model_module": "@jupyter-widgets/controls",
       "_model_module_version": "1.5.0",
       "_model_name": "DescriptionStyleModel",
       "_view_count": null,
       "_view_module": "@jupyter-widgets/base",
       "_view_module_version": "1.2.0",
       "_view_name": "StyleView",
       "description_width": ""
      }
     },
     "f85959a3623b4283a4ec154b58001a99": {
      "model_module": "@jupyter-widgets/controls",
      "model_module_version": "1.5.0",
      "model_name": "HBoxModel",
      "state": {
       "_dom_classes": [],
       "_model_module": "@jupyter-widgets/controls",
       "_model_module_version": "1.5.0",
       "_model_name": "HBoxModel",
       "_view_count": null,
       "_view_module": "@jupyter-widgets/controls",
       "_view_module_version": "1.5.0",
       "_view_name": "HBoxView",
       "box_style": "",
       "children": [
        "IPY_MODEL_86c375ed67a44056a4a0f1b62dcc2ae8",
        "IPY_MODEL_954949632ad24b37a69ba58d6a9bbf80",
        "IPY_MODEL_2329b5d0e0394e0896f1d688f2b6f258",
        "IPY_MODEL_6ee07c03ff77401e8f23e7f17cedbd83"
       ],
       "layout": "IPY_MODEL_804c51697f2b4229a0f02be6b85b1659"
      }
     },
     "f862df5602074f6481578395c226f713": {
      "model_module": "@jupyter-widgets/controls",
      "model_module_version": "1.5.0",
      "model_name": "DescriptionStyleModel",
      "state": {
       "_model_module": "@jupyter-widgets/controls",
       "_model_module_version": "1.5.0",
       "_model_name": "DescriptionStyleModel",
       "_view_count": null,
       "_view_module": "@jupyter-widgets/base",
       "_view_module_version": "1.2.0",
       "_view_name": "StyleView",
       "description_width": "0px"
      }
     },
     "f8f9596b55564c4fb303808b36b1b784": {
      "model_module": "@jupyter-widgets/controls",
      "model_module_version": "1.5.0",
      "model_name": "DescriptionStyleModel",
      "state": {
       "_model_module": "@jupyter-widgets/controls",
       "_model_module_version": "1.5.0",
       "_model_name": "DescriptionStyleModel",
       "_view_count": null,
       "_view_module": "@jupyter-widgets/base",
       "_view_module_version": "1.2.0",
       "_view_name": "StyleView",
       "description_width": ""
      }
     },
     "f93cc1e3b3c446e29b43eda156a7ad84": {
      "model_module": "@jupyter-widgets/controls",
      "model_module_version": "1.5.0",
      "model_name": "HTMLModel",
      "state": {
       "_dom_classes": [],
       "_model_module": "@jupyter-widgets/controls",
       "_model_module_version": "1.5.0",
       "_model_name": "HTMLModel",
       "_view_count": null,
       "_view_module": "@jupyter-widgets/controls",
       "_view_module_version": "1.5.0",
       "_view_name": "HTMLView",
       "description": "",
       "description_tooltip": null,
       "layout": "IPY_MODEL_0fc6d0e36882466aaf8b89d9494bcb4b",
       "placeholder": "​",
       "style": "IPY_MODEL_1b3d0d02307d43889ffe76bbab27847b",
       "value": "<div style=\"font-size:medium; background-color:white;padding-left:2px;\">Limiting Bottom Trawling</div>"
      }
     },
     "fa52f4fd73b44682a53f5b7e0b0f272a": {
      "model_module": "@jupyter-widgets/controls",
      "model_module_version": "1.5.0",
      "model_name": "DescriptionStyleModel",
      "state": {
       "_model_module": "@jupyter-widgets/controls",
       "_model_module_version": "1.5.0",
       "_model_name": "DescriptionStyleModel",
       "_view_count": null,
       "_view_module": "@jupyter-widgets/base",
       "_view_module_version": "1.2.0",
       "_view_name": "StyleView",
       "description_width": "0px"
      }
     },
     "faa8e496794f4672b83c5af515ebdc98": {
      "model_module": "@jupyter-widgets/controls",
      "model_module_version": "1.5.0",
      "model_name": "HTMLModel",
      "state": {
       "_dom_classes": [],
       "_model_module": "@jupyter-widgets/controls",
       "_model_module_version": "1.5.0",
       "_model_name": "HTMLModel",
       "_view_count": null,
       "_view_module": "@jupyter-widgets/controls",
       "_view_module_version": "1.5.0",
       "_view_name": "HTMLView",
       "description": "",
       "description_tooltip": null,
       "layout": "IPY_MODEL_1a17608c7cf54c5293a88b93567107e5",
       "placeholder": "​",
       "style": "IPY_MODEL_456627a1f0e540c793ea517a293e1acd",
       "value": "<div style=\"font-size:medium; background-color:white;padding-left:2px;\">51.48</div>"
      }
     },
     "fad74eee578740f9acd5d34e5bf691d9": {
      "model_module": "@jupyter-widgets/controls",
      "model_module_version": "1.5.0",
      "model_name": "HBoxModel",
      "state": {
       "_dom_classes": [],
       "_model_module": "@jupyter-widgets/controls",
       "_model_module_version": "1.5.0",
       "_model_name": "HBoxModel",
       "_view_count": null,
       "_view_module": "@jupyter-widgets/controls",
       "_view_module_version": "1.5.0",
       "_view_name": "HBoxView",
       "box_style": "",
       "children": [
        "IPY_MODEL_6df922aa7a194075b06adf3a6b443cc6",
        "IPY_MODEL_ea2b70de78d84280bceb78d172e44a22",
        "IPY_MODEL_8679e79662284deabd85bc4d5742c412",
        "IPY_MODEL_a09df7a64d6b49289789445d8aa7d80f"
       ],
       "layout": "IPY_MODEL_804c51697f2b4229a0f02be6b85b1659"
      }
     },
     "fb0ef8f059404dcab6960600c73582bb": {
      "model_module": "@jupyter-widgets/controls",
      "model_module_version": "1.5.0",
      "model_name": "DescriptionStyleModel",
      "state": {
       "_model_module": "@jupyter-widgets/controls",
       "_model_module_version": "1.5.0",
       "_model_name": "DescriptionStyleModel",
       "_view_count": null,
       "_view_module": "@jupyter-widgets/base",
       "_view_module_version": "1.2.0",
       "_view_name": "StyleView",
       "description_width": "0px"
      }
     },
     "fb1fe04eb6d04b5e8d148155ff273e13": {
      "model_module": "@jupyter-widgets/controls",
      "model_module_version": "1.5.0",
      "model_name": "DescriptionStyleModel",
      "state": {
       "_model_module": "@jupyter-widgets/controls",
       "_model_module_version": "1.5.0",
       "_model_name": "DescriptionStyleModel",
       "_view_count": null,
       "_view_module": "@jupyter-widgets/base",
       "_view_module_version": "1.2.0",
       "_view_name": "StyleView",
       "description_width": "0px"
      }
     },
     "fb7ac0dcec054e089dbc8befdd2d44bf": {
      "model_module": "@jupyter-widgets/controls",
      "model_module_version": "1.5.0",
      "model_name": "HBoxModel",
      "state": {
       "_dom_classes": [],
       "_model_module": "@jupyter-widgets/controls",
       "_model_module_version": "1.5.0",
       "_model_name": "HBoxModel",
       "_view_count": null,
       "_view_module": "@jupyter-widgets/controls",
       "_view_module_version": "1.5.0",
       "_view_name": "HBoxView",
       "box_style": "",
       "children": [
        "IPY_MODEL_f93cc1e3b3c446e29b43eda156a7ad84",
        "IPY_MODEL_e2b9606a6bfb44ae9534a23156278e97",
        "IPY_MODEL_2621e5a5db854b39bf7a7d938a5e2c95",
        "IPY_MODEL_f0ee08622c9f432f830d2fbd3b16b623"
       ],
       "layout": "IPY_MODEL_804c51697f2b4229a0f02be6b85b1659"
      }
     },
     "fb91a19b4e3f4a09b629ebb7da4512f3": {
      "model_module": "@jupyter-widgets/controls",
      "model_module_version": "1.5.0",
      "model_name": "HTMLModel",
      "state": {
       "_dom_classes": [],
       "_model_module": "@jupyter-widgets/controls",
       "_model_module_version": "1.5.0",
       "_model_name": "HTMLModel",
       "_view_count": null,
       "_view_module": "@jupyter-widgets/controls",
       "_view_module_version": "1.5.0",
       "_view_name": "HTMLView",
       "description": "",
       "description_tooltip": null,
       "layout": "IPY_MODEL_2adb518af7044a69aad2c2de3ca0c421",
       "placeholder": "​",
       "style": "IPY_MODEL_7032954aeb44496697cb3b7b2b891f9a",
       "value": "<div style=\"font-size:medium; background-color:white;padding-left:2px;\">Land Use</div>"
      }
     },
     "fb926b529c474295a3360540ec684ffc": {
      "model_module": "@jupyter-widgets/controls",
      "model_module_version": "1.5.0",
      "model_name": "DescriptionStyleModel",
      "state": {
       "_model_module": "@jupyter-widgets/controls",
       "_model_module_version": "1.5.0",
       "_model_name": "DescriptionStyleModel",
       "_view_count": null,
       "_view_module": "@jupyter-widgets/base",
       "_view_module_version": "1.2.0",
       "_view_name": "StyleView",
       "description_width": ""
      }
     },
     "fc51159c837e4262bc735554761a3cc9": {
      "model_module": "@jupyter-widgets/controls",
      "model_module_version": "1.5.0",
      "model_name": "CheckboxModel",
      "state": {
       "_dom_classes": [
        "checkbox_waveandtidal"
       ],
       "_model_module": "@jupyter-widgets/controls",
       "_model_module_version": "1.5.0",
       "_model_name": "CheckboxModel",
       "_view_count": null,
       "_view_module": "@jupyter-widgets/controls",
       "_view_module_version": "1.5.0",
       "_view_name": "CheckboxView",
       "description": "",
       "description_tooltip": null,
       "disabled": false,
       "indent": true,
       "layout": "IPY_MODEL_bdef4bf3c7424855b736b0fa72c837ed",
       "style": "IPY_MODEL_8c2d4753c22a4c3e9fc54211b003b1df",
       "value": false
      }
     },
     "fc93ac3c35174cfe9ebc78bcda285d49": {
      "model_module": "@jupyter-widgets/controls",
      "model_module_version": "1.5.0",
      "model_name": "HTMLModel",
      "state": {
       "_dom_classes": [],
       "_model_module": "@jupyter-widgets/controls",
       "_model_module_version": "1.5.0",
       "_model_name": "HTMLModel",
       "_view_count": null,
       "_view_module": "@jupyter-widgets/controls",
       "_view_module_version": "1.5.0",
       "_view_name": "HTMLView",
       "description": "",
       "description_tooltip": null,
       "layout": "IPY_MODEL_1a17608c7cf54c5293a88b93567107e5",
       "placeholder": "​",
       "style": "IPY_MODEL_e8d9ef1882ab4082a85043d428c13e51",
       "value": "<div style=\"font-size:medium; background-color:white;padding-left:2px;\">0.77</div>"
      }
     },
     "fc9d19aa14334fa789216be1f5024055": {
      "model_module": "@jupyter-widgets/controls",
      "model_module_version": "1.5.0",
      "model_name": "DescriptionStyleModel",
      "state": {
       "_model_module": "@jupyter-widgets/controls",
       "_model_module_version": "1.5.0",
       "_model_name": "DescriptionStyleModel",
       "_view_count": null,
       "_view_module": "@jupyter-widgets/base",
       "_view_module_version": "1.2.0",
       "_view_name": "StyleView",
       "description_width": ""
      }
     },
     "fcb4c965d63949be819e709c7782b932": {
      "model_module": "@jupyter-widgets/controls",
      "model_module_version": "1.5.0",
      "model_name": "HBoxModel",
      "state": {
       "_dom_classes": [],
       "_model_module": "@jupyter-widgets/controls",
       "_model_module_version": "1.5.0",
       "_model_name": "HBoxModel",
       "_view_count": null,
       "_view_module": "@jupyter-widgets/controls",
       "_view_module_version": "1.5.0",
       "_view_name": "HBoxView",
       "box_style": "",
       "children": [
        "IPY_MODEL_dfbd2b2da4c4435587fae1205b7e3c7f",
        "IPY_MODEL_62dcc23d7d71442aa53eb7615198aa39",
        "IPY_MODEL_546bb458634a447aad0365c282c28769",
        "IPY_MODEL_c287234142424e8b87d199ed98c6eb5e"
       ],
       "layout": "IPY_MODEL_804c51697f2b4229a0f02be6b85b1659"
      }
     },
     "fcc92f93242b408f9a77f72eac249331": {
      "model_module": "@jupyter-widgets/controls",
      "model_module_version": "1.5.0",
      "model_name": "CheckboxModel",
      "state": {
       "_dom_classes": [
        "checkbox_"
       ],
       "_model_module": "@jupyter-widgets/controls",
       "_model_module_version": "1.5.0",
       "_model_name": "CheckboxModel",
       "_view_count": null,
       "_view_module": "@jupyter-widgets/controls",
       "_view_module_version": "1.5.0",
       "_view_name": "CheckboxView",
       "description": "",
       "description_tooltip": null,
       "disabled": true,
       "indent": true,
       "layout": "IPY_MODEL_bdef4bf3c7424855b736b0fa72c837ed",
       "style": "IPY_MODEL_f57609ab0c214c95af69914d16ebe6c2",
       "value": false
      }
     },
     "fd10a2756887411991b850578d0c3621": {
      "model_module": "@jupyter-widgets/controls",
      "model_module_version": "1.5.0",
      "model_name": "HTMLModel",
      "state": {
       "_dom_classes": [],
       "_model_module": "@jupyter-widgets/controls",
       "_model_module_version": "1.5.0",
       "_model_name": "HTMLModel",
       "_view_count": null,
       "_view_module": "@jupyter-widgets/controls",
       "_view_module_version": "1.5.0",
       "_view_name": "HTMLView",
       "description": "",
       "description_tooltip": null,
       "layout": "IPY_MODEL_0fc6d0e36882466aaf8b89d9494bcb4b",
       "placeholder": "​",
       "style": "IPY_MODEL_3b0e8ba795c64a449d60ef297c9df739",
       "value": "<div style=\"font-size:medium; background-color:white;padding-left:2px;\">Temperate Forests</div>"
      }
     },
     "fd185ae541a049e9b6686232a4bd63c5": {
      "model_module": "@jupyter-widgets/controls",
      "model_module_version": "1.5.0",
      "model_name": "DescriptionStyleModel",
      "state": {
       "_model_module": "@jupyter-widgets/controls",
       "_model_module_version": "1.5.0",
       "_model_name": "DescriptionStyleModel",
       "_view_count": null,
       "_view_module": "@jupyter-widgets/base",
       "_view_module_version": "1.2.0",
       "_view_name": "StyleView",
       "description_width": ""
      }
     },
     "fd38cb47692e460d9eae4f5caff652a0": {
      "model_module": "@jupyter-widgets/controls",
      "model_module_version": "1.5.0",
      "model_name": "DescriptionStyleModel",
      "state": {
       "_model_module": "@jupyter-widgets/controls",
       "_model_module_version": "1.5.0",
       "_model_name": "DescriptionStyleModel",
       "_view_count": null,
       "_view_module": "@jupyter-widgets/base",
       "_view_module_version": "1.2.0",
       "_view_name": "StyleView",
       "description_width": ""
      }
     },
     "fd442406bd1745009c3de7b7ae19f57d": {
      "model_module": "@jupyter-widgets/controls",
      "model_module_version": "1.5.0",
      "model_name": "HTMLModel",
      "state": {
       "_dom_classes": [],
       "_model_module": "@jupyter-widgets/controls",
       "_model_module_version": "1.5.0",
       "_model_name": "HTMLModel",
       "_view_count": null,
       "_view_module": "@jupyter-widgets/controls",
       "_view_module_version": "1.5.0",
       "_view_name": "HTMLView",
       "description": "",
       "description_tooltip": null,
       "layout": "IPY_MODEL_1a17608c7cf54c5293a88b93567107e5",
       "placeholder": "​",
       "style": "IPY_MODEL_f3a5a033bfc348d488bd369360d97909",
       "value": "<div style=\"font-size:medium; background-color:white;padding-left:2px;\">7.81</div>"
      }
     },
     "fe18d2bfeb514d8f9a8728d2ac50527a": {
      "model_module": "@jupyter-widgets/controls",
      "model_module_version": "1.5.0",
      "model_name": "DescriptionStyleModel",
      "state": {
       "_model_module": "@jupyter-widgets/controls",
       "_model_module_version": "1.5.0",
       "_model_name": "DescriptionStyleModel",
       "_view_count": null,
       "_view_module": "@jupyter-widgets/base",
       "_view_module_version": "1.2.0",
       "_view_name": "StyleView",
       "description_width": ""
      }
     },
     "fe6442611dae46fe9cc78fe23668736e": {
      "model_module": "@jupyter-widgets/controls",
      "model_module_version": "1.5.0",
      "model_name": "DescriptionStyleModel",
      "state": {
       "_model_module": "@jupyter-widgets/controls",
       "_model_module_version": "1.5.0",
       "_model_name": "DescriptionStyleModel",
       "_view_count": null,
       "_view_module": "@jupyter-widgets/base",
       "_view_module_version": "1.2.0",
       "_view_name": "StyleView",
       "description_width": ""
      }
     },
     "feac41fc724e414c96f971d5b4227cc9": {
      "model_module": "@jupyter-widgets/controls",
      "model_module_version": "1.5.0",
      "model_name": "HTMLModel",
      "state": {
       "_dom_classes": [],
       "_model_module": "@jupyter-widgets/controls",
       "_model_module_version": "1.5.0",
       "_model_name": "HTMLModel",
       "_view_count": null,
       "_view_module": "@jupyter-widgets/controls",
       "_view_module_version": "1.5.0",
       "_view_name": "HTMLView",
       "description": "",
       "description_tooltip": null,
       "layout": "IPY_MODEL_2adb518af7044a69aad2c2de3ca0c421",
       "placeholder": "​",
       "style": "IPY_MODEL_dd84d71bf20349deaa7b9a3110e308cc",
       "value": "<div style=\"font-size:medium; background-color:white;padding-left:2px;\">Buildings and Cities</div>"
      }
     },
     "feda5e2316c048c9ab246605dd8a5bcd": {
      "model_module": "@jupyter-widgets/controls",
      "model_module_version": "1.5.0",
      "model_name": "HBoxModel",
      "state": {
       "_dom_classes": [],
       "_model_module": "@jupyter-widgets/controls",
       "_model_module_version": "1.5.0",
       "_model_name": "HBoxModel",
       "_view_count": null,
       "_view_module": "@jupyter-widgets/controls",
       "_view_module_version": "1.5.0",
       "_view_name": "HBoxView",
       "box_style": "",
       "children": [
        "IPY_MODEL_264e07edd4bd4d62920ddff69397689b",
        "IPY_MODEL_d33fca9ebdcf45b38c6e474a969e27ca",
        "IPY_MODEL_358515f8c00d45a3bfdd41f28be56e95",
        "IPY_MODEL_7f1add8579b644b593a15c39fefadd0c"
       ],
       "layout": "IPY_MODEL_804c51697f2b4229a0f02be6b85b1659"
      }
     },
     "feea0fc50f234358be9ff4e4175c7a31": {
      "model_module": "@jupyter-widgets/controls",
      "model_module_version": "1.5.0",
      "model_name": "HTMLModel",
      "state": {
       "_dom_classes": [],
       "_model_module": "@jupyter-widgets/controls",
       "_model_module_version": "1.5.0",
       "_model_name": "HTMLModel",
       "_view_count": null,
       "_view_module": "@jupyter-widgets/controls",
       "_view_module_version": "1.5.0",
       "_view_name": "HTMLView",
       "description": "",
       "description_tooltip": null,
       "layout": "IPY_MODEL_0fc6d0e36882466aaf8b89d9494bcb4b",
       "placeholder": "​",
       "style": "IPY_MODEL_6bc0f64f91074a56b0207d1d6d4c0d53",
       "value": "<div style=\"font-size:medium; background-color:white;padding-left:2px;\">Wave and Tidal</div>"
      }
     },
     "ff6397605ead44f194b879a60a02a08e": {
      "model_module": "@jupyter-widgets/controls",
      "model_module_version": "1.5.0",
      "model_name": "HTMLModel",
      "state": {
       "_dom_classes": [],
       "_model_module": "@jupyter-widgets/controls",
       "_model_module_version": "1.5.0",
       "_model_name": "HTMLModel",
       "_view_count": null,
       "_view_module": "@jupyter-widgets/controls",
       "_view_module_version": "1.5.0",
       "_view_name": "HTMLView",
       "description": "",
       "description_tooltip": null,
       "layout": "IPY_MODEL_0fc6d0e36882466aaf8b89d9494bcb4b",
       "placeholder": "​",
       "style": "IPY_MODEL_ca09c095389b4285931a39dc60e76eaa",
       "value": "<div style=\"font-size:medium; background-color:#ececec;padding-left:2px;\">Waste-to-Energy</div>"
      }
     },
     "ff819cd2abeb40d0bfb59f0d50cc3a15": {
      "model_module": "@jupyter-widgets/controls",
      "model_module_version": "1.5.0",
      "model_name": "HTMLModel",
      "state": {
       "_dom_classes": [],
       "_model_module": "@jupyter-widgets/controls",
       "_model_module_version": "1.5.0",
       "_model_name": "HTMLModel",
       "_view_count": null,
       "_view_module": "@jupyter-widgets/controls",
       "_view_module_version": "1.5.0",
       "_view_name": "HTMLView",
       "description": "",
       "description_tooltip": null,
       "layout": "IPY_MODEL_0fc6d0e36882466aaf8b89d9494bcb4b",
       "placeholder": "​",
       "style": "IPY_MODEL_8e96daf7ed24492fb735f69e0b6a690e",
       "value": "<div style=\"font-size:medium; background-color:#ececec;padding-left:2px;\">Indigenous Peoples’ Land Management</div>"
      }
     },
     "ffe1d5ee14df45e485962194b395574f": {
      "model_module": "@jupyter-widgets/controls",
      "model_module_version": "1.5.0",
      "model_name": "DescriptionStyleModel",
      "state": {
       "_model_module": "@jupyter-widgets/controls",
       "_model_module_version": "1.5.0",
       "_model_name": "DescriptionStyleModel",
       "_view_count": null,
       "_view_module": "@jupyter-widgets/base",
       "_view_module_version": "1.2.0",
       "_view_name": "StyleView",
       "description_width": "0px"
      }
     }
    },
    "version_major": 2,
    "version_minor": 0
   }
  }
 },
 "nbformat": 4,
 "nbformat_minor": 4
}